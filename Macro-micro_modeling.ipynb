{
 "cells": [
  {
   "cell_type": "code",
   "execution_count": 8,
   "metadata": {},
   "outputs": [],
   "source": [
    "%%capture\n",
    "# By these two lines, it will not be needed to restart kernel when applying change in a library\n",
    "%load_ext autoreload\n",
    "%autoreload 2\n",
    "\n",
    "# import main\n",
    "import dolfin  \n",
    "import numpy    as np\n",
    "import sympy    as sp\n",
    "import matplotlib.pyplot as plt\n",
    "from sympy.plotting import plot\n",
    "import math\n",
    "import pickle\n",
    "import seeds\n",
    "import geometry\n",
    "from numpy import linspace\n",
    "from sympy import lambdify\n",
    "from mpl_toolkits.mplot3d import Axes3D\n",
    "from scipy.optimize import curve_fit\n",
    "from matplotlib.collections import PatchCollection\n",
    "import sys\n",
    "import seaborn as sns\n",
    "\n",
    "import myPythonLibrary as mypy\n",
    "import dolfin_mech     as dmech\n",
    "from numpy import exp,arange\n",
    "from pylab import meshgrid,cm,imshow,contour,clabel,colorbar,axis,title,show\n",
    "\n",
    "from scipy.optimize import minimize\n",
    "from scipy.optimize import fsolve\n",
    "\n",
    "from mpl_toolkits.mplot3d import Axes3D\n",
    "from matplotlib import cm\n",
    "from matplotlib.ticker import LinearLocator, FormatStrFormatter\n"
   ]
  },
  {
   "attachments": {},
   "cell_type": "markdown",
   "metadata": {},
   "source": [
    "## Defining the Geometry and material paramters"
   ]
  },
  {
   "cell_type": "code",
   "execution_count": 9,
   "metadata": {},
   "outputs": [
    {
     "name": "stdout",
     "output_type": "stream",
     "text": [
      "Info    : Clearing all models and views...\n",
      "Info    : Done clearing all models and views\n",
      "Info    : Meshing 1D...\n",
      "Info    : [  0%] Meshing curve 122 (Line)\n",
      "Info    : [ 10%] Meshing curve 123 (Line)\n",
      "Info    : [ 10%] Meshing curve 124 (Line)\n",
      "Info    : [ 20%] Meshing curve 152 (Line)\n",
      "Info    : [ 20%] Meshing curve 153 (Line)\n",
      "Info    : [ 20%] Meshing curve 154 (Line)\n",
      "Info    : [ 30%] Meshing curve 155 (Line)\n",
      "Info    : [ 30%] Meshing curve 156 (Line)\n",
      "Info    : [ 30%] Meshing curve 157 (Line)\n",
      "Info    : [ 40%] Meshing curve 158 (Line)\n",
      "Info    : [ 40%] Meshing curve 159 (Line)\n",
      "Info    : [ 40%] Meshing curve 160 (Line)\n",
      "Info    : [ 50%] Meshing curve 161 (Line)\n",
      "Info    : [ 50%] Meshing curve 162 (Line)\n",
      "Info    : [ 50%] Meshing curve 163 (Line)\n",
      "Info    : [ 60%] Meshing curve 164 (Line)\n",
      "Info    : [ 60%] Meshing curve 165 (Line)\n",
      "Info    : [ 70%] Meshing curve 166 (Line)\n",
      "Info    : [ 70%] Meshing curve 167 (Line)\n",
      "Info    : [ 70%] Meshing curve 168 (Line)\n",
      "Info    : [ 80%] Meshing curve 169 (Line)\n",
      "Info    : [ 80%] Meshing curve 170 (Line)\n",
      "Info    : [ 80%] Meshing curve 171 (Line)\n",
      "Info    : [ 90%] Meshing curve 172 (Line)\n",
      "Info    : [ 90%] Meshing curve 173 (Line)\n",
      "Info    : [ 90%] Meshing curve 174 (Line)\n",
      "Info    : [100%] Meshing curve 175 (Line)\n",
      "Info    : [100%] Meshing curve 176 (Line)\n",
      "Info    : Done meshing 1D (Wall 0.00384788s, CPU 0.003859s)\n",
      "Info    : Meshing 2D...\n",
      "Info    : Meshing surface 40000 (Plane, Frontal-Delaunay)\n",
      "Info    : Done meshing 2D (Wall 0.0342063s, CPU 0.026675s)\n",
      "Info    : Meshing 3D...\n",
      "Info    : Done meshing 3D (Wall 0.00108743s, CPU 0.000422s)\n",
      "Info    : 1071 nodes 1878 elements\n",
      "Info    : Writing 'Geometries/Hexagon/hexagon_RVE1.msh'...\n",
      "Info    : Done writing 'Geometries/Hexagon/hexagon_RVE1.msh'\n",
      "Info    : Writing 'Geometries/Hexagon/hexagon_RVE1-mesh.vtk'...\n",
      "Info    : Done writing 'Geometries/Hexagon/hexagon_RVE1-mesh.vtk'\n",
      "Info    : Running '/Users/tayebi/miniconda3/envs/all/lib/python3.7/site-packages/gmsh-4.8.4-MacOSX-sdk/lib/../bin/gmsh -2 -o Geometries/Hexagon/hexagon_RVE1.msh -format msh22 Geometries/Hexagon/hexagon_RVE1.msh' [Gmsh 4.8.4, 1 node, max. 1 thread]\n",
      "Info    : Started on Thu Jul 13 17:55:01 2023\n",
      "Info    : Reading 'Geometries/Hexagon/hexagon_RVE1.msh'...\n",
      "Info    : 63 entities\n",
      "Info    : 781 nodes\n",
      "Info    : 1280 elements\n",
      "Info    : Done reading 'Geometries/Hexagon/hexagon_RVE1.msh'\n",
      "Info    : Meshing 1D...\n",
      "Info    : Done meshing 1D (Wall 3.0161e-05s, CPU 6.8e-05s)\n",
      "Info    : Meshing 2D...\n",
      "Info    : Done meshing 2D (Wall 1.7307e-05s, CPU 3.9e-05s)\n",
      "Info    : 793 nodes 1314 elements\n",
      "Info    : Writing 'Geometries/Hexagon/hexagon_RVE1.msh'...\n",
      "Info    : Done writing 'Geometries/Hexagon/hexagon_RVE1.msh'\n",
      "Info    : Stopped on Thu Jul 13 17:55:01 2023 (From start: Wall 0.00751261s, CPU 0.032182s)\n",
      "Converting from Gmsh format (.msh, .gmsh) to DOLFIN XML format\n",
      "Expecting 781 vertices\n",
      "Found all vertices\n",
      "Expecting 1280 cells\n",
      "Found all cells\n",
      "Conversion done\n"
     ]
    }
   ],
   "source": [
    "%%capture\n",
    "\n",
    "fname = \"Geometries/Hexagon/hexagon_RVE1\"\n",
    "# fname = 'Geometries/Hallow_square/Hallow_square_inclusion_inside'\n",
    "\n",
    "# domain = 1\n",
    "# row = 1\n",
    "# DoI = 0.0\n",
    "# thickness = 0.092\n",
    "# shift_y = 0\n",
    "\n",
    "# seeds.semi_regular(DoI, row, domain)\n",
    "# geometry.voronoi(fname, thickness, row, domain, shift_y, seeds_remove=True)\n",
    "\n",
    "mesh = dolfin.Mesh()\n",
    "dolfin.XDMFFile(fname+\"-mesh.xdmf\").read(mesh)\n",
    "Es = 1\n",
    "nus = 0.49\n",
    "mat_params = {\"model\":\"CGNH\", \"parameters\":{\"E\":Es, \"nu\":nus}}\n",
    "\n",
    "coord = mesh.coordinates()\n",
    "xmax = max(coord[:,0]); xmin = min(coord[:,0])\n",
    "ymax = max(coord[:,1]); ymin = min(coord[:,1])\n",
    "vol = (xmax - xmin)*(ymax - ymin)\n",
    "dV = dolfin.Measure(\"dx\",domain=mesh)\n",
    "Phi_s0 = dolfin.assemble(1*dV)/vol\n",
    "\n",
    "vertices = np.array([[xmin, ymin],\n",
    "                     [xmax, ymin],\n",
    "                     [xmax, ymax],\n",
    "                     [xmin, ymax]])\n",
    "bbox = [xmin, xmax, ymin, ymax]"
   ]
  },
  {
   "attachments": {},
   "cell_type": "markdown",
   "metadata": {},
   "source": [
    "# Behavior "
   ]
  },
  {
   "attachments": {},
   "cell_type": "markdown",
   "metadata": {},
   "source": [
    "## Kinematics variables"
   ]
  },
  {
   "cell_type": "code",
   "execution_count": 10,
   "metadata": {},
   "outputs": [],
   "source": [
    "%%capture\n",
    "\n",
    "alpha_x, alpha_y, alpha_xy, alpha_yx = sp.symbols('alpha_x alpha_y alpha_xy alpha_yx')\n",
    "epsilon_x = sp.symbols('epsilon_x')\n",
    "epsilon_y = sp.symbols('epsilon_y')\n",
    "epsilon_xy = sp.symbols('epsilon_xy')\n",
    "epsilon = sp.symbols('epsilon')\n",
    "C_CM = sp.MatrixSymbol('C', 2, 2).as_explicit()\n",
    "\n",
    "C00, C01, C10, C11 = sp.symbols('C00 C01 C10 C11')\n",
    "C_CM = sp.Matrix([[C00, C01],\n",
    "                  [C10, C11]])\n",
    "\n",
    "\n",
    "p = sp.symbols('p')\n",
    "I_C_CM   = sp.trace(C_CM) \n",
    "II_C_CM  = (sp.trace(C_CM)**2 - sp.trace(C_CM**2))/2 \n",
    "III_C_CM = sp.det(C_CM) \n",
    "J_CM     = sp.sqrt(III_C_CM)\n",
    "E_CM = (C_CM - sp.eye(2))/2 \n",
    "\n",
    "C_CM_bar = J_CM**(-2/3)*C_CM\n",
    "I_C_CM_bar   = sp.trace(C_CM_bar) \n",
    "II_C_CM_bar  = (sp.trace(C_CM_bar)**2 - sp.trace(C_CM_bar**2))/2 \n",
    "\n",
    "\n",
    "F = sp.Matrix(\n",
    "        [[alpha_x,    0  ],\\\n",
    "        [   0   , alpha_y]])\n",
    "\n",
    "J = F.det()\n",
    "C = F.T * F\n",
    "E = (C - sp.eye(2))/2 \n"
   ]
  },
  {
   "attachments": {},
   "cell_type": "markdown",
   "metadata": {},
   "source": [
    "## Defining the constitutive behavior as a function of material parameters"
   ]
  },
  {
   "cell_type": "code",
   "execution_count": 11,
   "metadata": {},
   "outputs": [],
   "source": [
    "def macroscopic_model(mat_params):\n",
    "    homo = dmech.HomogenizationLinear(\n",
    "        dim=2,\n",
    "        mesh=mesh,\n",
    "        mat_params=mat_params[\"parameters\"],\n",
    "        vertices=vertices,\n",
    "        vol=vol,\n",
    "        bbox=bbox)\n",
    "\n",
    "    lmbda, mu = homo.get_lambda_and_mu()\n",
    "    beta = mu/2\n",
    "    alpha = lmbda/4\n",
    "\n",
    "\n",
    "    W_skel = beta * (I_C_CM - 2 - 2 * sp.ln(J_CM)) + alpha * (J_CM**2 - 1 - 2 * sp.ln(J_CM)) \n",
    "    Sigma_CM = 2*sp.diff(W_skel, C_CM) - p * J_CM * C_CM.inv()\n",
    "\n",
    "    Sigma = Sigma_CM.subs(list(zip(C_CM, C))).doit().as_explicit() \n",
    "    sigma = F * Sigma * F.T / J \n",
    "    sigma = sigma.subs(alpha_x, epsilon + 1).subs(alpha_y, epsilon + 1)\n",
    "    # sigma = sigma.subs(alpha_x, sp.sqrt(2*epsilon + 1)).subs(alpha_y, sp.sqrt(2*epsilon + 1))\n",
    "\n",
    "\n",
    "    Ter_Sigma = 2*sp.diff(W_skel, C_CM)      \n",
    "    Ter_Sigma = Ter_Sigma.subs(list(zip(C_CM, C))).doit().as_explicit() \n",
    "    Ter_Sigma = Ter_Sigma.subs(alpha_x, epsilon + 1).subs(alpha_y, epsilon + 1)\n",
    "    # Ter_Sigma = Ter_Sigma.subs(alpha_x, sp.sqrt(2*epsilon + 1)).subs(alpha_y, sp.sqrt(2*epsilon + 1))\n",
    "\n",
    "    return sigma, Ter_Sigma"
   ]
  },
  {
   "attachments": {},
   "cell_type": "markdown",
   "metadata": {},
   "source": [
    "## Homogenized material parameters and building the macroscopic and linear model based on them"
   ]
  },
  {
   "cell_type": "code",
   "execution_count": 14,
   "metadata": {},
   "outputs": [
    {
     "name": "stdout",
     "output_type": "stream",
     "text": [
      "      Solving linear variational problem.\n",
      "      Solving linear variational problem.\n",
      "      Solving linear variational problem.\n",
      "      Solving linear variational problem.\n",
      "      Solving linear variational problem.\n",
      "      Solving linear variational problem.\n",
      "      Solving linear variational problem.\n"
     ]
    }
   ],
   "source": [
    "homo = dmech.HomogenizationLinear(dim=2,\n",
    "                mesh=mesh,\n",
    "                mat_params=mat_params[\"parameters\"],\n",
    "                vertices=vertices,\n",
    "                vol=vol,\n",
    "                bbox=bbox)\n",
    "lmbda_tilde, mu_tilde = homo.get_lambda_and_mu()\n",
    "kappa_tilde = homo.get_kappa()\n",
    "beta = mu_tilde/2\n",
    "alpha = lmbda_tilde/4\n",
    "\n",
    "sigma_lin =  2 * lmbda_tilde * epsilon + 2 * mu_tilde * epsilon\n",
    "sigma_macro, sigma_ter_macro = macroscopic_model(mat_params)"
   ]
  },
  {
   "attachments": {},
   "cell_type": "markdown",
   "metadata": {},
   "source": [
    "## Global response of the micromechanical model is a function of:\n",
    "* material parameters\n",
    "* $\\epsilon_{xx}, \\epsilon_{yy}$ $\\longrightarrow$ macroscopic strain\n",
    "* If no macroscopic strain is applied, `Macroscopic_strain` = <span style=\"color:lightblue\">None</span>\n",
    "* sigma_bar is the applied stress, otherwise:\n",
    "\\begin{equation}\n",
    "    \\sigma = \\begin{bmatrix}\n",
    "                0 & 0\\\\\n",
    "                0 & 0\n",
    "             \\end{bmatrix}\n",
    "\\end{equation}\n",
    "\n",
    "<!-- * $\\gamma$ is the surface tension coefficient, otherwise it is equal to zero -->"
   ]
  },
  {
   "cell_type": "code",
   "execution_count": 16,
   "metadata": {},
   "outputs": [],
   "source": [
    "def global_response(mesh, mat_params, eps_xx, eps_yy, pf, Macroscopic_strain, sigma_bar, gamma):\n",
    "\n",
    "\n",
    "    dim = 2\n",
    "    bcs = \"pbc\"\n",
    "    step_params = {\"dt_ini\":1e-1, \"dt_min\":1e-3}\n",
    "\n",
    "\n",
    "    res_folder = sys.argv[0][:-3]\n",
    "    res_basename  = sys.argv[0][:-3]\n",
    "\n",
    "    res_basename = res_folder+\"/\"+res_basename\n",
    "    verbose=1\n",
    "\n",
    "    ################################################################### Mesh ###\n",
    "\n",
    "\n",
    "    coord = mesh.coordinates()\n",
    "    xmax = max(coord[:,0]); xmin = min(coord[:,0])\n",
    "    ymax = max(coord[:,1]); ymin = min(coord[:,1])\n",
    "    vol = (xmax - xmin)*(ymax - ymin)\n",
    "    dV = dolfin.Measure(\"dx\",domain=mesh)\n",
    "\n",
    "    vertices = np.array([[xmin, ymin],\n",
    "                         [xmax, ymin],\n",
    "                         [xmax, ymax],\n",
    "                         [xmin, ymax]])\n",
    "\n",
    "    tol = 1E-8  \n",
    "    vv = vertices\n",
    "    a1 = vv[1,:]-vv[0,:] # first vector generating periodicity\n",
    "    a2 = vv[3,:]-vv[0,:] # second vector generating periodicity\n",
    "    # check if UC vertices form indeed a parallelogram\n",
    "    assert np.linalg.norm(vv[2, :]-vv[3, :] - a1) <= tol\n",
    "    assert np.linalg.norm(vv[2, :]-vv[1, :] - a2) <= tol\n",
    "    bbox = [xmin, xmax, ymin, ymax]\n",
    "\n",
    "    ################################################## Subdomains & Measures ###\n",
    "\n",
    "    \n",
    "    xmin_sd = dolfin.CompiledSubDomain(\"near(x[0], x0, tol) && on_boundary\", x0=xmin, tol=tol)\n",
    "    xmax_sd = dolfin.CompiledSubDomain(\"near(x[0], x0, tol) && on_boundary\", x0=xmax, tol=tol)\n",
    "    ymin_sd = dolfin.CompiledSubDomain(\"near(x[1], x0, tol) && on_boundary\", x0=ymin, tol=tol)\n",
    "    ymax_sd = dolfin.CompiledSubDomain(\"near(x[1], x0, tol) && on_boundary\", x0=ymax, tol=tol)\n",
    "    if (dim==3): zmin_sd = dolfin.CompiledSubDomain(\"near(x[2], x0, tol) && on_boundary\", x0=zmin, tol=tol)\n",
    "    if (dim==3): zmax_sd = dolfin.CompiledSubDomain(\"near(x[2], x0, tol) && on_boundary\", x0=zmax, tol=tol)\n",
    "\n",
    "\n",
    "    xmin_id = 1\n",
    "    xmax_id = 2\n",
    "    ymin_id = 3\n",
    "    ymax_id = 4\n",
    "    if (dim==3): zmin_id = 5\n",
    "    if (dim==3): zmax_id = 6\n",
    "\n",
    "    boundaries_mf = dolfin.MeshFunction(\"size_t\", mesh, mesh.topology().dim()-1) # MG20180418: size_t looks like unisgned int, but more robust wrt architecture and os\n",
    "    boundaries_mf.set_all(0)\n",
    "\n",
    "    ################################################################ Problem ###\n",
    "\n",
    "    problem = dmech.MicroPoroHyperelasticityProblem(\n",
    "        mesh=mesh,\n",
    "        mesh_bbox=bbox,\n",
    "        vertices=vertices,\n",
    "        boundaries_mf=boundaries_mf,\n",
    "        displacement_perturbation_degree=2,\n",
    "        quadrature_degree=3,\n",
    "        solid_behavior=mat_params,\n",
    "        bcs=bcs)\n",
    "\n",
    "    ################################################################ Loading ###\n",
    "\n",
    "    Deltat = step_params.get(\"Deltat\", 1.)\n",
    "    dt_ini = step_params.get(\"dt_ini\", 1.)\n",
    "    dt_min = step_params.get(\"dt_min\", 1.)\n",
    "    dt_max = step_params.get(\"dt_max\", 1.)\n",
    "    k_step = problem.add_step(\n",
    "        Deltat=Deltat,\n",
    "        dt_ini=dt_ini,\n",
    "        dt_min=dt_min,\n",
    "        dt_max=dt_max)\n",
    "\n",
    "\n",
    "    problem.add_surface_pressure_loading_operator(\n",
    "        measure=problem.dS(0),\n",
    "        P_ini=0., P_fin=pf,\n",
    "        k_step=k_step)\n",
    "\n",
    "    for k in range(dim):\n",
    "        for l in range (dim):\n",
    "            if (sigma_bar[k][l] is not None):\n",
    "                problem.add_macroscopic_stress_component_constraint_operator(\n",
    "                    i=k, j=l,\n",
    "                    sigma_bar_ij_ini=0.0, sigma_bar_ij_fin=sigma_bar[k][l],\n",
    "                    pf_ini=0.0, pf_fin=pf,\n",
    "                    k_step=k_step)\n",
    "\n",
    "    if (Macroscopic_strain is not None):\n",
    "        problem.add_macroscopic_stretch_component_penalty_operator(\n",
    "            i=0, j=0,\n",
    "            U_bar_ij_ini=0.0, U_bar_ij_fin=eps_xx,\n",
    "            pen_val=1e6,\n",
    "            k_step=k_step)\n",
    "        problem.add_macroscopic_stretch_component_penalty_operator(\n",
    "            i=1, j=1,\n",
    "            U_bar_ij_ini=0.0, U_bar_ij_fin=eps_yy,\n",
    "            pen_val=1e6,\n",
    "            k_step=k_step)\n",
    "\n",
    "    if (gamma is not None):\n",
    "        problem.add_surface_tension_loading_operator(\n",
    "        measure=problem.dS(0),\n",
    "        gamma_ini=0.0, gamma_fin=gamma,\n",
    "        k_step=k_step)\n",
    "    ################################################################# Solver ###\n",
    "\n",
    "    solver = dmech.NonlinearSolver(\n",
    "        problem=problem,\n",
    "        parameters={\n",
    "            \"sol_tol\":[1e-6]*len(problem.subsols),\n",
    "            \"n_iter_max\":32},\n",
    "        relax_type=\"constant\",\n",
    "        write_iter=0)\n",
    "\n",
    "    integrator = dmech.TimeIntegrator(\n",
    "        problem=problem,\n",
    "        solver=solver,\n",
    "        parameters={\n",
    "            \"n_iter_for_accel\":4,\n",
    "            \"n_iter_for_decel\":16,\n",
    "            \"accel_coeff\":2,\n",
    "            \"decel_coeff\":2},\n",
    "        print_out=res_basename*verbose,\n",
    "        print_sta=res_basename*verbose,\n",
    "        write_qois=res_basename+\"-qois\",\n",
    "        write_qois_limited_precision=1,\n",
    "        write_sol=res_basename*verbose)\n",
    "\n",
    "    success = integrator.integrate()\n",
    "    assert (success),\\\n",
    "        \"Integration failed. Aborting.\"\n",
    "\n",
    "    integrator.close()\n",
    "    \n",
    "\n",
    "    for operator in problem.operators: \n",
    "        if hasattr(operator, \"material\"):\n",
    "            material = operator.material\n",
    "            break\n",
    "    \n",
    "    Vs0 = problem.mesh_V0\n",
    "    U_bar = problem.get_macroscopic_stretch_subsol().func.vector().get_local().reshape((2,2))\n",
    "    F_bar = U_bar + np.eye(2)\n",
    "    J_bar = np.linalg.det(F_bar)\n",
    "    C_bar = F_bar.T * F_bar\n",
    "    E_bar = 0.5*(C_bar - np.eye(2))\n",
    "    v = J_bar * vol\n",
    "    vs = dolfin.assemble(problem.kinematics.J * problem.dV)\n",
    "    vf = v - vs\n",
    "    \n",
    "    Phi_s = vs/vol\n",
    "\n",
    "\n",
    "    \n",
    "    sigma_tot_xx = float((dolfin.assemble(material.sigma[0,0] * problem.kinematics.J * dV) - vf * pf *dolfin.Identity(2)[0,0])/v)\n",
    "    sigma_tot_yy = float((dolfin.assemble(material.sigma[1,1] * problem.kinematics.J * dV) - vf * pf *dolfin.Identity(2)[1,1])/v)\n",
    "\n",
    "    U_bar_x = problem.get_macroscopic_stretch_subsol().func.vector().get_local()[0]\n",
    "    U_bar_y = problem.get_macroscopic_stretch_subsol().func.vector().get_local()[3]\n",
    "    U_bar_xy = problem.get_macroscopic_stretch_subsol().func.vector().get_local()[1]\n",
    "    \n",
    "    sigma = [[sigma_tot_xx, 0.],\n",
    "             [0., sigma_tot_yy]]\n",
    "    \n",
    "    Sigma = J_bar * np.linalg.inv(F_bar)* sigma * np.linalg.inv(F_bar.T)\n",
    "    Sigma_x = float(Sigma[0, 0])\n",
    "    # Sigma_x = dolfin.assemble(material.Sigma[0,0]*dV)/vol\n",
    "    # Sigma_y = dolfin.assemble(material.Sigma[1,1]*dV)/vol    \n",
    "\n",
    "    Ter_stress = Sigma_x + pf*J_bar*np.linalg.inv(C_bar)[0,0]\n",
    "    # Ter_stress = Sigma_x + pf*dolfin.assemble((J*dolfin.inv(problem.kinematics.C))[0,0] *dV)/((xmax - xmin)*(ymax - ymin))\n",
    "\n",
    "    normalized_volume = J_bar\n",
    "\n",
    "    return normalized_volume, sigma_tot_xx, sigma_tot_yy, Ter_stress, Phi_s, U_bar_x, U_bar_y, U_bar_xy\n"
   ]
  },
  {
   "attachments": {},
   "cell_type": "markdown",
   "metadata": {},
   "source": [
    "## Macro-micro model comparision \n",
    "### Volume fraction of solid with respect to pressure $\\Phi_s - p_f$\n",
    "* Zero macroscopic strain is applied to match the macro-poro-mechanical model\n"
   ]
  },
  {
   "cell_type": "code",
   "execution_count": 8,
   "metadata": {},
   "outputs": [],
   "source": [
    "sigma_bar = [[0., 0.],\n",
    "             [0., 0.]]"
   ]
  },
  {
   "attachments": {},
   "cell_type": "markdown",
   "metadata": {},
   "source": [
    "### Compressible case"
   ]
  },
  {
   "cell_type": "code",
   "execution_count": 19,
   "metadata": {},
   "outputs": [],
   "source": [
    "Es = 1\n",
    "nus = 0.2\n",
    "mat_params = {\"model\":\"CGNH\", \"parameters\":{\"E\":Es, \"nu\":nus}}\n",
    "\n",
    "Phi_s_lst_comp= []\n",
    "p_lst = []\n",
    "sigma_bar = [[0., 0.],\n",
    "             [0., 0.]]\n",
    "Macroscopic_strain = 0\n",
    "for i in range(11):\n",
    "    p_ = i/10\n",
    "    p_lst.append(p_)\n",
    "    Phi_s_lst_comp.append(global_response(mesh=mesh, mat_params=mat_params, eps_xx=0.0, eps_yy=0.0, pf=p_, Macroscopic_strain=1, sigma_bar=sigma_bar, gamma=None)[4])"
   ]
  },
  {
   "attachments": {},
   "cell_type": "markdown",
   "metadata": {},
   "source": [
    "### Incompressible case"
   ]
  },
  {
   "cell_type": "code",
   "execution_count": 17,
   "metadata": {},
   "outputs": [],
   "source": [
    "Es = 1\n",
    "nus = 0.4999\n",
    "mat_params = {\"model\":\"CGNH\", \"parameters\":{\"E\":Es, \"nu\":nus}}\n",
    "\n",
    "Phi_s_lst_incomp= []\n",
    "p_lst = []\n",
    "sigma_bar = [[0., 0.],\n",
    "             [0., 0.]]\n",
    "Macroscopic_strain = 0\n",
    "for i in range(11):\n",
    "    p_ = i/10\n",
    "    p_lst.append(p_)\n",
    "    Phi_s_lst_incomp.append(global_response(mesh=mesh, mat_params=mat_params, eps_xx=0.0, eps_yy=0.0, pf=p_, Macroscopic_strain=1, sigma_bar=sigma_bar, gamma=None)[4])"
   ]
  },
  {
   "cell_type": "code",
   "execution_count": 20,
   "metadata": {},
   "outputs": [
    {
     "data": {
      "image/png": "[encoded data removed]",
      "text/plain": [
       "<Figure size 432x288 with 1 Axes>"
      ]
     },
     "metadata": {
      "needs_background": "light"
     },
     "output_type": "display_data"
    }
   ],
   "source": [
    "Phi_s_macro_lst = [Phi_s0]*len(p_lst)\n",
    "\n",
    "plt.figure()\n",
    "plt.rc('xtick', labelsize=14)\n",
    "plt.rc('ytick', labelsize=14)\n",
    "plt.rc('legend', fontsize=12)\n",
    "plt.xlabel(r'$p_f~(kPa)$', fontsize=16)\n",
    "plt.ylabel(r'$\\Phi_s$', fontsize=16)\n",
    "plt.plot(p_lst, Phi_s_lst_comp, '#084594')\n",
    "plt.plot(p_lst, Phi_s_lst_incomp, '#084594', linestyle='dashed')\n",
    "plt.plot(p_lst, Phi_s_macro_lst, '#99000D')\n",
    "plt.legend(['Microscopic model - compressible solid', 'Microscopic model - incompressible solid', 'Macroscopic model'])\n",
    "plt.xlim(0, 1)\n",
    "# plt.ylim(Phi_s0, Phi_s_lst_comp[-1])\n",
    "plt.savefig('Phi-s_p-f.pdf', bbox_inches='tight')  # bbox_inches='tight' saves the plot encadre '\n",
    "plt.show()"
   ]
  },
  {
   "cell_type": "code",
   "execution_count": 14,
   "metadata": {},
   "outputs": [
    {
     "ename": "NameError",
     "evalue": "name 'Phi_s_lst' is not defined",
     "output_type": "error",
     "traceback": [
      "\u001b[0;31m---------------------------------------------------------------------------\u001b[0m",
      "\u001b[0;31mNameError\u001b[0m                                 Traceback (most recent call last)",
      "\u001b[0;32m/var/folders/jj/pxwvypcn3dg93xhxw3x1slf80000gn/T/ipykernel_19975/3613873370.py\u001b[0m in \u001b[0;36m<module>\u001b[0;34m\u001b[0m\n\u001b[1;32m     17\u001b[0m \u001b[0mplt\u001b[0m\u001b[0;34m.\u001b[0m\u001b[0mylabel\u001b[0m\u001b[0;34m(\u001b[0m\u001b[0;34mr'$\\Phi_s$'\u001b[0m\u001b[0;34m,\u001b[0m \u001b[0mfontsize\u001b[0m\u001b[0;34m=\u001b[0m\u001b[0;36m16\u001b[0m\u001b[0;34m)\u001b[0m\u001b[0;34m\u001b[0m\u001b[0;34m\u001b[0m\u001b[0m\n\u001b[1;32m     18\u001b[0m \u001b[0;31m# plt.plot(p_vals, Phi_s_lin_vals, '#005824')\u001b[0m\u001b[0;34m\u001b[0m\u001b[0;34m\u001b[0m\u001b[0;34m\u001b[0m\u001b[0m\n\u001b[0;32m---> 19\u001b[0;31m \u001b[0mplt\u001b[0m\u001b[0;34m.\u001b[0m\u001b[0mplot\u001b[0m\u001b[0;34m(\u001b[0m\u001b[0mp_lst\u001b[0m\u001b[0;34m,\u001b[0m \u001b[0mPhi_s_lst\u001b[0m\u001b[0;34m,\u001b[0m \u001b[0;34m'#084594'\u001b[0m\u001b[0;34m)\u001b[0m\u001b[0;34m\u001b[0m\u001b[0;34m\u001b[0m\u001b[0m\n\u001b[0m\u001b[1;32m     20\u001b[0m \u001b[0mplt\u001b[0m\u001b[0;34m.\u001b[0m\u001b[0mplot\u001b[0m\u001b[0;34m(\u001b[0m\u001b[0mp_vals\u001b[0m\u001b[0;34m,\u001b[0m \u001b[0mPhi_s_vals\u001b[0m\u001b[0;34m,\u001b[0m \u001b[0;34m'#99000D'\u001b[0m\u001b[0;34m)\u001b[0m\u001b[0;34m\u001b[0m\u001b[0;34m\u001b[0m\u001b[0m\n\u001b[1;32m     21\u001b[0m \u001b[0;31m# plt.legend(['Linearized Model', 'Global response of the micro model', 'Macroscopic poromechanical model'])\u001b[0m\u001b[0;34m\u001b[0m\u001b[0;34m\u001b[0m\u001b[0;34m\u001b[0m\u001b[0m\n",
      "\u001b[0;31mNameError\u001b[0m: name 'Phi_s_lst' is not defined"
     ]
    },
    {
     "data": {
      "image/png": "[encoded data removed]",
      "text/plain": [
       "<Figure size 432x288 with 1 Axes>"
      ]
     },
     "metadata": {
      "needs_background": "light"
     },
     "output_type": "display_data"
    }
   ],
   "source": [
    "\n",
    "Phi_s = - Phi_s0**2 * p/kappa_tilde/2 + Phi_s0 * ((p/kappa_tilde*Phi_s0)**2 + 4)**0.5/2\n",
    "Phi_s_lin = Phi_s0 - p*Phi_s0**2/kappa_tilde/2\n",
    "\n",
    "lam_lin = lambdify(p, Phi_s_lin, modules=['numpy'])\n",
    "p_vals_lin = linspace(0, 1, 100)\n",
    "Phi_s_lin_vals = lam_lin(p_vals_lin)\n",
    "\n",
    "lam = lambdify(p, Phi_s, modules=['numpy'])\n",
    "p_vals = linspace(0, 1, 100)\n",
    "Phi_s_vals = lam(p_vals)\n",
    "\n",
    "plt.figure()\n",
    "plt.rc('xtick', labelsize=14)\n",
    "plt.rc('ytick', labelsize=14)\n",
    "plt.rc('legend', fontsize=12)\n",
    "plt.xlabel(r'$p_f~(kPa)$', fontsize=16)\n",
    "plt.ylabel(r'$\\Phi_s$', fontsize=16)\n",
    "# plt.plot(p_vals, Phi_s_lin_vals, '#005824')\n",
    "plt.plot(p_lst, Phi_s_lst, '#084594')\n",
    "plt.plot(p_vals, Phi_s_vals, '#99000D')\n",
    "# plt.legend(['Linearized Model', 'Global response of the micro model', 'Macroscopic poromechanical model'])\n",
    "plt.legend(['Microscopic model', 'Macroscopic model'])\n",
    "plt.xlim(0, 1)\n",
    "plt.ylim(0.05, Phi_s0)\n",
    "# plt.savefig('macro-micro_pressure_Phi_s.pdf', bbox_inches='tight')  # bbox_inches='tight' saves the plot encadre '\n",
    "plt.show()"
   ]
  },
  {
   "attachments": {},
   "cell_type": "markdown",
   "metadata": {},
   "source": [
    "### Stress-strain comparision $\\sigma_{x,y} - E_{x,y}$"
   ]
  },
  {
   "cell_type": "code",
   "execution_count": 37,
   "metadata": {},
   "outputs": [],
   "source": [
    "E_x_lst = []\n",
    "sigma_Eps_small = []\n",
    "eps_glob_small = []\n",
    "\n",
    "for i in range(21):\n",
    "    eps = i/20\n",
    "    eps_glob_small.append(eps)\n",
    "    glob_resp_ = global_response(mesh=mesh, mat_params=mat_params, eps_xx=eps, eps_yy=eps, pf=0., Macroscopic_strain=1, sigma_bar=sigma_bar, gamma=None)\n",
    "    sigma_Eps_small.append(glob_resp_[1])\n",
    "    E_x_lst.append(glob_resp_[5])"
   ]
  },
  {
   "cell_type": "code",
   "execution_count": 40,
   "metadata": {},
   "outputs": [
    {
     "data": {
      "image/png": "[encoded data removed]",
      "text/plain": [
       "<Figure size 432x288 with 1 Axes>"
      ]
     },
     "metadata": {
      "needs_background": "light"
     },
     "output_type": "display_data"
    }
   ],
   "source": [
    "lam_lin = lambdify(epsilon, sigma_lin, modules=['numpy'])\n",
    "lam_small = lambdify(epsilon, sigma_macro.subs(p, 0)[0,0], modules=['numpy'])\n",
    "\n",
    "epsilon_vals = linspace(0, 1, 100)\n",
    "sigma_small = lam_small(epsilon_vals)\n",
    "\n",
    "\n",
    "sigma_vals_small = lam_small(epsilon_vals)\n",
    "sigma_vals = lam_lin(epsilon_vals)\n",
    "\n",
    "\n",
    "plt.figure()\n",
    "plt.rc('xtick', labelsize=14)\n",
    "plt.rc('ytick', labelsize=14)\n",
    "plt.rc('legend', fontsize=12)\n",
    "plt.xlabel(r'$E_x, E_y ()$', fontsize=16)\n",
    "plt.ylabel(r'$\\sigma_{xx}, \\sigma_{yy} (kPa)$', fontsize=16)\n",
    "plt.plot(epsilon_vals, sigma_vals, '#005824')\n",
    "plt.plot(eps_glob_small, sigma_Eps_small, '#084594')\n",
    "plt.plot(epsilon_vals, sigma_vals_small, '#99000D')\n",
    "plt.legend(['Linear model', 'Microscopic model', 'Macroscopic model'])\n",
    "plt.xlim(0, 0.5)\n",
    "plt.ylim(0, 0.1)\n",
    "plt.savefig('macro-micro_small.pdf',bbox_inches='tight')\n",
    "plt.show()"
   ]
  },
  {
   "attachments": {},
   "cell_type": "markdown",
   "metadata": {},
   "source": [
    "### Terzaghi stress with respect to strain $\\sigma_{T_{x,y}} - E_{x,y}$"
   ]
  },
  {
   "cell_type": "code",
   "execution_count": 52,
   "metadata": {},
   "outputs": [],
   "source": [
    "Ex_00 = []\n",
    "Ex_02 = []\n",
    "Ex_04 = []\n",
    "Ex_06 = []\n",
    "Sigma_ter_p_00 = []\n",
    "Sigma_ter_p_02 = []\n",
    "Sigma_ter_p_04 = []\n",
    "Sigma_ter_p_06 = []\n",
    "Phi_s_p_00 = []\n",
    "Phi_s_p_02 = []\n",
    "Phi_s_p_04 = []\n",
    "Phi_s_p_06 = []\n",
    "eps_ter_lst = []\n",
    "\n",
    "sigma_bar = [[0., 0.],\n",
    "             [0., 0.]]\n",
    "\n",
    "for i in range(9):\n",
    "    eps = i/10\n",
    "    eps_ter_lst.append(eps)\n",
    "    [normalized_volume, sig_xx, sig_yy, Sigma_ter_p_00_, Phi_s_p_00_, Ex_, Ey_, Exy_] = global_response(mesh=mesh, mat_params=mat_params, eps_xx=eps, eps_yy=eps, pf=0., Macroscopic_strain=1, sigma_bar=sigma_bar, gamma=None)\n",
    "    Sigma_ter_p_00.append(Sigma_ter_p_00_)\n",
    "    Phi_s_p_00.append(Phi_s_p_00_)\n",
    "    Ex_00.append(Ex_)\n",
    "    [normalized_volume, sig_xx, sig_yy, Sigma_ter_p_02_, Phi_s_p_02_, Ex_, Ey_, Exy_] = global_response(mesh=mesh, mat_params=mat_params, eps_xx=eps, eps_yy=eps, pf=0.025, Macroscopic_strain=1, sigma_bar=sigma_bar, gamma=None)\n",
    "    Sigma_ter_p_02.append(Sigma_ter_p_02_)\n",
    "    Phi_s_p_02.append(Phi_s_p_02_)\n",
    "    Ex_02.append(Ex_)\n",
    "    [normalized_volume, sig_xx, sig_yy, Sigma_ter_p_04_, Phi_s_p_04_, Ex_, Ey_, Exy_] = global_response(mesh=mesh, mat_params=mat_params, eps_xx=eps, eps_yy=eps, pf=0.05, Macroscopic_strain=1, sigma_bar=sigma_bar, gamma=None)\n",
    "    Sigma_ter_p_04.append(Sigma_ter_p_04_)\n",
    "    Phi_s_p_04.append(Phi_s_p_04_)\n",
    "    Ex_04.append(Ex_)\n",
    "    [normalized_volume, sig_xx, sig_yy, Sigma_ter_p_06_, Phi_s_p_06_, Ex_, Ey_, Exy_] = global_response(mesh=mesh, mat_params=mat_params, eps_xx=eps, eps_yy=eps, pf=0.1, Macroscopic_strain=1, sigma_bar=sigma_bar, gamma=None)\n",
    "    Sigma_ter_p_06.append(Sigma_ter_p_06_)\n",
    "    Phi_s_p_06.append(Phi_s_p_06_)\n",
    "    Ex_06.append(Ex_)"
   ]
  },
  {
   "cell_type": "code",
   "execution_count": 53,
   "metadata": {},
   "outputs": [
    {
     "data": {
      "image/png": "[encoded data removed]",
      "text/plain": [
       "<Figure size 432x288 with 1 Axes>"
      ]
     },
     "metadata": {
      "needs_background": "light"
     },
     "output_type": "display_data"
    }
   ],
   "source": [
    "lam_lin = lambdify(epsilon, sigma_ter_macro[0,0], modules=['numpy'])\n",
    "\n",
    "epsilon_ter_vals = linspace(0, 1, 100)\n",
    "sigma_ter_vals = lam_lin(epsilon_ter_vals)\n",
    "\n",
    "plt.figure()\n",
    "plt.rc('xtick', labelsize=14)\n",
    "plt.rc('ytick', labelsize=14)\n",
    "plt.rc('legend', fontsize=12)\n",
    "plt.xlabel(r'$E_x, E_y ()$', fontsize=16)\n",
    "plt.ylabel(r'$\\Sigma_{T_{xx}}, \\Sigma_{T_{yy}} (kPa)$', fontsize=16)\n",
    "plt.plot(epsilon_ter_vals, sigma_ter_vals, '#99000D')\n",
    "plt.plot(Ex_00, Sigma_ter_p_00, '#084594')\n",
    "plt.plot(Ex_02, Sigma_ter_p_02, '#2171B5')\n",
    "plt.plot(Ex_04, Sigma_ter_p_04, '#4292C6')\n",
    "plt.plot(Ex_06, Sigma_ter_p_06, '#6BAED6')\n",
    "# plt.xlim(0, 1)\n",
    "# plt.legend([r'$Micro, p_f=0.00~(kPa)$', r'$Micro, p_f=0.02~(kPa)$', r'$Micro, p_f=0.04~(kPa)$', r'$Micro, p_f=0.06~(kPa)$'])\n",
    "plt.legend([r'$Macroscopic~model, any~\\bar{p}_f$', r'$Microscopic~model, \\tilde{p}_f=0.00~(kPa)$', r'$Microscopic~model, \\tilde{p}_f=0.025~(kPa)$', r'$Microscopic~model, \\tilde{p}_f=0.05~(kPa)$', r'$Microscopic~model, \\tilde{p}_f=0.10~(kPa)$'])\n",
    "plt.xlim(0, 0.8)\n",
    "plt.ylim(0, 0.15)\n",
    "plt.savefig('Stress_ter_strain_pressure_incompressible.pdf',bbox_inches='tight')\n",
    "plt.show()"
   ]
  },
  {
   "attachments": {},
   "cell_type": "markdown",
   "metadata": {},
   "source": [
    "### Color plate"
   ]
  },
  {
   "cell_type": "code",
   "execution_count": 53,
   "metadata": {},
   "outputs": [],
   "source": [
    "# %load '/Users/tayebi/Documents/Work/Ph.D./gnuplot-colorbrewer-master/sequential/Blues.plt'\n",
    "# %load '/Users/tayebi/Documents/Work/Ph.D./gnuplot-colorbrewer-master/sequential/Reds.plt'\n",
    "# %load '/Users/tayebi/Documents/Work/Ph.D./gnuplot-colorbrewer-master/sequential/BuGn.plt'\n",
    "# %load '/Users/tayebi/Documents/Work/Ph.D./gnuplot-colorbrewer-master/qualitative/Paired.plt'\n"
   ]
  },
  {
   "attachments": {},
   "cell_type": "markdown",
   "metadata": {},
   "source": [
    "### Stress-strain comparision micro-Macro for differnent $E_s$"
   ]
  },
  {
   "cell_type": "code",
   "execution_count": 33,
   "metadata": {},
   "outputs": [
    {
     "name": "stdout",
     "output_type": "stream",
     "text": [
      "  Solving linear variational problem.\n",
      "  Solving linear variational problem.\n",
      "  Solving linear variational problem.\n",
      "  Solving linear variational problem.\n",
      "  Solving linear variational problem.\n",
      "  Solving linear variational problem.\n",
      "  Solving linear variational problem.\n",
      "  Solving linear variational problem.\n",
      "  Solving linear variational problem.\n"
     ]
    }
   ],
   "source": [
    "# Micromechanical model\n",
    "sigma_glob_Es_1 = []\n",
    "sigma_glob_Es_2 = []\n",
    "sigma_glob_Es_3 = []\n",
    "\n",
    "eps_glob = []\n",
    "\n",
    "for i in range(11):\n",
    "    eps = i/20\n",
    "    eps_glob.append(eps)\n",
    "    mat_params = {\"model\":\"CGNH\", \"parameters\":{\"E\":1, \"nu\":nus}}\n",
    "    sigma_glob_Es_1.append(global_response(mesh=mesh, mat_params=mat_params, eps_xx=eps, eps_yy=eps, pf=0., Macroscopic_strain=1, sigma_bar=sigma_bar, gamma=None)[1])\n",
    "    mat_params = {\"model\":\"CGNH\", \"parameters\":{\"E\":2, \"nu\":nus}}\n",
    "    sigma_glob_Es_2.append(global_response(mesh=mesh, mat_params=mat_params, eps_xx=eps, eps_yy=eps, pf=0., Macroscopic_strain=1, sigma_bar=sigma_bar, gamma=None)[1])\n",
    "    mat_params = {\"model\":\"CGNH\", \"parameters\":{\"E\":4, \"nu\":nus}}\n",
    "    sigma_glob_Es_3.append(global_response(mesh=mesh, mat_params=mat_params, eps_xx=eps, eps_yy=eps, pf=0., Macroscopic_strain=1, sigma_bar=sigma_bar, gamma=None)[1])\n",
    "\n",
    "\n",
    "# Poromechanical model\n",
    "mat_params = {\"model\":\"CGNH\", \"parameters\":{\"E\":1, \"nu\":nus}}\n",
    "sigma_macro_1 = macroscopic_model(mat_params)[0].subs(p, 0)\n",
    "mat_params = {\"model\":\"CGNH\", \"parameters\":{\"E\":2, \"nu\":nus}}\n",
    "sigma_macro_2 = macroscopic_model(mat_params)[0].subs(p, 0)\n",
    "mat_params = {\"model\":\"CGNH\", \"parameters\":{\"E\":4, \"nu\":nus}}\n",
    "sigma_macro_3 = macroscopic_model(mat_params)[0].subs(p, 0)\n",
    "\n",
    "\n",
    "epsilon_vals = linspace(0, 0.5, 100)\n",
    "\n",
    "lam = lambdify(epsilon, sigma_macro_1[0, 0], modules=['numpy'])\n",
    "sigma_vals_1 = lam(epsilon_vals)\n",
    "\n",
    "lam = lambdify(epsilon, sigma_macro_2[0, 0], modules=['numpy'])\n",
    "sigma_vals_2 = lam(epsilon_vals)\n",
    "\n",
    "lam = lambdify(epsilon, sigma_macro_3[0, 0], modules=['numpy'])\n",
    "sigma_vals_3 = lam(epsilon_vals)"
   ]
  },
  {
   "cell_type": "code",
   "execution_count": 34,
   "metadata": {},
   "outputs": [
    {
     "data": {
      "image/png": "[encoded data removed]",
      "text/plain": [
       "<Figure size 432x288 with 1 Axes>"
      ]
     },
     "metadata": {
      "needs_background": "light"
     },
     "output_type": "display_data"
    }
   ],
   "source": [
    "class MulticolorPatch(object):\n",
    "    def __init__(self, colors):\n",
    "        self.colors = colors\n",
    "        \n",
    "# define a handler for the MulticolorPatch object\n",
    "class MulticolorPatchHandler(object):\n",
    "    def legend_artist(self, legend, orig_handle, fontsize, handlebox):\n",
    "        width, height = handlebox.width, handlebox.height\n",
    "        patches = []\n",
    "        for i, c in enumerate(orig_handle.colors):\n",
    "            patches.append(plt.Rectangle([width/len(orig_handle.colors) * i - handlebox.xdescent, \n",
    "                                          -handlebox.ydescent],\n",
    "                           width / len(orig_handle.colors),\n",
    "                           height, \n",
    "                           facecolor=c, \n",
    "                           edgecolor='none'))\n",
    "\n",
    "        patch = PatchCollection(patches,match_original=True)\n",
    "\n",
    "        handlebox.add_artist(patch)\n",
    "        return patch\n",
    "\n",
    "\n",
    "# ------ choose some colors\n",
    "colors1 = ['#084594', '#99000D']\n",
    "colors2 = ['#4292C6', '#EF3B2C']\n",
    "colors3 = ['#9ECAE1', '#FC9272']\n",
    "\n",
    "# ------ create a dummy-plot (just to show that it works)\n",
    "f, ax = plt.subplots()\n",
    "ax.plot(eps_glob, sigma_glob_Es_1, c=colors1[0])\n",
    "ax.plot(eps_glob, sigma_glob_Es_2, c=colors2[0])\n",
    "ax.plot(eps_glob, sigma_glob_Es_3, c=colors3[0])\n",
    "ax.plot(epsilon_vals, sigma_vals_1, c=colors1[1])\n",
    "ax.plot(epsilon_vals, sigma_vals_2, c=colors2[1])\n",
    "ax.plot(epsilon_vals, sigma_vals_3, c=colors3[1])\n",
    "\n",
    "# ------ get the legend-entries that are already attached to the axis\n",
    "h, l = ax.get_legend_handles_labels()\n",
    "\n",
    "# ------ append the multicolor legend patches\n",
    "h.append(MulticolorPatch(colors1))\n",
    "l.append(r'$E_s = 1~kPa$')\n",
    "\n",
    "h.append(MulticolorPatch(colors2))\n",
    "l.append(r'$E_s = 2~kPa$')\n",
    "\n",
    "h.append(MulticolorPatch(colors3))\n",
    "l.append(r'$E_s = 4~kPa$')\n",
    "\n",
    "# ------ create the legend\n",
    "f.legend(h, l, loc='upper left', \n",
    "         handler_map={MulticolorPatch: MulticolorPatchHandler()}, \n",
    "         bbox_to_anchor=(.125,.875))\n",
    "\n",
    "plt.xlim(0, 0.5)\n",
    "plt.ylim(0, 0.35)\n",
    "plt.rc('xtick', labelsize=14)\n",
    "plt.rc('ytick', labelsize=14)\n",
    "plt.rc('legend', fontsize=12)\n",
    "plt.xlabel(r'$E_x, E_y ()$', fontsize=16)\n",
    "plt.ylabel(r'$\\sigma_{xx}, \\sigma_{yy} (kPa)$', fontsize=16)\n",
    "plt.savefig('stress_strain_micro_macro_Es.pdf',bbox_inches='tight')\n",
    "plt.show()"
   ]
  },
  {
   "attachments": {},
   "cell_type": "markdown",
   "metadata": {},
   "source": [
    "### Stress-strain comparision micro-Macro for differnent $\\nu_s$"
   ]
  },
  {
   "cell_type": "code",
   "execution_count": 35,
   "metadata": {},
   "outputs": [],
   "source": [
    "sigma_glob_nu_01 = []\n",
    "sigma_glob_nu_02 = []\n",
    "sigma_glob_nu_03 = []\n",
    "\n",
    "eps_glob = []\n",
    "\n",
    "for i in range(11):\n",
    "    eps = i/20\n",
    "    eps_glob.append(eps)\n",
    "    mat_params = {\"model\":\"CGNH\", \"parameters\":{\"E\":Es, \"nu\":0.1}}\n",
    "    sigma_glob_nu_01.append(global_response(mesh=mesh, mat_params=mat_params, eps_xx=eps, eps_yy=eps, pf=0., Macroscopic_strain=1, sigma_bar=sigma_bar, gamma=None)[1])\n",
    "    mat_params = {\"model\":\"CGNH\", \"parameters\":{\"E\":Es, \"nu\":0.2}}\n",
    "    sigma_glob_nu_02.append(global_response(mesh=mesh, mat_params=mat_params, eps_xx=eps, eps_yy=eps, pf=0., Macroscopic_strain=1, sigma_bar=sigma_bar, gamma=None)[1])\n",
    "    mat_params = {\"model\":\"CGNH\", \"parameters\":{\"E\":Es, \"nu\":0.4}}\n",
    "    sigma_glob_nu_03.append(global_response(mesh=mesh, mat_params=mat_params, eps_xx=eps, eps_yy=eps, pf=0., Macroscopic_strain=1, sigma_bar=sigma_bar, gamma=None)[1])\n",
    "\n"
   ]
  },
  {
   "cell_type": "code",
   "execution_count": 36,
   "metadata": {},
   "outputs": [
    {
     "name": "stdout",
     "output_type": "stream",
     "text": [
      "  Solving linear variational problem.\n",
      "  Solving linear variational problem.\n",
      "  Solving linear variational problem.\n",
      "  Solving linear variational problem.\n",
      "  Solving linear variational problem.\n",
      "  Solving linear variational problem.\n",
      "  Solving linear variational problem.\n",
      "  Solving linear variational problem.\n",
      "  Solving linear variational problem.\n"
     ]
    }
   ],
   "source": [
    "mat_params = {\"model\":\"CGNH\", \"parameters\":{\"E\":Es, \"nu\":0.1}}\n",
    "sigma_macro_1 = macroscopic_model(mat_params)[0].subs(p, 0)\n",
    "mat_params = {\"model\":\"CGNH\", \"parameters\":{\"E\":Es, \"nu\":0.2}}\n",
    "sigma_macro_2 = macroscopic_model(mat_params)[0].subs(p, 0)\n",
    "mat_params = {\"model\":\"CGNH\", \"parameters\":{\"E\":Es, \"nu\":0.4}}\n",
    "sigma_macro_3 = macroscopic_model(mat_params)[0].subs(p, 0)\n",
    "\n",
    "epsilon_vals = linspace(0, 0.5, 100)\n",
    "\n",
    "lam = lambdify(epsilon, sigma_macro_1[0, 0], modules=['numpy'])\n",
    "sigma_macro_1 = lam(epsilon_vals)\n",
    "\n",
    "lam = lambdify(epsilon, sigma_macro_2[0, 0], modules=['numpy'])\n",
    "sigma_macro_2 = lam(epsilon_vals)\n",
    "\n",
    "lam = lambdify(epsilon, sigma_macro_3[0, 0], modules=['numpy'])\n",
    "sigma_macro_3 = lam(epsilon_vals)"
   ]
  },
  {
   "cell_type": "code",
   "execution_count": 37,
   "metadata": {},
   "outputs": [
    {
     "data": {
      "image/png": "[encoded data removed]",
      "text/plain": [
       "<Figure size 432x288 with 1 Axes>"
      ]
     },
     "metadata": {
      "needs_background": "light"
     },
     "output_type": "display_data"
    }
   ],
   "source": [
    "f, ax = plt.subplots()\n",
    "ax.plot(eps_glob, sigma_glob_nu_01, c=colors1[0])\n",
    "ax.plot(eps_glob, sigma_glob_nu_02, c=colors2[0])\n",
    "ax.plot(eps_glob, sigma_glob_nu_03, c=colors3[0])\n",
    "ax.plot(epsilon_vals, sigma_macro_1, c=colors1[1])\n",
    "ax.plot(epsilon_vals, sigma_macro_2, c=colors2[1])\n",
    "ax.plot(epsilon_vals, sigma_macro_3, c=colors3[1])\n",
    "\n",
    "# ------ get the legend-entries that are already attached to the axis\n",
    "h, l = ax.get_legend_handles_labels()\n",
    "\n",
    "# ------ append the multicolor legend patches\n",
    "h.append(MulticolorPatch(colors1))\n",
    "l.append(r'$\\nu_s = 0.1$')\n",
    "\n",
    "h.append(MulticolorPatch(colors2))\n",
    "l.append(r'$\\nu_s = 0.2$')\n",
    "\n",
    "h.append(MulticolorPatch(colors3))\n",
    "l.append(r'$\\nu_s = 0.4$')\n",
    "\n",
    "# ------ create the legend\n",
    "f.legend(h, l, loc='upper left', \n",
    "         handler_map={MulticolorPatch: MulticolorPatchHandler()}, \n",
    "         bbox_to_anchor=(.125,.875))\n",
    "\n",
    "\n",
    "plt.rc('legend', fontsize=12)\n",
    "plt.xlabel(r'$E_x, E_y ()$', fontsize=16)\n",
    "plt.ylabel(r'$\\sigma_{xx}, \\sigma_{yy} (kPa)$', fontsize=16)\n",
    "plt.xlim(0, 0.5)\n",
    "plt.ylim(0, 0.1)\n",
    "plt.savefig('stress_strain_micro_macro_nus.pdf',bbox_inches='tight')\n",
    "plt.show()"
   ]
  },
  {
   "attachments": {},
   "cell_type": "markdown",
   "metadata": {},
   "source": [
    "## sigma(p_f)"
   ]
  },
  {
   "cell_type": "code",
   "execution_count": 25,
   "metadata": {},
   "outputs": [],
   "source": [
    "p_lst = []\n",
    "sigma_xx_lst = []\n",
    "sigma_bar = [[0., 0.],\n",
    "             [0., 0.]]\n",
    "\n",
    "for i in range(11):\n",
    "    p_ = i/10\n",
    "    p_lst.append(p_)\n",
    "    sigma_xx_lst.append(global_response(mesh=mesh, mat_params=mat_params, eps_xx=0.0, eps_yy=0.0, pf=p_, Macroscopic_strain=1, sigma_bar=sigma_bar, gamma=None)[1])"
   ]
  },
  {
   "cell_type": "code",
   "execution_count": 26,
   "metadata": {},
   "outputs": [
    {
     "data": {
      "image/png": "[encoded data removed]",
      "text/plain": [
       "<Figure size 432x288 with 1 Axes>"
      ]
     },
     "metadata": {
      "needs_background": "light"
     },
     "output_type": "display_data"
    }
   ],
   "source": [
    "lam = lambdify(p, sigma_macro[0,0].subs(epsilon, 0), modules=['numpy'])\n",
    "p_vals = linspace(0, 1, 100)\n",
    "sigma_xx_lam = lam(p_vals)\n",
    "\n",
    "plt.figure()\n",
    "plt.rc('xtick', labelsize=14)\n",
    "plt.rc('ytick', labelsize=14)\n",
    "plt.rc('legend', fontsize=12)\n",
    "plt.xlabel(r'$p_f~(kPa)$', fontsize=16)\n",
    "plt.ylabel(r'$\\sigma_{xx}, \\sigma_{yy} (kPa)$', fontsize=16)\n",
    "plt.plot(p_lst, sigma_xx_lst, '#084594')\n",
    "plt.plot(p_vals, sigma_xx_lam, '#99000D')\n",
    "plt.legend(['Microscopic model', 'Macroscopic model'])\n",
    "plt.xlim(0, 1)\n",
    "plt.ylim(-1, 0)\n",
    "plt.savefig('pf_sigma_incompressible.pdf', bbox_inches='tight')  # bbox_inches='tight' saves the plot encadre '\n",
    "plt.show()"
   ]
  },
  {
   "attachments": {},
   "cell_type": "markdown",
   "metadata": {},
   "source": [
    "## Phi_s(E)"
   ]
  },
  {
   "attachments": {},
   "cell_type": "markdown",
   "metadata": {},
   "source": [
    "### Incompressible"
   ]
  },
  {
   "cell_type": "code",
   "execution_count": 27,
   "metadata": {},
   "outputs": [],
   "source": [
    "Es = 1\n",
    "nus = 0.499\n",
    "mat_params = {\"model\":\"CGNH\", \"parameters\":{\"E\":Es, \"nu\":nus}}\n",
    "Phi_s_lst_incomp = []\n",
    "eps_lst = []\n",
    "\n",
    "sigma_bar = [[0., 0.],\n",
    "             [0., 0.]]\n",
    "\n",
    "for i in range(11):\n",
    "    eps_ = i/10\n",
    "    eps_lst.append(eps_)\n",
    "    Phi_s_lst_incomp.append(global_response(mesh=mesh, mat_params=mat_params, eps_xx=eps_, eps_yy=eps_, pf=0, Macroscopic_strain=1, sigma_bar=sigma_bar, gamma=None)[4])"
   ]
  },
  {
   "attachments": {},
   "cell_type": "markdown",
   "metadata": {},
   "source": [
    "### Compressible"
   ]
  },
  {
   "cell_type": "code",
   "execution_count": 28,
   "metadata": {},
   "outputs": [],
   "source": [
    "Es = 1\n",
    "nus = 0.2\n",
    "mat_params = {\"model\":\"CGNH\", \"parameters\":{\"E\":Es, \"nu\":nus}}\n",
    "Phi_s_lst_comp = []\n",
    "eps_lst = []\n",
    "\n",
    "sigma_bar = [[0., 0.],\n",
    "             [0., 0.]]\n",
    "\n",
    "for i in range(11):\n",
    "    eps_ = i/10\n",
    "    eps_lst.append(eps_)\n",
    "    Phi_s_lst_comp.append(global_response(mesh=mesh, mat_params=mat_params, eps_xx=eps_, eps_yy=eps_, pf=0, Macroscopic_strain=1, sigma_bar=sigma_bar, gamma=None)[4])"
   ]
  },
  {
   "cell_type": "code",
   "execution_count": 29,
   "metadata": {},
   "outputs": [],
   "source": [
    "Phi_s0_lst = [Phi_s0]*len(eps_lst)"
   ]
  },
  {
   "cell_type": "code",
   "execution_count": 30,
   "metadata": {},
   "outputs": [
    {
     "data": {
      "image/png": "[encoded data removed]",
      "text/plain": [
       "<Figure size 432x288 with 1 Axes>"
      ]
     },
     "metadata": {
      "needs_background": "light"
     },
     "output_type": "display_data"
    }
   ],
   "source": [
    "plt.figure()\n",
    "plt.rc('xtick', labelsize=14)\n",
    "plt.rc('ytick', labelsize=14)\n",
    "plt.rc('legend', fontsize=12)\n",
    "plt.xlabel(r'$E_x, E_y ()$', fontsize=16)\n",
    "plt.ylabel(r'$\\Phi_s$', fontsize=16)\n",
    "plt.plot(eps_lst, Phi_s_lst_comp, '#084594')\n",
    "plt.plot(eps_lst, Phi_s_lst_incomp, '#084594', linestyle='dashed')\n",
    "plt.plot(eps_lst, Phi_s0_lst, '#99000D')\n",
    "plt.legend(['Microscopic model - compressible solid', 'Microscopic model - incompressible solid', 'Macroscopic model'])\n",
    "plt.xlim(0, 1)\n",
    "# plt.ylim(Phi_s0, Phi_s_lst_comp[-1])\n",
    "plt.savefig('Phi-s_E.pdf', bbox_inches='tight')  # bbox_inches='tight' saves the plot encadre '\n",
    "plt.show()"
   ]
  }
 ],
 "metadata": {
  "kernelspec": {
   "display_name": "Python 3 (ipykernel)",
   "language": "python",
   "name": "python3"
  },
  "language_info": {
   "codemirror_mode": {
    "name": "ipython",
    "version": 3
   },
   "file_extension": ".py",
   "mimetype": "text/x-python",
   "name": "python",
   "nbconvert_exporter": "python",
   "pygments_lexer": "ipython3",
   "version": "3.7.11"
  },
  "latex_envs": {
   "LaTeX_envs_menu_present": false,
   "autoclose": false,
   "autocomplete": false,
   "bibliofile": "biblio.bib",
   "cite_by": "apalike",
   "current_citInitial": 1,
   "eqLabelWithNumbers": true,
   "eqNumInitial": 1,
   "hotkeys": {
    "equation": "Ctrl-E",
    "itemize": "Ctrl-I"
   },
   "labels_anchors": false,
   "latex_user_defs": true,
   "report_style_numbering": false,
   "user_envs_cfg": false
  },
  "toc": {
   "base_numbering": 1,
   "nav_menu": {},
   "number_sections": true,
   "sideBar": true,
   "skip_h1_title": true,
   "title_cell": "Table of Contents",
   "title_sidebar": "Contents",
   "toc_cell": false,
   "toc_position": {
    "height": "calc(100% - 180px)",
    "left": "10px",
    "top": "150px",
    "width": "282.3px"
   },
   "toc_section_display": true,
   "toc_window_display": true
  },
  "varInspector": {
   "cols": {
    "lenName": 16,
    "lenType": 16,
    "lenVar": 40
   },
   "kernels_config": {
    "python": {
     "delete_cmd_postfix": "",
     "delete_cmd_prefix": "del ",
     "library": "var_list.py",
     "varRefreshCmd": "print(var_dic_list())"
    },
    "r": {
     "delete_cmd_postfix": ") ",
     "delete_cmd_prefix": "rm(",
     "library": "var_list.r",
     "varRefreshCmd": "cat(var_dic_list()) "
    }
   },
   "position": {
    "height": "694.85px",
    "left": "1390px",
    "right": "20px",
    "top": "120px",
    "width": "350px"
   },
   "types_to_exclude": [
    "module",
    "function",
    "builtin_function_or_method",
    "instance",
    "_Feature"
   ],
   "window_display": false
  },
  "vscode": {
   "interpreter": {
    "hash": "72c1afb92b7e9660a0c88cc0a244d417e69dda15158147e25555e9fa6e78ac29"
   }
  }
 },
 "nbformat": 4,
 "nbformat_minor": 4
}
