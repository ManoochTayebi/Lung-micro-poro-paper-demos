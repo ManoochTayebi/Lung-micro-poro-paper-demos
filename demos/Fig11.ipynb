{
 "cells": [
  {
   "attachments": {},
   "cell_type": "markdown",
   "metadata": {},
   "source": [
    "# Figure 11"
   ]
  },
  {
   "attachments": {},
   "cell_type": "markdown",
   "metadata": {},
   "source": [
    "## Imports"
   ]
  },
  {
   "cell_type": "code",
   "execution_count": null,
   "metadata": {},
   "outputs": [],
   "source": [
    "import dolfin\n",
    "import matplotlib.pyplot as plt\n",
    "import numpy\n",
    "import sympy\n",
    "import sys\n",
    "import seaborn as sns\n",
    "\n",
    "import dolfin_mech                    as dmech\n",
    "import micro_poro_structure_generator as gen"
   ]
  },
  {
   "attachments": {},
   "cell_type": "markdown",
   "metadata": {},
   "source": [
    "## Defining geometry and material parameters"
   ]
  },
  {
   "cell_type": "code",
   "execution_count": null,
   "metadata": {},
   "outputs": [],
   "source": [
    "seeds_filename = \"Fig11-seeds.dat\"\n",
    "mesh_filebasename = \"Fig11-mesh\"\n",
    "\n",
    "domain_y = 1.\n",
    "domain_x = domain_y * numpy.sqrt(3)/1.5/2\n",
    "thickness = 0.092\n",
    "\n",
    "gen.generate_seeds_semi_regular(\n",
    "    DoI=0.,\n",
    "    row=1,\n",
    "    domain_y=domain_y,\n",
    "    seeds_filename=seeds_filename)\n",
    "gen.generate_mesh_2D_rectangle_w_voronoi_inclusions(\n",
    "    mesh_filename=mesh_filebasename,\n",
    "    seeds_filename=seeds_filename,\n",
    "    h=thickness,\n",
    "    lcar=thickness/5,\n",
    "    domain_x=domain_x,\n",
    "    domain_y=domain_y,\n",
    "    shift_y=0.,\n",
    "    remove_seeds=True)\n",
    "\n",
    "mesh = dolfin.Mesh()\n",
    "dolfin.XDMFFile(mesh_filebasename+\".xdmf\").read(mesh)\n",
    "\n",
    "dV = dolfin.Measure(\"dx\", domain=mesh)\n",
    "coord = mesh.coordinates()\n",
    "xmax = max(coord[:,0]); xmin = min(coord[:,0])\n",
    "ymax = max(coord[:,1]); ymin = min(coord[:,1])\n",
    "\n",
    "V0 = (xmax-xmin) * (ymax-ymin)\n",
    "bbox = [xmin, xmax, ymin, ymax]\n"
   ]
  },
  {
   "cell_type": "code",
   "execution_count": null,
   "metadata": {},
   "outputs": [],
   "source": [
    "E_  = 1.\n",
    "nu_ = 0.49\n",
    "mat_params = {\"model\":\"CGNH\", \"parameters\":{\"E\":E_, \"nu\":nu_}}"
   ]
  },
  {
   "attachments": {},
   "cell_type": "markdown",
   "metadata": {},
   "source": [
    "### Homogenized parameters"
   ]
  },
  {
   "cell_type": "code",
   "execution_count": null,
   "metadata": {},
   "outputs": [],
   "source": [
    "homogenization_problem = dmech.HomogenizationProblem(\n",
    "    dim=2,\n",
    "    mesh=mesh,\n",
    "    mat_params=mat_params[\"parameters\"],\n",
    "    vol=V0,\n",
    "    bbox=bbox)\n",
    "mu_tilde, lmbda_tilde = homogenization_problem.get_lambda_and_mu()\n",
    "\n",
    "lmbda = sympy.Symbol('lambda')\n",
    "mu    = sympy.Symbol('mu')\n",
    "\n",
    "subs_dict        = {}\n",
    "subs_dict[lmbda] = lmbda_tilde\n",
    "subs_dict[mu]    = mu_tilde"
   ]
  },
  {
   "attachments": {},
   "cell_type": "markdown",
   "metadata": {},
   "source": [
    "## Computing macroscopic model response"
   ]
  },
  {
   "attachments": {},
   "cell_type": "markdown",
   "metadata": {},
   "source": [
    "### Kinematics variables"
   ]
  },
  {
   "cell_type": "code",
   "execution_count": null,
   "metadata": {},
   "outputs": [],
   "source": [
    "# Cauchy-Green dilatation tensor\n",
    "C_macro = sympy.MatrixSymbol('C', 2, 2).as_explicit()\n",
    "print (\"C_macro:\"); C_macro\n",
    "\n",
    "C_inv_macro = sympy.Inverse(C_macro)\n",
    "print (\"C_inv_macro:\"); C_inv_macro.doit()\n",
    "\n",
    "# Invariants\n",
    "I_C_macro   = sympy.trace(C_macro)\n",
    "III_C_macro = sympy.det(C_macro)\n",
    "J_macro     = sympy.sqrt(III_C_macro)\n",
    "print (  \"I_C:\"); I_C_macro\n",
    "print (\"III_C:\"); III_C_macro\n",
    "print (    \"J:\"); J_macro\n",
    "\n",
    "# Reduced invariants\n",
    "I_bar_C_macro = sympy.root(J_macro, -sympy.Rational(3, 2)) * I_C_macro\n",
    "print (\"I_bar_C:\"); I_bar_C_macro\n"
   ]
  },
  {
   "attachments": {},
   "cell_type": "markdown",
   "metadata": {},
   "source": [
    "### Coupled model"
   ]
  },
  {
   "cell_type": "code",
   "execution_count": null,
   "metadata": {
    "scrolled": false
   },
   "outputs": [],
   "source": [
    "pf = sympy.symbols('p_f')\n",
    "\n",
    "# Neo-Hookean free energy potential\n",
    "W_c =   (lmbda/4) * (J_macro**2 - 1 - 2*sympy.ln(J_macro)) \\\n",
    "      + (   mu/2) * (I_C_macro  - 2 - 2*sympy.ln(J_macro))\n",
    "print (\"W_c:\"); W_c.simplify()\n",
    "\n",
    "# Second Piola-Kirchhoff stress tensor\n",
    "Sigma_c = 2*sympy.diff(W_c, C_macro) - pf * J_macro * C_macro.inv()\n",
    "\n",
    "p_c = - (sympy.trace(Sigma_c.T * C_macro) + lmbda/2 * (J_macro**2 - 1))/3/J_macro\n",
    "\n",
    "Sigma_d_c = Sigma_c + p_c * J_macro * C_inv_macro\n",
    "# print (\"Sigma_d_c:\"); Sigma_d_c"
   ]
  },
  {
   "attachments": {},
   "cell_type": "markdown",
   "metadata": {},
   "source": [
    "### Decoupled model"
   ]
  },
  {
   "cell_type": "code",
   "execution_count": null,
   "metadata": {
    "scrolled": false
   },
   "outputs": [],
   "source": [
    "K = lmbda + 2*mu/3\n",
    "G = mu\n",
    "\n",
    "# Neo-Hookean free energy potential\n",
    "W_d = (K/4) * (J_macro**2 - 1 - 2*sympy.ln(J_macro)) \\\n",
    "    + (G/2) * (J_macro**(-2/3)*(1+ I_C_macro) - 3)\n",
    "print (\"W_d:\"); W_d.simplify()\n",
    "\n",
    "# Second Piola-Kirchhoff stress tensor\n",
    "Sigma_d = 2*sympy.diff(W_d, C_macro) - pf * J_macro * C_macro.inv()\n",
    "\n",
    "p_d = - (sympy.trace(Sigma_d.T * C_macro) + J_macro**(-2/3)*(1 - (sympy.trace(C_macro) + 1)/3)*G + K/2 * (J_macro**2 - 1))/3/J_macro\n",
    "\n",
    "Sigma_d_d = Sigma_d + p_d * J_macro * C_inv_macro\n",
    "# print (\"Sigma_d_d:\"); Sigma_d_d"
   ]
  },
  {
   "attachments": {},
   "cell_type": "markdown",
   "metadata": {},
   "source": [
    "## Stress-strain responses"
   ]
  },
  {
   "attachments": {},
   "cell_type": "markdown",
   "metadata": {},
   "source": [
    "### Deviatoric deformation"
   ]
  },
  {
   "cell_type": "code",
   "execution_count": null,
   "metadata": {},
   "outputs": [],
   "source": [
    "# Deformation gradient\n",
    "beta = sympy.symbols('beta')\n",
    "F = sympy.Matrix(\n",
    "    [[beta, 0     ],\\\n",
    "     [0   , 1/beta]])\n",
    "print (\"F:\"); F\n",
    "\n",
    "# Determinant of deformation gradient (a.k.a. Jacobian)\n",
    "J = F.det()\n",
    "print (\"J:\"); J\n",
    "\n",
    "# Right Cauchy-Green dilatation tensor\n",
    "C = F.T * F\n",
    "print (\"C:\"); C\n",
    "\n",
    "C_inv = sympy.Inverse(C).doit()\n",
    "print (\"C_inv:\"); C_inv"
   ]
  },
  {
   "attachments": {},
   "cell_type": "markdown",
   "metadata": {},
   "source": [
    "#### Coupled model"
   ]
  },
  {
   "cell_type": "code",
   "execution_count": null,
   "metadata": {},
   "outputs": [],
   "source": [
    "# Second Piola-Kirchhoff stress tensor\n",
    "Sigma = Sigma_c.subs(list(zip(C_macro, C))) # list & zip should not be needed, cf. https://github.com/sympy/sympy/issues/10589\n",
    "print (\"Sigma:\"); Sigma\n",
    "\n",
    "# Hydrostatic pressure\n",
    "p_c_shear = p_c.subs(list(zip(C_macro, C))) # list & zip should not be needed, cf. https://github.com/sympy/sympy/issues/10589\n",
    "print (\"p:\"); p_c_shear.simplify()\n",
    "\n",
    "# Deviatoric stress tensor\n",
    "Sigma_d_c = Sigma_d_c.subs(list(zip(C_macro, C))) # list & zip should not be needed, cf. https://github.com/sympy/sympy/issues/10589\n",
    "print (\"Sigma_d:\"); Sigma_d.simplify()\n",
    "Sigma_c_VM = sympy.sqrt(1.5 * sympy.trace(Sigma_d_c.T * Sigma_d_c))"
   ]
  },
  {
   "attachments": {},
   "cell_type": "markdown",
   "metadata": {},
   "source": [
    "#### Decoupled model"
   ]
  },
  {
   "cell_type": "code",
   "execution_count": null,
   "metadata": {},
   "outputs": [],
   "source": [
    "# Second Piola-Kirchhoff stress tensor\n",
    "Sigma = Sigma_d.subs(list(zip(C_macro, C))) # list & zip should not be needed, cf. https://github.com/sympy/sympy/issues/10589\n",
    "print (\"Sigma:\"); Sigma\n",
    "\n",
    "# Hydrostatic pressure\n",
    "p_d_shear = p_d.subs(list(zip(C_macro, C))).doit() # list & zip should not be needed, cf. https://github.com/sympy/sympy/issues/10589\n",
    "print (\"p:\"); p_d_shear.simplify()\n",
    "\n",
    "# Deviatoric stress tensor\n",
    "Sigma_d_d = Sigma_d_d.subs(list(zip(C_macro, C))) # list & zip should not be needed, cf. https://github.com/sympy/sympy/issues/10589\n",
    "print (\"Sigma_d:\"); Sigma_d.simplify()\n",
    "Sigma_d_VM = sympy.sqrt(1.5 * sympy.trace(Sigma_d_d.T * Sigma_d_d))"
   ]
  },
  {
   "attachments": {},
   "cell_type": "markdown",
   "metadata": {},
   "source": [
    "## Defining microscopic model"
   ]
  },
  {
   "cell_type": "code",
   "execution_count": null,
   "metadata": {},
   "outputs": [],
   "source": [
    "def global_response(mesh, mat_params, eps_xx, eps_yy, pf, sigma_bar, foi_name):\n",
    "\n",
    "    dim = 2\n",
    "    bcs = \"pbc\"\n",
    "    step_params = {\"dt_ini\":1e-1, \"dt_min\":1e-3}\n",
    "\n",
    "    res_folder = sys.argv[0][:-3]\n",
    "    res_basename  = sys.argv[0][:-3]\n",
    "\n",
    "    res_basename = res_folder+\"/\"+res_basename\n",
    "    verbose=1\n",
    "\n",
    "    ################################################################### Mesh ###\n",
    "\n",
    "    coord = mesh.coordinates()\n",
    "    xmax = max(coord[:,0]); xmin = min(coord[:,0])\n",
    "    ymax = max(coord[:,1]); ymin = min(coord[:,1])\n",
    "    if (dim==2):    \n",
    "        V0 = (xmax-xmin) * (ymax-ymin)\n",
    "        bbox = [xmin, xmax, ymin, ymax]\n",
    "    if (dim==3):\n",
    "        zmax = max(coord[:,2]); zmin = min(coord[:,2])\n",
    "        V0 = (xmax-xmin) * (ymax-ymin) * (zmax-zmin)\n",
    "        bbox = [xmin, xmax, ymin, ymax, zmin, zmax]\n",
    "\n",
    "    ################################################## Subdomains & Measures ###\n",
    "\n",
    "    tol = 1E-8\n",
    "    xmin_sd = dolfin.CompiledSubDomain(\"near(x[0], x0, tol) && on_boundary\", x0=xmin, tol=tol)\n",
    "    xmax_sd = dolfin.CompiledSubDomain(\"near(x[0], x0, tol) && on_boundary\", x0=xmax, tol=tol)\n",
    "    ymin_sd = dolfin.CompiledSubDomain(\"near(x[1], x0, tol) && on_boundary\", x0=ymin, tol=tol)\n",
    "    ymax_sd = dolfin.CompiledSubDomain(\"near(x[1], x0, tol) && on_boundary\", x0=ymax, tol=tol)\n",
    "    if (dim==3): zmin_sd = dolfin.CompiledSubDomain(\"near(x[2], x0, tol) && on_boundary\", x0=zmin, tol=tol)\n",
    "    if (dim==3): zmax_sd = dolfin.CompiledSubDomain(\"near(x[2], x0, tol) && on_boundary\", x0=zmax, tol=tol)\n",
    "\n",
    "    xmin_id = 1\n",
    "    xmax_id = 2\n",
    "    ymin_id = 3\n",
    "    ymax_id = 4\n",
    "    if (dim==3): zmin_id = 5\n",
    "    if (dim==3): zmax_id = 6\n",
    "\n",
    "    boundaries_mf = dolfin.MeshFunction(\"size_t\", mesh, mesh.topology().dim()-1)\n",
    "    boundaries_mf.set_all(0)\n",
    "    xmin_sd.mark(boundaries_mf, xmin_id)\n",
    "    xmax_sd.mark(boundaries_mf, xmax_id)\n",
    "    ymin_sd.mark(boundaries_mf, ymin_id)\n",
    "    ymax_sd.mark(boundaries_mf, ymax_id)\n",
    "    if (dim==3): zmin_sd.mark(boundaries_mf, zmin_id)\n",
    "    if (dim==3): zmax_sd.mark(boundaries_mf, zmax_id)\n",
    "\n",
    "    if (verbose):\n",
    "        xdmf_file_boundaries = dolfin.XDMFFile(res_basename+\"-boundaries.xdmf\")\n",
    "        xdmf_file_boundaries.write(boundaries_mf)\n",
    "        xdmf_file_boundaries.close()\n",
    "\n",
    "    ################################################################ Problem ###\n",
    "\n",
    "    problem = dmech.MicroPoroHyperelasticityProblem(\n",
    "            mesh=mesh,\n",
    "            mesh_bbox=bbox,\n",
    "            boundaries_mf=boundaries_mf,\n",
    "            displacement_perturbation_degree=1,\n",
    "            quadrature_degree=3,\n",
    "            solid_behavior=mat_params,\n",
    "            bcs=bcs)\n",
    "\n",
    "    ################################################################ Loading ###\n",
    "\n",
    "    Deltat = step_params.get(\"Deltat\", 1.)\n",
    "    dt_ini = step_params.get(\"dt_ini\", 1.)\n",
    "    dt_min = step_params.get(\"dt_min\", 1.)\n",
    "    dt_max = step_params.get(\"dt_max\", 1.)\n",
    "    k_step = problem.add_step(\n",
    "        Deltat=Deltat,\n",
    "        dt_ini=dt_ini,\n",
    "        dt_min=dt_min,\n",
    "        dt_max=dt_max)\n",
    "\n",
    "    problem.add_surface_pressure_loading_operator(\n",
    "        measure=problem.dS(0),\n",
    "        P_ini=0., P_fin=pf,\n",
    "        k_step=k_step)\n",
    "\n",
    "    for k in range(dim):\n",
    "        for l in range (dim):\n",
    "            if (sigma_bar[k][l] is not None):\n",
    "                problem.add_macroscopic_stress_component_constraint_operator(\n",
    "                    i=k, j=l,\n",
    "                    sigma_bar_ij_ini=0.0, sigma_bar_ij_fin=sigma_bar[k][l],\n",
    "                    pf_ini=0.0, pf_fin=pf,\n",
    "                    k_step=k_step)\n",
    "\n",
    "    problem.add_macroscopic_stretch_component_penalty_operator(\n",
    "        i=0, j=0,\n",
    "        U_bar_ij_ini=0.0, U_bar_ij_fin=eps_xx,\n",
    "        pen_val=1e9,\n",
    "        k_step=k_step)\n",
    "    problem.add_macroscopic_stretch_component_penalty_operator(\n",
    "        i=1, j=1,\n",
    "        U_bar_ij_ini=0.0, U_bar_ij_fin=eps_yy,\n",
    "        pen_val=1e9,\n",
    "        k_step=k_step)\n",
    "\n",
    "    for operator in problem.operators:\n",
    "        if hasattr(operator, \"material\"):\n",
    "            material = operator.material\n",
    "            break\n",
    "\n",
    "    problem.add_foi(expr=material.p_hydro, fs=problem.sfoi_fs, name=\"p_hydro\", update_type=\"project\")\n",
    "    problem.add_foi(expr=material.Sigma_VM, fs=problem.sfoi_fs, name=\"Sigma_VM\", update_type=\"project\")\n",
    "\n",
    "    ################################################################# Solver ###\n",
    "\n",
    "    solver = dmech.NonlinearSolver(\n",
    "        problem=problem,\n",
    "        parameters={\n",
    "            \"sol_tol\":[1e-6]*len(problem.subsols),\n",
    "            \"n_iter_max\":32},\n",
    "        relax_type=\"constant\",\n",
    "        write_iter=0)\n",
    "\n",
    "    integrator = dmech.TimeIntegrator(\n",
    "        problem=problem,\n",
    "        solver=solver,\n",
    "        parameters={\n",
    "            \"n_iter_for_accel\":4,\n",
    "            \"n_iter_for_decel\":16,\n",
    "            \"accel_coeff\":2,\n",
    "            \"decel_coeff\":2},\n",
    "        print_out=res_basename*verbose,\n",
    "        print_sta=res_basename*verbose,\n",
    "        write_qois=res_basename+\"-qois\",\n",
    "        write_qois_limited_precision=1,\n",
    "        write_sol=res_basename*verbose)\n",
    "\n",
    "    success = integrator.integrate()\n",
    "    assert (success),\\\n",
    "        \"Integration failed. Aborting.\"\n",
    "\n",
    "    integrator.close()\n",
    "\n",
    "    ############################################################################\n",
    "\n",
    "    U_bar = problem.get_macroscopic_stretch_subsol().func.vector().get_local().reshape((2,2))\n",
    "    F_bar = U_bar + numpy.eye(2)\n",
    "    J_bar = numpy.linalg.det(F_bar)\n",
    "    C_bar = F_bar.T * F_bar\n",
    "    v = J_bar * V0\n",
    "    vs = dolfin.assemble(problem.kinematics.J * problem.dV)\n",
    "    vf = v - vs\n",
    "\n",
    "    for operator in problem.operators:\n",
    "        if hasattr(operator, \"material\"):\n",
    "            material = operator.material\n",
    "            break\n",
    "\n",
    "    data_dist = None\n",
    "    for i in range(len(problem.fois)):\n",
    "        if problem.fois[i].name == foi_name:\n",
    "            data_dist = problem.fois[i].func.vector().get_local()\n",
    "\n",
    "    return data_dist"
   ]
  },
  {
   "cell_type": "code",
   "execution_count": null,
   "metadata": {},
   "outputs": [],
   "source": [
    "sigma_bar = [[None, 0.],\n",
    "             [0., None]]"
   ]
  },
  {
   "attachments": {},
   "cell_type": "markdown",
   "metadata": {},
   "source": [
    "## Computing quantities frequency distribution from the microscopic model"
   ]
  },
  {
   "cell_type": "code",
   "execution_count": null,
   "metadata": {},
   "outputs": [],
   "source": [
    "pf_ = 0.\n",
    "beta_ = 1.25\n",
    "\n",
    "data_dist_micro =  global_response(mesh=mesh, mat_params=mat_params, eps_xx=beta_-1, eps_yy=1/beta_-1, pf=pf_, sigma_bar=sigma_bar, foi_name='p_hydro')\n",
    "data_macro = p_c_shear.subs(beta, beta_).subs(subs_dict).subs(pf, pf_)\n",
    "\n",
    "plt.figure()\n",
    "plt.rc('xtick', labelsize=14)\n",
    "plt.rc('ytick', labelsize=14)\n",
    "plt.rc('legend', fontsize=12)\n",
    "plt.xlabel('Hydrostatic pressure (kPa)', fontsize=16)\n",
    "plt.ylabel('Frequency distribution', fontsize=16)\n",
    "sns.histplot(data_dist_micro, bins=60, kde=True, color='#084594', stat=\"density\", kde_kws=dict(cut=3), alpha=0.4, edgecolor=(1, 1, 1, 0.4))\n",
    "plt.axvline(x=data_macro, color='#99000D', label='axvline - full height')\n",
    "plt.legend(['Microscopic model', 'Macroscopic model'])\n",
    "plt.xlim(-1., + 1.)\n",
    "plt.ylim( 0.,  10.)\n",
    "plt.show()\n",
    "plt.savefig('Fig11-p_hydro_density_P00.pdf', bbox_inches='tight')"
   ]
  },
  {
   "cell_type": "code",
   "execution_count": null,
   "metadata": {},
   "outputs": [],
   "source": [
    "pf_ = 0.2\n",
    "beta_ = 1.25\n",
    "\n",
    "data_dist_micro =  global_response(mesh=mesh, mat_params=mat_params, eps_xx=beta_-1, eps_yy=1/beta_-1, pf=pf_, sigma_bar=sigma_bar, foi_name='p_hydro')\n",
    "data_macro = p_c_shear.subs(beta, beta_).subs(subs_dict).subs(pf, pf_)\n",
    "\n",
    "plt.figure()\n",
    "plt.rc('xtick', labelsize=14)\n",
    "plt.rc('ytick', labelsize=14)\n",
    "plt.rc('legend', fontsize=12)\n",
    "plt.xlabel('Hydrostatic pressure (kPa)', fontsize=16)\n",
    "plt.ylabel('Frequency distribution', fontsize=16)\n",
    "sns.histplot(data_dist_micro, bins=60, kde=True, color='#084594', stat=\"density\", kde_kws=dict(cut=3), alpha=0.4, edgecolor=(1, 1, 1, 0.4))\n",
    "plt.axvline(x=data_macro, color='#99000D', label='axvline - full height')\n",
    "plt.legend(['Microscopic model', 'Macroscopic model'])\n",
    "plt.xlim(-1., + 1.)\n",
    "plt.ylim( 0.,  10.)\n",
    "plt.show()\n",
    "plt.savefig('Fig11-p_hydro_density_P02.pdf', bbox_inches='tight')"
   ]
  },
  {
   "cell_type": "code",
   "execution_count": null,
   "metadata": {},
   "outputs": [],
   "source": [
    "pf_ = 0.\n",
    "beta_ = 1.25\n",
    "\n",
    "data_dist_micro =  global_response(mesh=mesh, mat_params=mat_params, eps_xx=beta_-1, eps_yy=1/beta_-1, pf=pf_, sigma_bar=sigma_bar, foi_name='Sigma_VM')\n",
    "data_macro = Sigma_c_VM.subs(beta, beta_).subs(subs_dict).subs(pf, pf_).simplify()\n",
    "\n",
    "plt.figure()\n",
    "plt.rc('xtick', labelsize=14)\n",
    "plt.rc('ytick', labelsize=14)\n",
    "plt.rc('legend', fontsize=12)\n",
    "plt.xlabel('Von Mises stress (kPa)', fontsize=16)\n",
    "plt.ylabel('Frequency distribution', fontsize=16)\n",
    "sns.histplot(data_dist_micro, bins=60, kde=True, color='#084594', stat=\"density\", kde_kws=dict(cut=3), alpha=0.4, edgecolor=(1, 1, 1, 0.4))\n",
    "plt.axvline(x=data_macro, color='#99000D', label='axvline - full height')\n",
    "plt.legend(['Microscopic model', 'Macroscopic model'])\n",
    "plt.xlim(0., 0.8)\n",
    "plt.ylim(0., 10.)\n",
    "plt.show()\n",
    "plt.savefig('Fig11-Sigma_VM_density_P00.pdf', bbox_inches='tight')"
   ]
  },
  {
   "cell_type": "code",
   "execution_count": null,
   "metadata": {},
   "outputs": [],
   "source": [
    "pf_ = 0.2\n",
    "beta_ = 1.25\n",
    "\n",
    "data_dist_micro =  global_response(mesh=mesh, mat_params=mat_params, eps_xx=beta_-1, eps_yy=1/beta_-1, pf=pf_, sigma_bar=sigma_bar, foi_name='Sigma_VM')\n",
    "data_macro = Sigma_c_VM.subs(beta, beta_).subs(subs_dict).subs(pf, pf_).simplify()\n",
    "\n",
    "plt.figure()\n",
    "plt.rc('xtick', labelsize=14)\n",
    "plt.rc('ytick', labelsize=14)\n",
    "plt.rc('legend', fontsize=12)        \n",
    "plt.xlabel('Von Mises stress (kPa)', fontsize=16)\n",
    "plt.ylabel('Frequency distribution', fontsize=16)\n",
    "sns.histplot(data_dist_micro, bins=60, kde=True, color='#084594', stat=\"density\", kde_kws=dict(cut=3), alpha=0.4, edgecolor=(1, 1, 1, 0.4))\n",
    "plt.axvline(x=data_macro, color='#99000D', label='axvline - full height')\n",
    "plt.legend(['Microscopic model', 'Macroscopic model'])\n",
    "plt.xlim(0., 0.8)\n",
    "plt.ylim(0., 10.)\n",
    "plt.show()\n",
    "plt.savefig('Fig11-Sigma_VM_density_P02.pdf', bbox_inches='tight')"
   ]
  }
 ],
 "metadata": {
  "kernelspec": {
   "display_name": "Python 3.8.12 ('MEC552-2022')",
   "language": "python",
   "name": "python3"
  },
  "language_info": {
   "codemirror_mode": {
    "name": "ipython",
    "version": 3
   },
   "file_extension": ".py",
   "mimetype": "text/x-python",
   "name": "python",
   "nbconvert_exporter": "python",
   "pygments_lexer": "ipython3",
   "version": "3.11.6"
  },
  "latex_envs": {
   "LaTeX_envs_menu_present": false,
   "autoclose": false,
   "autocomplete": false,
   "bibliofile": "biblio.bib",
   "cite_by": "apalike",
   "current_citInitial": 1,
   "eqLabelWithNumbers": true,
   "eqNumInitial": 1,
   "hotkeys": {
    "equation": "Ctrl-E",
    "itemize": "Ctrl-I"
   },
   "labels_anchors": false,
   "latex_user_defs": true,
   "report_style_numbering": false,
   "user_envs_cfg": false
  },
  "toc": {
   "base_numbering": 1,
   "nav_menu": {},
   "number_sections": true,
   "sideBar": true,
   "skip_h1_title": true,
   "title_cell": "Table of Contents",
   "title_sidebar": "Contents",
   "toc_cell": false,
   "toc_position": {
    "height": "calc(100% - 180px)",
    "left": "10px",
    "top": "150px",
    "width": "282.3px"
   },
   "toc_section_display": true,
   "toc_window_display": true
  },
  "varInspector": {
   "cols": {
    "lenName": 16,
    "lenType": 16,
    "lenVar": 40
   },
   "kernels_config": {
    "python": {
     "delete_cmd_postfix": "",
     "delete_cmd_prefix": "del ",
     "library": "var_list.py",
     "varRefreshCmd": "print(var_dic_list())"
    },
    "r": {
     "delete_cmd_postfix": ") ",
     "delete_cmd_prefix": "rm(",
     "library": "var_list.r",
     "varRefreshCmd": "cat(var_dic_list()) "
    }
   },
   "position": {
    "height": "694.85px",
    "left": "1390px",
    "right": "20px",
    "top": "120px",
    "width": "350px"
   },
   "types_to_exclude": [
    "module",
    "function",
    "builtin_function_or_method",
    "instance",
    "_Feature"
   ],
   "window_display": false
  },
  "vscode": {
   "interpreter": {
    "hash": "d5544391dcf8d354480eed96f74faad9ec85893e1ba6109cc27b561319f9baf1"
   }
  }
 },
 "nbformat": 4,
 "nbformat_minor": 4
}
