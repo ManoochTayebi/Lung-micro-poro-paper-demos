{
 "cells": [
  {
   "cell_type": "markdown",
   "metadata": {},
   "source": [
    "# Figure 11"
   ]
  },
  {
   "cell_type": "markdown",
   "metadata": {},
   "source": [
    "## Imports"
   ]
  },
  {
   "cell_type": "code",
   "execution_count": null,
   "metadata": {},
   "outputs": [],
   "source": [
    "# For better printing within jupyter cells\n",
    "import IPython\n",
    "IPython.core.interactiveshell.InteractiveShell.ast_node_interactivity = \"all\""
   ]
  },
  {
   "cell_type": "code",
   "execution_count": null,
   "metadata": {},
   "outputs": [],
   "source": [
    "%%capture\n",
    "# By these two lines, it will not be needed to restart kernel when applying change in a library\n",
    "%load_ext autoreload\n",
    "%autoreload 2\n",
    "\n",
    "# import main\n",
    "import dolfin  \n",
    "import numpy    \n",
    "import sympy  \n",
    "import matplotlib.pyplot as plt\n",
    "import sys\n",
    "import os\n",
    "import shutil\n",
    "import seaborn as sns\n",
    "\n",
    "import dolfin_mech     as dmech\n",
    "from numpy import exp,arange\n",
    "\n",
    "import seeds\n",
    "import geometry"
   ]
  },
  {
   "attachments": {},
   "cell_type": "markdown",
   "metadata": {},
   "source": [
    "## Parameters"
   ]
  },
  {
   "cell_type": "code",
   "execution_count": null,
   "metadata": {},
   "outputs": [],
   "source": [
    "lmbda = sympy.Symbol('lambda') # lambda is a reserved keyword in python, it cannot be used as a name for a variable.\n",
    "mu    = sympy.Symbol('mu')\n",
    "\n",
    "print (\"lmbda:\"); lmbda\n",
    "print (\"mu:\"   ); mu"
   ]
  },
  {
   "cell_type": "code",
   "execution_count": null,
   "metadata": {},
   "outputs": [],
   "source": [
    "directory = \"Hexagon\"\n",
    "parent_dir = \"./Geometries\"\n",
    "path = os.path.join(parent_dir, directory) \n",
    "if os.path.exists(path):\n",
    "    shutil.rmtree(path)\n",
    "os.makedirs(path)"
   ]
  },
  {
   "cell_type": "code",
   "execution_count": null,
   "metadata": {},
   "outputs": [],
   "source": [
    "dim = 2\n",
    "fname = \"Geometries/Hexagon/hexagon_RVE1\"\n",
    "\n",
    "domain = 1\n",
    "row = 1\n",
    "DoI = 0.0\n",
    "thickness = 0.092\n",
    "shift_y = -0.2\n",
    "\n",
    "seeds.semi_regular(DoI, row, domain)\n",
    "geometry.voronoi(fname, thickness, row, domain, shift_y, seeds_remove=True)\n",
    "\n",
    "\n",
    "\n",
    "mesh = dolfin.Mesh()\n",
    "dolfin.XDMFFile(fname+\"-mesh.xdmf\").read(mesh)\n",
    "\n",
    "dV = dolfin.Measure(\"dx\",domain=mesh)\n",
    "coord = mesh.coordinates()\n",
    "xmax = max(coord[:,0]); xmin = min(coord[:,0])\n",
    "ymax = max(coord[:,1]); ymin = min(coord[:,1])\n",
    "\n",
    "vol = (xmax - xmin)*(ymax - ymin)\n",
    "bbox = [xmin, xmax, ymin, ymax]\n"
   ]
  },
  {
   "cell_type": "code",
   "execution_count": null,
   "metadata": {},
   "outputs": [],
   "source": [
    "E_     = 1.  # (Pa)\n",
    "nu_    = 0.49 # ()\n",
    "\n",
    "mat_params = {\"model\":\"CGNH\", \"parameters\":{\"E\":E_, \"nu\":nu_}}\n",
    "homo = dmech.HomogenizationProblem(dim=dim,\n",
    "                mesh=mesh,\n",
    "                mat_params=mat_params[\"parameters\"],\n",
    "                vol=vol,\n",
    "                bbox=bbox)\n",
    "[mu_, lmbda_] = homo.get_lambda_and_mu()\n",
    "\n",
    "# lmbda_ = E_ * nu_ / (1 + nu_) / (1 - 2 * nu_)\n",
    "# mu_    = E_ / 2 / (1 + nu_)\n",
    "print (\"lmbda_:\"); lmbda_\n",
    "print (\"mu_:\"   ); mu_\n",
    "K_ = lmbda_ + 2*mu_/3\n",
    "G_ = mu_"
   ]
  },
  {
   "cell_type": "code",
   "execution_count": null,
   "metadata": {},
   "outputs": [],
   "source": [
    "subs_dict        = {}\n",
    "subs_dict[lmbda] = lmbda_\n",
    "subs_dict[mu]    = mu_\n",
    "print (\"subs_dict:\"); subs_dict\n",
    "\n",
    "print (\"lmbda:\"); lmbda.subs(subs_dict)\n",
    "print (\"mu:\"   ); mu.subs(subs_dict)"
   ]
  },
  {
   "attachments": {},
   "cell_type": "markdown",
   "metadata": {},
   "source": [
    "## Behavior models"
   ]
  },
  {
   "attachments": {},
   "cell_type": "markdown",
   "metadata": {},
   "source": [
    "### Kinematics variables"
   ]
  },
  {
   "cell_type": "code",
   "execution_count": null,
   "metadata": {},
   "outputs": [],
   "source": [
    "# Cauchy-Green dilatation tensor\n",
    "C_var = sympy.MatrixSymbol('C', 2, 2).as_explicit()\n",
    "print (\"C_var:\"); C_var\n",
    "\n",
    "C_inv_var = sympy.Inverse(C_var)\n",
    "print (\"C_inv_var:\"); C_inv_var.doit()\n",
    "\n",
    "# Invariants\n",
    "I_C_var   = sympy.trace(C_var)\n",
    "III_C_var = sympy.det(C_var)\n",
    "J_var     = sympy.sqrt(III_C_var)\n",
    "print (  \"I_C:\"); I_C_var\n",
    "print (\"III_C:\"); III_C_var\n",
    "print (    \"J:\"); J_var\n",
    "\n",
    "# Reduced invariants\n",
    "I_bar_C_var = sympy.root(J_var, -sympy.Rational(3, 2)) * I_C_var\n",
    "print (\"I_bar_C:\"); I_bar_C_var\n"
   ]
  },
  {
   "attachments": {},
   "cell_type": "markdown",
   "metadata": {},
   "source": [
    "### Coupled model"
   ]
  },
  {
   "cell_type": "code",
   "execution_count": null,
   "metadata": {
    "scrolled": false
   },
   "outputs": [],
   "source": [
    "p_f = sympy.symbols('p_f')\n",
    "\n",
    "# Neo-Hookean free energy potential\n",
    "W_c =   (lmbda/4) * (J_var**2 - 1 - 2 * sympy.ln(J_var)) \\\n",
    "      + (   mu/2) * (I_C_var  - 2 - 2 * sympy.ln(J_var))\n",
    "# print (\"W_c:\"); W_c\n",
    "print (\"W_c:\"); W_c.simplify()\n",
    "\n",
    "# Second Piola-Kirchhoff stress tensor\n",
    "Sigma_c = 2*sympy.diff(W_c, C_var) - p_f * J_var * C_var.inv()\n",
    "# print (\"Sigma_c:\"); Sigma_c\n",
    "# print (\"Sigma_c:\"); Sigma_c.doit()\n",
    "# print (\"Sigma_c:\"); Sigma_c.doit().as_explicit()\n",
    "\n",
    "p_c = - (sympy.trace(Sigma_c.T * C_var) + lmbda/2 * (J_var**2 - 1))/3/J_var\n",
    "# print (\"p_c:\"); p_c\n",
    "\n",
    "Sigma_d_c = Sigma_c + p_c * J_var * C_inv_var\n",
    "# print (\"Sigma_d_c:\"); Sigma_d_c"
   ]
  },
  {
   "attachments": {},
   "cell_type": "markdown",
   "metadata": {},
   "source": [
    "### Decoupled model"
   ]
  },
  {
   "cell_type": "code",
   "execution_count": null,
   "metadata": {
    "scrolled": false
   },
   "outputs": [],
   "source": [
    "K = lmbda + 2*mu/3\n",
    "G = mu\n",
    "\n",
    "# Neo-Hookean free energy potential\n",
    "W_d = (K/4) * (J_var**2 - 1 - 2 * sympy.ln(J_var)) \\\n",
    "    + (G/2) * (J_var**(-2/3)*(1+ I_C_var) - 3)\n",
    "print (\"W_d:\"); W_d.simplify()  \n",
    "\n",
    "# Second Piola-Kirchhoff stress tensor\n",
    "Sigma_d = 2*sympy.diff(W_d, C_var) - p_f * J_var * C_var.inv()\n",
    "# print (\"Sigma_d:\"); Sigma_d\n",
    "# print (\"Sigma_d:\"); Sigma_d.doit()\n",
    "# print (\"Sigma_d:\"); Sigma_d.doit().as_explicit()\n",
    "\n",
    "p_d = - (sympy.trace(Sigma_d.T * C_var) + J_var**(-2/3)*(1 - (sympy.Trace(C_var) + 1)/3)*G + K/2 * (J_var**2 - 1))/3/J_var\n",
    "# print (\"p_d:\"); p_d\n",
    "\n",
    "Sigma_d_d = Sigma_d + p_d * J_var * C_inv_var\n",
    "# print (\"Sigma_d_d:\"); Sigma_d_d"
   ]
  },
  {
   "attachments": {},
   "cell_type": "markdown",
   "metadata": {},
   "source": [
    "## Stress-strain responses"
   ]
  },
  {
   "attachments": {},
   "cell_type": "markdown",
   "metadata": {},
   "source": [
    "### Deviatoric deformation"
   ]
  },
  {
   "cell_type": "code",
   "execution_count": null,
   "metadata": {},
   "outputs": [],
   "source": [
    "# Deformation gradient\n",
    "# In principle we could define X and x and use tensor derivative, but that is a bit involved.\n",
    "beta = sympy.symbols('beta')\n",
    "F = sympy.Matrix(\n",
    "    [[1      , beta],\\\n",
    "     [0   , 1   ]])\n",
    "print (\"F:\"); F\n",
    "\n",
    "# Determinant of deformation gradient (a.k.a. Jacobian)\n",
    "J = F.det()\n",
    "print (\"J:\"); J\n",
    "\n",
    "# Right Cauchy-Green dilatation tensor\n",
    "C = F.T * F\n",
    "print (\"C:\"); C\n",
    "\n",
    "C_inv = sympy.Inverse(C).doit()\n",
    "print (\"C_inv:\"); C_inv\n",
    "\n",
    "# Green-Lagrange strain tensor\n",
    "E = (C - sympy.eye(2))/2\n",
    "print (\"E:\"); E"
   ]
  },
  {
   "cell_type": "code",
   "execution_count": null,
   "metadata": {},
   "outputs": [],
   "source": [
    "# Deformation gradient\n",
    "# In principle we could define X and x and use tensor derivative, but that is a bit involved.\n",
    "beta = sympy.symbols('beta')\n",
    "F = sympy.Matrix(\n",
    "    [[beta, 0     ],\\\n",
    "     [0   , 1/beta]])\n",
    "print (\"F:\"); F\n",
    "\n",
    "# Determinant of deformation gradient (a.k.a. Jacobian)\n",
    "J = F.det()\n",
    "print (\"J:\"); J\n",
    "\n",
    "# Right Cauchy-Green dilatation tensor\n",
    "C = F.T * F\n",
    "print (\"C:\"); C\n",
    "\n",
    "C_inv = sympy.Inverse(C).doit()\n",
    "print (\"C_inv:\"); C_inv\n",
    "\n",
    "# Green-Lagrange strain tensor\n",
    "E = (C - sympy.eye(2))/2\n",
    "print (\"E:\"); E"
   ]
  },
  {
   "attachments": {},
   "cell_type": "markdown",
   "metadata": {},
   "source": [
    "#### Coupled model"
   ]
  },
  {
   "cell_type": "code",
   "execution_count": null,
   "metadata": {},
   "outputs": [],
   "source": [
    "# Second Piola-Kirchhoff stress tensor\n",
    "Sigma = Sigma_c.subs(list(zip(C_var, C))).doit().as_explicit() # list & zip should not be needed, cf. https://github.com/sympy/sympy/issues/10589\n",
    "print (\"Sigma:\"); Sigma\n",
    "\n",
    "# Hydrostatic pressure\n",
    "p_c_shear = p_c.subs(list(zip(C_var, C))).doit()\n",
    "print (\"p:\"); p_c_shear.simplify()\n",
    "\n",
    "# Deviatoric stress tensor\n",
    "Sigma_d_c = Sigma_d_c.subs(list(zip(C_var, C))).doit().as_explicit()\n",
    "print (\"Sigma_d:\"); Sigma_d.simplify()\n",
    "Sigma_c_VM = sympy.sqrt(1.5 * sympy.Trace(Sigma_d_c.T * Sigma_d_c))"
   ]
  },
  {
   "attachments": {},
   "cell_type": "markdown",
   "metadata": {},
   "source": [
    "#### Decoupled model"
   ]
  },
  {
   "cell_type": "code",
   "execution_count": null,
   "metadata": {},
   "outputs": [],
   "source": [
    "# Second Piola-Kirchhoff stress tensor\n",
    "Sigma = Sigma_d.subs(list(zip(C_var, C))).doit().as_explicit() # list & zip should not be needed, cf. https://github.com/sympy/sympy/issues/10589\n",
    "print (\"Sigma:\"); Sigma\n",
    "\n",
    "# Hydrostatic pressure\n",
    "p_d_shear = p_d.subs(list(zip(C_var, C))).doit()\n",
    "print (\"p:\"); p_d_shear.simplify()\n",
    "\n",
    "# Deviatoric stress tensor\n",
    "Sigma_d_d = Sigma_d_d.subs(list(zip(C_var, C))).doit().as_explicit()\n",
    "print (\"Sigma_d:\"); Sigma_d.simplify()\n",
    "Sigma_d_VM = sympy.sqrt(1.5 * sympy.Trace(Sigma_d_d.T * Sigma_d_d))"
   ]
  },
  {
   "attachments": {},
   "cell_type": "markdown",
   "metadata": {},
   "source": [
    "## Micromechanical Model"
   ]
  },
  {
   "cell_type": "code",
   "execution_count": null,
   "metadata": {},
   "outputs": [],
   "source": [
    "def global_response(mesh, mat_params, eps_xx, eps_yy, pf, sigma_bar, foi_name):\n",
    "\n",
    "\n",
    "    dim = 2\n",
    "    bcs = \"pbc\"\n",
    "    step_params = {\"dt_ini\":1e-1, \"dt_min\":1e-3}\n",
    "\n",
    "\n",
    "    res_folder = sys.argv[0][:-3]\n",
    "    res_basename  = sys.argv[0][:-3]\n",
    "\n",
    "    res_basename = res_folder+\"/\"+res_basename\n",
    "    verbose=1\n",
    "\n",
    "    ################################################################### Mesh ###\n",
    "\n",
    "    \n",
    "\n",
    "    dV = dolfin.Measure(\"dx\",domain=mesh)\n",
    "    coord = mesh.coordinates()\n",
    "    xmax = max(coord[:,0]); xmin = min(coord[:,0])\n",
    "    ymax = max(coord[:,1]); ymin = min(coord[:,1])\n",
    "    if (dim==3): zmax = max(coord[:,2]); zmin = min(coord[:,2])\n",
    "    if (dim==2):    \n",
    "        vol = (xmax - xmin)*(ymax - ymin)\n",
    "        \n",
    "        bbox = [xmin, xmax, ymin, ymax]\n",
    "\n",
    "    if (dim==3):    \n",
    "        vol = (xmax - xmin)*(ymax - ymin)*(zmax - zmin)\n",
    "        bbox = [xmin, xmax, ymin, ymax, zmin, zmax]\n",
    "\n",
    "    # mesh_corners = np.array([[xmin, ymin],\n",
    "    #                      [xmax, ymin],\n",
    "    #                      [xmax, ymax],\n",
    "    #                      [xmin, ymax]])\n",
    "\n",
    "    ################################################## Subdomains & Measures ###\n",
    "    tol = 1E-8\n",
    "    xmin_sd = dolfin.CompiledSubDomain(\"near(x[0], x0, tol) && on_boundary\", x0=xmin, tol=tol)\n",
    "    xmax_sd = dolfin.CompiledSubDomain(\"near(x[0], x0, tol) && on_boundary\", x0=xmax, tol=tol)\n",
    "    ymin_sd = dolfin.CompiledSubDomain(\"near(x[1], x0, tol) && on_boundary\", x0=ymin, tol=tol)\n",
    "    ymax_sd = dolfin.CompiledSubDomain(\"near(x[1], x0, tol) && on_boundary\", x0=ymax, tol=tol)\n",
    "    if (dim==3): zmin_sd = dolfin.CompiledSubDomain(\"near(x[2], x0, tol) && on_boundary\", x0=zmin, tol=tol)\n",
    "    if (dim==3): zmax_sd = dolfin.CompiledSubDomain(\"near(x[2], x0, tol) && on_boundary\", x0=zmax, tol=tol)\n",
    "\n",
    "\n",
    "    xmin_id = 1\n",
    "    xmax_id = 2\n",
    "    ymin_id = 3\n",
    "    ymax_id = 4\n",
    "    if (dim==3): zmin_id = 5\n",
    "    if (dim==3): zmax_id = 6\n",
    "    # sint_id = 9\n",
    "\n",
    "    boundaries_mf = dolfin.MeshFunction(\"size_t\", mesh, mesh.topology().dim()-1) # MG20180418: size_t looks like unisgned int, but more robust wrt architecture and os\n",
    "    boundaries_mf.set_all(0)\n",
    "    xmin_sd.mark(boundaries_mf, xmin_id)\n",
    "    xmax_sd.mark(boundaries_mf, xmax_id)\n",
    "    ymin_sd.mark(boundaries_mf, ymin_id)\n",
    "    ymax_sd.mark(boundaries_mf, ymax_id)\n",
    "    if (dim==3): zmin_sd.mark(boundaries_mf, zmin_id)\n",
    "    if (dim==3): zmax_sd.mark(boundaries_mf, zmax_id)\n",
    "    # sint_sd.mark(boundaries_mf, sint_id)\n",
    "\n",
    "    if (verbose):\n",
    "        xdmf_file_boundaries = dolfin.XDMFFile(res_basename+\"-boundaries.xdmf\")\n",
    "        xdmf_file_boundaries.write(boundaries_mf)\n",
    "        xdmf_file_boundaries.close()\n",
    "\n",
    "    ################################################################ Problem ###\n",
    "\n",
    "    problem = dmech.MicroPoroHyperelasticityProblem(\n",
    "            mesh=mesh,\n",
    "            mesh_bbox=bbox,\n",
    "            boundaries_mf=boundaries_mf,\n",
    "            displacement_perturbation_degree=1,\n",
    "            quadrature_degree=3,\n",
    "            solid_behavior=mat_params,\n",
    "            bcs=bcs)\n",
    "\n",
    "    ################################################################ Loading ###\n",
    "\n",
    "    Deltat = step_params.get(\"Deltat\", 1.)\n",
    "    dt_ini = step_params.get(\"dt_ini\", 1.)\n",
    "    dt_min = step_params.get(\"dt_min\", 1.)\n",
    "    dt_max = step_params.get(\"dt_max\", 1.)\n",
    "    k_step = problem.add_step(\n",
    "        Deltat=Deltat,\n",
    "        dt_ini=dt_ini,\n",
    "        dt_min=dt_min,\n",
    "        dt_max=dt_max)\n",
    "\n",
    "    problem.add_surface_pressure_loading_operator(\n",
    "        measure=problem.dS(0),\n",
    "        P_ini=0., P_fin=pf,\n",
    "        k_step=k_step)\n",
    "\n",
    "    for k in range(dim):\n",
    "        for l in range (dim):\n",
    "            if (sigma_bar[k][l] is not None):\n",
    "                problem.add_macroscopic_stress_component_constraint_operator(\n",
    "                    i=k, j=l,\n",
    "                    sigma_bar_ij_ini=0.0, sigma_bar_ij_fin=sigma_bar[k][l],\n",
    "                    pf_ini=0.0, pf_fin=pf,\n",
    "                    k_step=k_step)\n",
    "\n",
    "    problem.add_macroscopic_stretch_component_penalty_operator(\n",
    "        i=0, j=0,\n",
    "        U_bar_ij_ini=0.0, U_bar_ij_fin=eps_xx,\n",
    "        pen_val=1e9,\n",
    "        k_step=k_step)\n",
    "    problem.add_macroscopic_stretch_component_penalty_operator(\n",
    "        i=1, j=1,\n",
    "        U_bar_ij_ini=0.0, U_bar_ij_fin=eps_yy,\n",
    "        pen_val=1e9,\n",
    "        k_step=k_step)\n",
    "    \n",
    "    # problem.add_surface_area_operator(\n",
    "    #     measure=problem.dS(0),\n",
    "    #     k_step=k_step)\n",
    "\n",
    "    for operator in problem.operators: \n",
    "        if hasattr(operator, \"material\"):\n",
    "            material = operator.material\n",
    "            break\n",
    "\n",
    "    problem.add_foi(expr=material.p_hydro, fs=problem.sfoi_fs, name=\"p_hydro\", update_type=\"project\")\n",
    "    problem.add_foi(expr=material.Sigma_VM, fs=problem.sfoi_fs, name=\"Sigma_VM\", update_type=\"project\")\n",
    "    ################################################################# Solver ###\n",
    "\n",
    "    solver = dmech.NonlinearSolver(\n",
    "        problem=problem,\n",
    "        parameters={\n",
    "            \"sol_tol\":[1e-6]*len(problem.subsols),\n",
    "            \"n_iter_max\":32},\n",
    "        relax_type=\"constant\",\n",
    "        write_iter=0)\n",
    "\n",
    "    integrator = dmech.TimeIntegrator(\n",
    "        problem=problem,\n",
    "        solver=solver,\n",
    "        parameters={\n",
    "            \"n_iter_for_accel\":4,\n",
    "            \"n_iter_for_decel\":16,\n",
    "            \"accel_coeff\":2,\n",
    "            \"decel_coeff\":2},\n",
    "        print_out=res_basename*verbose,\n",
    "        print_sta=res_basename*verbose,\n",
    "        write_qois=res_basename+\"-qois\",\n",
    "        write_qois_limited_precision=1,\n",
    "        write_sol=res_basename*verbose)\n",
    "\n",
    "    success = integrator.integrate()\n",
    "    assert (success),\\\n",
    "        \"Integration failed. Aborting.\"\n",
    "\n",
    "    integrator.close()\n",
    "    \n",
    "\n",
    "    ############################################################################\n",
    "    \n",
    "    Vs0 = problem.mesh_V0\n",
    "    U_bar = problem.get_macroscopic_stretch_subsol().func.vector().get_local().reshape((2,2))\n",
    "    F_bar = U_bar + numpy.eye(2)\n",
    "    J_bar = numpy.linalg.det(F_bar)\n",
    "    C_bar = F_bar.T * F_bar\n",
    "    E_bar = 0.5*(C_bar - numpy.eye(2))\n",
    "    v = J_bar * vol\n",
    "    vs = dolfin.assemble(problem.kinematics.J * problem.dV)\n",
    "    vf = v - vs\n",
    "    \n",
    "    Phi_s = vs/vol\n",
    "\n",
    "    for operator in problem.operators: \n",
    "        if hasattr(operator, \"material\"):\n",
    "            material = operator.material\n",
    "            break\n",
    "    \n",
    "    sigma_tot_xx = float((dolfin.assemble(material.sigma[0,0] * problem.kinematics.J * dV) - vf * pf *dolfin.Identity(2)[0,0])/v)\n",
    "    sigma_tot_yy = float((dolfin.assemble(material.sigma[1,1] * problem.kinematics.J * dV) - vf * pf *dolfin.Identity(2)[1,1])/v)\n",
    "\n",
    "    \n",
    "    sigma = [[sigma_tot_xx, 0.],\n",
    "             [0., sigma_tot_yy]]\n",
    "    \n",
    "    Sigma = J_bar * numpy.linalg.inv(F_bar)* sigma * numpy.linalg.inv(F_bar.T)   \n",
    "\n",
    "    p_hydro = - dolfin.assemble(((dolfin.tr(material.Sigma.T*problem.kinematics.C) + material.Sigma_ZZ)/3/problem.kinematics.J)*problem.dV)/vol\n",
    "\n",
    "    data_dist = None\n",
    "    for i in range(len(problem.fois)):\n",
    "        if problem.fois[i].name == foi_name:\n",
    "            data_dist = problem.fois[i].func.vector().get_local()\n",
    "\n",
    "    return p_hydro, data_dist\n"
   ]
  },
  {
   "cell_type": "code",
   "execution_count": null,
   "metadata": {},
   "outputs": [],
   "source": [
    "sigma_bar = [[0., 0.],\n",
    "             [0., 0.]]"
   ]
  },
  {
   "attachments": {},
   "cell_type": "markdown",
   "metadata": {},
   "source": [
    "## Frequency Distribution"
   ]
  },
  {
   "cell_type": "code",
   "execution_count": null,
   "metadata": {},
   "outputs": [],
   "source": [
    "pf_ = 0.\n",
    "beta_ = 1.5\n",
    "\n",
    "data_dist_micro =  global_response(mesh=mesh, mat_params=mat_params, eps_xx=beta_-1, eps_yy=1/beta_-1, pf=pf_, sigma_bar=sigma_bar, foi_name='p_hydro')[1]\n",
    "data_macro = p_c_shear.subs(beta, beta_).subs(subs_dict).subs(p_f, pf_)\n",
    "\n",
    "plt.figure()\n",
    "plt.rc('xtick', labelsize=14)\n",
    "plt.rc('ytick', labelsize=14)\n",
    "plt.rc('legend', fontsize=12)        \n",
    "plt.xlabel('Hydrostatic pressure (kPa)', fontsize=16)\n",
    "plt.ylabel('Frequency distribution', fontsize=16)\n",
    "\n",
    "sns.histplot(data_dist_micro, bins=60, kde=True, color = '#084594',\n",
    "        stat=\"density\", kde_kws=dict(cut=3),\n",
    "        alpha=0.4, edgecolor=(1, 1, 1, .4))\n",
    "plt.axvline(x = data_macro, color = '#99000D', label = 'axvline - full height')\n",
    "plt.legend(['Microscopic model', 'Macroscopic model'])\n",
    "\n",
    "plt.xlim(-1.25, 1)\n",
    "plt.ylim(0, 6)\n",
    "# plt.savefig('p_hydro_density_P00.pdf',bbox_inches='tight')\n",
    "plt.show()"
   ]
  },
  {
   "cell_type": "code",
   "execution_count": null,
   "metadata": {},
   "outputs": [],
   "source": [
    "pf_ = 0.2\n",
    "beta_ = 1.5\n",
    "\n",
    "data_dist_micro =  global_response(mesh=mesh, mat_params=mat_params, eps_xx=beta_-1, eps_yy=1/beta_-1, pf=pf_, sigma_bar=sigma_bar, foi_name='p_hydro')[1]\n",
    "data_macro = p_c_shear.subs(beta, beta_).subs(subs_dict).subs(p_f, pf_)\n",
    "\n",
    "plt.figure()\n",
    "plt.rc('xtick', labelsize=14)\n",
    "plt.rc('ytick', labelsize=14)\n",
    "plt.rc('legend', fontsize=12)        \n",
    "plt.xlabel('Hydrostatic pressure (kPa)', fontsize=16)\n",
    "plt.ylabel('Frequency distribution', fontsize=16)\n",
    "\n",
    "sns.histplot(data_dist_micro, bins=60, kde=True, color = '#084594',\n",
    "        stat=\"density\", kde_kws=dict(cut=3),\n",
    "        alpha=0.4, edgecolor=(1, 1, 1, .4))\n",
    "plt.axvline(x = data_macro, color = '#99000D', label = 'axvline - full height')\n",
    "plt.legend(['Microscopic model', 'Macroscopic model'])\n",
    "\n",
    "plt.xlim(-1.25, 1)\n",
    "plt.ylim(0, 6)\n",
    "# plt.savefig('p_hydro_density_P02.pdf',bbox_inches='tight')\n",
    "plt.show()"
   ]
  },
  {
   "cell_type": "code",
   "execution_count": null,
   "metadata": {},
   "outputs": [],
   "source": [
    "pf_ = 0.\n",
    "beta_ = 1.5\n",
    "\n",
    "data_dist_micro =  global_response(mesh=mesh, mat_params=mat_params, eps_xx=beta_-1, eps_yy=1/beta_-1, pf=pf_, sigma_bar=sigma_bar, foi_name='Sigma_VM')[1]\n",
    "data_macro = Sigma_c_VM.subs(beta, beta_).subs(subs_dict).subs(p_f, pf_).simplify()\n",
    "\n",
    "plt.figure()\n",
    "plt.rc('xtick', labelsize=14)\n",
    "plt.rc('ytick', labelsize=14)\n",
    "plt.rc('legend', fontsize=12)        \n",
    "\n",
    "plt.xlabel('Von Mises stress (kPa)', fontsize=16)\n",
    "plt.ylabel('Frequency distribution', fontsize=16)\n",
    "\n",
    "sns.histplot(data_dist_micro, bins=60, kde=True, color = '#084594',\n",
    "        stat=\"density\", kde_kws=dict(cut=3),\n",
    "        alpha=0.4, edgecolor=(1, 1, 1, .4))\n",
    "plt.axvline(x = data_macro, color = '#99000D', label = 'axvline - full height')\n",
    "plt.legend(['Microscopic model', 'Macroscopic model'])\n",
    "\n",
    "plt.ylim(0, 6)\n",
    "\n",
    "# plt.savefig('Sigma_VM_density_P00.pdf',bbox_inches='tight')\n",
    "plt.show()"
   ]
  },
  {
   "cell_type": "code",
   "execution_count": null,
   "metadata": {},
   "outputs": [],
   "source": [
    "pf_ = 0.2\n",
    "beta_ = 1.5\n",
    "\n",
    "data_dist_micro =  global_response(mesh=mesh, mat_params=mat_params, eps_xx=beta_-1, eps_yy=1/beta_-1, pf=pf_, sigma_bar=sigma_bar, foi_name='Sigma_VM')[1]\n",
    "data_macro = Sigma_c_VM.subs(beta, beta_).subs(subs_dict).subs(p_f, pf_).simplify()\n",
    "\n",
    "plt.figure()\n",
    "plt.rc('xtick', labelsize=14)\n",
    "plt.rc('ytick', labelsize=14)\n",
    "plt.rc('legend', fontsize=12)        \n",
    "\n",
    "plt.xlabel('Von Mises stress (kPa)', fontsize=16)\n",
    "plt.ylabel('Frequency distribution', fontsize=16)\n",
    "\n",
    "sns.histplot(data_dist_micro, bins=60, kde=True, color = '#084594',\n",
    "        stat=\"density\", kde_kws=dict(cut=3),\n",
    "        alpha=0.4, edgecolor=(1, 1, 1, .4))\n",
    "plt.axvline(x = data_macro, color = '#99000D', label = 'axvline - full height')\n",
    "plt.legend(['Microscopic model', 'Macroscopic model'])\n",
    "\n",
    "plt.ylim(0, 6)\n",
    "\n",
    "\n",
    "# plt.savefig('Sigma_VM_density_P02.pdf',bbox_inches='tight')\n",
    "plt.show()"
   ]
  }
 ],
 "metadata": {
  "kernelspec": {
   "display_name": "Python 3.8.12 ('MEC552-2022')",
   "language": "python",
   "name": "python3"
  },
  "language_info": {
   "codemirror_mode": {
    "name": "ipython",
    "version": 3
   },
   "file_extension": ".py",
   "mimetype": "text/x-python",
   "name": "python",
   "nbconvert_exporter": "python",
   "pygments_lexer": "ipython3",
   "version": "3.8.12"
  },
  "latex_envs": {
   "LaTeX_envs_menu_present": false,
   "autoclose": false,
   "autocomplete": false,
   "bibliofile": "biblio.bib",
   "cite_by": "apalike",
   "current_citInitial": 1,
   "eqLabelWithNumbers": true,
   "eqNumInitial": 1,
   "hotkeys": {
    "equation": "Ctrl-E",
    "itemize": "Ctrl-I"
   },
   "labels_anchors": false,
   "latex_user_defs": true,
   "report_style_numbering": false,
   "user_envs_cfg": false
  },
  "toc": {
   "base_numbering": 1,
   "nav_menu": {},
   "number_sections": true,
   "sideBar": true,
   "skip_h1_title": true,
   "title_cell": "Table of Contents",
   "title_sidebar": "Contents",
   "toc_cell": false,
   "toc_position": {
    "height": "calc(100% - 180px)",
    "left": "10px",
    "top": "150px",
    "width": "282.3px"
   },
   "toc_section_display": true,
   "toc_window_display": true
  },
  "varInspector": {
   "cols": {
    "lenName": 16,
    "lenType": 16,
    "lenVar": 40
   },
   "kernels_config": {
    "python": {
     "delete_cmd_postfix": "",
     "delete_cmd_prefix": "del ",
     "library": "var_list.py",
     "varRefreshCmd": "print(var_dic_list())"
    },
    "r": {
     "delete_cmd_postfix": ") ",
     "delete_cmd_prefix": "rm(",
     "library": "var_list.r",
     "varRefreshCmd": "cat(var_dic_list()) "
    }
   },
   "position": {
    "height": "694.85px",
    "left": "1390px",
    "right": "20px",
    "top": "120px",
    "width": "350px"
   },
   "types_to_exclude": [
    "module",
    "function",
    "builtin_function_or_method",
    "instance",
    "_Feature"
   ],
   "window_display": false
  },
  "vscode": {
   "interpreter": {
    "hash": "d5544391dcf8d354480eed96f74faad9ec85893e1ba6109cc27b561319f9baf1"
   }
  }
 },
 "nbformat": 4,
 "nbformat_minor": 4
}
