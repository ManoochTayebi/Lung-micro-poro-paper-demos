{
 "cells": [
  {
   "attachments": {},
   "cell_type": "markdown",
   "metadata": {},
   "source": [
    "# Figure 11"
   ]
  },
  {
   "attachments": {},
   "cell_type": "markdown",
   "metadata": {},
   "source": [
    "## Imports"
   ]
  },
  {
   "cell_type": "code",
   "execution_count": null,
   "metadata": {},
   "outputs": [],
   "source": [
    "import dolfin\n",
    "import matplotlib.pyplot as plt\n",
    "import numpy\n",
    "import seaborn\n",
    "import sympy\n",
    "import sys\n",
    "\n",
    "import dolfin_mech                    as dmech\n",
    "import micro_poro_structure_generator as gen"
   ]
  },
  {
   "cell_type": "markdown",
   "metadata": {},
   "source": [
    "## Parameters"
   ]
  },
  {
   "attachments": {},
   "cell_type": "markdown",
   "metadata": {},
   "source": [
    "### Geometry"
   ]
  },
  {
   "cell_type": "code",
   "execution_count": null,
   "metadata": {},
   "outputs": [],
   "source": [
    "seeds_filename = \"Fig11-seeds.dat\"\n",
    "mesh_filebasename = \"Fig11-mesh\"\n",
    "\n",
    "domain_y = 1.\n",
    "domain_x = domain_y * numpy.sqrt(3)/1.5/2\n",
    "thickness = 0.092\n",
    "\n",
    "gen.generate_seeds_semi_regular(\n",
    "    DoI=0.,\n",
    "    row=1,\n",
    "    domain_y=domain_y,\n",
    "    seeds_filename=seeds_filename)\n",
    "gen.generate_mesh_2D_rectangle_w_voronoi_inclusions(\n",
    "    mesh_filename=mesh_filebasename,\n",
    "    seeds_filename=seeds_filename,\n",
    "    h=thickness,\n",
    "    lcar=thickness/5,\n",
    "    domain_x=domain_x,\n",
    "    domain_y=domain_y,\n",
    "    shift_y=0.,\n",
    "    remove_seeds=True)\n",
    "\n",
    "mesh = dolfin.Mesh()\n",
    "dolfin.XDMFFile(mesh_filebasename+\".xdmf\").read(mesh)\n",
    "\n",
    "mesh_coord = mesh.coordinates()\n",
    "mesh_xmax = max(mesh_coord[:,0]); mesh_xmin = min(mesh_coord[:,0])\n",
    "mesh_ymax = max(mesh_coord[:,1]); mesh_ymin = min(mesh_coord[:,1])\n",
    "mesh_bbox = [mesh_xmin, mesh_xmax, mesh_ymin, mesh_ymax]\n",
    "mesh_bbox_V0 = (mesh_xmax-mesh_xmin) * (mesh_ymax-mesh_ymin)"
   ]
  },
  {
   "cell_type": "markdown",
   "metadata": {},
   "source": [
    "### Solid material parameters"
   ]
  },
  {
   "cell_type": "code",
   "execution_count": null,
   "metadata": {},
   "outputs": [],
   "source": [
    "Es  = 1.\n",
    "nus = 0.499\n",
    "mat_params = {\"model\":\"CGNH\", \"parameters\":{\"E\":Es, \"nu\":nus}}"
   ]
  },
  {
   "cell_type": "markdown",
   "metadata": {},
   "source": [
    "### Loading"
   ]
  },
  {
   "cell_type": "code",
   "execution_count": null,
   "metadata": {},
   "outputs": [],
   "source": [
    "beta = 1.25\n",
    "pf_lst = [0., 0.2]"
   ]
  },
  {
   "cell_type": "markdown",
   "metadata": {},
   "source": [
    "## Symbolic expression of the macroscopic model response"
   ]
  },
  {
   "cell_type": "code",
   "execution_count": null,
   "metadata": {},
   "outputs": [],
   "source": [
    "lmbda_macro, mu_macro = sympy.symbols(\"lambda, mu\")\n",
    "\n",
    "C_macro = sympy.MatrixSymbol(\"C\", 2, 2).as_explicit()\n",
    "I_C_macro = sympy.trace(C_macro)\n",
    "III_C_macro = sympy.det(C_macro)\n",
    "J_macro = sympy.sqrt(III_C_macro)\n",
    "\n",
    "pf = sympy.symbols(\"p_f\")"
   ]
  },
  {
   "cell_type": "code",
   "execution_count": null,
   "metadata": {},
   "outputs": [],
   "source": [
    "W_skel  = (lmbda_macro/4) * (J_macro**2 - 1 - 2*sympy.ln(J_macro))\n",
    "W_skel += (mu_macro/2) * (I_C_macro - 2 - 2*sympy.ln(J_macro))\n",
    "\n",
    "Sigma_macro  = 2*sympy.diff(W_skel, C_macro)\n",
    "Sigma_macro -= pf * J_macro * C_macro.inv()\n",
    "\n",
    "p_hydro_macro = - (sympy.trace(Sigma_macro.T * C_macro) + (lmbda_macro/2) * (J_macro**2 - 1))/3/J_macro\n",
    "\n",
    "Sigma_D_macro = Sigma_macro + p_hydro_macro * J_macro * C_macro.inv()\n",
    "Sigma_VM_macro = sympy.sqrt(3 * sympy.trace(Sigma_D_macro.T * Sigma_D_macro) / 2)"
   ]
  },
  {
   "cell_type": "markdown",
   "metadata": {},
   "source": [
    "## Computing macroscopic model response"
   ]
  },
  {
   "cell_type": "code",
   "execution_count": null,
   "metadata": {},
   "outputs": [],
   "source": [
    "F = sympy.Matrix(\n",
    "    [[beta, 0     ],\\\n",
    "     [0   , 1/beta]])\n",
    "J = F.det()\n",
    "C = F.T * F\n",
    "\n",
    "p_hydro_macro = p_hydro_macro.subs(list(zip(C_macro, C)))\n",
    "Sigma_VM_macro = Sigma_VM_macro.subs(list(zip(C_macro, C)))"
   ]
  },
  {
   "cell_type": "code",
   "execution_count": null,
   "metadata": {},
   "outputs": [],
   "source": [
    "homogenization_problem = dmech.HomogenizationProblem(\n",
    "    dim=2,\n",
    "    mesh=mesh,\n",
    "    mat_params=mat_params[\"parameters\"],\n",
    "    vol=mesh_bbox_V0,\n",
    "    bbox=mesh_bbox)\n",
    "lmbda_tilde, mu_tilde = homogenization_problem.get_lambda_and_mu()\n",
    "\n",
    "p_hydro_macro = p_hydro_macro.subs(lmbda_macro, lmbda_tilde).subs(mu_macro, mu_tilde)\n",
    "Sigma_VM_macro = Sigma_VM_macro.subs(lmbda_macro, lmbda_tilde).subs(mu_macro, mu_tilde)"
   ]
  },
  {
   "cell_type": "code",
   "execution_count": null,
   "metadata": {},
   "outputs": [],
   "source": [
    "p_hydro_macro_lst = []\n",
    "Sigma_VM_macro_lst = []\n",
    "for pf_ in pf_lst:\n",
    "    p_hydro_macro_lst.append(p_hydro_macro.subs(pf, pf_))\n",
    "    Sigma_VM_macro_lst.append(Sigma_VM_macro.subs(pf, pf_))"
   ]
  },
  {
   "attachments": {},
   "cell_type": "markdown",
   "metadata": {},
   "source": [
    "## Computing microscopic model response"
   ]
  },
  {
   "cell_type": "code",
   "execution_count": null,
   "metadata": {},
   "outputs": [],
   "source": [
    "p_hydro_micro_lst = []\n",
    "Sigma_VM_micro_lst = []\n",
    "\n",
    "for pf_ in pf_lst:\n",
    "    load_params = {}\n",
    "    load_params[\"U_bar_00\"] = beta-1.\n",
    "    load_params[\"sigma_bar_01\"] = 0.\n",
    "    load_params[\"sigma_bar_10\"] = 0.\n",
    "    load_params[\"U_bar_11\"] = 1./beta-1.\n",
    "    load_params[\"pf\"] = pf_\n",
    "\n",
    "    step_params = {}\n",
    "    step_params[\"Deltat\"] = 1.\n",
    "    step_params[\"dt_ini\"] = 0.1\n",
    "    step_params[\"dt_min\"] = 0.01\n",
    "    step_params[\"dt_max\"] = 0.1\n",
    "\n",
    "    res_basename = \"Fig11\"\n",
    "    qois_filename = res_basename+\"-qois.dat\"\n",
    "\n",
    "    problem = dmech.run_HollowBox_MicroPoroHyperelasticity(\n",
    "        dim=2,\n",
    "        mesh=mesh,\n",
    "        displacement_perturbation_degree=1,\n",
    "        quadrature_degree=3,\n",
    "        mat_params=mat_params,\n",
    "        load_params=load_params,\n",
    "        step_params=step_params,\n",
    "        res_basename=res_basename,\n",
    "        add_p_hydro_and_Sigma_VM_FoI=True,\n",
    "        verbose=1)\n",
    "\n",
    "    p_hydro_micro_lst.append(problem.get_foi(\"p_hydro\").func.vector().get_local())\n",
    "    Sigma_VM_micro_lst.append(problem.get_foi(\"Sigma_VM\").func.vector().get_local())"
   ]
  },
  {
   "attachments": {},
   "cell_type": "markdown",
   "metadata": {},
   "source": [
    "## Generating plots"
   ]
  },
  {
   "cell_type": "markdown",
   "metadata": {},
   "source": [
    "### Hydrostatic pressure distribution"
   ]
  },
  {
   "cell_type": "code",
   "execution_count": null,
   "metadata": {},
   "outputs": [],
   "source": [
    "for (pf, p_hydro_micro, p_hydro_macro) in zip(pf_lst, p_hydro_micro_lst, p_hydro_macro_lst):\n",
    "    plt.figure()\n",
    "    plt.rc(\"xtick\", labelsize=14)\n",
    "    plt.rc(\"ytick\", labelsize=14)\n",
    "    plt.rc(\"legend\", fontsize=12)\n",
    "    plt.xlabel(\"Hydrostatic pressure (kPa)\", fontsize=16)\n",
    "    plt.ylabel(\"Frequency distribution\", fontsize=16)\n",
    "    seaborn.histplot(\n",
    "        p_hydro_micro,\n",
    "        bins=60,\n",
    "        kde=True,\n",
    "        color=\"#084594\",\n",
    "        stat=\"density\",\n",
    "        kde_kws=dict(cut=3),\n",
    "        alpha=0.4,\n",
    "        edgecolor=(1, 1, 1, 0.4))\n",
    "    plt.axvline(\n",
    "        x=p_hydro_macro,\n",
    "        color=\"#99000D\",\n",
    "        label=\"axvline - full height\")\n",
    "    plt.legend(\n",
    "        [\"Microscopic model\",\\\n",
    "        \"Macroscopic model\"])\n",
    "    plt.xlim(-1., +1.)\n",
    "    plt.ylim(0., 10.)\n",
    "    plt.show()\n",
    "    plt.savefig(\"Fig11-p_hydro_density_pf=\"+str(pf)+\".pdf\", bbox_inches=\"tight\")"
   ]
  },
  {
   "cell_type": "markdown",
   "metadata": {},
   "source": [
    "### Von Mises stress distribution"
   ]
  },
  {
   "cell_type": "code",
   "execution_count": null,
   "metadata": {},
   "outputs": [],
   "source": [
    "for (pf, Sigma_VM_micro, Sigma_VM_macro) in zip(pf_lst, Sigma_VM_micro_lst, Sigma_VM_macro_lst):\n",
    "    plt.figure()\n",
    "    plt.rc(\"xtick\", labelsize=14)\n",
    "    plt.rc(\"ytick\", labelsize=14)\n",
    "    plt.rc(\"legend\", fontsize=12)\n",
    "    plt.xlabel(\"Von Mises stress (kPa)\", fontsize=16)\n",
    "    plt.ylabel(\"Frequency distribution\", fontsize=16)\n",
    "    seaborn.histplot(\n",
    "        Sigma_VM_micro,\n",
    "        bins=60,\n",
    "        kde=True,\n",
    "        color=\"#084594\",\n",
    "        stat=\"density\",\n",
    "        kde_kws=dict(cut=3),\n",
    "        alpha=0.4,\n",
    "        edgecolor=(1, 1, 1, 0.4))\n",
    "    plt.axvline(\n",
    "        x=Sigma_VM_macro,\n",
    "        color=\"#99000D\",\n",
    "        label=\"axvline - full height\")\n",
    "    plt.legend(\n",
    "        [\"Microscopic model\",\\\n",
    "        \"Macroscopic model\"])\n",
    "    plt.xlim(0., 0.8)\n",
    "    plt.ylim(0., 10.)\n",
    "    plt.show()\n",
    "    plt.savefig(\"Fig11-Sigma_VM_density_pf=\"+str(pf)+\".pdf\", bbox_inches=\"tight\")"
   ]
  },
  {
   "cell_type": "code",
   "execution_count": null,
   "metadata": {},
   "outputs": [],
   "source": []
  },
  {
   "cell_type": "code",
   "execution_count": null,
   "metadata": {},
   "outputs": [],
   "source": []
  }
 ],
 "metadata": {
  "kernelspec": {
   "display_name": "Python 3.8.12 ('MEC552-2022')",
   "language": "python",
   "name": "python3"
  },
  "language_info": {
   "codemirror_mode": {
    "name": "ipython",
    "version": 3
   },
   "file_extension": ".py",
   "mimetype": "text/x-python",
   "name": "python",
   "nbconvert_exporter": "python",
   "pygments_lexer": "ipython3",
   "version": "3.11.6"
  },
  "latex_envs": {
   "LaTeX_envs_menu_present": false,
   "autoclose": false,
   "autocomplete": false,
   "bibliofile": "biblio.bib",
   "cite_by": "apalike",
   "current_citInitial": 1,
   "eqLabelWithNumbers": true,
   "eqNumInitial": 1,
   "hotkeys": {
    "equation": "Ctrl-E",
    "itemize": "Ctrl-I"
   },
   "labels_anchors": false,
   "latex_user_defs": true,
   "report_style_numbering": false,
   "user_envs_cfg": false
  },
  "toc": {
   "base_numbering": 1,
   "nav_menu": {},
   "number_sections": true,
   "sideBar": true,
   "skip_h1_title": true,
   "title_cell": "Table of Contents",
   "title_sidebar": "Contents",
   "toc_cell": false,
   "toc_position": {
    "height": "calc(100% - 180px)",
    "left": "10px",
    "top": "150px",
    "width": "282.3px"
   },
   "toc_section_display": true,
   "toc_window_display": true
  },
  "varInspector": {
   "cols": {
    "lenName": 16,
    "lenType": 16,
    "lenVar": 40
   },
   "kernels_config": {
    "python": {
     "delete_cmd_postfix": "",
     "delete_cmd_prefix": "del ",
     "library": "var_list.py",
     "varRefreshCmd": "print(var_dic_list())"
    },
    "r": {
     "delete_cmd_postfix": ") ",
     "delete_cmd_prefix": "rm(",
     "library": "var_list.r",
     "varRefreshCmd": "cat(var_dic_list()) "
    }
   },
   "position": {
    "height": "694.85px",
    "left": "1390px",
    "right": "20px",
    "top": "120px",
    "width": "350px"
   },
   "types_to_exclude": [
    "module",
    "function",
    "builtin_function_or_method",
    "instance",
    "_Feature"
   ],
   "window_display": false
  },
  "vscode": {
   "interpreter": {
    "hash": "d5544391dcf8d354480eed96f74faad9ec85893e1ba6109cc27b561319f9baf1"
   }
  }
 },
 "nbformat": 4,
 "nbformat_minor": 4
}
