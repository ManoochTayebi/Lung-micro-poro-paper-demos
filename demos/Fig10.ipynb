{
 "cells": [
  {
   "attachments": {},
   "cell_type": "markdown",
   "metadata": {},
   "source": [
    "# Figure 10"
   ]
  },
  {
   "attachments": {},
   "cell_type": "markdown",
   "metadata": {},
   "source": [
    "## Imports"
   ]
  },
  {
   "cell_type": "code",
   "execution_count": null,
   "metadata": {},
   "outputs": [],
   "source": [
    "import dolfin  \n",
    "import matplotlib.pyplot as plt\n",
    "import numpy   \n",
    "import sympy   \n",
    "import sys\n",
    "import os\n",
    "\n",
    "import dolfin_mech     as dmech\n",
    "import micro_poro_structure_generator as gen\n"
   ]
  },
  {
   "attachments": {},
   "cell_type": "markdown",
   "metadata": {},
   "source": [
    "## Defining geometry and material parameters"
   ]
  },
  {
   "cell_type": "code",
   "execution_count": null,
   "metadata": {},
   "outputs": [],
   "source": [
    "seeds_filename = \"Fig10-seeds.dat\"\n",
    "mesh_filebasename = \"Fig10-mesh\"\n",
    "\n",
    "domain_y = 1.\n",
    "domain_x = domain_y * numpy.sqrt(3)/1.5/2\n",
    "thickness = 0.092\n",
    "\n",
    "gen.generate_seeds_semi_regular(\n",
    "    DoI = 0.,\n",
    "    row = 1,\n",
    "    domain_y = domain_y,\n",
    "    seeds_filename = seeds_filename)\n",
    "gen.generate_mesh_2D_rectangle_w_voronoi_inclusions(\n",
    "    mesh_filename = mesh_filebasename,\n",
    "    seeds_filename = seeds_filename,\n",
    "    h = thickness,\n",
    "    lcar = thickness/5,\n",
    "    domain_x = domain_x,\n",
    "    domain_y = domain_y,\n",
    "    shift_y = 0.,\n",
    "    remove_seeds = True)\n",
    "\n",
    "mesh = dolfin.Mesh()\n",
    "dolfin.XDMFFile(mesh_filebasename+\".xdmf\").read(mesh)\n",
    "\n",
    "\n",
    "dV = dolfin.Measure(\"dx\",domain=mesh)\n",
    "coord = mesh.coordinates()\n",
    "xmax = max(coord[:,0]); xmin = min(coord[:,0])\n",
    "ymax = max(coord[:,1]); ymin = min(coord[:,1])\n",
    "\n",
    "vol = (xmax - xmin)*(ymax - ymin)\n",
    "bbox = [xmin, xmax, ymin, ymax]"
   ]
  },
  {
   "cell_type": "code",
   "execution_count": null,
   "metadata": {},
   "outputs": [],
   "source": [
    "Es     = 1.  # (Pa)\n",
    "nus    = 0.499 # ()\n",
    "\n",
    "mat_params = {\"model\":\"CGNH\", \"parameters\":{\"E\":Es, \"nu\":nus}}"
   ]
  },
  {
   "attachments": {},
   "cell_type": "markdown",
   "metadata": {},
   "source": [
    "### Homogenized problem"
   ]
  },
  {
   "cell_type": "code",
   "execution_count": null,
   "metadata": {},
   "outputs": [],
   "source": [
    "homogenization_problem = dmech.HomogenizationProblem(\n",
    "        dim=2,\n",
    "        mesh=mesh,\n",
    "        mat_params=mat_params[\"parameters\"],\n",
    "        vol=vol,\n",
    "        bbox=bbox)\n",
    "mu_tilde, lmbda_tilde = homogenization_problem.get_lambda_and_mu()\n",
    "\n",
    "lmbda = sympy.Symbol('lambda') # lambda is a reserved keyword in python, it cannot be used as a name for a variable.\n",
    "mu    = sympy.Symbol('mu')\n",
    "\n",
    "subs_dict        = {}\n",
    "subs_dict[lmbda] = lmbda_tilde\n",
    "subs_dict[mu]    = mu_tilde"
   ]
  },
  {
   "attachments": {},
   "cell_type": "markdown",
   "metadata": {},
   "source": [
    "## Computing macroscopic model response"
   ]
  },
  {
   "attachments": {},
   "cell_type": "markdown",
   "metadata": {},
   "source": [
    "### Kinematics variables"
   ]
  },
  {
   "cell_type": "code",
   "execution_count": null,
   "metadata": {},
   "outputs": [],
   "source": [
    "# Cauchy-Green dilatation tensor\n",
    "C_var = sympy.MatrixSymbol('C', 2, 2).as_explicit()\n",
    "print (\"C_var:\"); C_var\n",
    "\n",
    "C_inv_var = sympy.Inverse(C_var)\n",
    "print (\"C_inv_var:\"); C_inv_var.doit()\n",
    "\n",
    "# Invariants\n",
    "I_C_var   = sympy.trace(C_var)\n",
    "III_C_var = sympy.det(C_var)\n",
    "J_var     = sympy.sqrt(III_C_var)\n",
    "print (  \"I_C:\"); I_C_var\n",
    "print (\"III_C:\"); III_C_var\n",
    "print (    \"J:\"); J_var"
   ]
  },
  {
   "attachments": {},
   "cell_type": "markdown",
   "metadata": {},
   "source": [
    "## Computing macroscopic model response"
   ]
  },
  {
   "attachments": {},
   "cell_type": "markdown",
   "metadata": {},
   "source": [
    "### Deviatoric deformation"
   ]
  },
  {
   "cell_type": "code",
   "execution_count": null,
   "metadata": {},
   "outputs": [],
   "source": [
    "# Deformation gradient\n",
    "# In principle we could define X and x and use tensor derivative, but that is a bit involved.\n",
    "beta = sympy.symbols('beta')\n",
    "F = sympy.Matrix(\n",
    "    [[beta, 0     ],\\\n",
    "     [0   , 1/beta]])\n",
    "print (\"F:\"); F\n",
    "\n",
    "# Determinant of deformation gradient (a.k.a. Jacobian)\n",
    "J = F.det()\n",
    "print (\"J:\"); J\n",
    "\n",
    "# Right Cauchy-Green dilatation tensor\n",
    "C = F.T * F\n",
    "print (\"C:\"); C\n",
    "\n",
    "C_inv = sympy.Inverse(C).doit()\n",
    "print (\"C_inv:\"); C_inv"
   ]
  },
  {
   "attachments": {},
   "cell_type": "markdown",
   "metadata": {},
   "source": [
    "#### Coupled model"
   ]
  },
  {
   "cell_type": "code",
   "execution_count": null,
   "metadata": {},
   "outputs": [],
   "source": [
    "p_f = sympy.symbols('p_f')\n",
    "\n",
    "# Neo-Hookean free energy potential\n",
    "W_c =   (lmbda/4) * (J_var**2 - 1 - 2 * sympy.ln(J_var)) \\\n",
    "      + (   mu/2) * (I_C_var  - 2 - 2 * sympy.ln(J_var))\n",
    "# print (\"W_c:\"); W_c\n",
    "print (\"W_c:\"); W_c.simplify()\n",
    "\n",
    "# Second Piola-Kirchhoff stress tensor\n",
    "Sigma_c = 2*sympy.diff(W_c, C_var) - p_f * J_var * C_var.inv()\n",
    "# print (\"Sigma_c:\"); Sigma_c\n",
    "# print (\"Sigma_c:\"); Sigma_c.doit()\n",
    "# print (\"Sigma_c:\"); Sigma_c.doit().as_explicit()\n",
    "\n",
    "p_c = - (sympy.trace(Sigma_c.T * C_var) + lmbda/2 * (J_var**2 - 1))/3/J_var\n",
    "# print (\"p_c:\"); p_c\n",
    "\n",
    "p_c_shear = p_c.subs(list(zip(C_var, C))).doit()\n",
    "print (\"p:\"); p_c_shear.simplify()"
   ]
  },
  {
   "attachments": {},
   "cell_type": "markdown",
   "metadata": {},
   "source": [
    "#### Decoupled model"
   ]
  },
  {
   "cell_type": "code",
   "execution_count": null,
   "metadata": {},
   "outputs": [],
   "source": [
    "K = lmbda + 2*mu/3\n",
    "G = mu\n",
    "\n",
    "# Neo-Hookean free energy potential\n",
    "W_d = (K/4) * (J_var**2 - 1 - 2 * sympy.ln(J_var)) \\\n",
    "    + (G/2) * (J_var**(-2/3)*(1+ I_C_var) - 3)\n",
    "print (\"W_d:\"); W_d.simplify()  \n",
    "\n",
    "# Second Piola-Kirchhoff stress tensor\n",
    "Sigma_d = 2*sympy.diff(W_d, C_var) - p_f * J_var * C_var.inv()\n",
    "# print (\"Sigma_d:\"); Sigma_d\n",
    "# print (\"Sigma_d:\"); Sigma_d.doit()\n",
    "# print (\"Sigma_d:\"); Sigma_d.doit().as_explicit()\n",
    "\n",
    "p_d = - (sympy.trace(Sigma_d.T * C_var) + J_var**(-2/3)*(1 - (sympy.Trace(C_var) + 1)/3)*G + K/2 * (J_var**2 - 1))/3/J_var\n",
    "# print (\"p_d:\"); p_d\n",
    "\n",
    "p_d_shear = p_d.subs(list(zip(C_var, C))).doit()\n",
    "print (\"p:\"); p_d_shear.simplify()"
   ]
  },
  {
   "cell_type": "code",
   "execution_count": null,
   "metadata": {},
   "outputs": [],
   "source": [
    "lam_c = sympy.lambdify(beta, p_c_shear.subs(subs_dict).subs(p_f, 0), modules=['numpy'])\n",
    "lam_d = sympy.lambdify(beta, p_d_shear.subs(subs_dict).subs(p_f, 0), modules=['numpy'])\n",
    "beta_vals = numpy.linspace(0, 2, 100)\n",
    "p_lst_macro_c = lam_c(beta_vals)\n",
    "p_lst_macro_d = lam_d(beta_vals)"
   ]
  },
  {
   "attachments": {},
   "cell_type": "markdown",
   "metadata": {},
   "source": [
    "## Computing microscopic model response"
   ]
  },
  {
   "attachments": {},
   "cell_type": "markdown",
   "metadata": {},
   "source": [
    "### Coupled model"
   ]
  },
  {
   "cell_type": "code",
   "execution_count": null,
   "metadata": {},
   "outputs": [],
   "source": [
    "qois_filename = \"Fig10-qois.dat\"\n",
    "res_basename = \"Fig10\"\n",
    "\n",
    "mat_params = {\"model\":\"CGNH\", \"parameters\":{\"E\":Es, \"nu\":nus}}\n",
    "\n",
    "load_params = {}\n",
    "\n",
    "pf = 0\n",
    "beta_lst = [x/10 for x in range(10, 21)]\n",
    "load_params[\"pf_lst\"] = [0 for pf_ in range(len(beta_lst))]\n",
    "load_params[\"sigma_bar_01_lst\"] = [0 for sigma_ in range(len(beta_lst))]\n",
    "load_params[\"sigma_bar_10_lst\"] = [0 for sigma_ in range(len(beta_lst))]\n",
    "\n",
    "load_params[\"U_bar_00_lst\"] = [beta_ - 1 for beta_ in beta_lst]\n",
    "load_params[\"U_bar_11_lst\"] = [1/beta_-1 for beta_ in beta_lst]\n",
    "\n",
    "dmech.run_HollowBox_MicroPoroHyperelasticity(\n",
    "    dim=2,\n",
    "    mesh=mesh,\n",
    "    mat_params=mat_params,\n",
    "    load_params=load_params,\n",
    "    step_params={\"n_steps\":len(beta_lst), \"Deltat\":1., \"dt_ini\":0.5, \"dt_min\":0.5, \"dt_max\":0.5},\n",
    "    res_basename=res_basename,\n",
    "    verbose=1\n",
    ")\n",
    "\n",
    "qois_vals = numpy.loadtxt(qois_filename)\n",
    "qois_name_list = open(qois_filename).readline().split()\n",
    "eps_lst = qois_vals[:, qois_name_list.index(\"U_bar_XX\") - 1]\n",
    "p_hydro_micro_c = qois_vals[:, qois_name_list.index(\"p_hydro\") - 1]\n",
    "beta_lst_mico_c = [eps_+1 for eps_ in eps_lst]"
   ]
  },
  {
   "attachments": {},
   "cell_type": "markdown",
   "metadata": {},
   "source": [
    "### Decoupled model"
   ]
  },
  {
   "cell_type": "code",
   "execution_count": null,
   "metadata": {},
   "outputs": [],
   "source": [
    "mat_params = {\"model\":\"CGNH_bar\", \"parameters\":{\"E\":Es, \"nu\":nus}}\n",
    "\n",
    "beta_lst = [x/10 for x in range(10, 21)]\n",
    "load_params[\"pf_lst\"] = [0 for pf_ in range(len(beta_lst))]\n",
    "load_params[\"sigma_bar_01_lst\"] = [0 for sigma_ in range(len(beta_lst))]\n",
    "load_params[\"sigma_bar_10_lst\"] = [0 for sigma_ in range(len(beta_lst))]\n",
    "\n",
    "load_params[\"U_bar_00_lst\"] = [beta_ - 1 for beta_ in beta_lst]\n",
    "load_params[\"U_bar_11_lst\"] = [1/beta_-1 for beta_ in beta_lst]\n",
    "\n",
    "dmech.run_HollowBox_MicroPoroHyperelasticity(\n",
    "    dim=2,\n",
    "    mesh=mesh,\n",
    "    mat_params=mat_params,\n",
    "    load_params=load_params,\n",
    "    step_params={\"n_steps\":len(beta_lst), \"Deltat\":1., \"dt_ini\":0.5, \"dt_min\":0.5, \"dt_max\":0.5},\n",
    "    res_basename=res_basename,\n",
    "    verbose=1)\n",
    "\n",
    "qois_vals = numpy.loadtxt(qois_filename)\n",
    "qois_name_list = open(qois_filename).readline().split()\n",
    "eps_lst = qois_vals[:, qois_name_list.index(\"U_bar_XX\") - 1]\n",
    "p_hydro_micro_d = qois_vals[:, qois_name_list.index(\"p_hydro\") - 1]\n",
    "beta_lst_mico_d = [eps_+1 for eps_ in eps_lst]"
   ]
  },
  {
   "cell_type": "code",
   "execution_count": null,
   "metadata": {},
   "outputs": [],
   "source": [
    "plt.figure()\n",
    "plt.rc('xtick', labelsize=14)\n",
    "plt.rc('ytick', labelsize=14)\n",
    "plt.rc('legend', fontsize=12)\n",
    "plt.xlabel(r'$\\beta$', fontsize=16)\n",
    "plt.ylabel(r'$p_{hydro}~(kPa)$', fontsize=16)\n",
    "\n",
    "plt.plot(beta_lst_mico_c, p_hydro_micro_c, '#084594')\n",
    "plt.plot(beta_lst_mico_d, p_hydro_micro_d, '#084594', linestyle='dashed')\n",
    "\n",
    "plt.plot(beta_vals, p_lst_macro_c, '#99000D')\n",
    "plt.plot(beta_vals, p_lst_macro_d, '#99000D', linestyle='dashed')\n",
    "\n",
    "plt.legend(['Microscopic model ' r'$\\tilde{p}_{hydro}$'' - coupled', 'Microscopic model ' r'$\\tilde{p}_{hydro}$'' - decoupled', 'Macroscopic model ' r'$\\bar{p}_{hydro}$'' - coupled', 'Macroscopic model ' r'$\\bar{p}_{hydro}$'' - decoupled'])\n",
    "plt.xlim(1, 2)\n",
    "plt.ylim(-0.1, 0.01)\n",
    "\n",
    "plt.show()\n",
    "# plt.savefig('p_hydro.pdf',bbox_inches='tight')"
   ]
  }
 ],
 "metadata": {
  "kernelspec": {
   "display_name": "Python 3.8.12 ('MEC552-2022')",
   "language": "python",
   "name": "python3"
  },
  "language_info": {
   "codemirror_mode": {
    "name": "ipython",
    "version": 3
   },
   "file_extension": ".py",
   "mimetype": "text/x-python",
   "name": "python",
   "nbconvert_exporter": "python",
   "pygments_lexer": "ipython3",
   "version": "3.8.12"
  },
  "latex_envs": {
   "LaTeX_envs_menu_present": false,
   "autoclose": false,
   "autocomplete": false,
   "bibliofile": "biblio.bib",
   "cite_by": "apalike",
   "current_citInitial": 1,
   "eqLabelWithNumbers": true,
   "eqNumInitial": 1,
   "hotkeys": {
    "equation": "Ctrl-E",
    "itemize": "Ctrl-I"
   },
   "labels_anchors": false,
   "latex_user_defs": true,
   "report_style_numbering": false,
   "user_envs_cfg": false
  },
  "toc": {
   "base_numbering": 1,
   "nav_menu": {},
   "number_sections": true,
   "sideBar": true,
   "skip_h1_title": true,
   "title_cell": "Table of Contents",
   "title_sidebar": "Contents",
   "toc_cell": false,
   "toc_position": {
    "height": "calc(100% - 180px)",
    "left": "10px",
    "top": "150px",
    "width": "282.3px"
   },
   "toc_section_display": true,
   "toc_window_display": true
  },
  "varInspector": {
   "cols": {
    "lenName": 16,
    "lenType": 16,
    "lenVar": 40
   },
   "kernels_config": {
    "python": {
     "delete_cmd_postfix": "",
     "delete_cmd_prefix": "del ",
     "library": "var_list.py",
     "varRefreshCmd": "print(var_dic_list())"
    },
    "r": {
     "delete_cmd_postfix": ") ",
     "delete_cmd_prefix": "rm(",
     "library": "var_list.r",
     "varRefreshCmd": "cat(var_dic_list()) "
    }
   },
   "position": {
    "height": "694.85px",
    "left": "1390px",
    "right": "20px",
    "top": "120px",
    "width": "350px"
   },
   "types_to_exclude": [
    "module",
    "function",
    "builtin_function_or_method",
    "instance",
    "_Feature"
   ],
   "window_display": false
  },
  "vscode": {
   "interpreter": {
    "hash": "d5544391dcf8d354480eed96f74faad9ec85893e1ba6109cc27b561319f9baf1"
   }
  }
 },
 "nbformat": 4,
 "nbformat_minor": 4
}
