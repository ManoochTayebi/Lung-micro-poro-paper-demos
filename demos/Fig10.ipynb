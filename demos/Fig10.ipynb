{
 "cells": [
  {
   "attachments": {},
   "cell_type": "markdown",
   "metadata": {},
   "source": [
    "# Figure 10"
   ]
  },
  {
   "attachments": {},
   "cell_type": "markdown",
   "metadata": {},
   "source": [
    "## Imports"
   ]
  },
  {
   "cell_type": "code",
   "execution_count": null,
   "metadata": {},
   "outputs": [],
   "source": [
    "import dolfin\n",
    "import matplotlib.pyplot as plt\n",
    "import numpy\n",
    "import sympy\n",
    "\n",
    "import dolfin_mech                    as dmech\n",
    "import micro_poro_structure_generator as gen"
   ]
  },
  {
   "attachments": {},
   "cell_type": "markdown",
   "metadata": {},
   "source": [
    "## Parameters"
   ]
  },
  {
   "attachments": {},
   "cell_type": "markdown",
   "metadata": {},
   "source": [
    "### Geometry"
   ]
  },
  {
   "cell_type": "code",
   "execution_count": null,
   "metadata": {},
   "outputs": [],
   "source": [
    "seeds_filename = \"Fig10-seeds.dat\"\n",
    "mesh_filebasename = \"Fig10-mesh\"\n",
    "\n",
    "domain_y = 1.\n",
    "domain_x = domain_y * numpy.sqrt(3)/1.5/2\n",
    "thickness = 0.092\n",
    "\n",
    "gen.generate_seeds_semi_regular(\n",
    "    DoI=0.,\n",
    "    row=1,\n",
    "    domain_y=domain_y,\n",
    "    seeds_filename=seeds_filename)\n",
    "gen.generate_mesh_2D_rectangle_w_voronoi_inclusions(\n",
    "    mesh_filename=mesh_filebasename,\n",
    "    seeds_filename=seeds_filename,\n",
    "    h=thickness,\n",
    "    lcar=thickness/5,\n",
    "    domain_x=domain_x,\n",
    "    domain_y=domain_y,\n",
    "    shift_y=0.,\n",
    "    remove_seeds=True)\n",
    "\n",
    "mesh = dolfin.Mesh()\n",
    "dolfin.XDMFFile(mesh_filebasename+\".xdmf\").read(mesh)\n",
    "\n",
    "coord = mesh.coordinates()\n",
    "xmax = max(coord[:,0]); xmin = min(coord[:,0])\n",
    "ymax = max(coord[:,1]); ymin = min(coord[:,1])\n",
    "\n",
    "V0 = (xmax-xmin) * (ymax-ymin)\n",
    "bbox = [xmin, xmax, ymin, ymax]"
   ]
  },
  {
   "attachments": {},
   "cell_type": "markdown",
   "metadata": {},
   "source": [
    "### Solid material parameters"
   ]
  },
  {
   "cell_type": "code",
   "execution_count": null,
   "metadata": {},
   "outputs": [],
   "source": [
    "Es  = 1.\n",
    "nus = 0.49\n",
    "mat_params_c = {\"model\":\"CGNH\"    , \"parameters\":{\"E\":Es, \"nu\":nus}}\n",
    "mat_params_d = {\"model\":\"CGNH_bar\", \"parameters\":{\"E\":Es, \"nu\":nus}}"
   ]
  },
  {
   "cell_type": "markdown",
   "metadata": {},
   "source": [
    "### Loading"
   ]
  },
  {
   "cell_type": "code",
   "execution_count": null,
   "metadata": {},
   "outputs": [],
   "source": [
    "beta_min = 1.\n",
    "beta_max = 2.\n",
    "n_steps = 10\n",
    "beta_lst = numpy.linspace(beta_min, beta_max, n_steps)"
   ]
  },
  {
   "attachments": {},
   "cell_type": "markdown",
   "metadata": {},
   "source": [
    "## Symbolic expression of the macroscopic model response"
   ]
  },
  {
   "attachments": {},
   "cell_type": "markdown",
   "metadata": {},
   "source": [
    "### Symbolic variables"
   ]
  },
  {
   "cell_type": "code",
   "execution_count": null,
   "metadata": {},
   "outputs": [],
   "source": [
    "lmbda_macro, mu_macro = sympy.symbols('lambda, mu')\n",
    "\n",
    "K_macro = lmbda_macro + 2*mu_macro/3\n",
    "G_macro = mu_macro\n",
    "\n",
    "C_macro = sympy.MatrixSymbol('C', 2, 2).as_explicit()\n",
    "I_C_macro = sympy.trace(C_macro)\n",
    "III_C_macro = sympy.det(C_macro)\n",
    "J_macro = sympy.sqrt(III_C_macro)\n",
    "\n",
    "pf = sympy.symbols('p_f')"
   ]
  },
  {
   "attachments": {},
   "cell_type": "markdown",
   "metadata": {},
   "source": [
    "### Coupled model expression"
   ]
  },
  {
   "cell_type": "code",
   "execution_count": null,
   "metadata": {},
   "outputs": [],
   "source": [
    "W_c  = (lmbda_macro/4) * (J_macro**2 - 1 - 2*sympy.ln(J_macro))\n",
    "W_c += (mu_macro/2) * (I_C_macro - 2 - 2*sympy.ln(J_macro))\n",
    "\n",
    "Sigma_macro_c  = 2*sympy.diff(W_c, C_macro)\n",
    "Sigma_macro_c -= pf * J_macro * C_macro.inv()\n",
    "\n",
    "p_hydro_macro_c = - (sympy.trace(Sigma_macro_c.T * C_macro) + lmbda_macro/2 * (J_macro**2 - 1))/3/J_macro"
   ]
  },
  {
   "attachments": {},
   "cell_type": "markdown",
   "metadata": {},
   "source": [
    "### Decoupled model expression"
   ]
  },
  {
   "cell_type": "code",
   "execution_count": null,
   "metadata": {},
   "outputs": [],
   "source": [
    "W_d  = (K_macro/4) * (J_macro**2 - 1 - 2*sympy.ln(J_macro))\n",
    "W_d += (G_macro/2) * (J_macro**(-2/3) * (1+ I_C_macro) - 3)\n",
    "\n",
    "Sigma_macro_d  = 2*sympy.diff(W_d, C_macro)\n",
    "Sigma_macro_d -= pf * J_macro * C_macro.inv()\n",
    "\n",
    "p_hydro_macro_d = - (sympy.trace(Sigma_macro_d.T * C_macro) + G_macro * J_macro**(-2/3) * (1 - (sympy.trace(C_macro) + 1)/3) + (K_macro/2) * (J_macro**2 - 1))/3/J_macro"
   ]
  },
  {
   "attachments": {},
   "cell_type": "markdown",
   "metadata": {},
   "source": [
    "## Computing macroscopic model response"
   ]
  },
  {
   "cell_type": "code",
   "execution_count": null,
   "metadata": {},
   "outputs": [],
   "source": [
    "beta = sympy.symbols('beta')\n",
    "F = sympy.Matrix(\n",
    "    [[beta, 0     ],\\\n",
    "     [0   , 1/beta]])\n",
    "J = F.det()\n",
    "C = F.T * F\n",
    "\n",
    "p_hydro_macro_c = p_hydro_macro_c.subs(list(zip(C_macro, C))).subs(pf, 0.) # list & zip should not be needed, cf. https://github.com/sympy/sympy/issues/10589\n",
    "\n",
    "p_hydro_macro_d = p_hydro_macro_d.subs(list(zip(C_macro, C))).subs(pf, 0.) # list & zip should not be needed, cf. https://github.com/sympy/sympy/issues/10589"
   ]
  },
  {
   "cell_type": "code",
   "execution_count": null,
   "metadata": {},
   "outputs": [],
   "source": [
    "homogenization_problem = dmech.HomogenizationProblem(\n",
    "    dim=2,\n",
    "    mesh=mesh,\n",
    "    mat_params=mat_params_c[\"parameters\"],\n",
    "    vol=V0,\n",
    "    bbox=bbox)\n",
    "lmbda_tilde, mu_tilde = homogenization_problem.get_lambda_and_mu()\n",
    "\n",
    "p_hydro_macro_c = p_hydro_macro_c.subs(lmbda_macro, lmbda_tilde).subs(mu_macro, mu_tilde)\n",
    "p_hydro_macro_d = p_hydro_macro_d.subs(lmbda_macro, lmbda_tilde).subs(mu_macro, mu_tilde)"
   ]
  },
  {
   "cell_type": "code",
   "execution_count": null,
   "metadata": {},
   "outputs": [],
   "source": [
    "beta_macro_vals = numpy.linspace(beta_min, beta_max, 100)\n",
    "\n",
    "p_hydro_macro_c_ = sympy.lambdify(beta, p_hydro_macro_c, modules=['numpy'])\n",
    "p_hydro_macro_c_vals = p_hydro_macro_c_(beta_macro_vals)\n",
    "\n",
    "p_hydro_macro_d_ = sympy.lambdify(beta, p_hydro_macro_d, modules=['numpy'])\n",
    "p_hydro_macro_d_vals = p_hydro_macro_d_(beta_macro_vals)"
   ]
  },
  {
   "attachments": {},
   "cell_type": "markdown",
   "metadata": {},
   "source": [
    "## Computing microscopic model response"
   ]
  },
  {
   "cell_type": "code",
   "execution_count": null,
   "metadata": {},
   "outputs": [],
   "source": [
    "load_params = {}\n",
    "load_params[\"pf_lst\"] = [0.]*len(beta_lst)\n",
    "load_params[\"U_bar_00_lst\"] = [float(beta - 1) for beta in beta_lst]\n",
    "load_params[\"sigma_bar_01_lst\"] = [0.]*len(beta_lst)\n",
    "load_params[\"sigma_bar_10_lst\"] = [0.]*len(beta_lst)\n",
    "load_params[\"U_bar_11_lst\"] = [float(1./beta-1.) for beta in beta_lst]\n",
    "\n",
    "step_params = {}\n",
    "step_params[\"n_steps\"] = n_steps\n",
    "step_params[\"Deltat\"] = 1.\n",
    "step_params[\"dt_ini\"] = 0.1\n",
    "step_params[\"dt_min\"] = 0.01\n",
    "step_params[\"dt_max\"] = 0.1"
   ]
  },
  {
   "attachments": {},
   "cell_type": "markdown",
   "metadata": {},
   "source": [
    "### Coupled model"
   ]
  },
  {
   "cell_type": "code",
   "execution_count": null,
   "metadata": {},
   "outputs": [],
   "source": [
    "res_basename = \"Fig10\"\n",
    "qois_filename = res_basename+\"-qois.dat\"\n",
    "\n",
    "dmech.run_HollowBox_MicroPoroHyperelasticity(\n",
    "    dim=2,\n",
    "    mesh=mesh,\n",
    "    mat_params=mat_params_c,\n",
    "    load_params=load_params,\n",
    "    step_params=step_params,\n",
    "    res_basename=res_basename,\n",
    "    verbose=1,\n",
    "    write_qois_limited_precision=False)\n",
    "\n",
    "qois_vals = numpy.loadtxt(qois_filename)\n",
    "qois_name_list = open(qois_filename).readline().split()[1:]\n",
    "eps_lst = qois_vals[:, qois_name_list.index(\"U_bar_XX\")]\n",
    "beta_micro_c_vals = eps_lst+1\n",
    "p_hydro_micro_c_vals = qois_vals[:, qois_name_list.index(\"p_hydro\")]"
   ]
  },
  {
   "attachments": {},
   "cell_type": "markdown",
   "metadata": {},
   "source": [
    "### Decoupled model"
   ]
  },
  {
   "cell_type": "code",
   "execution_count": null,
   "metadata": {},
   "outputs": [],
   "source": [
    "res_basename = \"Fig10\"\n",
    "qois_filename = res_basename+\"-qois.dat\"\n",
    "\n",
    "dmech.run_HollowBox_MicroPoroHyperelasticity(\n",
    "    dim=2,\n",
    "    mesh=mesh,\n",
    "    mat_params=mat_params_d,\n",
    "    load_params=load_params,\n",
    "    step_params=step_params,\n",
    "    res_basename=res_basename,\n",
    "    verbose=1,\n",
    "    write_qois_limited_precision=False)\n",
    "\n",
    "qois_vals = numpy.loadtxt(qois_filename)\n",
    "qois_name_list = open(qois_filename).readline().split()[1:]\n",
    "eps_lst = qois_vals[:, qois_name_list.index(\"U_bar_XX\")]\n",
    "beta_micro_d_vals = eps_lst+1\n",
    "p_hydro_micro_d_vals = qois_vals[:, qois_name_list.index(\"p_hydro\")]"
   ]
  },
  {
   "attachments": {},
   "cell_type": "markdown",
   "metadata": {},
   "source": [
    "## Generating plot"
   ]
  },
  {
   "cell_type": "code",
   "execution_count": null,
   "metadata": {},
   "outputs": [],
   "source": [
    "plt.figure()\n",
    "\n",
    "plt.rc('xtick', labelsize=14)\n",
    "plt.rc('ytick', labelsize=14)\n",
    "plt.rc('legend', fontsize=12)\n",
    "\n",
    "plt.xlabel(r'$\\beta$', fontsize=16)\n",
    "plt.ylabel(r'$p_{hydro}~(kPa)$', fontsize=16)\n",
    "\n",
    "plt.plot(beta_micro_c_vals, p_hydro_micro_c_vals, '#084594'                    )\n",
    "plt.plot(beta_micro_d_vals, p_hydro_micro_d_vals, '#084594', linestyle='dashed')\n",
    "\n",
    "plt.plot(beta_macro_vals, p_hydro_macro_c_vals, '#99000D'                    )\n",
    "plt.plot(beta_macro_vals, p_hydro_macro_d_vals, '#99000D', linestyle='dashed')\n",
    "\n",
    "plt.legend(['Microscopic model ' r'$\\tilde{p}_{hydro}$'' - coupled', 'Microscopic model ' r'$\\tilde{p}_{hydro}$'' - decoupled', 'Macroscopic model ' r'$\\bar{p}_{hydro}$'' - coupled', 'Macroscopic model ' r'$\\bar{p}_{hydro}$'' - decoupled'])\n",
    "\n",
    "plt.xlim(beta_min, beta_max)\n",
    "plt.ylim(-0.1, +0.01)\n",
    "\n",
    "plt.show()\n",
    "plt.savefig('Fig10-p_hydro.pdf', bbox_inches='tight')"
   ]
  }
 ],
 "metadata": {
  "kernelspec": {
   "display_name": "Python 3.8.12 ('MEC552-2022')",
   "language": "python",
   "name": "python3"
  },
  "language_info": {
   "codemirror_mode": {
    "name": "ipython",
    "version": 3
   },
   "file_extension": ".py",
   "mimetype": "text/x-python",
   "name": "python",
   "nbconvert_exporter": "python",
   "pygments_lexer": "ipython3",
   "version": "3.11.6"
  },
  "latex_envs": {
   "LaTeX_envs_menu_present": false,
   "autoclose": false,
   "autocomplete": false,
   "bibliofile": "biblio.bib",
   "cite_by": "apalike",
   "current_citInitial": 1,
   "eqLabelWithNumbers": true,
   "eqNumInitial": 1,
   "hotkeys": {
    "equation": "Ctrl-E",
    "itemize": "Ctrl-I"
   },
   "labels_anchors": false,
   "latex_user_defs": true,
   "report_style_numbering": false,
   "user_envs_cfg": false
  },
  "toc": {
   "base_numbering": 1,
   "nav_menu": {},
   "number_sections": true,
   "sideBar": true,
   "skip_h1_title": true,
   "title_cell": "Table of Contents",
   "title_sidebar": "Contents",
   "toc_cell": false,
   "toc_position": {
    "height": "calc(100% - 180px)",
    "left": "10px",
    "top": "150px",
    "width": "282.3px"
   },
   "toc_section_display": true,
   "toc_window_display": true
  },
  "varInspector": {
   "cols": {
    "lenName": 16,
    "lenType": 16,
    "lenVar": 40
   },
   "kernels_config": {
    "python": {
     "delete_cmd_postfix": "",
     "delete_cmd_prefix": "del ",
     "library": "var_list.py",
     "varRefreshCmd": "print(var_dic_list())"
    },
    "r": {
     "delete_cmd_postfix": ") ",
     "delete_cmd_prefix": "rm(",
     "library": "var_list.r",
     "varRefreshCmd": "cat(var_dic_list()) "
    }
   },
   "position": {
    "height": "694.85px",
    "left": "1390px",
    "right": "20px",
    "top": "120px",
    "width": "350px"
   },
   "types_to_exclude": [
    "module",
    "function",
    "builtin_function_or_method",
    "instance",
    "_Feature"
   ],
   "window_display": false
  },
  "vscode": {
   "interpreter": {
    "hash": "d5544391dcf8d354480eed96f74faad9ec85893e1ba6109cc27b561319f9baf1"
   }
  }
 },
 "nbformat": 4,
 "nbformat_minor": 4
}
