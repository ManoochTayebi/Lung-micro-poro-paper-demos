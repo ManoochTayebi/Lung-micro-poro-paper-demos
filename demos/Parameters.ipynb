{
 "cells": [
  {
   "cell_type": "markdown",
   "metadata": {},
   "source": [
    "# Parameters"
   ]
  },
  {
   "cell_type": "markdown",
   "metadata": {},
   "source": [
    "## Imports"
   ]
  },
  {
   "cell_type": "code",
   "execution_count": 86,
   "metadata": {},
   "outputs": [
    {
     "name": "stdout",
     "output_type": "stream",
     "text": [
      "The autoreload extension is already loaded. To reload it, use:\n",
      "  %reload_ext autoreload\n"
     ]
    }
   ],
   "source": [
    "%load_ext autoreload\n",
    "%autoreload 2\n",
    "\n",
    "import dolfin\n",
    "import numpy\n",
    "import math\n",
    "import dolfin_mech     as dmech\n",
    "import micro_poro_structure_generator as gen"
   ]
  },
  {
   "cell_type": "markdown",
   "metadata": {},
   "source": [
    "## Defining geometry"
   ]
  },
  {
   "cell_type": "code",
   "execution_count": 87,
   "metadata": {},
   "outputs": [
    {
     "name": "stdout",
     "output_type": "stream",
     "text": [
      "[[0.02309401 0.02      ]\n",
      " [0.         0.06      ]\n",
      " [0.06928203 0.02      ]\n",
      " [0.04618802 0.06      ]]\n",
      "Info    : Clearing all models and views...\n",
      "Info    : Done clearing all models and views\n",
      "Info    : Meshing 1D...\n",
      "Info    : [  0%] Meshing curve 122 (Line)\n",
      "Info    : [ 10%] Meshing curve 123 (Line)\n",
      "Info    : [ 10%] Meshing curve 124 (Line)\n",
      "Info    : [ 20%] Meshing curve 148 (Line)\n",
      "Info    : [ 20%] Meshing curve 149 (Line)\n",
      "Info    : [ 30%] Meshing curve 150 (Line)\n",
      "Info    : [ 30%] Meshing curve 151 (Line)\n",
      "Info    : [ 30%] Meshing curve 152 (Line)\n",
      "Info    : [ 40%] Meshing curve 153 (Line)\n",
      "Info    : [ 40%] Meshing curve 154 (Line)\n",
      "Info    : [ 50%] Meshing curve 155 (Line)\n",
      "Info    : [ 50%] Meshing curve 156 (Line)\n",
      "Info    : [ 50%] Meshing curve 157 (Line)\n",
      "Info    : [ 60%] Meshing curve 158 (Line)\n",
      "Info    : [ 60%] Meshing curve 159 (Line)\n",
      "Info    : [ 70%] Meshing curve 160 (Line)\n",
      "Info    : [ 70%] Meshing curve 161 (Line)\n",
      "Info    : [ 80%] Meshing curve 162 (Line)\n",
      "Info    : [ 80%] Meshing curve 163 (Line)\n",
      "Info    : [ 80%] Meshing curve 164 (Line)\n",
      "Info    : [ 90%] Meshing curve 165 (Line)\n",
      "Info    : [ 90%] Meshing curve 166 (Line)\n",
      "Info    : [100%] Meshing curve 167 (Line)\n",
      "Info    : [100%] Meshing curve 168 (Line)\n",
      "Info    : Done meshing 1D (Wall 0.00249082s, CPU 0.002305s)\n",
      "Info    : Meshing 2D...\n",
      "Info    : Meshing surface 4000000 (Plane, Frontal-Delaunay)\n",
      "Info    : Done meshing 2D (Wall 0.0152029s, CPU 0.014866s)\n",
      "Info    : Meshing 3D...\n",
      "Info    : Done meshing 3D (Wall 9.406e-06s, CPU 9e-06s)\n",
      "Info    : 774 nodes 1348 elements\n",
      "Info    : Writing 'ch4-mesh.msh'...\n",
      "Info    : Done writing 'ch4-mesh.msh'\n",
      "Info    : Writing 'ch4-mesh.vtk'...\n",
      "Info    : Done writing 'ch4-mesh.vtk'\n"
     ]
    },
    {
     "name": "stderr",
     "output_type": "stream",
     "text": [
      "/Users/tayebi/miniconda3/envs/all/lib/python3.8/site-packages/micro_poro_structure_generator/generate_mesh_2D_rectangle_w_voronoi_inclusions.py:44: RuntimeWarning: divide by zero encountered in double_scalars\n",
      "  m = (Q[1] - P[1])/(Q[0] - P[0])\n",
      "/Users/tayebi/miniconda3/envs/all/lib/python3.8/site-packages/micro_poro_structure_generator/generate_mesh_2D_rectangle_w_voronoi_inclusions.py:61: RuntimeWarning: invalid value encountered in double_scalars\n",
      "  x = (c2 - c1)/(m1 - m2)\n",
      "/Users/tayebi/miniconda3/envs/all/lib/python3.8/site-packages/micro_poro_structure_generator/generate_mesh_2D_rectangle_w_voronoi_inclusions.py:62: RuntimeWarning: invalid value encountered in double_scalars\n",
      "  y = (m2*c1 - m1*c2)/(m2 - m1)\n",
      "/Users/tayebi/miniconda3/envs/all/lib/python3.8/site-packages/micro_poro_structure_generator/generate_mesh_2D_rectangle_w_voronoi_inclusions.py:45: RuntimeWarning: invalid value encountered in double_scalars\n",
      "  c = P[1] - m * P[0]\n"
     ]
    },
    {
     "name": "stdout",
     "output_type": "stream",
     "text": [
      "Info    : Running '/Users/tayebi/miniconda3/envs/all/bin/gmsh -2 -o ch4-mesh.msh -format msh22 ch4-mesh.msh' [Gmsh 4.9.0, 1 node, max. 1 thread]\n",
      "Info    : Started on Mon May 20 21:52:21 2024\n",
      "Info    : Reading 'ch4-mesh.msh'...\n",
      "Info    : 55 entities\n",
      "Info    : 550 nodes\n",
      "Info    : 916 elements\n",
      "Info    : Done reading 'ch4-mesh.msh'\n",
      "Info    : Meshing 1D...\n",
      "Info    : Done meshing 1D (Wall 5.1554e-05s, CPU 0.000245s)\n",
      "Info    : Meshing 2D...\n",
      "Info    : Done meshing 2D (Wall 2.891e-05s, CPU 0.00012s)\n",
      "Info    : 562 nodes 946 elements\n",
      "Info    : Writing 'ch4-mesh.msh'...\n",
      "Info    : Done writing 'ch4-mesh.msh'\n",
      "Info    : Stopped on Mon May 20 21:52:21 2024 (From start: Wall 0.00774503s, CPU 0.267339s)\n",
      "Converting from Gmsh format (.msh, .gmsh) to DOLFIN XML format\n",
      "Expecting 550 vertices\n",
      "Found all vertices\n",
      "Expecting 916 cells\n",
      "Found all cells\n",
      "Conversion done\n",
      "Phis0=0.37249219381653026\n",
      "Phif0=0.6275078061834698\n"
     ]
    }
   ],
   "source": [
    "seeds_filename = \"ch4.dat\"\n",
    "mesh_filebasename = \"ch4-mesh\"\n",
    "\n",
    "domain_y = 0.1 * 0.8\n",
    "domain_x = domain_y * numpy.sqrt(3)/1.5/2\n",
    "thickness = 0.012 * 0.8\n",
    "\n",
    "gen.generate_seeds_semi_regular(\n",
    "    DoI = 0.,\n",
    "    row = 1,\n",
    "    domain_y = domain_y,\n",
    "    seeds_filename = seeds_filename)\n",
    "gen.generate_mesh_2D_rectangle_w_voronoi_inclusions(\n",
    "    mesh_filename = mesh_filebasename,\n",
    "    seeds_filename = seeds_filename,\n",
    "    h = thickness,\n",
    "    lcar = thickness/5,\n",
    "    domain_x = domain_x,\n",
    "    domain_y = domain_y,\n",
    "    shift_y = - 0.023 * 0.8,\n",
    "    remove_seeds = True)\n",
    "\n",
    "mesh = dolfin.Mesh()\n",
    "dolfin.XDMFFile(mesh_filebasename+\".xdmf\").read(mesh)\n",
    "dV = dolfin.Measure(\"dx\",domain=mesh)\n",
    "\n",
    "coord = mesh.coordinates()\n",
    "xmax = max(coord[:,0]); xmin = min(coord[:,0])\n",
    "ymax = max(coord[:,1]); ymin = min(coord[:,1])\n",
    "\n",
    "V = (xmax - xmin)*(ymax - ymin)\n",
    "VS0 = dolfin.assemble(dolfin.Constant(1) * dV)\n",
    "Vf0 = V - VS0"
   ]
  },
  {
   "cell_type": "code",
   "execution_count": 88,
   "metadata": {},
   "outputs": [],
   "source": [
    "mesh = dolfin.Mesh()\n",
    "dolfin.XDMFFile(mesh_filebasename+\".xdmf\").read(mesh)\n",
    "dV = dolfin.Measure(\"dx\",domain=mesh)\n",
    "\n",
    "coord = mesh.coordinates()\n",
    "xmax = max(coord[:,0]); xmin = min(coord[:,0])\n",
    "ymax = max(coord[:,1]); ymin = min(coord[:,1])\n",
    "\n",
    "V = (xmax - xmin)*(ymax - ymin)\n",
    "VS0 = dolfin.assemble(dolfin.Constant(1) * dV)\n",
    "Vf0 = V - VS0"
   ]
  },
  {
   "cell_type": "markdown",
   "metadata": {},
   "source": [
    "## Loading "
   ]
  },
  {
   "cell_type": "code",
   "execution_count": 89,
   "metadata": {},
   "outputs": [],
   "source": [
    "qois_filename = \"Fig5-qois.dat\"\n",
    "res_basename = \"Fig5\"\n",
    "\n",
    "pf= 1\n",
    "load_params = {}\n",
    "load_params[\"pf\"] = pf\n",
    "load_params[\"sigma_bar_00\"] = 0.0\n",
    "load_params[\"sigma_bar_11\"] = 0.0\n",
    "load_params[\"sigma_bar_01\"] = 0.0\n",
    "load_params[\"sigma_bar_10\"] = 0.0\n",
    "load_params[\"gamma\"] = 15e-3"
   ]
  },
  {
   "cell_type": "markdown",
   "metadata": {},
   "source": [
    "## Identifier function"
   ]
  },
  {
   "cell_type": "code",
   "execution_count": 90,
   "metadata": {},
   "outputs": [
    {
     "name": "stdout",
     "output_type": "stream",
     "text": [
      "[0.12414156917794349, 0.011853212744289299, 0.6282749906141952, 3.124581670582977]\n"
     ]
    },
    {
     "name": "stderr",
     "output_type": "stream",
     "text": [
      "/Users/tayebi/miniconda3/envs/all/lib/python3.8/site-packages/ufl/exproperators.py:336: FutureWarning: elementwise comparison failed; returning scalar instead, but in the future will perform elementwise comparison\n",
      "  if arg in (\"+\", \"-\"):\n"
     ]
    }
   ],
   "source": [
    "params_dimless = [0, 0,  0, 0]\n",
    "params_initial = [0.12414156917794349, 0.011853212744289299, 0.6282749906141952, 3.124581670582977] \n",
    "\n",
    "par = [params_initial[0]*(1 + params_dimless[0]), params_initial[1]*(1 + params_dimless[1]), params_initial[2]*(1 + params_dimless[2]), params_initial[3]*(1 + params_dimless[3])]\n",
    "print(par)\n",
    "# graph_printer(smith_gamma_0_inf, par)\n",
    "\n",
    "mat_params = {\"model\":\"exponential\", \"parameters\":{\"beta1\":par[0], \"beta2\":par[1], \"beta3\":par[2], \"alpha\":par[3]}} \n",
    "\n",
    "\n",
    "problem = dmech.run_HollowBox_MicroPoroHyperelasticity(\n",
    "    dim=2,\n",
    "    mesh=mesh,\n",
    "    mat_params=mat_params,\n",
    "    load_params=load_params,\n",
    "    step_params={\"Deltat\":1., \"dt_ini\":0.1, \"dt_min\":0.005, \"dt_max\":0.1},\n",
    "    res_basename=res_basename,\n",
    "    write_qois_limited_precision=False,\n",
    "    verbose=1\n",
    ")"
   ]
  },
  {
   "cell_type": "code",
   "execution_count": 91,
   "metadata": {},
   "outputs": [],
   "source": [
    "for operator in problem.operators: \n",
    "    if hasattr(operator, \"material\"):\n",
    "        material = operator.material\n",
    "        break"
   ]
  },
  {
   "cell_type": "code",
   "execution_count": 92,
   "metadata": {},
   "outputs": [
    {
     "name": "stdout",
     "output_type": "stream",
     "text": [
      "U_bar_x:0.8260069081700966\n",
      "U_bar_y:0.8223172162106626\n",
      "U_bar_xy:-3.420909611788229e-05\n",
      "J: 3.327563824507707\n",
      "S:0.5351935324045042\n",
      "S*: 2.111306631497334\n",
      "IC: 6.655141265182694\n",
      "IC_bar: 2.0000040919327167\n",
      "v: 0.012295487166881192\n",
      "Vs0: 0.001376374197574452\n",
      "vs: 0.001432301203101195\n",
      "Phi_s 0.3876278836739528\n",
      "v - vs:0.010863185963779998\n",
      "vf:0.010863185963779998\n",
      "porosity:0.6275078061834698\n",
      "sigma_tot_xx: -0.32671901207968024\n",
      "sigma_tot_xy: -9.486765889047053e-06\n",
      "sigma_tot_yx: -9.486765889043267e-06\n",
      "sigma_tot_yy: -0.32619557984399394\n",
      "sigma_s_xx: 0.5567909958068553\n",
      "sigma_s_xy: -9.486765889047053e-06\n",
      "sigma_s_xy: -9.486765889043267e-06\n",
      "sigma_s_yy: 0.5573144280425415\n",
      "sigma_f_xx: -0.8835100078865354\n",
      "sigma_f_xy: 0\n",
      "sigma_f_xy: 0\n",
      "sigma_f_yy: -0.8835100078865354\n",
      "added fluid mass density: 2.312428134650285\n",
      "deformed porosity: 0.8835100078865354\n",
      "deformed surface: 0.36947370795980056\n"
     ]
    }
   ],
   "source": [
    "# Macroscopic strain\n",
    "print(\"U_bar_x:\" +str(problem.get_macroscopic_stretch_subsol().func.vector().get_local()[0]))\n",
    "print(\"U_bar_y:\" +str(problem.get_macroscopic_stretch_subsol().func.vector().get_local()[3]))\n",
    "print(\"U_bar_xy:\" +str(problem.get_macroscopic_stretch_subsol().func.vector().get_local()[1]))\n",
    "\n",
    "# Kinematics\n",
    "U_bar = problem.get_macroscopic_stretch_subsol().func.vector().get_local().reshape((2,2))\n",
    "F_bar = U_bar + numpy.eye(2)\n",
    "C_bar = F_bar.T * F_bar\n",
    "E_bar = 0.5*(C_bar - numpy.eye(2))\n",
    "J_bar = numpy.linalg.det(F_bar)\n",
    "FmTN = dolfin.dot(dolfin.inv(problem.kinematics.F).T, problem.mesh_normals)\n",
    "\n",
    "print(\"J: \"+str(J_bar))\n",
    "\n",
    "\n",
    "# Poromechanics propoerties\n",
    "T = dolfin.sqrt(dolfin.inner(FmTN, FmTN))\n",
    "S = dolfin.assemble(T * problem.kinematics.J * problem.dS(0))\n",
    "S0 = dolfin.assemble(dolfin.Constant(1)*problem.dS(0))\n",
    "\n",
    "\n",
    "print(\"S:\" +str(S))\n",
    "print(\"S*: \" + str(S/S0))\n",
    "print(\"IC: \"+str(numpy.trace(C_bar)))\n",
    "print(\"IC_bar: \"+str(numpy.trace(C_bar*J_bar**(-1))))\n",
    "\n",
    "# Volumes\n",
    "v = J_bar * V\n",
    "print (\"v:\", v)\n",
    "\n",
    "vs = dolfin.assemble(problem.kinematics.J * problem.dV)\n",
    "print (\"Vs0:\", VS0)\n",
    "print (\"vs:\", vs)\n",
    "print (\"Phi_s\", vs/V)\n",
    "vf = v - vs\n",
    "print(\"v - vs:\" +str(v - vs))\n",
    "print(\"vf:\" +str(vf))\n",
    "print(\"porosity:\"+str((V - VS0)/V))\n",
    "\n",
    "# Macroscopic stress\n",
    "print(\"sigma_tot_xx: \" +str((dolfin.assemble(material.sigma[0,0] * problem.kinematics.J * dV) - vf * pf *dolfin.Identity(2)[0,0])/v))\n",
    "print(\"sigma_tot_xy: \" +str((dolfin.assemble(material.sigma[0,1] * problem.kinematics.J * dV) - vf * pf *dolfin.Identity(2)[0,1])/v))\n",
    "print(\"sigma_tot_yx: \" +str((dolfin.assemble(material.sigma[1,0] * problem.kinematics.J * dV) - vf * pf *dolfin.Identity(2)[1,0])/v))\n",
    "print(\"sigma_tot_yy: \" +str((dolfin.assemble(material.sigma[1,1] * problem.kinematics.J * dV) - vf * pf *dolfin.Identity(2)[1,1])/v))\n",
    "\n",
    "print(\"sigma_s_xx: \" +str((dolfin.assemble(material.sigma[0,0] * problem.kinematics.J * dV))/v))\n",
    "print(\"sigma_s_xy: \" +str((dolfin.assemble(material.sigma[0,1] * problem.kinematics.J * dV))/v))\n",
    "print(\"sigma_s_xy: \" +str((dolfin.assemble(material.sigma[1,0] * problem.kinematics.J * dV))/v))\n",
    "print(\"sigma_s_yy: \" +str((dolfin.assemble(material.sigma[1,1] * problem.kinematics.J * dV))/v))\n",
    "\n",
    "\n",
    "print(\"sigma_f_xx: \" +str((- vf * pf *dolfin.Identity(2)[0,0])/v))\n",
    "print(\"sigma_f_xy: \" +str((- vf * pf *dolfin.Identity(2)[0,1])/v))\n",
    "print(\"sigma_f_xy: \" +str((- vf * pf *dolfin.Identity(2)[1,0])/v))\n",
    "print(\"sigma_f_yy: \" +str((- vf * pf *dolfin.Identity(2)[1,1])/v))\n",
    "\n",
    "#  numpy.linalg.det(problem.get_macroscopic_stretch_subsol().func.vector().get_local().reshape((2,2))+numpy.eye(2))\n",
    "# dolfin.det(dolfin.Identity(2) + dolfin.grad(problem.U_bar))\n",
    "\n",
    "vf = v - vs\n",
    "\n",
    "Vf0 = V - VS0\n",
    "\n",
    "print(\"added fluid mass density: \" +str((vf - Vf0)/V))\n",
    "\n",
    "print(\"deformed porosity: \" +str((vf)/v))\n",
    "\n",
    "print(\"deformed surface: \" +str(2 * math.pi * numpy.sqrt(vf/math.pi)))"
   ]
  },
  {
   "cell_type": "code",
   "execution_count": 93,
   "metadata": {},
   "outputs": [
    {
     "data": {
      "text/plain": [
       "0.001376374197574452"
      ]
     },
     "execution_count": 93,
     "metadata": {},
     "output_type": "execute_result"
    }
   ],
   "source": [
    "problem.Vs0 "
   ]
  }
 ],
 "metadata": {
  "kernelspec": {
   "display_name": "all",
   "language": "python",
   "name": "python3"
  },
  "language_info": {
   "codemirror_mode": {
    "name": "ipython",
    "version": 3
   },
   "file_extension": ".py",
   "mimetype": "text/x-python",
   "name": "python",
   "nbconvert_exporter": "python",
   "pygments_lexer": "ipython3",
   "version": "3.8.12"
  }
 },
 "nbformat": 4,
 "nbformat_minor": 2
}
