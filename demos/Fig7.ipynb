{
 "cells": [
  {
   "attachments": {},
   "cell_type": "markdown",
   "metadata": {},
   "source": [
    "# Figure 7"
   ]
  },
  {
   "attachments": {},
   "cell_type": "markdown",
   "metadata": {},
   "source": [
    "## Imports"
   ]
  },
  {
   "cell_type": "code",
   "execution_count": 1,
   "metadata": {},
   "outputs": [],
   "source": [
    "import dolfin  \n",
    "import matplotlib.pyplot as plt\n",
    "import numpy\n",
    "import sympy\n",
    "import sys\n",
    "\n",
    "import dolfin_mech                    as dmech\n",
    "import micro_poro_structure_generator as gen"
   ]
  },
  {
   "attachments": {},
   "cell_type": "markdown",
   "metadata": {},
   "source": [
    "## Defining Geometry"
   ]
  },
  {
   "cell_type": "code",
   "execution_count": 4,
   "metadata": {},
   "outputs": [
    {
     "name": "stdout",
     "output_type": "stream",
     "text": [
      "[[0.28867513 0.25      ]\n",
      " [0.         0.75      ]\n",
      " [0.8660254  0.25      ]\n",
      " [0.57735027 0.75      ]]\n",
      "Info    : Clearing all models and views...\n",
      "Info    : Done clearing all models and views\n",
      "Info    : Meshing 1D...\n",
      "Info    : [  0%] Meshing curve 122 (Line)\n",
      "Info    : [ 10%] Meshing curve 123 (Line)\n",
      "Info    : [ 10%] Meshing curve 124 (Line)\n",
      "Info    : [ 20%] Meshing curve 152 (Line)\n",
      "Info    : [ 20%] Meshing curve 153 (Line)\n",
      "Info    : [ 20%] Meshing curve 154 (Line)\n",
      "Info    : [ 30%] Meshing curve 155 (Line)\n",
      "Info    : [ 30%] Meshing curve 156 (Line)\n",
      "Info    : [ 30%] Meshing curve 157 (Line)\n",
      "Info    : [ 40%] Meshing curve 158 (Line)\n",
      "Info    : [ 40%] Meshing curve 159 (Line)\n",
      "Info    : [ 40%] Meshing curve 160 (Line)\n",
      "Info    : [ 50%] Meshing curve 161 (Line)\n",
      "Info    : [ 50%] Meshing curve 162 (Line)\n",
      "Info    : [ 50%] Meshing curve 163 (Line)\n",
      "Info    : [ 60%] Meshing curve 164 (Line)\n",
      "Info    : [ 60%] Meshing curve 165 (Line)\n",
      "Info    : [ 70%] Meshing curve 166 (Line)\n",
      "Info    : [ 70%] Meshing curve 167 (Line)\n",
      "Info    : [ 70%] Meshing curve 168 (Line)\n",
      "Info    : [ 80%] Meshing curve 169 (Line)\n",
      "Info    : [ 80%] Meshing curve 170 (Line)\n",
      "Info    : [ 80%] Meshing curve 171 (Line)\n",
      "Info    : [ 90%] Meshing curve 172 (Line)\n",
      "Info    : [ 90%] Meshing curve 173 (Line)\n",
      "Info    : [ 90%] Meshing curve 174 (Line)\n",
      "Info    : [100%] Meshing curve 175 (Line)\n",
      "Info    : [100%] Meshing curve 176 (Line)\n",
      "Info    : Done meshing 1D (Wall 0.0018485s, CPU 0.002013s)\n",
      "Info    : Meshing 2D...\n",
      "Info    : Meshing surface 4000000 (Plane, Frontal-Delaunay)\n",
      "Info    : Done meshing 2D (Wall 0.0195922s, CPU 0.019347s)\n",
      "Info    : Meshing 3D...\n",
      "Info    : Done meshing 3D (Wall 7.208e-06s, CPU 7e-06s)\n",
      "Info    : 1071 nodes 1878 elements\n",
      "Info    : Writing 'Fig7-mesh.msh'...\n",
      "Info    : Done writing 'Fig7-mesh.msh'\n",
      "Info    : Writing 'Fig7-mesh.vtk'...\n",
      "Info    : Done writing 'Fig7-mesh.vtk'\n"
     ]
    },
    {
     "name": "stderr",
     "output_type": "stream",
     "text": [
      "/Users/martin/BOULOT/COMPUTATIONAL/Python/micro_poro_structure_generator/micro_poro_structure_generator/generate_mesh_2D_rectangle_w_voronoi_inclusions.py:44: RuntimeWarning: divide by zero encountered in double_scalars\n",
      "  m = (Q[1] - P[1])/(Q[0] - P[0])\n",
      "/Users/martin/BOULOT/COMPUTATIONAL/Python/micro_poro_structure_generator/micro_poro_structure_generator/generate_mesh_2D_rectangle_w_voronoi_inclusions.py:61: RuntimeWarning: invalid value encountered in double_scalars\n",
      "  x = (c2 - c1)/(m1 - m2)\n",
      "/Users/martin/BOULOT/COMPUTATIONAL/Python/micro_poro_structure_generator/micro_poro_structure_generator/generate_mesh_2D_rectangle_w_voronoi_inclusions.py:62: RuntimeWarning: invalid value encountered in double_scalars\n",
      "  y = (m2*c1 - m1*c2)/(m2 - m1)\n",
      "/Users/martin/BOULOT/COMPUTATIONAL/Python/micro_poro_structure_generator/micro_poro_structure_generator/generate_mesh_2D_rectangle_w_voronoi_inclusions.py:45: RuntimeWarning: invalid value encountered in double_scalars\n",
      "  c = P[1] - m * P[0]\n"
     ]
    },
    {
     "name": "stdout",
     "output_type": "stream",
     "text": [
      "Info    : Running '/opt/miniconda3/envs/fenics-2019-py310/bin/gmsh -2 -o Fig7-mesh.msh -format msh22 Fig7-mesh.msh' [Gmsh 4.11.1, 1 node, max. 1 thread]\n",
      "Info    : Started on Mon Dec  4 12:03:23 2023\n",
      "Info    : Reading 'Fig7-mesh.msh'...\n",
      "Info    : 63 entities\n",
      "Info    : 781 nodes\n",
      "Info    : 1280 elements\n",
      "Info    : Done reading 'Fig7-mesh.msh'\n",
      "Info    : Meshing 1D...\n",
      "Info    : Done meshing 1D (Wall 0.0002835s, CPU 0.000255s)\n",
      "Info    : Meshing 2D...\n",
      "Info    : Done meshing 2D (Wall 2.1916e-05s, CPU 1.2e-05s)\n",
      "Info    : 793 nodes 1314 elements\n",
      "Info    : Writing 'Fig7-mesh.msh'...\n",
      "Info    : Done writing 'Fig7-mesh.msh'\n",
      "Info    : Stopped on Mon Dec  4 12:03:23 2023 (From start: Wall 0.00639671s, CPU 0.265442s)\n",
      "Converting from Gmsh format (.msh, .gmsh) to DOLFIN XML format\n",
      "Expecting 781 vertices\n",
      "Found all vertices\n",
      "Expecting 1280 cells\n",
      "Found all cells\n",
      "Conversion done\n",
      "Phis0=0.2933053485926732\n",
      "Phif0=0.7066946514073268\n"
     ]
    }
   ],
   "source": [
    "seeds_filename = \"Fig7-seeds.dat\"\n",
    "mesh_filebasename = \"Fig7-mesh\"\n",
    "\n",
    "domain_y = 1.\n",
    "domain_x = domain_y * numpy.sqrt(3)/1.5/2\n",
    "thickness = 0.092\n",
    "\n",
    "gen.generate_seeds_semi_regular(\n",
    "    DoI = 0.,\n",
    "    row = 1,\n",
    "    domain_y = domain_y,\n",
    "    seeds_filename = seeds_filename)\n",
    "gen.generate_mesh_2D_rectangle_w_voronoi_inclusions(\n",
    "    mesh_filename = mesh_filebasename,\n",
    "    seeds_filename = seeds_filename,\n",
    "    h = thickness,\n",
    "    lcar = thickness/5,\n",
    "    domain_x = domain_x,\n",
    "    domain_y = domain_y,\n",
    "    shift_y = 0.,\n",
    "    remove_seeds = True)\n",
    "\n",
    "mesh = dolfin.Mesh()\n",
    "dolfin.XDMFFile(mesh_filebasename+\".xdmf\").read(mesh)\n",
    "\n",
    "coord = mesh.coordinates()\n",
    "xmax = max(coord[:,0]); xmin = min(coord[:,0])\n",
    "ymax = max(coord[:,1]); ymin = min(coord[:,1])\n",
    "V0 = (xmax - xmin)*(ymax - ymin)\n",
    "dV = dolfin.Measure(\"dx\",domain=mesh)\n",
    "Vs0 = dolfin.assemble(dolfin.Constant(1.) * dV)\n",
    "Phi_s0 = Vs0/V0"
   ]
  },
  {
   "attachments": {},
   "cell_type": "markdown",
   "metadata": {},
   "source": [
    "## Computing microscopic model response"
   ]
  },
  {
   "attachments": {},
   "cell_type": "markdown",
   "metadata": {},
   "source": [
    "## Strain loading"
   ]
  },
  {
   "attachments": {},
   "cell_type": "markdown",
   "metadata": {},
   "source": [
    "### Incompressible"
   ]
  },
  {
   "cell_type": "code",
   "execution_count": 3,
   "metadata": {},
   "outputs": [
    {
     "name": "stderr",
     "output_type": "stream",
     "text": [
      "/opt/miniconda3/envs/fenics-2019-py310/lib/python3.10/site-packages/ufl/exproperators.py:336: FutureWarning: elementwise comparison failed; returning scalar instead, but in the future will perform elementwise comparison\n",
      "  if arg in (\"+\", \"-\"):\n"
     ]
    },
    {
     "ename": "AssertionError",
     "evalue": "Integration failed. Aborting.",
     "output_type": "error",
     "traceback": [
      "\u001b[0;31m---------------------------------------------------------------------------\u001b[0m",
      "\u001b[0;31mAssertionError\u001b[0m                            Traceback (most recent call last)",
      "\u001b[1;32m/Users/martin/Dropbox/Martin/BOULOT/COMPUTATIONAL/Micro-macro-poro paper demos/demos/Fig7.ipynb Cell 9\u001b[0m in \u001b[0;36m<cell line: 15>\u001b[0;34m()\u001b[0m\n\u001b[1;32m     <a href='vscode-notebook-cell:/Users/martin/Dropbox/Martin/BOULOT/COMPUTATIONAL/Micro-macro-poro%20paper%20demos/demos/Fig7.ipynb#X11sZmlsZQ%3D%3D?line=11'>12</a>\u001b[0m nus \u001b[39m=\u001b[39m \u001b[39m0.499\u001b[39m\n\u001b[1;32m     <a href='vscode-notebook-cell:/Users/martin/Dropbox/Martin/BOULOT/COMPUTATIONAL/Micro-macro-poro%20paper%20demos/demos/Fig7.ipynb#X11sZmlsZQ%3D%3D?line=12'>13</a>\u001b[0m mat_params \u001b[39m=\u001b[39m {\u001b[39m\"\u001b[39m\u001b[39mmodel\u001b[39m\u001b[39m\"\u001b[39m:\u001b[39m\"\u001b[39m\u001b[39mCGNH\u001b[39m\u001b[39m\"\u001b[39m, \u001b[39m\"\u001b[39m\u001b[39mparameters\u001b[39m\u001b[39m\"\u001b[39m:{\u001b[39m\"\u001b[39m\u001b[39mE\u001b[39m\u001b[39m\"\u001b[39m:Es, \u001b[39m\"\u001b[39m\u001b[39mnu\u001b[39m\u001b[39m\"\u001b[39m:nus}}\n\u001b[0;32m---> <a href='vscode-notebook-cell:/Users/martin/Dropbox/Martin/BOULOT/COMPUTATIONAL/Micro-macro-poro%20paper%20demos/demos/Fig7.ipynb#X11sZmlsZQ%3D%3D?line=14'>15</a>\u001b[0m dmech\u001b[39m.\u001b[39;49mrun_HollowBox_MicroPoroHyperelasticity(\n\u001b[1;32m     <a href='vscode-notebook-cell:/Users/martin/Dropbox/Martin/BOULOT/COMPUTATIONAL/Micro-macro-poro%20paper%20demos/demos/Fig7.ipynb#X11sZmlsZQ%3D%3D?line=15'>16</a>\u001b[0m     dim\u001b[39m=\u001b[39;49m\u001b[39m2\u001b[39;49m,\n\u001b[1;32m     <a href='vscode-notebook-cell:/Users/martin/Dropbox/Martin/BOULOT/COMPUTATIONAL/Micro-macro-poro%20paper%20demos/demos/Fig7.ipynb#X11sZmlsZQ%3D%3D?line=16'>17</a>\u001b[0m     mesh\u001b[39m=\u001b[39;49mmesh,\n\u001b[1;32m     <a href='vscode-notebook-cell:/Users/martin/Dropbox/Martin/BOULOT/COMPUTATIONAL/Micro-macro-poro%20paper%20demos/demos/Fig7.ipynb#X11sZmlsZQ%3D%3D?line=17'>18</a>\u001b[0m     mat_params\u001b[39m=\u001b[39;49mmat_params,\n\u001b[1;32m     <a href='vscode-notebook-cell:/Users/martin/Dropbox/Martin/BOULOT/COMPUTATIONAL/Micro-macro-poro%20paper%20demos/demos/Fig7.ipynb#X11sZmlsZQ%3D%3D?line=18'>19</a>\u001b[0m     load_params\u001b[39m=\u001b[39;49mload_params,\n\u001b[1;32m     <a href='vscode-notebook-cell:/Users/martin/Dropbox/Martin/BOULOT/COMPUTATIONAL/Micro-macro-poro%20paper%20demos/demos/Fig7.ipynb#X11sZmlsZQ%3D%3D?line=19'>20</a>\u001b[0m     step_params\u001b[39m=\u001b[39;49m{\u001b[39m\"\u001b[39;49m\u001b[39mDeltat\u001b[39;49m\u001b[39m\"\u001b[39;49m:\u001b[39m1.\u001b[39;49m, \u001b[39m\"\u001b[39;49m\u001b[39mdt_ini\u001b[39;49m\u001b[39m\"\u001b[39;49m:\u001b[39m0.1\u001b[39;49m, \u001b[39m\"\u001b[39;49m\u001b[39mdt_min\u001b[39;49m\u001b[39m\"\u001b[39;49m:\u001b[39m0.05\u001b[39;49m, \u001b[39m\"\u001b[39;49m\u001b[39mdt_max\u001b[39;49m\u001b[39m\"\u001b[39;49m:\u001b[39m0.05\u001b[39;49m},\n\u001b[1;32m     <a href='vscode-notebook-cell:/Users/martin/Dropbox/Martin/BOULOT/COMPUTATIONAL/Micro-macro-poro%20paper%20demos/demos/Fig7.ipynb#X11sZmlsZQ%3D%3D?line=20'>21</a>\u001b[0m     res_basename\u001b[39m=\u001b[39;49mres_basename,\n\u001b[1;32m     <a href='vscode-notebook-cell:/Users/martin/Dropbox/Martin/BOULOT/COMPUTATIONAL/Micro-macro-poro%20paper%20demos/demos/Fig7.ipynb#X11sZmlsZQ%3D%3D?line=21'>22</a>\u001b[0m     verbose\u001b[39m=\u001b[39;49m\u001b[39m1\u001b[39;49m\n\u001b[1;32m     <a href='vscode-notebook-cell:/Users/martin/Dropbox/Martin/BOULOT/COMPUTATIONAL/Micro-macro-poro%20paper%20demos/demos/Fig7.ipynb#X11sZmlsZQ%3D%3D?line=22'>23</a>\u001b[0m )\n\u001b[1;32m     <a href='vscode-notebook-cell:/Users/martin/Dropbox/Martin/BOULOT/COMPUTATIONAL/Micro-macro-poro%20paper%20demos/demos/Fig7.ipynb#X11sZmlsZQ%3D%3D?line=24'>25</a>\u001b[0m qois_vals \u001b[39m=\u001b[39m numpy\u001b[39m.\u001b[39mloadtxt(qois_filename)\n\u001b[1;32m     <a href='vscode-notebook-cell:/Users/martin/Dropbox/Martin/BOULOT/COMPUTATIONAL/Micro-macro-poro%20paper%20demos/demos/Fig7.ipynb#X11sZmlsZQ%3D%3D?line=25'>26</a>\u001b[0m qois_name_list \u001b[39m=\u001b[39m \u001b[39mopen\u001b[39m(qois_filename)\u001b[39m.\u001b[39mreadline()\u001b[39m.\u001b[39msplit()\n",
      "File \u001b[0;32m~/BOULOT/COMPUTATIONAL/Python/dolfin_mech/dolfin_mech/run_HollowBox_MicroPoroHyperelasticity.py:210\u001b[0m, in \u001b[0;36mrun_HollowBox_MicroPoroHyperelasticity\u001b[0;34m(dim, mesh, mesh_params, mat_params, bcs, step_params, load_params, res_basename, write_qois_limited_precision, verbose)\u001b[0m\n\u001b[1;32m    195\u001b[0m integrator \u001b[39m=\u001b[39m dmech\u001b[39m.\u001b[39mTimeIntegrator(\n\u001b[1;32m    196\u001b[0m     problem\u001b[39m=\u001b[39mproblem,\n\u001b[1;32m    197\u001b[0m     solver\u001b[39m=\u001b[39msolver,\n\u001b[0;32m   (...)\u001b[0m\n\u001b[1;32m    206\u001b[0m     write_qois_limited_precision\u001b[39m=\u001b[39mwrite_qois_limited_precision,\n\u001b[1;32m    207\u001b[0m     write_sol\u001b[39m=\u001b[39mres_basename\u001b[39m*\u001b[39mverbose)\n\u001b[1;32m    209\u001b[0m success \u001b[39m=\u001b[39m integrator\u001b[39m.\u001b[39mintegrate()\n\u001b[0;32m--> 210\u001b[0m \u001b[39massert\u001b[39;00m (success),\\\n\u001b[1;32m    211\u001b[0m     \u001b[39m\"\u001b[39m\u001b[39mIntegration failed. Aborting.\u001b[39m\u001b[39m\"\u001b[39m\n\u001b[1;32m    213\u001b[0m integrator\u001b[39m.\u001b[39mclose()\n",
      "\u001b[0;31mAssertionError\u001b[0m: Integration failed. Aborting."
     ]
    }
   ],
   "source": [
    "qois_filename = \"Fig7-qois.dat\"\n",
    "res_basename = \"Fig7\"\n",
    "\n",
    "load_params = {}\n",
    "load_params[\"pf\"] = 0.0\n",
    "load_params[\"sigma_bar_01\"] = 0.0\n",
    "load_params[\"sigma_bar_10\"] = 0.0\n",
    "load_params[\"U_bar_00\"] = 0.5\n",
    "load_params[\"U_bar_11\"] = 0.5\n",
    "\n",
    "Es = 1.\n",
    "nus = 0.499\n",
    "mat_params = {\"model\":\"CGNH\", \"parameters\":{\"E\":Es, \"nu\":nus}}\n",
    "\n",
    "dmech.run_HollowBox_MicroPoroHyperelasticity(\n",
    "    dim=2,\n",
    "    mesh=mesh,\n",
    "    mat_params=mat_params,\n",
    "    load_params=load_params,\n",
    "    step_params={\"Deltat\":1., \"dt_ini\":0.1, \"dt_min\":0.05, \"dt_max\":0.05},\n",
    "    res_basename=res_basename,\n",
    "    verbose=1)\n",
    "\n",
    "qois_vals = numpy.loadtxt(qois_filename)\n",
    "qois_name_list = open(qois_filename).readline().split()\n",
    "eps_lst_incomp = qois_vals[:, qois_name_list.index(\"U_bar_XX\") - 1]\n",
    "vs_lst_incomp = qois_vals[:, qois_name_list.index(\"vs\") - 1]\n",
    "Phi_s_lst_incomp = [vs_/vol for vs_ in vs_lst_incomp]"
   ]
  },
  {
   "attachments": {},
   "cell_type": "markdown",
   "metadata": {},
   "source": [
    "### Compressible"
   ]
  },
  {
   "cell_type": "code",
   "execution_count": null,
   "metadata": {},
   "outputs": [],
   "source": [
    "load_params = {}\n",
    "load_params[\"pf\"] = 0.0\n",
    "load_params[\"sigma_bar_01\"] = 0.0\n",
    "load_params[\"sigma_bar_10\"] = 0.0\n",
    "load_params[\"U_bar_00\"] = 0.5\n",
    "load_params[\"U_bar_11\"] = 0.5\n",
    "\n",
    "Es = 1.\n",
    "nus = 0.2\n",
    "mat_params = {\"model\":\"CGNH\", \"parameters\":{\"E\":Es, \"nu\":nus}}\n",
    "\n",
    "dmech.run_HollowBox_MicroPoroHyperelasticity(\n",
    "    dim=2,\n",
    "    mesh=mesh,\n",
    "    mat_params=mat_params,\n",
    "    load_params=load_params,\n",
    "    step_params={\"Deltat\":1., \"dt_ini\":0.1, \"dt_min\":0.05, \"dt_max\":0.05},\n",
    "    res_basename=res_basename,\n",
    "    verbose=1)\n",
    "\n",
    "qois_vals = numpy.loadtxt(qois_filename)\n",
    "qois_name_list = open(qois_filename).readline().split()\n",
    "eps_lst_comp = qois_vals[:, qois_name_list.index(\"U_bar_XX\") - 1]\n",
    "vs_lst_comp = qois_vals[:, qois_name_list.index(\"vs\") - 1]\n",
    "Phi_s_lst_comp = [vs_/vol for vs_ in vs_lst_comp]"
   ]
  },
  {
   "cell_type": "code",
   "execution_count": null,
   "metadata": {},
   "outputs": [],
   "source": [
    "Phi_s_macro_lst = [Phi_s0]*len(eps_lst_incomp) # Macroscopic model response\n",
    "\n",
    "plt.figure()\n",
    "plt.rc('xtick', labelsize=14)\n",
    "plt.rc('ytick', labelsize=14)\n",
    "plt.rc('legend', fontsize=12)\n",
    "plt.xlabel(r'$E_x,~E_y~()$', fontsize=16)\n",
    "plt.ylabel(r'$\\Phi_s$', fontsize=16)\n",
    "plt.plot(eps_lst_comp, Phi_s_lst_comp, '#084594')\n",
    "plt.plot(eps_lst_incomp, Phi_s_lst_incomp, '#084594', linestyle='dashed')\n",
    "plt.plot(eps_lst_incomp, Phi_s_macro_lst, '#99000D')\n",
    "plt.legend(['Microscopic model - compressible solid', 'Microscopic model - quasi-incompressible solid', 'Macroscopic model'])\n",
    "plt.xlim(0, 0.5)\n",
    "plt.ylim(0.18, 0.42)\n",
    "# plt.savefig('Phi-s_E.pdf', bbox_inches='tight') \n",
    "plt.show()"
   ]
  },
  {
   "attachments": {},
   "cell_type": "markdown",
   "metadata": {},
   "source": [
    "## $\\Phi_s  -p_f$\n"
   ]
  },
  {
   "attachments": {},
   "cell_type": "markdown",
   "metadata": {},
   "source": [
    "### Compressible case"
   ]
  },
  {
   "cell_type": "code",
   "execution_count": null,
   "metadata": {},
   "outputs": [],
   "source": [
    "load_params = {}\n",
    "load_params[\"pf\"] = 0.5\n",
    "load_params[\"sigma_bar_01\"] = 0.0\n",
    "load_params[\"sigma_bar_10\"] = 0.0\n",
    "load_params[\"U_bar_00\"] = 0.\n",
    "load_params[\"U_bar_11\"] = 0.\n",
    "\n",
    "Es = 1.\n",
    "nus = 0.2\n",
    "mat_params = {\"model\":\"CGNH\", \"parameters\":{\"E\":Es, \"nu\":nus}}\n",
    "\n",
    "dmech.run_HollowBox_MicroPoroHyperelasticity(\n",
    "    dim=2,\n",
    "    mesh=mesh,\n",
    "    mat_params=mat_params,\n",
    "    load_params=load_params,\n",
    "    step_params={\"Deltat\":1., \"dt_ini\":0.1, \"dt_min\":0.05, \"dt_max\":0.05},\n",
    "    res_basename=res_basename,\n",
    "    verbose=1)\n",
    "\n",
    "qois_vals = numpy.loadtxt(qois_filename)\n",
    "qois_name_list = open(qois_filename).readline().split()\n",
    "pf_lst_comp = qois_vals[:, qois_name_list.index(\"p_f\") - 1]\n",
    "vs_lst_comp = qois_vals[:, qois_name_list.index(\"vs\") - 1]\n",
    "Phi_s_lst_comp = [vs_/vol for vs_ in vs_lst_comp]"
   ]
  },
  {
   "attachments": {},
   "cell_type": "markdown",
   "metadata": {},
   "source": [
    "### Incompressible case"
   ]
  },
  {
   "cell_type": "code",
   "execution_count": null,
   "metadata": {},
   "outputs": [],
   "source": [
    "load_params = {}\n",
    "load_params[\"pf\"] = 0.5\n",
    "load_params[\"sigma_bar_01\"] = 0.0\n",
    "load_params[\"sigma_bar_10\"] = 0.0\n",
    "load_params[\"U_bar_00\"] = 0.\n",
    "load_params[\"U_bar_11\"] = 0.\n",
    "\n",
    "Es = 1\n",
    "nus = 0.499\n",
    "mat_params = {\"model\":\"CGNH\", \"parameters\":{\"E\":Es, \"nu\":nus}}\n",
    "\n",
    "dmech.run_HollowBox_MicroPoroHyperelasticity(\n",
    "    dim=2,\n",
    "    mesh=mesh,\n",
    "    mat_params=mat_params,\n",
    "    load_params=load_params,\n",
    "    step_params={\"Deltat\":1., \"dt_ini\":0.1, \"dt_min\":0.05, \"dt_max\":0.05},\n",
    "    res_basename=res_basename,\n",
    "    verbose=1\n",
    ")\n",
    "\n",
    "qois_vals = numpy.loadtxt(qois_filename)\n",
    "qois_name_list = open(qois_filename).readline().split()\n",
    "pf_lst_incomp = qois_vals[:, qois_name_list.index(\"p_f\") - 1]\n",
    "vs_lst_incomp = qois_vals[:, qois_name_list.index(\"vs\") - 1]\n",
    "Phi_s_lst_incomp = [vs_/vol for vs_ in vs_lst_incomp]"
   ]
  },
  {
   "cell_type": "code",
   "execution_count": null,
   "metadata": {},
   "outputs": [],
   "source": [
    "Phi_s_macro_lst = [Phi_s0]*len(pf_lst_incomp) # Macroscopic model response\n",
    "\n",
    "plt.figure()\n",
    "plt.rc('xtick', labelsize=14)\n",
    "plt.rc('ytick', labelsize=14)\n",
    "plt.rc('legend', fontsize=12)\n",
    "plt.xlabel(r'$p_f~(kPa)$', fontsize=16)\n",
    "plt.ylabel(r'$\\Phi_s$', fontsize=16)\n",
    "plt.plot(pf_lst_comp, Phi_s_lst_comp, '#084594')\n",
    "plt.plot(pf_lst_incomp, Phi_s_lst_incomp, '#084594', linestyle='dashed')\n",
    "plt.plot(pf_lst_incomp, Phi_s_macro_lst, '#99000D')\n",
    "plt.legend(['Microscopic model - compressible solid', 'Microscopic model - quasi-incompressible solid', 'Macroscopic model'])\n",
    "plt.xlim(0, 0.5)\n",
    "plt.ylim(0.18, 0.42)\n",
    "# plt.savefig('Phi-s_p-f.pdf', bbox_inches='tight') \n",
    "plt.show()"
   ]
  }
 ],
 "metadata": {
  "kernelspec": {
   "display_name": "all",
   "language": "python",
   "name": "python3"
  },
  "language_info": {
   "codemirror_mode": {
    "name": "ipython",
    "version": 3
   },
   "file_extension": ".py",
   "mimetype": "text/x-python",
   "name": "python",
   "nbconvert_exporter": "python",
   "pygments_lexer": "ipython3",
   "version": "3.10.5"
  },
  "orig_nbformat": 4
 },
 "nbformat": 4,
 "nbformat_minor": 2
}
