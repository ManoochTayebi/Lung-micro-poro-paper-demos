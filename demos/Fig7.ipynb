{
 "cells": [
  {
   "attachments": {},
   "cell_type": "markdown",
   "metadata": {},
   "source": [
    "# Figure 7"
   ]
  },
  {
   "attachments": {},
   "cell_type": "markdown",
   "metadata": {},
   "source": [
    "## Imports"
   ]
  },
  {
   "cell_type": "code",
   "execution_count": null,
   "metadata": {},
   "outputs": [],
   "source": [
    "import dolfin  \n",
    "import matplotlib.pyplot as plt\n",
    "import numpy\n",
    "import sympy\n",
    "import sys\n",
    "\n",
    "import dolfin_mech                    as dmech\n",
    "import micro_poro_structure_generator as gen"
   ]
  },
  {
   "attachments": {},
   "cell_type": "markdown",
   "metadata": {},
   "source": [
    "## Defining geometry"
   ]
  },
  {
   "cell_type": "code",
   "execution_count": null,
   "metadata": {},
   "outputs": [],
   "source": [
    "seeds_filename = \"Fig7-seeds.dat\"\n",
    "mesh_filebasename = \"Fig7-mesh\"\n",
    "\n",
    "domain_y = 1.\n",
    "domain_x = domain_y * numpy.sqrt(3)/1.5/2\n",
    "thickness = 0.092\n",
    "\n",
    "gen.generate_seeds_semi_regular(\n",
    "    DoI = 0.,\n",
    "    row = 1,\n",
    "    domain_y = domain_y,\n",
    "    seeds_filename = seeds_filename)\n",
    "gen.generate_mesh_2D_rectangle_w_voronoi_inclusions(\n",
    "    mesh_filename = mesh_filebasename,\n",
    "    seeds_filename = seeds_filename,\n",
    "    h = thickness,\n",
    "    lcar = thickness/5,\n",
    "    domain_x = domain_x,\n",
    "    domain_y = domain_y,\n",
    "    shift_y = 0.,\n",
    "    remove_seeds = True)\n",
    "\n",
    "mesh = dolfin.Mesh()\n",
    "dolfin.XDMFFile(mesh_filebasename+\".xdmf\").read(mesh)\n",
    "\n",
    "coord = mesh.coordinates()\n",
    "xmax = max(coord[:,0]); xmin = min(coord[:,0])\n",
    "ymax = max(coord[:,1]); ymin = min(coord[:,1])\n",
    "V0 = (xmax - xmin)*(ymax - ymin)\n",
    "dV = dolfin.Measure(\"dx\",domain=mesh)\n",
    "Vs0 = dolfin.assemble(dolfin.Constant(1.) * dV)\n",
    "Phi_s0 = Vs0/V0"
   ]
  },
  {
   "attachments": {},
   "cell_type": "markdown",
   "metadata": {},
   "source": [
    "## Computing microscopic model response"
   ]
  },
  {
   "cell_type": "code",
   "execution_count": null,
   "metadata": {},
   "outputs": [],
   "source": [
    "qois_filename = \"Fig7-qois.dat\"\n",
    "res_basename = \"Fig7\""
   ]
  },
  {
   "attachments": {},
   "cell_type": "markdown",
   "metadata": {},
   "source": [
    "## $\\Phi_s - E$"
   ]
  },
  {
   "cell_type": "code",
   "execution_count": null,
   "metadata": {},
   "outputs": [],
   "source": [
    "load_params = {}\n",
    "load_params[\"pf\"] = 0.0\n",
    "load_params[\"sigma_bar_01\"] = 0.0\n",
    "load_params[\"sigma_bar_10\"] = 0.0\n",
    "load_params[\"U_bar_00\"] = 0.5\n",
    "load_params[\"U_bar_11\"] = 0.5"
   ]
  },
  {
   "attachments": {},
   "cell_type": "markdown",
   "metadata": {},
   "source": [
    "### Incompressible solid"
   ]
  },
  {
   "cell_type": "code",
   "execution_count": null,
   "metadata": {},
   "outputs": [],
   "source": [
    "Es = 1.\n",
    "nus = 0.499\n",
    "mat_params = {\"model\":\"CGNH\", \"parameters\":{\"E\":Es, \"nu\":nus}}"
   ]
  },
  {
   "cell_type": "code",
   "execution_count": null,
   "metadata": {},
   "outputs": [],
   "source": [
    "dmech.run_HollowBox_MicroPoroHyperelasticity(\n",
    "    dim=2,\n",
    "    mesh=mesh,\n",
    "    mat_params=mat_params,\n",
    "    load_params=load_params,\n",
    "    step_params={\"Deltat\":1., \"dt_ini\":0.1, \"dt_min\":0.05, \"dt_max\":0.05},\n",
    "    res_basename=res_basename,\n",
    "    verbose=1,\n",
    "    write_qois_limited_precision=False)\n",
    "\n",
    "qois_vals = numpy.loadtxt(qois_filename)\n",
    "qois_name_list = open(qois_filename).readline().split()\n",
    "eps_lst_incomp = qois_vals[:, qois_name_list.index(\"U_bar_XX\") - 1]\n",
    "vs_lst_incomp = qois_vals[:, qois_name_list.index(\"vs\") - 1]\n",
    "Phi_s_lst_incomp = [vs_/V0 for vs_ in vs_lst_incomp]"
   ]
  },
  {
   "attachments": {},
   "cell_type": "markdown",
   "metadata": {},
   "source": [
    "### Compressible solid"
   ]
  },
  {
   "cell_type": "code",
   "execution_count": null,
   "metadata": {},
   "outputs": [],
   "source": [
    "Es = 1.\n",
    "nus = 0.2\n",
    "mat_params = {\"model\":\"CGNH\", \"parameters\":{\"E\":Es, \"nu\":nus}}"
   ]
  },
  {
   "cell_type": "code",
   "execution_count": null,
   "metadata": {},
   "outputs": [],
   "source": [
    "dmech.run_HollowBox_MicroPoroHyperelasticity(\n",
    "    dim=2,\n",
    "    mesh=mesh,\n",
    "    mat_params=mat_params,\n",
    "    load_params=load_params,\n",
    "    step_params={\"Deltat\":1., \"dt_ini\":0.1, \"dt_min\":0.05, \"dt_max\":0.05},\n",
    "    res_basename=res_basename,\n",
    "    verbose=1,\n",
    "    write_qois_limited_precision=False)\n",
    "\n",
    "qois_vals = numpy.loadtxt(qois_filename)\n",
    "qois_name_list = open(qois_filename).readline().split()\n",
    "eps_lst_comp = qois_vals[:, qois_name_list.index(\"U_bar_XX\") - 1]\n",
    "vs_lst_comp = qois_vals[:, qois_name_list.index(\"vs\") - 1]\n",
    "Phi_s_lst_comp = [vs_/V0 for vs_ in vs_lst_comp]"
   ]
  },
  {
   "attachments": {},
   "cell_type": "markdown",
   "metadata": {},
   "source": [
    "### Plot"
   ]
  },
  {
   "cell_type": "code",
   "execution_count": null,
   "metadata": {},
   "outputs": [],
   "source": [
    "Phi_s_macro_lst = [Phi_s0]*len(eps_lst_incomp) # Macroscopic model response\n",
    "\n",
    "plt.figure()\n",
    "plt.rc('xtick', labelsize=14)\n",
    "plt.rc('ytick', labelsize=14)\n",
    "plt.rc('legend', fontsize=12)\n",
    "plt.xlabel(r'$E_x,~E_y~()$', fontsize=16)\n",
    "plt.ylabel(r'$\\Phi_s$', fontsize=16)\n",
    "plt.plot(eps_lst_comp, Phi_s_lst_comp, '#084594')\n",
    "plt.plot(eps_lst_incomp, Phi_s_lst_incomp, '#084594', linestyle='dashed')\n",
    "plt.plot(eps_lst_incomp, Phi_s_macro_lst, '#99000D')\n",
    "plt.legend(['Microscopic model - compressible solid', 'Microscopic model - quasi-incompressible solid', 'Macroscopic model'])\n",
    "plt.xlim(0.  , 0.5 )\n",
    "plt.ylim(0.18, 0.42)\n",
    "plt.show()\n",
    "# plt.savefig('Phi-s_E.pdf', bbox_inches='tight') "
   ]
  },
  {
   "attachments": {},
   "cell_type": "markdown",
   "metadata": {},
   "source": [
    "## $\\Phi_s  -p_f$"
   ]
  },
  {
   "cell_type": "code",
   "execution_count": null,
   "metadata": {},
   "outputs": [],
   "source": [
    "load_params = {}\n",
    "load_params[\"pf\"] = 0.5\n",
    "load_params[\"sigma_bar_01\"] = 0.0\n",
    "load_params[\"sigma_bar_10\"] = 0.0\n",
    "load_params[\"U_bar_00\"] = 0.\n",
    "load_params[\"U_bar_11\"] = 0."
   ]
  },
  {
   "attachments": {},
   "cell_type": "markdown",
   "metadata": {},
   "source": [
    "### Incompressible solid"
   ]
  },
  {
   "cell_type": "code",
   "execution_count": null,
   "metadata": {},
   "outputs": [],
   "source": [
    "Es = 1\n",
    "nus = 0.499\n",
    "mat_params = {\"model\":\"CGNH\", \"parameters\":{\"E\":Es, \"nu\":nus}}"
   ]
  },
  {
   "cell_type": "code",
   "execution_count": null,
   "metadata": {},
   "outputs": [],
   "source": [
    "dmech.run_HollowBox_MicroPoroHyperelasticity(\n",
    "    dim=2,\n",
    "    mesh=mesh,\n",
    "    mat_params=mat_params,\n",
    "    load_params=load_params,\n",
    "    step_params={\"Deltat\":1., \"dt_ini\":0.1, \"dt_min\":0.05, \"dt_max\":0.05},\n",
    "    res_basename=res_basename,\n",
    "    verbose=1,\n",
    "    write_qois_limited_precision=False)\n",
    "\n",
    "qois_vals = numpy.loadtxt(qois_filename)\n",
    "qois_name_list = open(qois_filename).readline().split()\n",
    "pf_lst_incomp = qois_vals[:, qois_name_list.index(\"p_f\") - 1]\n",
    "vs_lst_incomp = qois_vals[:, qois_name_list.index(\"vs\") - 1]\n",
    "Phi_s_lst_incomp = [vs_/V0 for vs_ in vs_lst_incomp]"
   ]
  },
  {
   "attachments": {},
   "cell_type": "markdown",
   "metadata": {},
   "source": [
    "### Compressible solid"
   ]
  },
  {
   "cell_type": "code",
   "execution_count": null,
   "metadata": {},
   "outputs": [],
   "source": [
    "Es = 1.\n",
    "nus = 0.2\n",
    "mat_params = {\"model\":\"CGNH\", \"parameters\":{\"E\":Es, \"nu\":nus}}"
   ]
  },
  {
   "cell_type": "code",
   "execution_count": null,
   "metadata": {},
   "outputs": [],
   "source": [
    "dmech.run_HollowBox_MicroPoroHyperelasticity(\n",
    "    dim=2,\n",
    "    mesh=mesh,\n",
    "    mat_params=mat_params,\n",
    "    load_params=load_params,\n",
    "    step_params={\"Deltat\":1., \"dt_ini\":0.1, \"dt_min\":0.05, \"dt_max\":0.05},\n",
    "    res_basename=res_basename,\n",
    "    verbose=1,\n",
    "    write_qois_limited_precision=False)\n",
    "\n",
    "qois_vals = numpy.loadtxt(qois_filename)\n",
    "qois_name_list = open(qois_filename).readline().split()\n",
    "pf_lst_comp = qois_vals[:, qois_name_list.index(\"p_f\") - 1]\n",
    "vs_lst_comp = qois_vals[:, qois_name_list.index(\"vs\") - 1]\n",
    "Phi_s_lst_comp = [vs_/V0 for vs_ in vs_lst_comp]"
   ]
  },
  {
   "attachments": {},
   "cell_type": "markdown",
   "metadata": {},
   "source": [
    "### Plot"
   ]
  },
  {
   "cell_type": "code",
   "execution_count": null,
   "metadata": {},
   "outputs": [],
   "source": [
    "Phi_s_macro_lst = [Phi_s0]*len(pf_lst_incomp) # Macroscopic model response\n",
    "\n",
    "plt.figure()\n",
    "plt.rc('xtick', labelsize=14)\n",
    "plt.rc('ytick', labelsize=14)\n",
    "plt.rc('legend', fontsize=12)\n",
    "plt.xlabel(r'$p_f~(kPa)$', fontsize=16)\n",
    "plt.ylabel(r'$\\Phi_s$', fontsize=16)\n",
    "plt.plot(pf_lst_comp, Phi_s_lst_comp, '#084594')\n",
    "plt.plot(pf_lst_incomp, Phi_s_lst_incomp, '#084594', linestyle='dashed')\n",
    "plt.plot(pf_lst_incomp, Phi_s_macro_lst, '#99000D')\n",
    "plt.legend(['Microscopic model - compressible solid', 'Microscopic model - quasi-incompressible solid', 'Macroscopic model'])\n",
    "plt.xlim(0.  , 0.5 )\n",
    "plt.ylim(0.18, 0.42)\n",
    "plt.show()\n",
    "# plt.savefig('Phi-s_p-f.pdf', bbox_inches='tight') "
   ]
  }
 ],
 "metadata": {
  "kernelspec": {
   "display_name": "all",
   "language": "python",
   "name": "python3"
  },
  "language_info": {
   "codemirror_mode": {
    "name": "ipython",
    "version": 3
   },
   "file_extension": ".py",
   "mimetype": "text/x-python",
   "name": "python",
   "nbconvert_exporter": "python",
   "pygments_lexer": "ipython3",
   "version": "3.8.12"
  },
  "orig_nbformat": 4
 },
 "nbformat": 4,
 "nbformat_minor": 2
}
