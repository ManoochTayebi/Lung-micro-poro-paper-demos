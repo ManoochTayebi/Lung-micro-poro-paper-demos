{
 "cells": [
  {
   "cell_type": "markdown",
   "metadata": {},
   "source": [
    "# Figure 7"
   ]
  },
  {
   "cell_type": "markdown",
   "metadata": {},
   "source": [
    "## Imports"
   ]
  },
  {
   "cell_type": "code",
   "execution_count": null,
   "metadata": {},
   "outputs": [],
   "source": [
    "import dolfin\n",
    "import numpy\n",
    "\n",
    "import dolfin_mech                    as dmech\n",
    "import matplotlib.pyplot              as plt\n",
    "import micro_poro_structure_generator as gen"
   ]
  },
  {
   "cell_type": "markdown",
   "metadata": {},
   "source": [
    "## Loading"
   ]
  },
  {
   "cell_type": "code",
   "execution_count": null,
   "metadata": {},
   "outputs": [],
   "source": [
    "qois_filename     = \"Fig7-qois.dat\"\n",
    "res_basename      = \"Fig7\"\n",
    "seeds_filename    = \"ch7.dat\"\n",
    "mesh_filebasename = \"ch7-mesh\"\n",
    "\n",
    "\n",
    "load_params = {}\n",
    "load_params[\"pf\"] = 4\n",
    "load_params[\"sigma_bar_00\"] = 0.0\n",
    "load_params[\"sigma_bar_11\"] = 0.0\n",
    "load_params[\"sigma_bar_01\"] = 0.0\n",
    "load_params[\"sigma_bar_10\"] = 0.0"
   ]
  },
  {
   "cell_type": "markdown",
   "metadata": {},
   "source": [
    "## Printing function"
   ]
  },
  {
   "cell_type": "code",
   "execution_count": null,
   "metadata": {},
   "outputs": [],
   "source": [
    "def graph_printer(thickness, params, linestyle):\n",
    "    \n",
    "    domain_y = 1\n",
    "    domain_x = domain_y * numpy.sqrt(3)/1.5/2\n",
    "    # thickness = 0.12\n",
    "\n",
    "    gen.generate_seeds_semi_regular(\n",
    "        DoI = 0.,\n",
    "        row = 1,\n",
    "        domain_y = domain_y,\n",
    "        seeds_filename = seeds_filename)\n",
    "    phi = gen.generate_mesh_2D_rectangle_w_voronoi_inclusions(\n",
    "        mesh_filename = mesh_filebasename,\n",
    "        seeds_filename = seeds_filename,\n",
    "        h = thickness,\n",
    "        lcar = thickness/5,\n",
    "        domain_x = domain_x,\n",
    "        domain_y = domain_y,\n",
    "        shift_y = 0.,\n",
    "        remove_seeds = True)\n",
    "\n",
    "    mesh = dolfin.Mesh()\n",
    "    dolfin.XDMFFile(mesh_filebasename+\".xdmf\").read(mesh)\n",
    "    dV = dolfin.Measure(\"dx\",domain=mesh)\n",
    "\n",
    "    coord = mesh.coordinates()\n",
    "    xmax = max(coord[:,0]); xmin = min(coord[:,0])\n",
    "    ymax = max(coord[:,1]); ymin = min(coord[:,1])\n",
    "\n",
    "    V = (xmax - xmin)*(ymax - ymin)\n",
    "    VS0 = dolfin.assemble(dolfin.Constant(1) * dV)\n",
    "    Vf0 = V - VS0\n",
    "\n",
    "    mat_params = {\"model\":\"exponentialneoHookean\", \"parameters\":{\"beta1\":params[0], \"beta2\":params[1], \"beta3\":params[2], \"beta4\":100*params[0], \"alpha\":params[3]}}  \n",
    "    dmech.run_HollowBox_MicroPoroHyperelasticity(\n",
    "        dim=2,\n",
    "        mesh=mesh,\n",
    "        mat_params=mat_params,\n",
    "        load_params=load_params,\n",
    "        step_params={\"Deltat\":1., \"dt_ini\":0.1, \"dt_min\":0.001, \"dt_max\":0.005},\n",
    "        res_basename=res_basename,\n",
    "        write_qois_limited_precision=False,\n",
    "        verbose=1\n",
    "    )\n",
    "\n",
    "    qois_vals = numpy.loadtxt(qois_filename)\n",
    "    qois_name_list = open(qois_filename).readline().split()\n",
    "    pf_lst = qois_vals[:, qois_name_list.index(\"p_f\") - 1]*10.20\n",
    "    vf_lst = qois_vals[:, qois_name_list.index(\"vf\") - 1]\n",
    "\n",
    "    for i in range(1, len(vf_lst)):\n",
    "        slope = (vf_lst[i] - vf_lst[i - 1])/(pf_lst[i] - pf_lst[i - 1])\n",
    "        if slope < 0.0005:\n",
    "            break\n",
    "\n",
    "    vf_asym = vf_lst[i]\n",
    "    vf_lst = [vf_/vf_asym *100 for vf_ in vf_lst]\n",
    "\n",
    "    print(\"pf_asym: {:.2f} cmH2O\".format(pf_lst[i]))\n",
    "\n",
    "    \n",
    "\n",
    "    plt.plot(pf_lst, vf_lst, '#084594', label='$\\Phi_{f0} = '+str('{:.2f}'.format(phi * 100))+'\\%$', linestyle=linestyle)\n",
    "\n",
    "    plt.xlim(0, 25)\n",
    "    plt.legend(loc = 'lower right', fontsize=12, shadow=True)"
   ]
  },
  {
   "cell_type": "markdown",
   "metadata": {},
   "source": [
    "## Running the printing function for different porosities"
   ]
  },
  {
   "cell_type": "code",
   "execution_count": null,
   "metadata": {},
   "outputs": [],
   "source": [
    "plt.rc('xtick' , labelsize=14)\n",
    "plt.rc('ytick' , labelsize=14)\n",
    "plt.rc('legend', fontsize=12)\n",
    "plt.xlabel(r'$p_f~(cm H_2O)$'  , fontsize=16)\n",
    "plt.ylabel(r'$Volume~(\\% TLC)$', fontsize=16)\n",
    "\n",
    "params = [0.08855929243285596, 0.011039510924095856, 0.6281487879627474, 3.409513378002055]\n",
    "graph_printer(0.18, params, 'dashdot')\n",
    "graph_printer(0.12, params, None)\n",
    "graph_printer(0.09, params, 'dashed')\n",
    "plt.savefig('Porosity_compare.pdf',bbox_inches='tight')\n",
    "\n",
    "plt.show()"
   ]
  }
 ],
 "metadata": {
  "kernelspec": {
   "display_name": "all",
   "language": "python",
   "name": "python3"
  },
  "language_info": {
   "codemirror_mode": {
    "name": "ipython",
    "version": 3
   },
   "file_extension": ".py",
   "mimetype": "text/x-python",
   "name": "python",
   "nbconvert_exporter": "python",
   "pygments_lexer": "ipython3",
   "version": "3.8.12"
  },
  "orig_nbformat": 4
 },
 "nbformat": 4,
 "nbformat_minor": 2
}
