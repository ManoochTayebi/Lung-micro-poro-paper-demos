{
 "cells": [
  {
   "attachments": {},
   "cell_type": "markdown",
   "metadata": {},
   "source": [
    "# Figure 9"
   ]
  },
  {
   "attachments": {},
   "cell_type": "markdown",
   "metadata": {},
   "source": [
    "## Imports"
   ]
  },
  {
   "cell_type": "code",
   "execution_count": null,
   "metadata": {},
   "outputs": [],
   "source": [
    "import dolfin\n",
    "import matplotlib.pyplot as plt\n",
    "import numpy\n",
    "import sympy\n",
    "\n",
    "import dolfin_mech                    as dmech\n",
    "import micro_poro_structure_generator as gen"
   ]
  },
  {
   "attachments": {},
   "cell_type": "markdown",
   "metadata": {},
   "source": [
    "## Parameters"
   ]
  },
  {
   "attachments": {},
   "cell_type": "markdown",
   "metadata": {},
   "source": [
    "### Geometry"
   ]
  },
  {
   "cell_type": "code",
   "execution_count": null,
   "metadata": {},
   "outputs": [],
   "source": [
    "seeds_filename = \"Fig9-seeds.dat\"\n",
    "mesh_filebasename = \"Fig9-mesh\"\n",
    "\n",
    "domain_y = 1.\n",
    "domain_x = domain_y * numpy.sqrt(3)/1.5/2\n",
    "thickness = 0.092\n",
    "\n",
    "gen.generate_seeds_semi_regular(\n",
    "    DoI=0.,\n",
    "    row=1,\n",
    "    domain_y=domain_y,\n",
    "    seeds_filename=seeds_filename)\n",
    "gen.generate_mesh_2D_rectangle_w_voronoi_inclusions(\n",
    "    mesh_filename=mesh_filebasename,\n",
    "    seeds_filename=seeds_filename,\n",
    "    h=thickness,\n",
    "    lcar=thickness/5,\n",
    "    domain_x=domain_x,\n",
    "    domain_y=domain_y,\n",
    "    shift_y=0.,\n",
    "    remove_seeds=True)\n",
    "\n",
    "mesh = dolfin.Mesh()\n",
    "dolfin.XDMFFile(mesh_filebasename+\".xdmf\").read(mesh)\n",
    "\n",
    "mesh_coord = mesh.coordinates()\n",
    "mesh_xmax = max(mesh_coord[:,0]); mesh_xmin = min(mesh_coord[:,0])\n",
    "mesh_ymax = max(mesh_coord[:,1]); mesh_ymin = min(mesh_coord[:,1])\n",
    "mesh_bbox_vertices = numpy.array(\n",
    "    [[mesh_xmin, mesh_ymin],\n",
    "     [mesh_xmax, mesh_ymin],\n",
    "     [mesh_xmax, mesh_ymax],\n",
    "     [mesh_xmin, mesh_ymax]])\n",
    "mesh_bbox = [mesh_xmin, mesh_xmax, mesh_ymin, mesh_ymax]\n",
    "mesh_bbox_V0 = (mesh_xmax-mesh_xmin) * (mesh_ymax-mesh_ymin)\n",
    "dV = dolfin.Measure(\"dx\", domain=mesh)\n",
    "Vs0 = dolfin.assemble(dolfin.Constant(1.) * dV)\n",
    "Phis0 = Vs0/mesh_bbox_V0"
   ]
  },
  {
   "attachments": {},
   "cell_type": "markdown",
   "metadata": {},
   "source": [
    "### Solid material properties"
   ]
  },
  {
   "cell_type": "code",
   "execution_count": null,
   "metadata": {},
   "outputs": [],
   "source": [
    "Es = 1.\n",
    "nus_incomp = 0.499\n",
    "mat_params_incomp = {\"model\":\"CGNH\", \"parameters\":{\"E\":Es, \"nu\":nus_incomp}}\n",
    "nus_comp = 0.2\n",
    "mat_params_comp = {\"model\":\"CGNH\", \"parameters\":{\"E\":Es, \"nu\":nus_comp}}"
   ]
  },
  {
   "attachments": {},
   "cell_type": "markdown",
   "metadata": {},
   "source": [
    "### Loading"
   ]
  },
  {
   "cell_type": "code",
   "execution_count": null,
   "metadata": {},
   "outputs": [],
   "source": [
    "epsilon_max = 0.5\n",
    "\n",
    "pf_lst = [0., 0.25, 0.5, 1.]"
   ]
  },
  {
   "attachments": {},
   "cell_type": "markdown",
   "metadata": {},
   "source": [
    "## Quasi-incompressible solid"
   ]
  },
  {
   "attachments": {},
   "cell_type": "markdown",
   "metadata": {},
   "source": [
    "### Macroscopic model response"
   ]
  },
  {
   "cell_type": "code",
   "execution_count": null,
   "metadata": {},
   "outputs": [],
   "source": [
    "lmbda_macro, mu_macro = sympy.symbols(\"lambda, mu\")\n",
    "\n",
    "C_macro = sympy.MatrixSymbol(\"C\", 2, 2).as_explicit()\n",
    "I_C_macro = sympy.trace(C_macro)\n",
    "III_C_macro = sympy.det(C_macro)\n",
    "J_macro = sympy.sqrt(III_C_macro)\n",
    "\n",
    "W_skel  = (lmbda_macro/4) * (J_macro**2 - 1 - 2*sympy.ln(J_macro))\n",
    "W_skel += (mu_macro/2) * (I_C_macro - 2 - 2*sympy.ln(J_macro))\n",
    "\n",
    "Sigma_ter_macro = 2*sympy.diff(W_skel, C_macro)"
   ]
  },
  {
   "cell_type": "code",
   "execution_count": null,
   "metadata": {},
   "outputs": [],
   "source": [
    "eps = sympy.symbols(\"epsilon\")\n",
    "epsilon = sympy.Matrix(\n",
    "    [[eps,  0 ],\\\n",
    "     [ 0 , eps]])\n",
    "F = sympy.eye(2) + epsilon\n",
    "J = F.det()\n",
    "C = F.T * F\n",
    "\n",
    "Sigma_ter_macro = Sigma_ter_macro.subs(list(zip(C_macro, C))) # list & zip should not be needed, cf. https://github.com/sympy/sympy/issues/10589"
   ]
  },
  {
   "cell_type": "code",
   "execution_count": null,
   "metadata": {},
   "outputs": [],
   "source": [
    "homogenization_problem = dmech.HomogenizationProblem(\n",
    "    dim=2,\n",
    "    mesh=mesh,\n",
    "    mat_params=mat_params_incomp[\"parameters\"],\n",
    "    vertices=mesh_bbox_vertices,\n",
    "    vol=mesh_bbox_V0,\n",
    "    bbox=mesh_bbox)\n",
    "lmbda_tilde, mu_tilde = homogenization_problem.get_lambda_and_mu()\n",
    "Sigma_ter_macro_incomp = Sigma_ter_macro.subs(lmbda_macro, lmbda_tilde).subs(mu_macro, mu_tilde)"
   ]
  },
  {
   "cell_type": "code",
   "execution_count": null,
   "metadata": {},
   "outputs": [],
   "source": [
    "epsilon_macro_vals = numpy.linspace(0., epsilon_max, 100)\n",
    "Sigma_ter_macro_incomp_ = sympy.lambdify(eps, Sigma_ter_macro_incomp[0,0], modules=[\"numpy\"])\n",
    "Sigma_ter_macro_incomp_vals = Sigma_ter_macro_incomp_(epsilon_macro_vals)"
   ]
  },
  {
   "attachments": {},
   "cell_type": "markdown",
   "metadata": {},
   "source": [
    "### Microscopic model response"
   ]
  },
  {
   "cell_type": "code",
   "execution_count": null,
   "metadata": {},
   "outputs": [],
   "source": [
    "eps_lst = []\n",
    "Sigma_ter_lst = []\n",
    "for k_pf, pf in enumerate(pf_lst):\n",
    "\n",
    "    load_params = {}\n",
    "    load_params[\"U_bar_00_lst\"] = [0., epsilon_max]\n",
    "    load_params[\"sigma_bar_01_lst\"] = [0., 0.]\n",
    "    load_params[\"sigma_bar_10_lst\"] = [0., 0.]\n",
    "    load_params[\"U_bar_11_lst\"] = [0., epsilon_max]\n",
    "    load_params[\"pf_lst\"] = [pf, pf]\n",
    "\n",
    "    step_params = {}\n",
    "    step_params[\"n_steps\"] = 2\n",
    "    step_params[\"Deltat\"] = 1.\n",
    "    step_params[\"dt_ini\"] = 0.1\n",
    "    step_params[\"dt_min\"] = 0.01\n",
    "    step_params[\"dt_max\"] = 0.1\n",
    "\n",
    "    res_basename = \"Fig9\"\n",
    "    qois_filename = res_basename+\"-qois.dat\"\n",
    "\n",
    "    dmech.run_HollowBox_MicroPoroHyperelasticity(\n",
    "        dim=2,\n",
    "        mesh=mesh,\n",
    "        displacement_perturbation_degree=2,\n",
    "        quadrature_degree=4,\n",
    "        mat_params=mat_params_incomp,\n",
    "        load_params=load_params,\n",
    "        step_params=step_params,\n",
    "        res_basename=res_basename,\n",
    "        verbose=1,\n",
    "        write_qois_limited_precision=False)\n",
    "\n",
    "    qois_vals = numpy.loadtxt(qois_filename)\n",
    "    qois_name_list = open(qois_filename).readline().split()[1:]\n",
    "    eps_xx_lst = qois_vals[:, qois_name_list.index(\"U_bar_XX\")]\n",
    "    eps_yy_lst = qois_vals[:, qois_name_list.index(\"U_bar_YY\")]\n",
    "    sigma_xx_lst = qois_vals[:, qois_name_list.index(\"sigma_bar_XX\")]\n",
    "    sigma_yy_lst = qois_vals[:, qois_name_list.index(\"sigma_bar_YY\")]\n",
    "    p_lst = qois_vals[:, qois_name_list.index(\"p_f\")]\n",
    "\n",
    "    eps_lst.append(eps_xx_lst)\n",
    "    Sigma_ter_lst.append(numpy.empty(len(eps_xx_lst)))\n",
    "    for i in range(len(eps_xx_lst)):\n",
    "        U_bar = numpy.diag([eps_xx_lst[i], eps_yy_lst[i]])\n",
    "        F_bar = numpy.eye(2) + U_bar\n",
    "        J_bar = numpy.linalg.det(F_bar)\n",
    "        C_bar = F_bar.T * F_bar\n",
    "\n",
    "        sigma = numpy.diag([sigma_xx_lst[i], sigma_yy_lst[i]])\n",
    "        Sigma = J_bar * numpy.dot(numpy.linalg.inv(F_bar), numpy.dot(sigma, numpy.linalg.inv(F_bar.T)))\n",
    "        Sigma_ter_lst[-1][i] = (Sigma + p_lst[i] * J_bar * numpy.linalg.inv(C_bar))[0,0]"
   ]
  },
  {
   "attachments": {},
   "cell_type": "markdown",
   "metadata": {},
   "source": [
    "### Plot"
   ]
  },
  {
   "cell_type": "code",
   "execution_count": null,
   "metadata": {},
   "outputs": [],
   "source": [
    "plt.figure()\n",
    "plt.rc(\"xtick\", labelsize=14)\n",
    "plt.rc(\"ytick\", labelsize=14)\n",
    "plt.rc(\"legend\", fontsize=12)\n",
    "plt.xlabel(r\"$E_x,~E_y~()$\", fontsize=16)\n",
    "plt.ylabel(r\"$\\Sigma_{T}~(kPa)$\", fontsize=16)\n",
    "plt.plot(epsilon_macro_vals, Sigma_ter_macro_incomp_vals, \"#99000D\")\n",
    "plt.plot(eps_lst[0], Sigma_ter_lst[0], \"#084594\")\n",
    "plt.plot(eps_lst[1], Sigma_ter_lst[1], \"#2171B5\")\n",
    "plt.plot(eps_lst[2], Sigma_ter_lst[2], \"#4292C6\")\n",
    "plt.plot(eps_lst[3], Sigma_ter_lst[3], \"#6BAED6\")\n",
    "\n",
    "plt.legend([\"Macroscopic model \"r\"$\\bar{\\Sigma}_{T}$\"\", any\"r\"$~\\bar{p}_f$\", r\"Microscopic model $\\tilde{\\Sigma}_{T}$, $\\tilde{p}_f=0.00~(kPa)$\", r\"Microscopic model $\\tilde{\\Sigma}_{T}$, $\\tilde{p}_f=0.25~(kPa)$\", r\"Microscopic model $\\tilde{\\Sigma}_{T}$, $\\tilde{p}_f=0.5~(kPa)$\", r\"Microscopic model $\\tilde{\\Sigma}_{T}$, $\\tilde{p}_f=1.0~(kPa)$\"])\n",
    "plt.xlim(0., epsilon_max)\n",
    "plt.ylim(0., 0.12)\n",
    "plt.savefig(\"Fig9-incompressible.pdf\", bbox_inches=\"tight\")\n",
    "plt.show()"
   ]
  },
  {
   "attachments": {},
   "cell_type": "markdown",
   "metadata": {},
   "source": [
    "## Compressible solid"
   ]
  },
  {
   "attachments": {},
   "cell_type": "markdown",
   "metadata": {},
   "source": [
    "### Microscopic model response"
   ]
  },
  {
   "cell_type": "code",
   "execution_count": null,
   "metadata": {},
   "outputs": [],
   "source": [
    "eps_lst = []\n",
    "Sigma_ter_lst = []\n",
    "for k_pf, pf in enumerate(pf_lst):\n",
    "\n",
    "    load_params = {}\n",
    "    load_params[\"U_bar_00_lst\"] = [0., epsilon_max]\n",
    "    load_params[\"sigma_bar_01_lst\"] = [0., 0.]\n",
    "    load_params[\"sigma_bar_10_lst\"] = [0., 0.]\n",
    "    load_params[\"U_bar_11_lst\"] = [0., epsilon_max]\n",
    "    load_params[\"pf_lst\"] = [pf, pf]\n",
    "\n",
    "    step_params = {}\n",
    "    step_params[\"n_steps\"] = 2\n",
    "    step_params[\"Deltat\"] = 1.\n",
    "    step_params[\"dt_ini\"] = 0.1\n",
    "    step_params[\"dt_min\"] = 0.01\n",
    "    step_params[\"dt_max\"] = 0.1\n",
    "\n",
    "    res_basename = \"Fig9\"\n",
    "    qois_filename = res_basename+\"-qois.dat\"\n",
    "\n",
    "    dmech.run_HollowBox_MicroPoroHyperelasticity(\n",
    "        dim=2,\n",
    "        mesh=mesh,\n",
    "        displacement_perturbation_degree=2,\n",
    "        quadrature_degree=4,\n",
    "        mat_params=mat_params_comp,\n",
    "        load_params=load_params,\n",
    "        step_params=step_params,\n",
    "        res_basename=res_basename,\n",
    "        verbose=1,\n",
    "        write_qois_limited_precision=False)\n",
    "\n",
    "    qois_vals = numpy.loadtxt(qois_filename)\n",
    "    qois_name_list = open(qois_filename).readline().split()[1:]\n",
    "    eps_xx_lst = qois_vals[:, qois_name_list.index(\"U_bar_XX\")]\n",
    "    eps_yy_lst = qois_vals[:, qois_name_list.index(\"U_bar_YY\")]\n",
    "    sigma_xx_lst = qois_vals[:, qois_name_list.index(\"sigma_bar_XX\")]\n",
    "    sigma_yy_lst = qois_vals[:, qois_name_list.index(\"sigma_bar_YY\")]\n",
    "    p_lst = qois_vals[:, qois_name_list.index(\"p_f\")]\n",
    "\n",
    "    eps_lst.append(eps_xx_lst)\n",
    "    Sigma_ter_lst.append(numpy.empty(len(eps_xx_lst)))\n",
    "    for i in range(len(eps_xx_lst)):\n",
    "        U_bar = numpy.diag([eps_xx_lst[i], eps_yy_lst[i]])\n",
    "        F_bar = numpy.eye(2) + U_bar\n",
    "        J_bar = numpy.linalg.det(F_bar)\n",
    "        C_bar = F_bar.T * F_bar\n",
    "\n",
    "        sigma = numpy.diag([sigma_xx_lst[i], sigma_yy_lst[i]])\n",
    "        Sigma = J_bar * numpy.dot(numpy.linalg.inv(F_bar), numpy.dot(sigma, numpy.linalg.inv(F_bar.T)))\n",
    "        Sigma_ter_lst[-1][i] = (Sigma + p_lst[i] * J_bar * numpy.linalg.inv(C_bar))[0,0]"
   ]
  },
  {
   "attachments": {},
   "cell_type": "markdown",
   "metadata": {},
   "source": [
    "### Plot"
   ]
  },
  {
   "cell_type": "code",
   "execution_count": null,
   "metadata": {},
   "outputs": [],
   "source": [
    "plt.figure()\n",
    "plt.rc(\"xtick\", labelsize=14)\n",
    "plt.rc(\"ytick\", labelsize=14)\n",
    "plt.rc(\"legend\", fontsize=12)\n",
    "plt.xlabel(r\"$E_x,~E_y~()$\", fontsize=16)\n",
    "plt.ylabel(r\"$\\Sigma_{T}~(kPa)$\", fontsize=16)\n",
    "plt.plot(eps_lst[0], Sigma_ter_lst[0], \"#084594\")\n",
    "plt.plot(eps_lst[1], Sigma_ter_lst[1], \"#2171B5\")\n",
    "plt.plot(eps_lst[2], Sigma_ter_lst[2], \"#4292C6\")\n",
    "plt.plot(eps_lst[3], Sigma_ter_lst[3], \"#6BAED6\")\n",
    "\n",
    "plt.legend([r\"Microscopic model $\\tilde{\\Sigma}_{T}$, $\\tilde{p}_f=0.00~(kPa)$\", r\"Microscopic model $\\tilde{\\Sigma}_{T}$, $\\tilde{p}_f=0.25~(kPa)$\", r\"Microscopic model $\\tilde{\\Sigma}_{T}$, $\\tilde{p}_f=0.5~(kPa)$\", r\"Microscopic model $\\tilde{\\Sigma}_{T}$, $\\tilde{p}_f=1.0~(kPa)$\"])\n",
    "plt.xlim(0., epsilon_max)\n",
    "plt.ylim(0., 0.12)\n",
    "plt.savefig(\"Fig9-compressible.pdf\", bbox_inches=\"tight\")\n",
    "plt.show()"
   ]
  }
 ],
 "metadata": {
  "kernelspec": {
   "display_name": "all",
   "language": "python",
   "name": "python3"
  },
  "language_info": {
   "codemirror_mode": {
    "name": "ipython",
    "version": 3
   },
   "file_extension": ".py",
   "mimetype": "text/x-python",
   "name": "python",
   "nbconvert_exporter": "python",
   "pygments_lexer": "ipython3",
   "version": "3.8.12"
  },
  "orig_nbformat": 4
 },
 "nbformat": 4,
 "nbformat_minor": 2
}
