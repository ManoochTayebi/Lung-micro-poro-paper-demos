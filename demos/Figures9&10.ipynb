{
 "cells": [
  {
   "cell_type": "markdown",
   "metadata": {},
   "source": [
    "# Figure 9 & 10"
   ]
  },
  {
   "cell_type": "markdown",
   "metadata": {},
   "source": [
    "## Imports"
   ]
  },
  {
   "cell_type": "code",
   "execution_count": null,
   "metadata": {},
   "outputs": [],
   "source": [
    "import dolfin\n",
    "import numpy\n",
    "import sympy\n",
    "\n",
    "from numpy import linspace\n",
    "from sympy import lambdify\n",
    "from shapely.geometry import LineString\n",
    "\n",
    "import dolfin_mech                    as dmech\n",
    "import matplotlib.pyplot              as plt\n",
    "import micro_poro_structure_generator as gen"
   ]
  },
  {
   "cell_type": "markdown",
   "metadata": {},
   "source": [
    "## Importing experimental data"
   ]
  },
  {
   "cell_type": "code",
   "execution_count": null,
   "metadata": {},
   "outputs": [],
   "source": [
    "smith_PV_inflation_gamma_0 = numpy.load('smith_PV_inflation_gamma_0.npy')\n",
    "p_smith_PV_inflation_gamma_0 = smith_PV_inflation_gamma_0[:, 0]\n",
    "v_smith_PV_inflation_gamma_0 = smith_PV_inflation_gamma_0[:, 1]\n",
    "\n",
    "smith_PV_inflation_air_filled = numpy.load('smith_PV_inflation_air_filled.npy')\n",
    "p_smith_PV_inflation_air_filled = smith_PV_inflation_air_filled[:, 0]\n",
    "v_smith_PV_inflation_air_filled = smith_PV_inflation_air_filled[:, 1]\n",
    "\n",
    "\n",
    "smith_PV_deflation_gamma_0 = numpy.load('smith_PV_deflation_gamma_0.npy')\n",
    "p_smith_PV_deflation_gamma_0 = smith_PV_deflation_gamma_0[:, 0]\n",
    "v_smith_PV_deflation_gamma_0 = smith_PV_deflation_gamma_0[:, 1]\n",
    "\n",
    "smith_PV_deflation_air_filled = numpy.load('smith_PV_deflation_air_filled.npy')\n",
    "p_smith_PV_deflation_air_filled = smith_PV_deflation_air_filled[:, 0]\n",
    "v_smith_PV_deflation_air_filled = smith_PV_deflation_air_filled[:, 1]"
   ]
  },
  {
   "cell_type": "markdown",
   "metadata": {},
   "source": [
    "## Defining geometry"
   ]
  },
  {
   "cell_type": "code",
   "execution_count": null,
   "metadata": {},
   "outputs": [],
   "source": [
    "seeds_filename = \"Fig10.dat\"\n",
    "mesh_filebasename = \"Fig10-mesh\"\n",
    "qois_filename = \"Fig10-qois.dat\"\n",
    "res_basename = \"Fig10\"\n",
    "\n",
    "domain_y = 0.1 * 0.8\n",
    "domain_x = domain_y * numpy.sqrt(3)/1.5/2\n",
    "thickness = 0.012 * 0.8\n",
    "\n",
    "gen.generate_seeds_semi_regular(\n",
    "    DoI = 0.,\n",
    "    row = 1,\n",
    "    domain_y = domain_y,\n",
    "    seeds_filename = seeds_filename)\n",
    "gen.generate_mesh_2D_rectangle_w_voronoi_inclusions(\n",
    "    mesh_filename = mesh_filebasename,\n",
    "    seeds_filename = seeds_filename,\n",
    "    h = thickness,\n",
    "    lcar = thickness/5,\n",
    "    domain_x = domain_x,\n",
    "    domain_y = domain_y,\n",
    "    shift_y = 0.,\n",
    "    remove_seeds = True)\n",
    "\n",
    "mesh = dolfin.Mesh()\n",
    "dolfin.XDMFFile(mesh_filebasename+\".xdmf\").read(mesh)\n",
    "dV = dolfin.Measure(\"dx\",domain=mesh)\n",
    "\n",
    "coord = mesh.coordinates()\n",
    "xmax = max(coord[:,0]); xmin = min(coord[:,0])\n",
    "ymax = max(coord[:,1]); ymin = min(coord[:,1])\n",
    "\n",
    "V = (xmax - xmin)*(ymax - ymin)\n",
    "VS0 = dolfin.assemble(dolfin.Constant(1) * dV)\n",
    "Vf0 = V - VS0"
   ]
  },
  {
   "cell_type": "markdown",
   "metadata": {},
   "source": [
    "## Loading & Parameters"
   ]
  },
  {
   "cell_type": "code",
   "execution_count": null,
   "metadata": {},
   "outputs": [],
   "source": [
    "params = [0.08855929243285596, 0.011039510924095856, 0.6281487879627474, 3.409513378002055]\n",
    "mat_params = {\"model\":\"exponential\", \"parameters\":{\"beta1\":params[0], \"beta2\":params[1], \"beta3\":params[2], \"alpha\":params[3]}}\n",
    "\n",
    "load_params = {}\n",
    "load_params[\"pf\"] = 4\n",
    "load_params[\"sigma_bar_00\"] = 0.0\n",
    "load_params[\"sigma_bar_11\"] = 0.0\n",
    "load_params[\"sigma_bar_01\"] = 0.0\n",
    "load_params[\"sigma_bar_10\"] = 0.0"
   ]
  },
  {
   "cell_type": "markdown",
   "metadata": {},
   "source": [
    "## Model response"
   ]
  },
  {
   "cell_type": "code",
   "execution_count": null,
   "metadata": {},
   "outputs": [],
   "source": [
    "dmech.run_HollowBox_MicroPoroHyperelasticity(\n",
    "    dim=2,\n",
    "    mesh=mesh,\n",
    "    mat_params=mat_params,\n",
    "    load_params=load_params,\n",
    "    step_params={\"Deltat\":1., \"dt_ini\":0.1, \"dt_min\":0.005, \"dt_max\":0.1},\n",
    "    res_basename=res_basename,\n",
    "    write_qois_limited_precision=False,\n",
    "    verbose=1\n",
    ")\n",
    "\n",
    "qois_vals = numpy.loadtxt(qois_filename)\n",
    "qois_name_list = open(qois_filename).readline().split()\n",
    "pf_lst = qois_vals[:, qois_name_list.index(\"p_f\") - 1]*10.20\n",
    "vf_lst = qois_vals[:, qois_name_list.index(\"vf\") - 1]\n",
    "\n",
    "for i in range(1, len(vf_lst)):\n",
    "    slope = (vf_lst[i] - vf_lst[i - 1])/(pf_lst[i] - pf_lst[i - 1])\n",
    "    if slope < 0.1 * Vf0:\n",
    "        break\n",
    "\n",
    "vf_asym = vf_lst[i]\n",
    "vf_lst = [vf_/vf_asym *100 for vf_ in vf_lst]\n",
    "S_lst = qois_vals[:, qois_name_list.index(\"S_area\") - 1]\n",
    "S_hat_gamma_0_lst = [S/S_lst[0] for S in S_lst]\n",
    "\n",
    "vf_gamma_0_lst = vf_lst\n",
    "pf_gamma_0_lst = pf_lst\n",
    "\n",
    "\n",
    "def loading_model(gamma, p_ini):\n",
    "    gamma = gamma * 1e-3\n",
    "    load_params = {}\n",
    "    load_params[\"pf_lst\"] = [p_ini, 3]\n",
    "    load_params[\"sigma_bar_00_lst\"] = [0.0, 0.0]\n",
    "    load_params[\"sigma_bar_11_lst\"] = [0.0, 0.0]\n",
    "    load_params[\"sigma_bar_01_lst\"] = [0.0, 0.0]\n",
    "    load_params[\"sigma_bar_10_lst\"] = [0.0, 0.0]\n",
    "    load_params[\"gamma_lst\"] = [gamma, gamma]\n",
    "\n",
    "    step_params = {}\n",
    "    step_params[\"n_steps\"] = 2\n",
    "    step_params[\"Deltat\"] = 1.\n",
    "    step_params[\"dt_ini\"] = 0.01\n",
    "    step_params[\"dt_min\"] = 0.0005\n",
    "    step_params[\"dt_max\"] = 0.005\n",
    "\n",
    "    dmech.run_HollowBox_MicroPoroHyperelasticity(\n",
    "        dim=2,\n",
    "        mesh=mesh,\n",
    "        mat_params=mat_params,\n",
    "        load_params=load_params,\n",
    "        step_params=step_params,\n",
    "        res_basename=res_basename,\n",
    "        write_qois_limited_precision=False,\n",
    "        verbose=1\n",
    "    )\n",
    "\n",
    "    qois_vals = numpy.loadtxt(qois_filename)\n",
    "    qois_name_list = open(qois_filename).readline().split()\n",
    "\n",
    "    \n",
    "    pf_lst = qois_vals[:, qois_name_list.index(\"p_f\") - 1]*10.20\n",
    "    vf_lst = qois_vals[:, qois_name_list.index(\"vf\") - 1]\n",
    "    vf_lst = [vf_/vf_asym *100 for vf_ in vf_lst]\n",
    "    S_lst = qois_vals[:, qois_name_list.index(\"S_area\") - 1]\n",
    "    S_hat_lst = [S/S_lst[0] for S in S_lst]\n",
    "\n",
    "    index = numpy.argmin(numpy.abs(pf_lst - p_ini*10.20), axis=None)\n",
    "\n",
    "    return pf_lst[index:], vf_lst[index:], S_hat_lst[index:]"
   ]
  },
  {
   "cell_type": "code",
   "execution_count": null,
   "metadata": {},
   "outputs": [],
   "source": [
    "model_response_lst = []\n",
    "model_response_lst.append([0, loading_model(0, 0.)])\n",
    "model_response_lst.append([3, loading_model(3, 0.1)])\n",
    "model_response_lst.append([5, loading_model(5, 0.1)])\n",
    "model_response_lst.append([7, loading_model(7, 0.3)])\n",
    "model_response_lst.append([10, loading_model(10, 0.3)])\n",
    "model_response_lst.append([28, loading_model(28, 1.6)])\n",
    "model_response_lst.append([30, loading_model(30, 1.8)])"
   ]
  },
  {
   "cell_type": "markdown",
   "metadata": {},
   "source": [
    "## Plot"
   ]
  },
  {
   "cell_type": "code",
   "execution_count": null,
   "metadata": {},
   "outputs": [],
   "source": [
    "plt.rc('xtick', labelsize=14)\n",
    "plt.rc('ytick', labelsize=14)\n",
    "plt.rc('legend', fontsize=12)\n",
    "plt.xlabel(r'$p_f~(cm H_2O)$', fontsize=16)\n",
    "plt.ylabel(r'$Volume~(\\% TLC)$', fontsize=16)\n",
    "\n",
    "plt.plot(p_smith_PV_deflation_gamma_0, v_smith_PV_deflation_gamma_0, '#D94801', linestyle='dotted', label='[Smith, 1986], deflation, $\\gamma = 0~dyn/cm$')\n",
    "plt.plot(p_smith_PV_inflation_gamma_0, v_smith_PV_inflation_gamma_0, '#D94801', label='[Smith, 1986], inflation, $\\gamma = 0~dyn/cm$')\n",
    "\n",
    "plt.plot(model_response_lst[0][1][0], model_response_lst[0][1][1], '#084594', label='Model, $D_{alv} = 54~\\mu m$, $\\gamma =$' +str(model_response_lst[0][0])+ '$~dyn/cm$')\n",
    "plt.plot(model_response_lst[1][1][0], model_response_lst[1][1][1], '#2171B5', label='Model, $D_{alv} = 54~\\mu m$, $\\gamma =$' +str(model_response_lst[1][0])+ '$~dyn/cm$')\n",
    "plt.plot(model_response_lst[2][1][0], model_response_lst[2][1][1], '#4292C6', label='Model, $D_{alv} = 54~\\mu m$, $\\gamma =$' +str(model_response_lst[2][0])+ '$~dyn/cm$')\n",
    "plt.plot(model_response_lst[3][1][0], model_response_lst[3][1][1], '#6BAED6', label='Model, $D_{alv} = 54~\\mu m$, $\\gamma =$' +str(model_response_lst[3][0])+ '$~dyn/cm$')\n",
    "plt.plot(model_response_lst[4][1][0], model_response_lst[4][1][1], '#9ECAE1', label='Model, $D_{alv} = 54~\\mu m$, $\\gamma =$' +str(model_response_lst[4][0])+ '$~dyn/cm$')\n",
    "plt.plot(model_response_lst[5][1][0], model_response_lst[5][1][1], '#C6DBEF', label='Model, $D_{alv} = 54~\\mu m$, $\\gamma =$' +str(model_response_lst[5][0])+ '$~dyn/cm$')\n",
    "plt.plot(model_response_lst[6][1][0], model_response_lst[6][1][1], '#DEEBF7', label='Model, $D_{alv} = 54~\\mu m$, $\\gamma =$' +str(model_response_lst[6][0])+ '$~dyn/cm$')\n",
    "\n",
    "plt.plot(p_smith_PV_deflation_air_filled, v_smith_PV_deflation_air_filled, '#D94801', linestyle='dashdot', label='[Smith, 1986], air-filled, deflation')\n",
    "plt.plot(p_smith_PV_inflation_air_filled, v_smith_PV_inflation_air_filled, '#D94801', linestyle='dashed', label='[Smith, 1986], air-filled, inflation')\n",
    "\n",
    "plt.xlim(0, 25)\n",
    "plt.ylim(0, 115)\n",
    "plt.legend(loc = 'lower right', fontsize=12, bbox_to_anchor=(1.8, 0.), shadow=True)\n",
    "plt.savefig('smith_intersect.pdf',bbox_inches='tight')\n"
   ]
  },
  {
   "cell_type": "markdown",
   "metadata": {},
   "source": [
    "## Intersection points"
   ]
  },
  {
   "cell_type": "code",
   "execution_count": null,
   "metadata": {},
   "outputs": [],
   "source": [
    "def intersect(lst, reference):\n",
    "    p_lst = lst[0]\n",
    "    v_lst = lst[1]\n",
    "    S_lst = lst[2]\n",
    "    pf_reference = reference[:, 0]\n",
    "    vf_reference = reference[:, 1]\n",
    "    first_line = LineString(numpy.column_stack((p_lst, v_lst)))\n",
    "    second_line = LineString(numpy.column_stack((pf_reference, vf_reference)))\n",
    "    intersection = first_line.intersection(second_line)\n",
    "    gamma_S = intersection.x\n",
    "    v = intersection.y\n",
    "\n",
    "    first_line = LineString(numpy.column_stack((p_lst, S_lst)))\n",
    "    second_line = LineString(numpy.column_stack((len(p_lst)*[gamma_S], S_lst)))\n",
    "    intersection = first_line.intersection(second_line)\n",
    "    return intersection.y, v"
   ]
  },
  {
   "cell_type": "code",
   "execution_count": null,
   "metadata": {},
   "outputs": [],
   "source": [
    "for i in range (1, len(model_response_lst)):\n",
    "    model_response_lst[i].append(intersect(model_response_lst[i][1], smith_PV_deflation_air_filled))\n",
    "\n",
    "gamma_lst_def = [sublist[0]/30 for sublist in model_response_lst[1:]]\n",
    "S_intersect_def = [sublist[2][0] for sublist in model_response_lst[1:]]\n",
    "gamma_lst_def = [0] + gamma_lst_def\n",
    "S_intersect_def = [1] + S_intersect_def\n",
    "\n",
    "for i in range (2, len(model_response_lst)):\n",
    "    model_response_lst[i].append(intersect(model_response_lst[i][1], smith_PV_inflation_air_filled))\n",
    "\n",
    "gamma_lst_inf = [sublist[0]/30 for sublist in model_response_lst[2:]]\n",
    "S_intersect_inf = [sublist[3][0] for sublist in model_response_lst[2:]]\n",
    "gamma_lst_inf = [0] + gamma_lst_inf\n",
    "S_intersect_inf = [1] + S_intersect_inf"
   ]
  },
  {
   "cell_type": "code",
   "execution_count": null,
   "metadata": {},
   "outputs": [],
   "source": [
    "S_hat = sympy.symbols(\"S_hat\")\n",
    "\n",
    "gamma_S_iden_def =  1.030747711797792/(1 + (S_hat/2.1708848554526874)**(-14.828598856766776))\n",
    "gamma_S_iden_inf = 1.0130287663205635/(1 + (S_hat/1.6742366271475184)**(-10.288589574038403))\n",
    "\n",
    "lam_def = lambdify(S_hat, gamma_S_iden_def, modules=['numpy'])\n",
    "lam_inf = lambdify(S_hat, gamma_S_iden_inf, modules=['numpy'])\n",
    "\n",
    "S_hat_vals = linspace(1, 3, 100)\n",
    "gamma_S_iden_vals_deflation = lam_def(S_hat_vals)\n",
    "gamma_S_iden_vals_inflation = lam_inf(S_hat_vals)\n",
    "\n",
    "plt.rc('xtick', labelsize=14)\n",
    "plt.rc('ytick', labelsize=14)\n",
    "plt.rc('legend', fontsize=12)\n",
    "plt.xlabel(r'$S^*$', fontsize=16)\n",
    "plt.ylabel(r'$\\gamma^*$', fontsize=16)\n",
    "\n",
    "plt.plot(S_intersect_inf, gamma_lst_inf, 'o', color='#084594')\n",
    "plt.plot(S_intersect_def, gamma_lst_def, 'o', color='#238B45')\n",
    "plt.plot(S_hat_vals, gamma_S_iden_vals_inflation, '#084594', linestyle = 'dashed', label='Inflation')\n",
    "plt.plot(S_hat_vals, gamma_S_iden_vals_deflation, '#238B45', linestyle = 'dashed', label='Deflation')\n",
    "plt.legend(loc = 'lower right', fontsize=12, shadow=True)\n",
    "plt.xlim(1, 2.8)\n",
    "plt.savefig('inf_def_fit.pdf',bbox_inches='tight')"
   ]
  }
 ],
 "metadata": {
  "kernelspec": {
   "display_name": "all",
   "language": "python",
   "name": "python3"
  },
  "language_info": {
   "codemirror_mode": {
    "name": "ipython",
    "version": 3
   },
   "file_extension": ".py",
   "mimetype": "text/x-python",
   "name": "python",
   "nbconvert_exporter": "python",
   "pygments_lexer": "ipython3",
   "version": "3.8.12"
  }
 },
 "nbformat": 4,
 "nbformat_minor": 2
}
