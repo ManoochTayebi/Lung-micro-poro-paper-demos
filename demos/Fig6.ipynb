{
 "cells": [
  {
   "attachments": {},
   "cell_type": "markdown",
   "metadata": {},
   "source": [
    "# Figure 6"
   ]
  },
  {
   "attachments": {},
   "cell_type": "markdown",
   "metadata": {},
   "source": [
    "## Imports"
   ]
  },
  {
   "cell_type": "code",
   "execution_count": 1,
   "metadata": {},
   "outputs": [],
   "source": [
    "import dolfin\n",
    "import matplotlib.pyplot as plt\n",
    "import numpy\n",
    "import scipy\n",
    "import sympy\n",
    "import sys\n",
    "\n",
    "import dolfin_mech                    as dmech\n",
    "import micro_poro_structure_generator as gen"
   ]
  },
  {
   "attachments": {},
   "cell_type": "markdown",
   "metadata": {},
   "source": [
    "## Defining geometry, kinematics, loading and material parameters"
   ]
  },
  {
   "cell_type": "code",
   "execution_count": 2,
   "metadata": {},
   "outputs": [
    {
     "name": "stdout",
     "output_type": "stream",
     "text": [
      "[[0.28867513 0.25      ]\n",
      " [0.         0.75      ]\n",
      " [0.8660254  0.25      ]\n",
      " [0.57735027 0.75      ]]\n",
      "Info    : Clearing all models and views...\n",
      "Info    : Done clearing all models and views\n",
      "Info    : Meshing 1D...\n",
      "Info    : [  0%] Meshing curve 122 (Line)\n",
      "Info    : [ 10%] Meshing curve 123 (Line)\n",
      "Info    : [ 10%] Meshing curve 124 (Line)\n",
      "Info    : [ 20%] Meshing curve 152 (Line)\n",
      "Info    : [ 20%] Meshing curve 153 (Line)\n",
      "Info    : [ 20%] Meshing curve 154 (Line)\n",
      "Info    : [ 30%] Meshing curve 155 (Line)\n",
      "Info    : [ 30%] Meshing curve 156 (Line)\n",
      "Info    : [ 30%] Meshing curve 157 (Line)\n",
      "Info    : [ 40%] Meshing curve 158 (Line)\n",
      "Info    : [ 40%] Meshing curve 159 (Line)\n",
      "Info    : [ 40%] Meshing curve 160 (Line)\n",
      "Info    : [ 50%] Meshing curve 161 (Line)\n",
      "Info    : [ 50%] Meshing curve 162 (Line)\n",
      "Info    : [ 50%] Meshing curve 163 (Line)\n",
      "Info    : [ 60%] Meshing curve 164 (Line)\n",
      "Info    : [ 60%] Meshing curve 165 (Line)\n",
      "Info    : [ 70%] Meshing curve 166 (Line)\n",
      "Info    : [ 70%] Meshing curve 167 (Line)\n",
      "Info    : [ 70%] Meshing curve 168 (Line)\n",
      "Info    : [ 80%] Meshing curve 169 (Line)\n",
      "Info    : [ 80%] Meshing curve 170 (Line)\n",
      "Info    : [ 80%] Meshing curve 171 (Line)\n",
      "Info    : [ 90%] Meshing curve 172 (Line)\n",
      "Info    : [ 90%] Meshing curve 173 (Line)\n",
      "Info    : [ 90%] Meshing curve 174 (Line)\n",
      "Info    : [100%] Meshing curve 175 (Line)\n",
      "Info    : [100%] Meshing curve 176 (Line)\n",
      "Info    : Done meshing 1D (Wall 0.00321475s, CPU 0.002409s)\n",
      "Info    : Meshing 2D...\n",
      "Info    : Meshing surface 4000000 (Plane, Frontal-Delaunay)\n",
      "Info    : Done meshing 2D (Wall 0.0250088s, CPU 0.020502s)\n",
      "Info    : Meshing 3D...\n",
      "Info    : Done meshing 3D (Wall 0.000164208s, CPU 7.7e-05s)\n",
      "Info    : 1071 nodes 1878 elements\n",
      "Info    : Writing 'Fig6-mesh.msh'...\n",
      "Info    : Done writing 'Fig6-mesh.msh'\n",
      "Info    : Writing 'Fig6-mesh.vtk'...\n",
      "Info    : Done writing 'Fig6-mesh.vtk'\n"
     ]
    },
    {
     "name": "stderr",
     "output_type": "stream",
     "text": [
      "/Users/martin/BOULOT/COMPUTATIONAL/Python/micro_poro_structure_generator/micro_poro_structure_generator/generate_mesh_2D_rectangle_w_voronoi_inclusions.py:44: RuntimeWarning: divide by zero encountered in double_scalars\n",
      "  m = (Q[1] - P[1])/(Q[0] - P[0])\n",
      "/Users/martin/BOULOT/COMPUTATIONAL/Python/micro_poro_structure_generator/micro_poro_structure_generator/generate_mesh_2D_rectangle_w_voronoi_inclusions.py:61: RuntimeWarning: invalid value encountered in double_scalars\n",
      "  x = (c2 - c1)/(m1 - m2)\n",
      "/Users/martin/BOULOT/COMPUTATIONAL/Python/micro_poro_structure_generator/micro_poro_structure_generator/generate_mesh_2D_rectangle_w_voronoi_inclusions.py:62: RuntimeWarning: invalid value encountered in double_scalars\n",
      "  y = (m2*c1 - m1*c2)/(m2 - m1)\n",
      "/Users/martin/BOULOT/COMPUTATIONAL/Python/micro_poro_structure_generator/micro_poro_structure_generator/generate_mesh_2D_rectangle_w_voronoi_inclusions.py:45: RuntimeWarning: invalid value encountered in double_scalars\n",
      "  c = P[1] - m * P[0]\n"
     ]
    },
    {
     "name": "stdout",
     "output_type": "stream",
     "text": [
      "Info    : Running '/opt/miniconda3/envs/fenics-2019-py310/bin/gmsh -2 -o Fig6-mesh.msh -format msh22 Fig6-mesh.msh' [Gmsh 4.11.1, 1 node, max. 1 thread]\n",
      "Info    : Started on Fri Nov 24 15:03:55 2023\n",
      "Info    : Reading 'Fig6-mesh.msh'...\n",
      "Info    : 63 entities\n",
      "Info    : 781 nodes\n",
      "Info    : 1280 elements\n",
      "Info    : Done reading 'Fig6-mesh.msh'\n",
      "Info    : Meshing 1D...\n",
      "Info    : Done meshing 1D (Wall 0.000317084s, CPU 0.000278s)\n",
      "Info    : Meshing 2D...\n",
      "Info    : Done meshing 2D (Wall 2.25e-05s, CPU 1.3e-05s)\n",
      "Info    : 793 nodes 1314 elements\n",
      "Info    : Writing 'Fig6-mesh.msh'...\n",
      "Info    : Done writing 'Fig6-mesh.msh'\n",
      "Info    : Stopped on Fri Nov 24 15:03:55 2023 (From start: Wall 0.00994383s, CPU 0.277865s)\n",
      "Converting from Gmsh format (.msh, .gmsh) to DOLFIN XML format\n",
      "Expecting 781 vertices\n",
      "Found all vertices\n",
      "Expecting 1280 cells\n",
      "Found all cells\n",
      "Conversion done\n",
      "Phis0=0.2933053485926732\n",
      "Phif0=0.7066946514073268\n"
     ]
    }
   ],
   "source": [
    "seeds_filename = \"Fig6-seeds.dat\"\n",
    "mesh_filebasename = \"Fig6-mesh\"\n",
    "\n",
    "domain_y = 1\n",
    "domain_x = domain_y * numpy.sqrt(3)/1.5/2\n",
    "thickness = 0.092\n",
    "\n",
    "gen.generate_seeds_semi_regular(\n",
    "    DoI = 0.,\n",
    "    row = 1,\n",
    "    domain_y = domain_y,\n",
    "    seeds_filename = seeds_filename)\n",
    "gen.generate_mesh_2D_rectangle_w_voronoi_inclusions(\n",
    "    mesh_filename = mesh_filebasename,\n",
    "    seeds_filename = seeds_filename,\n",
    "    h = thickness,\n",
    "    lcar = thickness/5,\n",
    "    domain_x = domain_x,\n",
    "    domain_y = domain_y,\n",
    "    shift_y = 0.,\n",
    "    remove_seeds = True)\n",
    "\n",
    "mesh = dolfin.Mesh()\n",
    "dolfin.XDMFFile(mesh_filebasename+\".xdmf\").read(mesh)\n",
    "\n",
    "coord = mesh.coordinates()\n",
    "xmax = max(coord[:,0]); xmin = min(coord[:,0])\n",
    "ymax = max(coord[:,1]); ymin = min(coord[:,1])\n",
    "vertices = numpy.array([[xmin, ymin],\n",
    "                        [xmax, ymin],\n",
    "                        [xmax, ymax],\n",
    "                        [xmin, ymax]])\n",
    "bbox = [xmin, xmax, ymin, ymax]\n",
    "\n",
    "V0 = (xmax - xmin)*(ymax - ymin)\n",
    "\n",
    "dV = dolfin.Measure(\"dx\", domain=mesh)\n",
    "Vs0 = dolfin.assemble(dolfin.Constant(1.)*dV)\n",
    "\n",
    "Phis0 = Vs0/V0"
   ]
  },
  {
   "cell_type": "code",
   "execution_count": 16,
   "metadata": {},
   "outputs": [],
   "source": [
    "epsilon = sympy.symbols('epsilon')\n",
    "epsilon_x = epsilon\n",
    "epsilon_y = epsilon\n",
    "\n",
    "alpha_x = 1 + epsilon\n",
    "alpha_y = 1 + epsilon\n",
    "\n",
    "F = sympy.Matrix(\n",
    "        [[alpha_x,    0  ],\\\n",
    "        [   0   , alpha_y]])\n",
    "J = F.det()\n",
    "C = F.T * F\n",
    "E = (C - sympy.eye(2))/2"
   ]
  },
  {
   "cell_type": "code",
   "execution_count": 17,
   "metadata": {},
   "outputs": [],
   "source": [
    "p = sympy.symbols('p')"
   ]
  },
  {
   "cell_type": "code",
   "execution_count": 18,
   "metadata": {},
   "outputs": [],
   "source": [
    "Es = 1\n",
    "nus = 0.499\n",
    "mat_params = {\"model\":\"CGNH\", \"parameters\":{\"E\":Es, \"nu\":nus}}"
   ]
  },
  {
   "attachments": {},
   "cell_type": "markdown",
   "metadata": {},
   "source": [
    "## Computing linearized model response"
   ]
  },
  {
   "cell_type": "code",
   "execution_count": 5,
   "metadata": {},
   "outputs": [
    {
     "name": "stdout",
     "output_type": "stream",
     "text": [
      "Calling FFC just-in-time (JIT) compiler, this may take some time.\n",
      "Calling FFC just-in-time (JIT) compiler, this may take some time.\n",
      "Solving linear variational problem.\n",
      "Calling FFC just-in-time (JIT) compiler, this may take some time.\n",
      "Calling FFC just-in-time (JIT) compiler, this may take some time.\n",
      "Calling FFC just-in-time (JIT) compiler, this may take some time.\n",
      "Solving linear variational problem.\n",
      "Solving linear variational problem.\n",
      "Calling FFC just-in-time (JIT) compiler, this may take some time.\n",
      "Solving linear variational problem.\n"
     ]
    }
   ],
   "source": [
    "homogenization_problem = dmech.HomogenizationProblem(\n",
    "    dim=2,\n",
    "    mesh=mesh,\n",
    "    mat_params=mat_params[\"parameters\"],\n",
    "    vertices=vertices,\n",
    "    vol=V0,\n",
    "    bbox=bbox)\n",
    "lmbda_tilde, mu_tilde = homogenization_problem.get_lambda_and_mu()\n",
    "kappa_tilde = homogenization_problem.get_kappa()\n",
    "# beta = mu_tilde/2 # MG20231123: Not used, right?\n",
    "# alpha = lmbda_tilde/4 # MG20231123: Not used, right?\n",
    "\n",
    "sigma_lin = lmbda_tilde * (2*epsilon) + 2 * mu_tilde * epsilon # MG20231123: Change 2*epsilon"
   ]
  },
  {
   "attachments": {},
   "cell_type": "markdown",
   "metadata": {},
   "source": [
    "## Computing macroscopic model response"
   ]
  },
  {
   "cell_type": "code",
   "execution_count": 15,
   "metadata": {},
   "outputs": [],
   "source": [
    "C_CM = sympy.MatrixSymbol('C', 2, 2).as_explicit()\n",
    "I_C_CM = sympy.trace(C_CM)\n",
    "II_C_CM = (sympy.trace(C_CM)**2 - sympy.trace(C_CM**2))/2 \n",
    "III_C_CM = sympy.det(C_CM) \n",
    "J_CM = sympy.sqrt(III_C_CM)\n",
    "\n",
    "W_skel = (lmbda_tilde/4) * (J_CM**2 - 1 - 2 * sympy.ln(J_CM)) + (mu_tilde/2) * (I_C_CM - 2 - 2 * sympy.ln(J_CM))\n",
    "Sigma_CM = 2*sympy.diff(W_skel, C_CM) - p * J_CM * C_CM.inv()\n",
    "\n",
    "Sigma_macro = Sigma_CM.subs(list(zip(C_CM, C)))\n",
    "sigma_macro = F * Sigma_macro * F.T / J"
   ]
  },
  {
   "attachments": {},
   "cell_type": "markdown",
   "metadata": {},
   "source": [
    "## Computing microscopic model response"
   ]
  },
  {
   "cell_type": "code",
   "execution_count": 7,
   "metadata": {},
   "outputs": [],
   "source": [
    "def global_response(mesh, mat_params, eps_xx, eps_yy, pf, Macroscopic_strain, sigma_bar, gamma):\n",
    "\n",
    "    dim = 2\n",
    "    bcs = \"pbc\"\n",
    "    step_params = {\"dt_ini\":1e-1, \"dt_min\":1e-3}\n",
    "\n",
    "    res_folder = sys.argv[0][:-3]\n",
    "    res_basename  = sys.argv[0][:-3]\n",
    "\n",
    "    res_basename = res_folder+\"/\"+res_basename\n",
    "    verbose=1\n",
    "\n",
    "    ################################################################### Mesh ###\n",
    "\n",
    "    coord = mesh.coordinates()\n",
    "    xmax = max(coord[:,0]); xmin = min(coord[:,0])\n",
    "    ymax = max(coord[:,1]); ymin = min(coord[:,1])\n",
    "    vol = (xmax - xmin)*(ymax - ymin)\n",
    "    dV = dolfin.Measure(\"dx\",domain=mesh)\n",
    "\n",
    "    vertices = numpy.array([[xmin, ymin],\n",
    "                         [xmax, ymin],\n",
    "                         [xmax, ymax],\n",
    "                         [xmin, ymax]])\n",
    "\n",
    "    tol = 1E-8  \n",
    "    vv = vertices\n",
    "    a1 = vv[1,:]-vv[0,:] # first vector generating periodicity\n",
    "    a2 = vv[3,:]-vv[0,:] # second vector generating periodicity\n",
    "    # check if UC vertices form indeed a parallelogram\n",
    "    assert numpy.linalg.norm(vv[2, :]-vv[3, :] - a1) <= tol\n",
    "    assert numpy.linalg.norm(vv[2, :]-vv[1, :] - a2) <= tol\n",
    "    bbox = [xmin, xmax, ymin, ymax]\n",
    "\n",
    "    ################################################## Subdomains & Measures ###\n",
    "\n",
    "    xmin_sd = dolfin.CompiledSubDomain(\"near(x[0], x0, tol) && on_boundary\", x0=xmin, tol=tol)\n",
    "    xmax_sd = dolfin.CompiledSubDomain(\"near(x[0], x0, tol) && on_boundary\", x0=xmax, tol=tol)\n",
    "    ymin_sd = dolfin.CompiledSubDomain(\"near(x[1], x0, tol) && on_boundary\", x0=ymin, tol=tol)\n",
    "    ymax_sd = dolfin.CompiledSubDomain(\"near(x[1], x0, tol) && on_boundary\", x0=ymax, tol=tol)\n",
    "\n",
    "    xmin_id = 1\n",
    "    xmax_id = 2\n",
    "    ymin_id = 3\n",
    "    ymax_id = 4\n",
    "\n",
    "    boundaries_mf = dolfin.MeshFunction(\"size_t\", mesh, mesh.topology().dim()-1) # MG20180418: size_t looks like unisgned int, but more robust wrt architecture and os\n",
    "    boundaries_mf.set_all(0)\n",
    "\n",
    "    xmin_sd.mark(boundaries_mf, xmin_id)\n",
    "    xmax_sd.mark(boundaries_mf, xmax_id)\n",
    "    ymin_sd.mark(boundaries_mf, ymin_id)\n",
    "    ymax_sd.mark(boundaries_mf, ymax_id)\n",
    "\n",
    "    ################################################################ Problem ###\n",
    "\n",
    "    problem = dmech.MicroPoroHyperelasticityProblem(\n",
    "        mesh=mesh,\n",
    "        mesh_bbox=bbox,\n",
    "        vertices=vertices,\n",
    "        boundaries_mf=boundaries_mf,\n",
    "        displacement_perturbation_degree=2,\n",
    "        quadrature_degree=3,\n",
    "        solid_behavior=mat_params,\n",
    "        bcs=bcs)\n",
    "\n",
    "    ################################################################ Loading ###\n",
    "\n",
    "    Deltat = step_params.get(\"Deltat\", 1.)\n",
    "    dt_ini = step_params.get(\"dt_ini\", 1.)\n",
    "    dt_min = step_params.get(\"dt_min\", 1.)\n",
    "    dt_max = step_params.get(\"dt_max\", 1.)\n",
    "    k_step = problem.add_step(\n",
    "        Deltat=Deltat,\n",
    "        dt_ini=dt_ini,\n",
    "        dt_min=dt_min,\n",
    "        dt_max=dt_max)\n",
    "\n",
    "    problem.add_surface_pressure_loading_operator(\n",
    "        measure=problem.dS(0),\n",
    "        P_ini=0., P_fin=pf,\n",
    "        k_step=k_step)\n",
    "\n",
    "    for k in range(dim):\n",
    "        for l in range (dim):\n",
    "            if (sigma_bar[k][l] is not None):\n",
    "                problem.add_macroscopic_stress_component_constraint_operator(\n",
    "                    i=k, j=l,\n",
    "                    sigma_bar_ij_ini=0.0, sigma_bar_ij_fin=sigma_bar[k][l],\n",
    "                    pf_ini=0.0, pf_fin=pf,\n",
    "                    k_step=k_step)\n",
    "\n",
    "    if (Macroscopic_strain is not None):\n",
    "        problem.add_macroscopic_stretch_component_penalty_operator(\n",
    "            i=0, j=0,\n",
    "            U_bar_ij_ini=0.0, U_bar_ij_fin=eps_xx,\n",
    "            pen_val=1e6,\n",
    "            k_step=k_step)\n",
    "        problem.add_macroscopic_stretch_component_penalty_operator(\n",
    "            i=1, j=1,\n",
    "            U_bar_ij_ini=0.0, U_bar_ij_fin=eps_yy,\n",
    "            pen_val=1e6,\n",
    "            k_step=k_step)\n",
    "\n",
    "    ################################################################# Solver ###\n",
    "\n",
    "    solver = dmech.NonlinearSolver(\n",
    "        problem=problem,\n",
    "        parameters={\n",
    "            \"sol_tol\":[1e-6]*len(problem.subsols),\n",
    "            \"n_iter_max\":32},\n",
    "        relax_type=\"constant\",\n",
    "        write_iter=0)\n",
    "\n",
    "    integrator = dmech.TimeIntegrator(\n",
    "        problem=problem,\n",
    "        solver=solver,\n",
    "        parameters={\n",
    "            \"n_iter_for_accel\":4,\n",
    "            \"n_iter_for_decel\":16,\n",
    "            \"accel_coeff\":2,\n",
    "            \"decel_coeff\":2},\n",
    "        print_out=res_basename*verbose,\n",
    "        print_sta=res_basename*verbose,\n",
    "        write_qois=res_basename+\"-qois\",\n",
    "        write_qois_limited_precision=1,\n",
    "        write_sol=res_basename*verbose)\n",
    "\n",
    "    success = integrator.integrate()\n",
    "    assert (success),\\\n",
    "        \"Integration failed. Aborting.\"\n",
    "\n",
    "    integrator.close()\n",
    "    \n",
    "    for operator in problem.operators: \n",
    "        if hasattr(operator, \"material\"):\n",
    "            material = operator.material\n",
    "            break\n",
    "    \n",
    "    U_bar = problem.get_macroscopic_stretch_subsol().func.vector().get_local().reshape((2,2))\n",
    "    F_bar = U_bar + numpy.eye(2)\n",
    "    J_bar = numpy.linalg.det(F_bar)\n",
    "    C_bar = F_bar.T * F_bar\n",
    "    v = J_bar * vol\n",
    "    vs = dolfin.assemble(problem.kinematics.J * problem.dV)\n",
    "    vf = v - vs\n",
    "    \n",
    "    Phi_s = vs/vol\n",
    "\n",
    "    sigma_tot_xx = float((dolfin.assemble(material.sigma[0,0] * problem.kinematics.J * dV) - vf * pf *dolfin.Identity(2)[0,0])/v)\n",
    "    sigma_tot_yy = float((dolfin.assemble(material.sigma[1,1] * problem.kinematics.J * dV) - vf * pf *dolfin.Identity(2)[1,1])/v)\n",
    "\n",
    "    return sigma_tot_xx"
   ]
  },
  {
   "attachments": {},
   "cell_type": "markdown",
   "metadata": {},
   "source": [
    "## Macro-micro model comparision "
   ]
  },
  {
   "cell_type": "code",
   "execution_count": 8,
   "metadata": {},
   "outputs": [],
   "source": [
    "sigma_bar = [[None, 0.],\n",
    "             [0., None]]"
   ]
  },
  {
   "attachments": {},
   "cell_type": "markdown",
   "metadata": {},
   "source": [
    "## $\\sigma - E$"
   ]
  },
  {
   "cell_type": "code",
   "execution_count": 9,
   "metadata": {},
   "outputs": [
    {
     "name": "stdout",
     "output_type": "stream",
     "text": [
      "Calling FFC just-in-time (JIT) compiler, this may take some time.\n"
     ]
    },
    {
     "ename": "FileNotFoundError",
     "evalue": "[Errno 2] No such file or directory: '/opt/miniconda3/envs/fenics-2019-py310/lib/python3.10/site-packages/ipykernel_launcher//opt/miniconda3/envs/fenics-2019-py310/lib/python3.10/site-packages/ipykernel_launcher.out'",
     "output_type": "error",
     "traceback": [
      "\u001b[0;31m---------------------------------------------------------------------------\u001b[0m",
      "\u001b[0;31mFileNotFoundError\u001b[0m                         Traceback (most recent call last)",
      "\u001b[1;32m/Users/martin/Dropbox/Martin/BOULOT/COMPUTATIONAL/Micro-macro-poro paper demos/demos/Fig6.ipynb Cell 18\u001b[0m in \u001b[0;36m<cell line: 4>\u001b[0;34m()\u001b[0m\n\u001b[1;32m      <a href='vscode-notebook-cell:/Users/martin/Dropbox/Martin/BOULOT/COMPUTATIONAL/Micro-macro-poro%20paper%20demos/demos/Fig6.ipynb#X23sZmlsZQ%3D%3D?line=4'>5</a>\u001b[0m eps \u001b[39m=\u001b[39m i\u001b[39m/\u001b[39m\u001b[39m20\u001b[39m\n\u001b[1;32m      <a href='vscode-notebook-cell:/Users/martin/Dropbox/Martin/BOULOT/COMPUTATIONAL/Micro-macro-poro%20paper%20demos/demos/Fig6.ipynb#X23sZmlsZQ%3D%3D?line=5'>6</a>\u001b[0m eps_micro\u001b[39m.\u001b[39mappend(eps)\n\u001b[0;32m----> <a href='vscode-notebook-cell:/Users/martin/Dropbox/Martin/BOULOT/COMPUTATIONAL/Micro-macro-poro%20paper%20demos/demos/Fig6.ipynb#X23sZmlsZQ%3D%3D?line=6'>7</a>\u001b[0m sigma_micro\u001b[39m.\u001b[39mappend(global_response(mesh\u001b[39m=\u001b[39;49mmesh, mat_params\u001b[39m=\u001b[39;49mmat_params, eps_xx\u001b[39m=\u001b[39;49meps, eps_yy\u001b[39m=\u001b[39;49meps, pf\u001b[39m=\u001b[39;49m\u001b[39m0.\u001b[39;49m, Macroscopic_strain\u001b[39m=\u001b[39;49m\u001b[39m1\u001b[39;49m, sigma_bar\u001b[39m=\u001b[39;49msigma_bar, gamma\u001b[39m=\u001b[39;49m\u001b[39mNone\u001b[39;49;00m)\u001b[39m/\u001b[39mEs)\n",
      "\u001b[1;32m/Users/martin/Dropbox/Martin/BOULOT/COMPUTATIONAL/Micro-macro-poro paper demos/demos/Fig6.ipynb Cell 18\u001b[0m in \u001b[0;36mglobal_response\u001b[0;34m(mesh, mat_params, eps_xx, eps_yy, pf, Macroscopic_strain, sigma_bar, gamma)\u001b[0m\n\u001b[1;32m    <a href='vscode-notebook-cell:/Users/martin/Dropbox/Martin/BOULOT/COMPUTATIONAL/Micro-macro-poro%20paper%20demos/demos/Fig6.ipynb#X23sZmlsZQ%3D%3D?line=105'>106</a>\u001b[0m \u001b[39m################################################################# Solver ###\u001b[39;00m\n\u001b[1;32m    <a href='vscode-notebook-cell:/Users/martin/Dropbox/Martin/BOULOT/COMPUTATIONAL/Micro-macro-poro%20paper%20demos/demos/Fig6.ipynb#X23sZmlsZQ%3D%3D?line=107'>108</a>\u001b[0m solver \u001b[39m=\u001b[39m dmech\u001b[39m.\u001b[39mNonlinearSolver(\n\u001b[1;32m    <a href='vscode-notebook-cell:/Users/martin/Dropbox/Martin/BOULOT/COMPUTATIONAL/Micro-macro-poro%20paper%20demos/demos/Fig6.ipynb#X23sZmlsZQ%3D%3D?line=108'>109</a>\u001b[0m     problem\u001b[39m=\u001b[39mproblem,\n\u001b[1;32m    <a href='vscode-notebook-cell:/Users/martin/Dropbox/Martin/BOULOT/COMPUTATIONAL/Micro-macro-poro%20paper%20demos/demos/Fig6.ipynb#X23sZmlsZQ%3D%3D?line=109'>110</a>\u001b[0m     parameters\u001b[39m=\u001b[39m{\n\u001b[0;32m   (...)\u001b[0m\n\u001b[1;32m    <a href='vscode-notebook-cell:/Users/martin/Dropbox/Martin/BOULOT/COMPUTATIONAL/Micro-macro-poro%20paper%20demos/demos/Fig6.ipynb#X23sZmlsZQ%3D%3D?line=112'>113</a>\u001b[0m     relax_type\u001b[39m=\u001b[39m\u001b[39m\"\u001b[39m\u001b[39mconstant\u001b[39m\u001b[39m\"\u001b[39m,\n\u001b[1;32m    <a href='vscode-notebook-cell:/Users/martin/Dropbox/Martin/BOULOT/COMPUTATIONAL/Micro-macro-poro%20paper%20demos/demos/Fig6.ipynb#X23sZmlsZQ%3D%3D?line=113'>114</a>\u001b[0m     write_iter\u001b[39m=\u001b[39m\u001b[39m0\u001b[39m)\n\u001b[0;32m--> <a href='vscode-notebook-cell:/Users/martin/Dropbox/Martin/BOULOT/COMPUTATIONAL/Micro-macro-poro%20paper%20demos/demos/Fig6.ipynb#X23sZmlsZQ%3D%3D?line=115'>116</a>\u001b[0m integrator \u001b[39m=\u001b[39m dmech\u001b[39m.\u001b[39;49mTimeIntegrator(\n\u001b[1;32m    <a href='vscode-notebook-cell:/Users/martin/Dropbox/Martin/BOULOT/COMPUTATIONAL/Micro-macro-poro%20paper%20demos/demos/Fig6.ipynb#X23sZmlsZQ%3D%3D?line=116'>117</a>\u001b[0m     problem\u001b[39m=\u001b[39;49mproblem,\n\u001b[1;32m    <a href='vscode-notebook-cell:/Users/martin/Dropbox/Martin/BOULOT/COMPUTATIONAL/Micro-macro-poro%20paper%20demos/demos/Fig6.ipynb#X23sZmlsZQ%3D%3D?line=117'>118</a>\u001b[0m     solver\u001b[39m=\u001b[39;49msolver,\n\u001b[1;32m    <a href='vscode-notebook-cell:/Users/martin/Dropbox/Martin/BOULOT/COMPUTATIONAL/Micro-macro-poro%20paper%20demos/demos/Fig6.ipynb#X23sZmlsZQ%3D%3D?line=118'>119</a>\u001b[0m     parameters\u001b[39m=\u001b[39;49m{\n\u001b[1;32m    <a href='vscode-notebook-cell:/Users/martin/Dropbox/Martin/BOULOT/COMPUTATIONAL/Micro-macro-poro%20paper%20demos/demos/Fig6.ipynb#X23sZmlsZQ%3D%3D?line=119'>120</a>\u001b[0m         \u001b[39m\"\u001b[39;49m\u001b[39mn_iter_for_accel\u001b[39;49m\u001b[39m\"\u001b[39;49m:\u001b[39m4\u001b[39;49m,\n\u001b[1;32m    <a href='vscode-notebook-cell:/Users/martin/Dropbox/Martin/BOULOT/COMPUTATIONAL/Micro-macro-poro%20paper%20demos/demos/Fig6.ipynb#X23sZmlsZQ%3D%3D?line=120'>121</a>\u001b[0m         \u001b[39m\"\u001b[39;49m\u001b[39mn_iter_for_decel\u001b[39;49m\u001b[39m\"\u001b[39;49m:\u001b[39m16\u001b[39;49m,\n\u001b[1;32m    <a href='vscode-notebook-cell:/Users/martin/Dropbox/Martin/BOULOT/COMPUTATIONAL/Micro-macro-poro%20paper%20demos/demos/Fig6.ipynb#X23sZmlsZQ%3D%3D?line=121'>122</a>\u001b[0m         \u001b[39m\"\u001b[39;49m\u001b[39maccel_coeff\u001b[39;49m\u001b[39m\"\u001b[39;49m:\u001b[39m2\u001b[39;49m,\n\u001b[1;32m    <a href='vscode-notebook-cell:/Users/martin/Dropbox/Martin/BOULOT/COMPUTATIONAL/Micro-macro-poro%20paper%20demos/demos/Fig6.ipynb#X23sZmlsZQ%3D%3D?line=122'>123</a>\u001b[0m         \u001b[39m\"\u001b[39;49m\u001b[39mdecel_coeff\u001b[39;49m\u001b[39m\"\u001b[39;49m:\u001b[39m2\u001b[39;49m},\n\u001b[1;32m    <a href='vscode-notebook-cell:/Users/martin/Dropbox/Martin/BOULOT/COMPUTATIONAL/Micro-macro-poro%20paper%20demos/demos/Fig6.ipynb#X23sZmlsZQ%3D%3D?line=123'>124</a>\u001b[0m     print_out\u001b[39m=\u001b[39;49mres_basename\u001b[39m*\u001b[39;49mverbose,\n\u001b[1;32m    <a href='vscode-notebook-cell:/Users/martin/Dropbox/Martin/BOULOT/COMPUTATIONAL/Micro-macro-poro%20paper%20demos/demos/Fig6.ipynb#X23sZmlsZQ%3D%3D?line=124'>125</a>\u001b[0m     print_sta\u001b[39m=\u001b[39;49mres_basename\u001b[39m*\u001b[39;49mverbose,\n\u001b[1;32m    <a href='vscode-notebook-cell:/Users/martin/Dropbox/Martin/BOULOT/COMPUTATIONAL/Micro-macro-poro%20paper%20demos/demos/Fig6.ipynb#X23sZmlsZQ%3D%3D?line=125'>126</a>\u001b[0m     write_qois\u001b[39m=\u001b[39;49mres_basename\u001b[39m+\u001b[39;49m\u001b[39m\"\u001b[39;49m\u001b[39m-qois\u001b[39;49m\u001b[39m\"\u001b[39;49m,\n\u001b[1;32m    <a href='vscode-notebook-cell:/Users/martin/Dropbox/Martin/BOULOT/COMPUTATIONAL/Micro-macro-poro%20paper%20demos/demos/Fig6.ipynb#X23sZmlsZQ%3D%3D?line=126'>127</a>\u001b[0m     write_qois_limited_precision\u001b[39m=\u001b[39;49m\u001b[39m1\u001b[39;49m,\n\u001b[1;32m    <a href='vscode-notebook-cell:/Users/martin/Dropbox/Martin/BOULOT/COMPUTATIONAL/Micro-macro-poro%20paper%20demos/demos/Fig6.ipynb#X23sZmlsZQ%3D%3D?line=127'>128</a>\u001b[0m     write_sol\u001b[39m=\u001b[39;49mres_basename\u001b[39m*\u001b[39;49mverbose)\n\u001b[1;32m    <a href='vscode-notebook-cell:/Users/martin/Dropbox/Martin/BOULOT/COMPUTATIONAL/Micro-macro-poro%20paper%20demos/demos/Fig6.ipynb#X23sZmlsZQ%3D%3D?line=129'>130</a>\u001b[0m success \u001b[39m=\u001b[39m integrator\u001b[39m.\u001b[39mintegrate()\n\u001b[1;32m    <a href='vscode-notebook-cell:/Users/martin/Dropbox/Martin/BOULOT/COMPUTATIONAL/Micro-macro-poro%20paper%20demos/demos/Fig6.ipynb#X23sZmlsZQ%3D%3D?line=130'>131</a>\u001b[0m \u001b[39massert\u001b[39;00m (success),\\\n\u001b[1;32m    <a href='vscode-notebook-cell:/Users/martin/Dropbox/Martin/BOULOT/COMPUTATIONAL/Micro-macro-poro%20paper%20demos/demos/Fig6.ipynb#X23sZmlsZQ%3D%3D?line=131'>132</a>\u001b[0m     \u001b[39m\"\u001b[39m\u001b[39mIntegration failed. Aborting.\u001b[39m\u001b[39m\"\u001b[39m\n",
      "File \u001b[0;32m~/BOULOT/COMPUTATIONAL/Python/dolfin_mech/dolfin_mech/TimeIntegrator.py:53\u001b[0m, in \u001b[0;36mTimeIntegrator.__init__\u001b[0;34m(self, problem, solver, parameters, print_out, print_sta, write_qois, write_qois_limited_precision, write_sol, write_vtus, write_vtus_with_preserved_connectivity, write_xmls)\u001b[0m\n\u001b[1;32m     51\u001b[0m \u001b[39melse\u001b[39;00m:\n\u001b[1;32m     52\u001b[0m     \u001b[39mself\u001b[39m\u001b[39m.\u001b[39mprinter_filename \u001b[39m=\u001b[39m \u001b[39mNone\u001b[39;00m\n\u001b[0;32m---> 53\u001b[0m \u001b[39mself\u001b[39m\u001b[39m.\u001b[39mprinter \u001b[39m=\u001b[39m mypy\u001b[39m.\u001b[39;49mPrinter(\n\u001b[1;32m     54\u001b[0m     filename\u001b[39m=\u001b[39;49m\u001b[39mself\u001b[39;49m\u001b[39m.\u001b[39;49mprinter_filename,\n\u001b[1;32m     55\u001b[0m     silent\u001b[39m=\u001b[39;49m\u001b[39mnot\u001b[39;49;00m(print_out))\n\u001b[1;32m     56\u001b[0m \u001b[39mself\u001b[39m\u001b[39m.\u001b[39msolver\u001b[39m.\u001b[39mprinter \u001b[39m=\u001b[39m \u001b[39mself\u001b[39m\u001b[39m.\u001b[39mprinter\n\u001b[1;32m     58\u001b[0m \u001b[39mif\u001b[39;00m (\u001b[39mtype\u001b[39m(print_sta) \u001b[39mis\u001b[39;00m \u001b[39mstr\u001b[39m):\n",
      "File \u001b[0;32m~/BOULOT/COMPUTATIONAL/Python/myPythonLibrary/myPythonLibrary/Printer.py:44\u001b[0m, in \u001b[0;36mPrinter.__init__\u001b[0;34m(self, tab, max_level, filename, silent)\u001b[0m\n\u001b[1;32m     42\u001b[0m \u001b[39mself\u001b[39m\u001b[39m.\u001b[39mmust_close \u001b[39m=\u001b[39m \u001b[39mTrue\u001b[39;00m\n\u001b[1;32m     43\u001b[0m \u001b[39mif\u001b[39;00m (sys\u001b[39m.\u001b[39mversion_info\u001b[39m.\u001b[39mmajor \u001b[39m>\u001b[39m\u001b[39m=\u001b[39m \u001b[39m3\u001b[39m):\n\u001b[0;32m---> 44\u001b[0m     \u001b[39mself\u001b[39m\u001b[39m.\u001b[39moutput \u001b[39m=\u001b[39m \u001b[39mopen\u001b[39;49m(filename, \u001b[39m\"\u001b[39;49m\u001b[39mw\u001b[39;49m\u001b[39m\"\u001b[39;49m, encoding\u001b[39m=\u001b[39;49m\u001b[39m'\u001b[39;49m\u001b[39mutf-8\u001b[39;49m\u001b[39m'\u001b[39;49m)\n\u001b[1;32m     45\u001b[0m \u001b[39melse\u001b[39;00m:\n\u001b[1;32m     46\u001b[0m     \u001b[39mself\u001b[39m\u001b[39m.\u001b[39moutput \u001b[39m=\u001b[39m \u001b[39mopen\u001b[39m(filename, \u001b[39m\"\u001b[39m\u001b[39mw\u001b[39m\u001b[39m\"\u001b[39m)\n",
      "\u001b[0;31mFileNotFoundError\u001b[0m: [Errno 2] No such file or directory: '/opt/miniconda3/envs/fenics-2019-py310/lib/python3.10/site-packages/ipykernel_launcher//opt/miniconda3/envs/fenics-2019-py310/lib/python3.10/site-packages/ipykernel_launcher.out'"
     ]
    }
   ],
   "source": [
    "sigma_micro = []\n",
    "eps_micro = []\n",
    "\n",
    "for i in range(21):\n",
    "    eps = i/20\n",
    "    eps_micro.append(eps)\n",
    "    sigma_micro.append(global_response(mesh=mesh, mat_params=mat_params, eps_xx=eps, eps_yy=eps, pf=0., Macroscopic_strain=1, sigma_bar=sigma_bar, gamma=None)/Es)"
   ]
  },
  {
   "cell_type": "code",
   "execution_count": null,
   "metadata": {},
   "outputs": [],
   "source": [
    "lam_lin = scipy.lambdify(epsilon, sigma_lin, modules=['numpy'])\n",
    "lam = scipy.lambdify(epsilon, sigma_macro.subs(p, 0)[0,0], modules=['numpy'])\n",
    "\n",
    "epsilon_vals = numpy.linspace(0, 1, 100)\n",
    "\n",
    "sigma_macro_vals = lam(epsilon_vals)\n",
    "sigma_vals_lin = lam_lin(epsilon_vals)\n",
    "\n",
    "plt.figure()\n",
    "plt.rc('xtick', labelsize=14)\n",
    "plt.rc('ytick', labelsize=14)\n",
    "plt.rc('legend', fontsize=12)\n",
    "plt.xlabel(r'$E_x, E_y~()$', fontsize=16)\n",
    "plt.ylabel(r'$\\sigma/E_s~()$', fontsize=16)\n",
    "plt.plot(epsilon_vals, sigma_vals_lin, '#005824')\n",
    "plt.plot(eps_micro, sigma_micro, '#084594')\n",
    "plt.plot(epsilon_vals, sigma_macro_vals, '#99000D')\n",
    "plt.legend(['Linear model '+ r'$\\tilde{\\sigma}_{xx},~\\tilde{\\sigma}_{yy}$', 'Microscopic model '+ r'$\\tilde{\\sigma}_{xx},~\\tilde{\\sigma}_{yy}$', 'Macroscopic model '+ r'$\\bar{\\sigma}_{xx},~\\bar{\\sigma}_{yy}$'])\n",
    "plt.xlim(0, 0.5)\n",
    "plt.ylim(0, 0.15)\n",
    "plt.show()\n",
    "# plt.savefig('macro-micro_small.pdf',bbox_inches='tight')"
   ]
  },
  {
   "attachments": {},
   "cell_type": "markdown",
   "metadata": {},
   "source": [
    "## $\\sigma - p_f$"
   ]
  },
  {
   "cell_type": "code",
   "execution_count": null,
   "metadata": {},
   "outputs": [],
   "source": [
    "p_lst = []\n",
    "sigma_xx_lst = []\n",
    "sigma_bar = [[0., 0.],\n",
    "             [0., 0.]]\n",
    "\n",
    "for i in range(11):\n",
    "    p_ = i/10\n",
    "    p_lst.append(p_)\n",
    "    sigma_xx_lst.append(global_response(mesh=mesh, mat_params=mat_params, eps_xx=0.0, eps_yy=0.0, pf=p_, Macroscopic_strain=1, sigma_bar=sigma_bar, gamma=None)/Es)"
   ]
  },
  {
   "cell_type": "code",
   "execution_count": null,
   "metadata": {},
   "outputs": [],
   "source": [
    "sigma_lin_p = -p\n",
    "\n",
    "lam_in = scipy.lambdify(p, sigma_lin_p, modules=['numpy'])\n",
    "lam = scipy.lambdify(p, sigma_macro[0,0].subs(epsilon, 0), modules=['numpy'])\n",
    "\n",
    "p_vals = numpy.linspace(0, 1, 100)\n",
    "sigma_xx_lam_lin = lam_in(p_vals)\n",
    "sigma_xx_lam = lam(p_vals)\n",
    "\n",
    "plt.figure()\n",
    "plt.rc('xtick', labelsize=14)\n",
    "plt.rc('ytick', labelsize=14)\n",
    "plt.rc('legend', fontsize=12)\n",
    "plt.xlabel(r'$p_f~(kPa)$', fontsize=16)\n",
    "plt.ylabel(r'$\\sigma/{E_s}~()$', fontsize=16)\n",
    "plt.plot(p_vals, sigma_xx_lam_lin, '#005824')\n",
    "plt.plot(p_lst, sigma_xx_lst, '#084594')\n",
    "plt.plot(p_vals, sigma_xx_lam, '#99000D')\n",
    "plt.legend(['Linear model '+ r'$\\tilde{\\sigma}_{xx},~\\tilde{\\sigma}_{yy}$', 'Microscopic model '+ r'$\\tilde{\\sigma}_{xx},~\\tilde{\\sigma}_{yy}$', 'Macroscopic model '+ r'$\\bar{\\sigma}_{xx},~\\bar{\\sigma}_{yy}$'])\n",
    "\n",
    "plt.xlim(0, 0.5)\n",
    "plt.ylim(-0.5, 0)\n",
    "plt.show()\n",
    "# plt.savefig('pf_sigma_incompressible.pdf', bbox_inches='tight')"
   ]
  }
 ],
 "metadata": {
  "kernelspec": {
   "display_name": "all",
   "language": "python",
   "name": "python3"
  },
  "language_info": {
   "codemirror_mode": {
    "name": "ipython",
    "version": 3
   },
   "file_extension": ".py",
   "mimetype": "text/x-python",
   "name": "python",
   "nbconvert_exporter": "python",
   "pygments_lexer": "ipython3",
   "version": "3.10.5"
  },
  "orig_nbformat": 4
 },
 "nbformat": 4,
 "nbformat_minor": 2
}
