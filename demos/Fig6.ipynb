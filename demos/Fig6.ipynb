{
 "cells": [
  {
   "attachments": {},
   "cell_type": "markdown",
   "metadata": {},
   "source": [
    "# Figure 6"
   ]
  },
  {
   "attachments": {},
   "cell_type": "markdown",
   "metadata": {},
   "source": [
    "## Imports"
   ]
  },
  {
   "cell_type": "code",
   "execution_count": null,
   "metadata": {},
   "outputs": [],
   "source": [
    "import dolfin\n",
    "import matplotlib.pyplot as plt\n",
    "import numpy\n",
    "import sympy\n",
    "\n",
    "import dolfin_mech                    as dmech\n",
    "import micro_poro_structure_generator as gen"
   ]
  },
  {
   "attachments": {},
   "cell_type": "markdown",
   "metadata": {},
   "source": [
    "## Defining geometry and material parameters"
   ]
  },
  {
   "cell_type": "code",
   "execution_count": null,
   "metadata": {},
   "outputs": [],
   "source": [
    "seeds_filename = \"Fig6-seeds.dat\"\n",
    "mesh_filebasename = \"Fig6-mesh\"\n",
    "\n",
    "domain_y = 1.\n",
    "domain_x = domain_y * numpy.sqrt(3)/1.5/2\n",
    "thickness = 0.092\n",
    "\n",
    "gen.generate_seeds_semi_regular(\n",
    "    DoI = 0.,\n",
    "    row = 1,\n",
    "    domain_y = domain_y,\n",
    "    seeds_filename = seeds_filename)\n",
    "gen.generate_mesh_2D_rectangle_w_voronoi_inclusions(\n",
    "    mesh_filename = mesh_filebasename,\n",
    "    seeds_filename = seeds_filename,\n",
    "    h = thickness,\n",
    "    lcar = thickness/5,\n",
    "    domain_x = domain_x,\n",
    "    domain_y = domain_y,\n",
    "    shift_y = 0.,\n",
    "    remove_seeds = True)\n",
    "\n",
    "mesh = dolfin.Mesh()\n",
    "dolfin.XDMFFile(mesh_filebasename+\".xdmf\").read(mesh)\n",
    "\n",
    "coord = mesh.coordinates()\n",
    "xmax = max(coord[:,0]); xmin = min(coord[:,0])\n",
    "ymax = max(coord[:,1]); ymin = min(coord[:,1])\n",
    "vertices = numpy.array([[xmin, ymin],\n",
    "                        [xmax, ymin],\n",
    "                        [xmax, ymax],\n",
    "                        [xmin, ymax]])\n",
    "bbox = [xmin, xmax, ymin, ymax]\n",
    "V0 = (xmax-xmin) * (ymax-ymin)"
   ]
  },
  {
   "cell_type": "code",
   "execution_count": null,
   "metadata": {},
   "outputs": [],
   "source": [
    "Es = 1.\n",
    "nus = 0.49\n",
    "mat_params = {\"model\":\"CGNH\", \"parameters\":{\"E\":Es, \"nu\":nus}}"
   ]
  },
  {
   "attachments": {},
   "cell_type": "markdown",
   "metadata": {},
   "source": [
    "## Defining kinematics"
   ]
  },
  {
   "cell_type": "code",
   "execution_count": null,
   "metadata": {},
   "outputs": [],
   "source": [
    "eps = sympy.symbols('eps')\n",
    "epsilon = sympy.Matrix(\n",
    "        [[eps,  0 ],\\\n",
    "         [ 0 , eps]])\n",
    "F = sympy.eye(2) + epsilon\n",
    "J = F.det()\n",
    "C = F.T * F\n",
    "\n",
    "pf = sympy.symbols('pf')"
   ]
  },
  {
   "attachments": {},
   "cell_type": "markdown",
   "metadata": {},
   "source": [
    "## Computing linearized model response"
   ]
  },
  {
   "cell_type": "code",
   "execution_count": null,
   "metadata": {},
   "outputs": [],
   "source": [
    "homogenization_problem = dmech.HomogenizationProblem(\n",
    "    dim=2,\n",
    "    mesh=mesh,\n",
    "    mat_params=mat_params[\"parameters\"],\n",
    "    vertices=vertices,\n",
    "    vol=V0,\n",
    "    bbox=bbox)\n",
    "lmbda_tilde, mu_tilde = homogenization_problem.get_lambda_and_mu()\n",
    "kappa_tilde = homogenization_problem.get_kappa()\n",
    "\n",
    "sigma_lin = lmbda_tilde * sympy.trace(epsilon) * sympy.eye(2) + 2*mu_tilde * epsilon - pf * sympy.eye(2)"
   ]
  },
  {
   "attachments": {},
   "cell_type": "markdown",
   "metadata": {},
   "source": [
    "## Computing macroscopic model response"
   ]
  },
  {
   "cell_type": "code",
   "execution_count": null,
   "metadata": {},
   "outputs": [],
   "source": [
    "C_macro = sympy.MatrixSymbol('C', 2, 2).as_explicit()\n",
    "I_C_macro = sympy.trace(C_macro)\n",
    "III_C_macro = sympy.det(C_macro) \n",
    "J_macro = sympy.sqrt(III_C_macro)\n",
    "\n",
    "W_skel  = (lmbda_tilde/4) * (J_macro**2 - 1 - 2*sympy.ln(J_macro))\n",
    "W_skel += (mu_tilde/2) * (I_C_macro - 2 - 2*sympy.ln(J_macro))\n",
    "\n",
    "Sigma_macro  = 2*sympy.diff(W_skel, C_macro)\n",
    "Sigma_macro -= pf * J_macro * C_macro.inv()\n",
    "\n",
    "Sigma_macro = Sigma_macro.subs(list(zip(C_macro, C)))\n",
    "sigma_macro = F * Sigma_macro * F.T / J"
   ]
  },
  {
   "attachments": {},
   "cell_type": "markdown",
   "metadata": {},
   "source": [
    "## Computing microscopic model response"
   ]
  },
  {
   "cell_type": "code",
   "execution_count": null,
   "metadata": {},
   "outputs": [],
   "source": [
    "res_basename = \"Fig6\"\n",
    "qois_filename = \"Fig6-qois.dat\""
   ]
  },
  {
   "attachments": {},
   "cell_type": "markdown",
   "metadata": {},
   "source": [
    "### Biaxial strain\n",
    "<!-- ## $\\sigma - E$ -->"
   ]
  },
  {
   "cell_type": "code",
   "execution_count": null,
   "metadata": {},
   "outputs": [],
   "source": [
    "epsilon_max = 0.5\n",
    "\n",
    "load_params = {}\n",
    "load_params[\"U_bar_00\"] = epsilon_max\n",
    "load_params[\"sigma_bar_01\"] = 0.0\n",
    "load_params[\"sigma_bar_10\"] = 0.0\n",
    "load_params[\"U_bar_11\"] = epsilon_max\n",
    "load_params[\"pf\"] = 0.0\n",
    "\n",
    "dmech.run_HollowBox_MicroPoroHyperelasticity(\n",
    "    dim=2,\n",
    "    mesh=mesh,\n",
    "    mat_params=mat_params,\n",
    "    load_params=load_params,\n",
    "    step_params={\"Deltat\":1., \"dt_ini\":0.1, \"dt_min\":0.01, \"dt_max\":0.1},\n",
    "    res_basename=res_basename,\n",
    "    verbose=1,\n",
    "    write_qois_limited_precision=False)\n",
    "\n",
    "qois_vals = numpy.loadtxt(qois_filename)\n",
    "qois_name_list = open(qois_filename).readline().split()[1:]\n",
    "epsilon_micro_vals = qois_vals[:, qois_name_list.index(\"U_bar_XX\")]\n",
    "sigma_micro_vals = qois_vals[:, qois_name_list.index(\"sigma_bar_XX\")]\n",
    "sigma_micro_vals /= Es"
   ]
  },
  {
   "cell_type": "code",
   "execution_count": null,
   "metadata": {},
   "outputs": [],
   "source": [
    "epsilon_vals = numpy.linspace(0., epsilon_max, 100)\n",
    "\n",
    "sigma_lin_ = sympy.lambdify(eps, sigma_lin.subs(pf, 0.)[0,0], modules=['numpy'])\n",
    "sigma_lin_vals = sigma_lin_(epsilon_vals)\n",
    "sigma_lin_vals /= Es\n",
    "\n",
    "sigma_macro_ = sympy.lambdify(eps, sigma_macro.subs(pf, 0.)[0,0], modules=['numpy'])\n",
    "sigma_macro_vals = sigma_macro_(epsilon_vals)\n",
    "sigma_macro_vals /= Es\n",
    "\n",
    "plt.figure()\n",
    "plt.rc('xtick', labelsize=14)\n",
    "plt.rc('ytick', labelsize=14)\n",
    "plt.rc('legend', fontsize=12)\n",
    "plt.xlabel(r'$E_x, E_y~()$', fontsize=16)\n",
    "plt.ylabel(r'$\\sigma/E_s~()$', fontsize=16)\n",
    "plt.plot(epsilon_vals      , sigma_lin_vals  , '#005824')\n",
    "plt.plot(epsilon_micro_vals, sigma_micro_vals, '#084594')\n",
    "plt.plot(epsilon_vals      , sigma_macro_vals, '#99000D')\n",
    "plt.legend(['Linear model '+ r'$\\tilde{\\sigma}_{xx},~\\tilde{\\sigma}_{yy}$', 'Microscopic model '+ r'$\\tilde{\\sigma}_{xx},~\\tilde{\\sigma}_{yy}$', 'Macroscopic model '+ r'$\\bar{\\sigma}_{xx},~\\bar{\\sigma}_{yy}$'])\n",
    "plt.xlim(0., epsilon_max)\n",
    "plt.ylim(0., 0.15)\n",
    "plt.show()\n",
    "# plt.savefig('Fig6-eps.pdf', bbox_inches='tight')"
   ]
  },
  {
   "attachments": {},
   "cell_type": "markdown",
   "metadata": {},
   "source": [
    "### Fluid pressure\n",
    "<!-- ## $\\sigma - p_f$ -->"
   ]
  },
  {
   "cell_type": "code",
   "execution_count": null,
   "metadata": {},
   "outputs": [],
   "source": [
    "pf_max = 0.5\n",
    "\n",
    "load_params = {}\n",
    "load_params[\"U_bar_00\"] = 0.0\n",
    "load_params[\"sigma_bar_01\"] = 0.0\n",
    "load_params[\"sigma_bar_10\"] = 0.0\n",
    "load_params[\"U_bar_11\"] = 0.0\n",
    "load_params[\"pf\"] = pf_max\n",
    "\n",
    "dmech.run_HollowBox_MicroPoroHyperelasticity(\n",
    "    dim=2,\n",
    "    mesh=mesh,\n",
    "    mat_params=mat_params,\n",
    "    load_params=load_params,\n",
    "    step_params={\"Deltat\":1., \"dt_ini\":0.1, \"dt_min\":0.01, \"dt_max\":0.1},\n",
    "    res_basename=res_basename,\n",
    "    verbose=1,\n",
    "    write_qois_limited_precision=False)\n",
    "\n",
    "qois_vals = numpy.loadtxt(qois_filename)\n",
    "qois_name_list = open(qois_filename).readline().split()[1:]\n",
    "pf_micro_vals = qois_vals[:, qois_name_list.index(\"p_f\")]\n",
    "sigma_micro_vals = qois_vals[:, qois_name_list.index(\"sigma_bar_XX\")]\n",
    "sigma_micro_vals /= Es"
   ]
  },
  {
   "cell_type": "code",
   "execution_count": null,
   "metadata": {},
   "outputs": [],
   "source": [
    "pf_vals = numpy.linspace(0., pf_max, 100)\n",
    "\n",
    "sigma_lin_ = sympy.lambdify(pf, sigma_lin.subs(eps, 0.)[0,0], modules=['numpy'])\n",
    "sigma_lin_vals = sigma_lin_(pf_vals)\n",
    "sigma_lin_vals /= Es\n",
    "\n",
    "sigma_macro_ = sympy.lambdify(pf, sigma_macro.subs(eps, 0.)[0,0], modules=['numpy'])\n",
    "sigma_macro_vals = sigma_macro_(pf_vals)\n",
    "sigma_macro_vals /= Es\n",
    "\n",
    "plt.figure()\n",
    "plt.rc('xtick', labelsize=14)\n",
    "plt.rc('ytick', labelsize=14)\n",
    "plt.rc('legend', fontsize=12)\n",
    "plt.xlabel(r'$p_f~(kPa)$', fontsize=16)\n",
    "plt.ylabel(r'$\\sigma/{E_s}~()$', fontsize=16)\n",
    "plt.plot(pf_vals      , sigma_lin_vals, '#005824')\n",
    "plt.plot(pf_micro_vals, sigma_micro_vals, '#084594')\n",
    "plt.plot(pf_vals      , sigma_macro_vals, '#99000D')\n",
    "plt.legend(['Linear model '+ r'$\\tilde{\\sigma}_{xx},~\\tilde{\\sigma}_{yy}$', 'Microscopic model '+ r'$\\tilde{\\sigma}_{xx},~\\tilde{\\sigma}_{yy}$', 'Macroscopic model '+ r'$\\bar{\\sigma}_{xx},~\\bar{\\sigma}_{yy}$'])\n",
    "plt.xlim(0., pf_max)\n",
    "plt.ylim(-0.5, 0. )\n",
    "plt.show()\n",
    "# plt.savefig('Fig6-pf.pdf', bbox_inches='tight')"
   ]
  }
 ],
 "metadata": {
  "kernelspec": {
   "display_name": "all",
   "language": "python",
   "name": "python3"
  },
  "language_info": {
   "codemirror_mode": {
    "name": "ipython",
    "version": 3
   },
   "file_extension": ".py",
   "mimetype": "text/x-python",
   "name": "python",
   "nbconvert_exporter": "python",
   "pygments_lexer": "ipython3",
   "version": "3.8.12"
  },
  "orig_nbformat": 4
 },
 "nbformat": 4,
 "nbformat_minor": 2
}
