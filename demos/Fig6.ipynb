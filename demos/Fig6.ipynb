{
 "cells": [
  {
   "attachments": {},
   "cell_type": "markdown",
   "metadata": {},
   "source": [
    "# Figure 6"
   ]
  },
  {
   "attachments": {},
   "cell_type": "markdown",
   "metadata": {},
   "source": [
    "## Imports"
   ]
  },
  {
   "cell_type": "code",
   "execution_count": null,
   "metadata": {},
   "outputs": [],
   "source": [
    "import dolfin\n",
    "import matplotlib.pyplot as plt\n",
    "import numpy\n",
    "import sympy\n",
    "\n",
    "import dolfin_mech                    as dmech\n",
    "import micro_poro_structure_generator as gen"
   ]
  },
  {
   "attachments": {},
   "cell_type": "markdown",
   "metadata": {},
   "source": [
    "## Defining geometry and material parameters"
   ]
  },
  {
   "cell_type": "code",
   "execution_count": null,
   "metadata": {},
   "outputs": [],
   "source": [
    "seeds_filename = \"Fig6-seeds.dat\"\n",
    "mesh_filebasename = \"Fig6-mesh\"\n",
    "\n",
    "domain_y = 1.\n",
    "domain_x = domain_y * numpy.sqrt(3)/1.5/2\n",
    "thickness = 0.092\n",
    "\n",
    "gen.generate_seeds_semi_regular(\n",
    "    DoI = 0.,\n",
    "    row = 1,\n",
    "    domain_y = domain_y,\n",
    "    seeds_filename = seeds_filename)\n",
    "gen.generate_mesh_2D_rectangle_w_voronoi_inclusions(\n",
    "    mesh_filename = mesh_filebasename,\n",
    "    seeds_filename = seeds_filename,\n",
    "    h = thickness,\n",
    "    lcar = thickness/5,\n",
    "    domain_x = domain_x,\n",
    "    domain_y = domain_y,\n",
    "    shift_y = 0.,\n",
    "    remove_seeds = True)\n",
    "\n",
    "mesh = dolfin.Mesh()\n",
    "dolfin.XDMFFile(mesh_filebasename+\".xdmf\").read(mesh)\n",
    "\n",
    "coord = mesh.coordinates()\n",
    "xmax = max(coord[:,0]); xmin = min(coord[:,0])\n",
    "ymax = max(coord[:,1]); ymin = min(coord[:,1])\n",
    "vertices = numpy.array([[xmin, ymin],\n",
    "                        [xmax, ymin],\n",
    "                        [xmax, ymax],\n",
    "                        [xmin, ymax]])\n",
    "bbox = [xmin, xmax, ymin, ymax]\n",
    "\n",
    "V0 = (xmax - xmin)*(ymax - ymin)"
   ]
  },
  {
   "cell_type": "code",
   "execution_count": null,
   "metadata": {},
   "outputs": [],
   "source": [
    "Es = 1.\n",
    "nus = 0.499\n",
    "mat_params = {\"model\":\"CGNH\", \"parameters\":{\"E\":Es, \"nu\":nus}}"
   ]
  },
  {
   "attachments": {},
   "cell_type": "markdown",
   "metadata": {},
   "source": [
    "## Defining kinematics"
   ]
  },
  {
   "cell_type": "code",
   "execution_count": null,
   "metadata": {},
   "outputs": [],
   "source": [
    "alpha_x, alpha_y, alpha_xy, alpha_yx = sympy.symbols('alpha_x alpha_y alpha_xy alpha_yx')\n",
    "epsilon_x, epsilon_y, epsilon_xy = sympy.symbols('epsilon_x epsilon_y epsilon_xy')\n",
    "epsilon = sympy.symbols('epsilon')\n",
    "alpha_x = epsilon + 1\n",
    "alpha_y = epsilon + 1\n",
    "\n",
    "C00, C01, C10, C11 = sympy.symbols('C00 C01 C10 C11')\n",
    "C_CM = sympy.Matrix([[C00, C01],\n",
    "                     [C10, C11]])\n",
    "I_C_CM = sympy.trace(C_CM) \n",
    "II_C_CM = (sympy.trace(C_CM)**2 - sympy.trace(C_CM**2))/2 \n",
    "III_C_CM = sympy.det(C_CM) \n",
    "J_CM = sympy.sqrt(III_C_CM)\n",
    "p = sympy.symbols('p')\n",
    "\n",
    "F = sympy.Matrix(\n",
    "        [[alpha_x,    0   ],\\\n",
    "         [   0   , alpha_y]])\n",
    "J = F.det()\n",
    "C = F.T * F\n",
    "E = (C - sympy.eye(2))/2"
   ]
  },
  {
   "attachments": {},
   "cell_type": "markdown",
   "metadata": {},
   "source": [
    "## Computing linearized model response"
   ]
  },
  {
   "cell_type": "code",
   "execution_count": null,
   "metadata": {},
   "outputs": [],
   "source": [
    "homogenization_problem = dmech.HomogenizationProblem(\n",
    "    dim=2,\n",
    "    mesh=mesh,\n",
    "    mat_params=mat_params[\"parameters\"],\n",
    "    vertices=vertices,\n",
    "    vol=V0,\n",
    "    bbox=bbox)\n",
    "lmbda_tilde, mu_tilde = homogenization_problem.get_lambda_and_mu()\n",
    "kappa_tilde = homogenization_problem.get_kappa()\n",
    "\n",
    "sigma_lin = lmbda_tilde * (2*epsilon) + 2 * mu_tilde * epsilon"
   ]
  },
  {
   "attachments": {},
   "cell_type": "markdown",
   "metadata": {},
   "source": [
    "## Computing macroscopic model response"
   ]
  },
  {
   "cell_type": "code",
   "execution_count": null,
   "metadata": {},
   "outputs": [],
   "source": [
    "W_skel = (lmbda_tilde/4) * (J_CM**2 - 1 - 2 * sympy.ln(J_CM)) + (mu_tilde/2) * (I_C_CM - 2 - 2 * sympy.ln(J_CM))\n",
    "Sigma_CM = 2*sympy.diff(W_skel, C_CM) - p * J_CM * C_CM.inv()\n",
    "\n",
    "Sigma_macro = Sigma_CM.subs(list(zip(C_CM, C)))\n",
    "sigma_macro = F * Sigma_macro * F.T / J"
   ]
  },
  {
   "attachments": {},
   "cell_type": "markdown",
   "metadata": {},
   "source": [
    "## Macro-micro model comparision "
   ]
  },
  {
   "attachments": {},
   "cell_type": "markdown",
   "metadata": {},
   "source": [
    "## $\\sigma - E$"
   ]
  },
  {
   "cell_type": "code",
   "execution_count": null,
   "metadata": {},
   "outputs": [],
   "source": [
    "qois_filename = \"Fig6-qois.dat\"\n",
    "res_basename = \"Fig6\"\n",
    "\n",
    "load_params = {}\n",
    "load_params[\"pf\"] = 0.0\n",
    "load_params[\"sigma_bar_01\"] = 0.0\n",
    "load_params[\"sigma_bar_10\"] = 0.0\n",
    "load_params[\"U_bar_00\"] = 0.5\n",
    "load_params[\"U_bar_11\"] = 0.5\n",
    "\n",
    "dmech.run_HollowBox_MicroPoroHyperelasticity(\n",
    "    dim=2,\n",
    "    mesh=mesh,\n",
    "    mat_params=mat_params,\n",
    "    load_params=load_params,\n",
    "    step_params={\"Deltat\":1., \"dt_ini\":0.1, \"dt_min\":0.01, \"dt_max\":0.1},\n",
    "    res_basename=res_basename,\n",
    "    verbose=1)\n",
    "\n",
    "qois_vals = numpy.loadtxt(qois_filename)\n",
    "qois_name_list = open(qois_filename).readline().split()\n",
    "eps_micro = qois_vals[:, qois_name_list.index(\"U_bar_XX\") - 1]\n",
    "sigma_micro = qois_vals[:, qois_name_list.index(\"sigma_bar_XX\") - 1]\n",
    "sigma_micro = [sigma_/Es for sigma_ in sigma_micro]"
   ]
  },
  {
   "cell_type": "code",
   "execution_count": null,
   "metadata": {},
   "outputs": [],
   "source": [
    "lam_lin = sympy.lambdify(epsilon, sigma_lin, modules=['numpy'])\n",
    "lam = sympy.lambdify(epsilon, sigma_macro.subs(p, 0)[0,0], modules=['numpy'])\n",
    "\n",
    "epsilon_vals = numpy.linspace(0, 1, 100)\n",
    "\n",
    "sigma_macro_vals = lam(epsilon_vals)\n",
    "sigma_vals_lin = lam_lin(epsilon_vals)\n",
    "\n",
    "plt.figure()\n",
    "plt.rc('xtick', labelsize=14)\n",
    "plt.rc('ytick', labelsize=14)\n",
    "plt.rc('legend', fontsize=12)\n",
    "plt.xlabel(r'$E_x, E_y~()$', fontsize=16)\n",
    "plt.ylabel(r'$\\sigma/E_s~()$', fontsize=16)\n",
    "plt.plot(epsilon_vals, sigma_vals_lin, '#005824')\n",
    "plt.plot(eps_micro, sigma_micro, '#084594')\n",
    "plt.plot(epsilon_vals, sigma_macro_vals, '#99000D')\n",
    "plt.legend(['Linear model '+ r'$\\tilde{\\sigma}_{xx},~\\tilde{\\sigma}_{yy}$', 'Microscopic model '+ r'$\\tilde{\\sigma}_{xx},~\\tilde{\\sigma}_{yy}$', 'Macroscopic model '+ r'$\\bar{\\sigma}_{xx},~\\bar{\\sigma}_{yy}$'])\n",
    "plt.xlim(0, 0.5)\n",
    "plt.ylim(0, 0.15)\n",
    "# plt.savefig('macro-micro_small.pdf',bbox_inches='tight')\n",
    "plt.show()"
   ]
  },
  {
   "attachments": {},
   "cell_type": "markdown",
   "metadata": {},
   "source": [
    "## $\\sigma - p_f$"
   ]
  },
  {
   "cell_type": "code",
   "execution_count": null,
   "metadata": {},
   "outputs": [],
   "source": [
    "load_params = {}\n",
    "load_params[\"pf\"] = 0.5\n",
    "load_params[\"sigma_bar_01\"] = 0.0\n",
    "load_params[\"sigma_bar_10\"] = 0.0\n",
    "load_params[\"U_bar_00\"] = 0.0\n",
    "load_params[\"U_bar_11\"] = 0.0\n",
    "\n",
    "dmech.run_HollowBox_MicroPoroHyperelasticity(\n",
    "    dim=2,\n",
    "    mesh=mesh,\n",
    "    mat_params=mat_params,\n",
    "    load_params=load_params,\n",
    "    step_params={\"Deltat\":1., \"dt_ini\":0.1, \"dt_min\":0.01, \"dt_max\":0.1},\n",
    "    res_basename=res_basename,\n",
    "    verbose=1)\n",
    "\n",
    "qois_vals = numpy.loadtxt(qois_filename)\n",
    "qois_name_list = open(qois_filename).readline().split()\n",
    "p_lst = qois_vals[:, qois_name_list.index(\"p_f\") - 1]\n",
    "sigma_xx_lst = qois_vals[:, qois_name_list.index(\"sigma_bar_XX\") - 1]\n",
    "sigma_micro = [sigma_/Es for sigma_ in sigma_micro]"
   ]
  },
  {
   "cell_type": "code",
   "execution_count": null,
   "metadata": {},
   "outputs": [],
   "source": [
    "sigma_lin_p = -p\n",
    "\n",
    "lam_in = sympy.lambdify(p, sigma_lin_p, modules=['numpy'])\n",
    "lam = sympy.lambdify(p, sigma_macro[0,0].subs(epsilon, 0), modules=['numpy'])\n",
    "\n",
    "p_vals = numpy.linspace(0, 1, 100)\n",
    "sigma_xx_lam_lin = lam_in(p_vals)\n",
    "sigma_xx_lam = lam(p_vals)\n",
    "\n",
    "plt.figure()\n",
    "plt.rc('xtick', labelsize=14)\n",
    "plt.rc('ytick', labelsize=14)\n",
    "plt.rc('legend', fontsize=12)\n",
    "plt.xlabel(r'$p_f~(kPa)$', fontsize=16)\n",
    "plt.ylabel(r'$\\sigma/{E_s}~()$', fontsize=16)\n",
    "plt.plot(p_vals, sigma_xx_lam_lin, '#005824')\n",
    "plt.plot(p_lst, sigma_xx_lst, '#084594')\n",
    "plt.plot(p_vals, sigma_xx_lam, '#99000D')\n",
    "plt.legend(['Linear model '+ r'$\\tilde{\\sigma}_{xx},~\\tilde{\\sigma}_{yy}$', 'Microscopic model '+ r'$\\tilde{\\sigma}_{xx},~\\tilde{\\sigma}_{yy}$', 'Macroscopic model '+ r'$\\bar{\\sigma}_{xx},~\\bar{\\sigma}_{yy}$'])\n",
    "\n",
    "plt.xlim(0, 0.5)\n",
    "plt.ylim(-0.5, 0)\n",
    "\n",
    "plt.show()\n",
    "# plt.savefig('pf_sigma_incompressible.pdf', bbox_inches='tight')"
   ]
  }
 ],
 "metadata": {
  "kernelspec": {
   "display_name": "all",
   "language": "python",
   "name": "python3"
  },
  "language_info": {
   "codemirror_mode": {
    "name": "ipython",
    "version": 3
   },
   "file_extension": ".py",
   "mimetype": "text/x-python",
   "name": "python",
   "nbconvert_exporter": "python",
   "pygments_lexer": "ipython3",
   "version": "3.10.5"
  },
  "orig_nbformat": 4
 },
 "nbformat": 4,
 "nbformat_minor": 2
}
