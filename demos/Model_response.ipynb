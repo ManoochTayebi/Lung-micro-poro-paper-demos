{
 "cells": [
  {
   "cell_type": "markdown",
   "metadata": {},
   "source": [
    "# Model Response"
   ]
  },
  {
   "cell_type": "markdown",
   "metadata": {},
   "source": [
    "## Imports"
   ]
  },
  {
   "cell_type": "code",
   "execution_count": null,
   "metadata": {},
   "outputs": [],
   "source": [
    "import dolfin\n",
    "import numpy\n",
    "import math\n",
    "import dolfin_mech     as dmech\n",
    "import micro_poro_structure_generator as gen"
   ]
  },
  {
   "cell_type": "markdown",
   "metadata": {},
   "source": [
    "## Defining geometry"
   ]
  },
  {
   "cell_type": "code",
   "execution_count": null,
   "metadata": {},
   "outputs": [],
   "source": [
    "seeds_filename = \"Test.dat\"\n",
    "mesh_filebasename = \"Test-mesh\"\n",
    "\n",
    "domain_y = 0.1 * 0.8\n",
    "domain_x = domain_y * numpy.sqrt(3)/1.5/2\n",
    "thickness = 0.012 * 0.8\n",
    "\n",
    "gen.generate_seeds_semi_regular(\n",
    "    DoI = 0.,\n",
    "    row = 1,\n",
    "    domain_y = domain_y,\n",
    "    seeds_filename = seeds_filename)\n",
    "gen.generate_mesh_2D_rectangle_w_voronoi_inclusions(\n",
    "    mesh_filename = mesh_filebasename,\n",
    "    seeds_filename = seeds_filename,\n",
    "    h = thickness,\n",
    "    lcar = thickness/5,\n",
    "    domain_x = domain_x,\n",
    "    domain_y = domain_y,\n",
    "    shift_y = - 0.023 * 0.8,\n",
    "    remove_seeds = True)\n",
    "\n",
    "mesh = dolfin.Mesh()\n",
    "dolfin.XDMFFile(mesh_filebasename+\".xdmf\").read(mesh)\n",
    "dV = dolfin.Measure(\"dx\",domain=mesh)\n",
    "\n",
    "coord = mesh.coordinates()\n",
    "xmax = max(coord[:,0]); xmin = min(coord[:,0])\n",
    "ymax = max(coord[:,1]); ymin = min(coord[:,1])\n",
    "\n",
    "V = (xmax - xmin)*(ymax - ymin)\n",
    "VS0 = dolfin.assemble(dolfin.Constant(1) * dV)\n",
    "Vf0 = V - VS0"
   ]
  },
  {
   "cell_type": "markdown",
   "metadata": {},
   "source": [
    "## Loading "
   ]
  },
  {
   "cell_type": "code",
   "execution_count": null,
   "metadata": {},
   "outputs": [],
   "source": [
    "qois_filename = \"Test-qois.dat\"\n",
    "res_basename = \"Test\"\n",
    "\n",
    "params_dimless = [0, 0,  0, 0]\n",
    "params_initial = [0.08855929243285596, 0.011039510924095856, 0.6281487879627474, 3.409513378002055]\n",
    "\n",
    "par = [params_initial[0]*(1 + params_dimless[0]), params_initial[1]*(1 + params_dimless[1]), params_initial[2]*(1 + params_dimless[2]), params_initial[3]*(1 + params_dimless[3])]\n",
    "# graph_printer(smith_gamma_0_inf, par)\n",
    "\n",
    "mat_params = {\"model\":\"exponentialneoHookean\", \"parameters\":{\"beta1\":par[0], \"beta2\":par[1], \"beta3\":par[2], \"beta4\":100*par[0], \"alpha\":par[3]}} \n",
    "\n",
    "pf= 2.5\n",
    "load_params = {}\n",
    "load_params[\"pf\"] = pf\n",
    "load_params[\"sigma_bar_00\"] = 0.0\n",
    "load_params[\"sigma_bar_11\"] = 0.0\n",
    "load_params[\"sigma_bar_01\"] = 0.0\n",
    "load_params[\"sigma_bar_10\"] = 0.0\n",
    "load_params[\"gamma\"] = 0\n",
    "# load_params[\"gamma\"] = 15e-3"
   ]
  },
  {
   "cell_type": "markdown",
   "metadata": {},
   "source": [
    "## Model response"
   ]
  },
  {
   "cell_type": "code",
   "execution_count": null,
   "metadata": {},
   "outputs": [],
   "source": [
    "problem = dmech.run_HollowBox_MicroPoroHyperelasticity(\n",
    "    dim=2,\n",
    "    mesh=mesh,\n",
    "    mat_params=mat_params,\n",
    "    load_params=load_params,\n",
    "    step_params={\"Deltat\":1., \"dt_ini\":0.1, \"dt_min\":0.005, \"dt_max\":0.1},\n",
    "    res_basename=res_basename,\n",
    "    write_qois_limited_precision=False,\n",
    "    verbose=1\n",
    ")"
   ]
  },
  {
   "cell_type": "markdown",
   "metadata": {},
   "source": [
    "### Surface dependent surface tension"
   ]
  },
  {
   "cell_type": "markdown",
   "metadata": {},
   "source": [
    "#### Inflation"
   ]
  },
  {
   "cell_type": "code",
   "execution_count": null,
   "metadata": {},
   "outputs": [],
   "source": [
    "load_params = {}\n",
    "load_params[\"pf_lst\"] = [0.1, 0.5]\n",
    "load_params[\"sigma_bar_00_lst\"] = [0.0, 0.0]\n",
    "load_params[\"sigma_bar_11_lst\"] = [0.0, 0.0]\n",
    "load_params[\"sigma_bar_01_lst\"] = [0.0, 0.0]\n",
    "load_params[\"sigma_bar_10_lst\"] = [0.0, 0.0]\n",
    "load_params[\"gamma_lst\"] = [0.03, 0.03]\n",
    "load_params[\"tension_params\"] = {\"surface_dependancy\":1, \"d1\":1.0130287663205635, \"d2\":1.6742366271475184, \"d3\":-10.288589574038403}\n",
    "\n",
    "step_params = {}\n",
    "step_params[\"n_steps\"] = 2\n",
    "step_params[\"Deltat\"] = 1.\n",
    "step_params[\"dt_ini\"] = 0.01\n",
    "step_params[\"dt_min\"] = 0.001\n",
    "step_params[\"dt_max\"] = 0.005\n",
    "\n",
    "phi = dmech.run_HollowBox_MicroPoroHyperelasticity(\n",
    "    dim=2,\n",
    "    mesh=mesh,\n",
    "    mat_params=mat_params,\n",
    "    load_params=load_params,\n",
    "    step_params=step_params,\n",
    "    res_basename=res_basename,\n",
    "    write_qois_limited_precision=False,\n",
    "    verbose=1\n",
    ")"
   ]
  },
  {
   "cell_type": "markdown",
   "metadata": {},
   "source": [
    "#### Deflation"
   ]
  },
  {
   "cell_type": "code",
   "execution_count": null,
   "metadata": {},
   "outputs": [],
   "source": [
    "load_params = {}\n",
    "load_params[\"pf_lst\"] = [0.1, 0.5]\n",
    "load_params[\"sigma_bar_00_lst\"] = [0.0, 0.0]\n",
    "load_params[\"sigma_bar_11_lst\"] = [0.0, 0.0]\n",
    "load_params[\"sigma_bar_01_lst\"] = [0.0, 0.0]\n",
    "load_params[\"sigma_bar_10_lst\"] = [0.0, 0.0]\n",
    "load_params[\"gamma_lst\"] = [0.03, 0.03]\n",
    "load_params[\"tension_params\"] = {\"surface_dependancy\":1, \"d1\":1.030747711797792, \"d2\":2.1708848554526874, \"d3\":-14.828598856766776}\n",
    "\n",
    "step_params = {}\n",
    "step_params[\"n_steps\"] = 2\n",
    "step_params[\"Deltat\"] = 1.\n",
    "step_params[\"dt_ini\"] = 0.1\n",
    "step_params[\"dt_min\"] = 0.01\n",
    "step_params[\"dt_max\"] = 0.05\n",
    "\n",
    "phi = dmech.run_HollowBox_MicroPoroHyperelasticity(\n",
    "    dim=2,\n",
    "    mesh=mesh,\n",
    "    mat_params=mat_params,\n",
    "    load_params=load_params,\n",
    "    step_params=step_params,\n",
    "    res_basename=res_basename,\n",
    "    write_qois_limited_precision=False,\n",
    "    verbose=1\n",
    ")"
   ]
  },
  {
   "cell_type": "markdown",
   "metadata": {},
   "source": [
    "## Post processing"
   ]
  },
  {
   "cell_type": "code",
   "execution_count": null,
   "metadata": {},
   "outputs": [],
   "source": [
    "for operator in problem.operators: \n",
    "    if hasattr(operator, \"material\"):\n",
    "        material = operator.material\n",
    "        break"
   ]
  },
  {
   "cell_type": "code",
   "execution_count": null,
   "metadata": {},
   "outputs": [],
   "source": [
    "# Macroscopic strain\n",
    "print(\"U_bar_x:\" +str(problem.get_macroscopic_stretch_subsol().func.vector().get_local()[0]))\n",
    "print(\"U_bar_y:\" +str(problem.get_macroscopic_stretch_subsol().func.vector().get_local()[3]))\n",
    "print(\"U_bar_xy:\" +str(problem.get_macroscopic_stretch_subsol().func.vector().get_local()[1]))\n",
    "\n",
    "# Kinematics\n",
    "U_bar = problem.get_macroscopic_stretch_subsol().func.vector().get_local().reshape((2,2))\n",
    "F_bar = U_bar + numpy.eye(2)\n",
    "C_bar = F_bar.T * F_bar\n",
    "E_bar = 0.5*(C_bar - numpy.eye(2))\n",
    "J_bar = numpy.linalg.det(F_bar)\n",
    "FmTN = dolfin.dot(dolfin.inv(problem.kinematics.F).T, problem.mesh_normals)\n",
    "\n",
    "print(\"J: \"+str(J_bar))\n",
    "\n",
    "\n",
    "# Poromechanics propoerties\n",
    "T = dolfin.sqrt(dolfin.inner(FmTN, FmTN))\n",
    "S = dolfin.assemble(T * problem.kinematics.J * problem.dS(0))\n",
    "S0 = dolfin.assemble(dolfin.Constant(1)*problem.dS(0))\n",
    "\n",
    "\n",
    "print(\"S:\" +str(S))\n",
    "print(\"S*: \" + str(S/S0))\n",
    "print(\"IC: \"+str(numpy.trace(C_bar)))\n",
    "print(\"IC_bar: \"+str(numpy.trace(C_bar*J_bar**(-1))))\n",
    "\n",
    "# Volumes\n",
    "v = J_bar * V\n",
    "print (\"v:\", v)\n",
    "\n",
    "vs = dolfin.assemble(problem.kinematics.J * problem.dV)\n",
    "print (\"Vs0:\", VS0)\n",
    "print (\"vs:\", vs)\n",
    "print (\"Phi_s\", vs/V)\n",
    "vf = v - vs\n",
    "print(\"v - vs:\" +str(v - vs))\n",
    "print(\"vf:\" +str(vf))\n",
    "print(\"porosity:\"+str((V - VS0)/V))\n",
    "\n",
    "# Macroscopic stress\n",
    "print(\"sigma_tot_xx: \" +str((dolfin.assemble(material.sigma[0,0] * problem.kinematics.J * dV) - vf * pf *dolfin.Identity(2)[0,0])/v))\n",
    "print(\"sigma_tot_xy: \" +str((dolfin.assemble(material.sigma[0,1] * problem.kinematics.J * dV) - vf * pf *dolfin.Identity(2)[0,1])/v))\n",
    "print(\"sigma_tot_yx: \" +str((dolfin.assemble(material.sigma[1,0] * problem.kinematics.J * dV) - vf * pf *dolfin.Identity(2)[1,0])/v))\n",
    "print(\"sigma_tot_yy: \" +str((dolfin.assemble(material.sigma[1,1] * problem.kinematics.J * dV) - vf * pf *dolfin.Identity(2)[1,1])/v))\n",
    "\n",
    "print(\"sigma_s_xx: \" +str((dolfin.assemble(material.sigma[0,0] * problem.kinematics.J * dV))/v))\n",
    "print(\"sigma_s_xy: \" +str((dolfin.assemble(material.sigma[0,1] * problem.kinematics.J * dV))/v))\n",
    "print(\"sigma_s_xy: \" +str((dolfin.assemble(material.sigma[1,0] * problem.kinematics.J * dV))/v))\n",
    "print(\"sigma_s_yy: \" +str((dolfin.assemble(material.sigma[1,1] * problem.kinematics.J * dV))/v))\n",
    "\n",
    "\n",
    "print(\"sigma_f_xx: \" +str((- vf * pf *dolfin.Identity(2)[0,0])/v))\n",
    "print(\"sigma_f_xy: \" +str((- vf * pf *dolfin.Identity(2)[0,1])/v))\n",
    "print(\"sigma_f_xy: \" +str((- vf * pf *dolfin.Identity(2)[1,0])/v))\n",
    "print(\"sigma_f_yy: \" +str((- vf * pf *dolfin.Identity(2)[1,1])/v))\n",
    "\n",
    "#  numpy.linalg.det(problem.get_macroscopic_stretch_subsol().func.vector().get_local().reshape((2,2))+numpy.eye(2))\n",
    "# dolfin.det(dolfin.Identity(2) + dolfin.grad(problem.U_bar))\n",
    "\n",
    "vf = v - vs\n",
    "\n",
    "Vf0 = V - VS0\n",
    "\n",
    "print(\"added fluid mass density: \" +str((vf - Vf0)/V))\n",
    "\n",
    "print(\"deformed porosity: \" +str((vf)/v))\n",
    "\n",
    "print(\"deformed surface: \" +str(2 * math.pi * numpy.sqrt(vf/math.pi)))"
   ]
  }
 ],
 "metadata": {
  "kernelspec": {
   "display_name": "all",
   "language": "python",
   "name": "python3"
  },
  "language_info": {
   "codemirror_mode": {
    "name": "ipython",
    "version": 3
   },
   "file_extension": ".py",
   "mimetype": "text/x-python",
   "name": "python",
   "nbconvert_exporter": "python",
   "pygments_lexer": "ipython3",
   "version": "3.8.12"
  }
 },
 "nbformat": 4,
 "nbformat_minor": 2
}
