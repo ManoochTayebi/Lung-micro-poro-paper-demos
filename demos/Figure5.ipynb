{
 "cells": [
  {
   "cell_type": "markdown",
   "metadata": {},
   "source": [
    "# Figure 5"
   ]
  },
  {
   "cell_type": "markdown",
   "metadata": {},
   "source": [
    "## Imports"
   ]
  },
  {
   "cell_type": "code",
   "execution_count": 1,
   "metadata": {},
   "outputs": [],
   "source": [
    "import dolfin\n",
    "import numpy\n",
    "import scipy.optimize\n",
    "\n",
    "from scipy.interpolate import interp1d\n",
    "\n",
    "import dolfin_mech                    as dmech\n",
    "import matplotlib.pyplot              as plt\n",
    "import micro_poro_structure_generator as gen"
   ]
  },
  {
   "cell_type": "markdown",
   "metadata": {},
   "source": [
    "## Importing experimental data"
   ]
  },
  {
   "cell_type": "code",
   "execution_count": 2,
   "metadata": {},
   "outputs": [],
   "source": [
    "smith_PV_inflation_gamma_0   = numpy.load('smith_PV_inflation_gamma_0.npy')\n",
    "p_smith_PV_inflation_gamma_0 = smith_PV_inflation_gamma_0[:, 0]\n",
    "v_smith_PV_inflation_gamma_0 = smith_PV_inflation_gamma_0[:, 1]\n",
    "\n",
    "smith_PV_deflation_gamma_0   = numpy.load('smith_PV_deflation_gamma_0.npy')\n",
    "p_smith_PV_deflation_gamma_0 = smith_PV_deflation_gamma_0[:, 0]\n",
    "v_smith_PV_deflation_gamma_0 = smith_PV_deflation_gamma_0[:, 1]\n"
   ]
  },
  {
   "cell_type": "markdown",
   "metadata": {},
   "source": [
    "## Defining geometry"
   ]
  },
  {
   "cell_type": "code",
   "execution_count": null,
   "metadata": {},
   "outputs": [],
   "source": [
    "seeds_filename    = \"Fig5-seeds.dat\"\n",
    "mesh_filebasename = \"Fig5-mesh\"\n",
    "qois_filename     = \"Fig5-qois.dat\"\n",
    "res_basename      = \"Fig5\"\n",
    "\n",
    "domain_y  = 0.1 * 0.8\n",
    "domain_x  = domain_y * numpy.sqrt(3)/1.5/2\n",
    "thickness = 0.012 * 0.8\n",
    "\n",
    "gen.generate_seeds_semi_regular(\n",
    "    DoI = 0.,\n",
    "    row = 1,\n",
    "    domain_y = domain_y,\n",
    "    seeds_filename = seeds_filename)\n",
    "gen.generate_mesh_2D_rectangle_w_voronoi_inclusions(\n",
    "    mesh_filename = mesh_filebasename,\n",
    "    seeds_filename = seeds_filename,\n",
    "    h = thickness,\n",
    "    lcar = thickness/5,\n",
    "    domain_x = domain_x,\n",
    "    domain_y = domain_y,\n",
    "    shift_y = 0.,\n",
    "    remove_seeds = True)\n",
    "\n",
    "mesh = dolfin.Mesh()\n",
    "dolfin.XDMFFile(mesh_filebasename+\".xdmf\").read(mesh)\n",
    "dV = dolfin.Measure(\"dx\",domain=mesh)\n",
    "\n",
    "coord = mesh.coordinates()\n",
    "xmax = max(coord[:,0]); xmin = min(coord[:,0])\n",
    "ymax = max(coord[:,1]); ymin = min(coord[:,1])\n",
    "\n",
    "V   = (xmax - xmin)*(ymax - ymin)\n",
    "VS0 = dolfin.assemble(dolfin.Constant(1) * dV)\n",
    "Vf0 = V - VS0"
   ]
  },
  {
   "cell_type": "markdown",
   "metadata": {},
   "source": [
    "## Loading "
   ]
  },
  {
   "cell_type": "code",
   "execution_count": 4,
   "metadata": {},
   "outputs": [],
   "source": [
    "load_params = {}\n",
    "load_params[\"pf\"] = 4\n",
    "load_params[\"sigma_bar_00\"] = 0.0\n",
    "load_params[\"sigma_bar_11\"] = 0.0\n",
    "load_params[\"sigma_bar_01\"] = 0.0\n",
    "load_params[\"sigma_bar_10\"] = 0.0"
   ]
  },
  {
   "cell_type": "markdown",
   "metadata": {},
   "source": [
    "## Identifier function"
   ]
  },
  {
   "cell_type": "code",
   "execution_count": 5,
   "metadata": {},
   "outputs": [],
   "source": [
    "def paramter_identifier(exp_data, params_initial, bnds, asym_slope):\n",
    "\n",
    "    p_exp = exp_data[:, 0]\n",
    "    v_exp = exp_data[:, 1]\n",
    "\n",
    "    def J_cost(params_dimless):\n",
    "        par = [params_initial[0]*(1 + params_dimless[0]), params_initial[1]*(1 + params_dimless[1]), params_initial[2]*(1 + params_dimless[2]), params_initial[3]*(1 + params_dimless[3])]\n",
    "        print(par)\n",
    "\n",
    "\n",
    "        mat_params = {\"model\":\"exponential\", \"parameters\":{\"beta1\":par[0], \"beta2\":par[1], \"beta3\":par[2], \"alpha\":par[3]}} \n",
    "\n",
    "\n",
    "        dmech.run_HollowBox_MicroPoroHyperelasticity(\n",
    "            dim=2,\n",
    "            mesh=mesh,\n",
    "            mat_params=mat_params,\n",
    "            load_params=load_params,\n",
    "            step_params={\"Deltat\":1., \"dt_ini\":0.1, \"dt_min\":0.005, \"dt_max\":0.1},\n",
    "            res_basename=res_basename,\n",
    "            write_qois_limited_precision=False,\n",
    "            verbose=1\n",
    "        )\n",
    "\n",
    "        qois_vals = numpy.loadtxt(qois_filename)\n",
    "        qois_name_list = open(qois_filename).readline().split()\n",
    "        pf_lst = qois_vals[:, qois_name_list.index(\"p_f\") - 1]*10.20\n",
    "        vf_lst = qois_vals[:, qois_name_list.index(\"vf\") - 1]\n",
    "\n",
    "        for i in range(1, len(vf_lst)):\n",
    "            slope = (vf_lst[i] - vf_lst[i - 1])/(pf_lst[i] - pf_lst[i - 1])\n",
    "            if slope < asym_slope:\n",
    "                break\n",
    "\n",
    "        vf_asym = vf_lst[i]\n",
    "        vf_lst = [vf_/vf_asym *100 for vf_ in vf_lst]\n",
    "\n",
    "        model_interpolator = interp1d(pf_lst, vf_lst, kind='cubic')  \n",
    "\n",
    "        JC = 0\n",
    "        for i in range(len(exp_data)):\n",
    "            JC += (v_exp[i] - model_interpolator(p_exp[i]))**2\n",
    "\n",
    "        print(\"JC: \" +str(JC))\n",
    "        return JC\n",
    "\n",
    "\n",
    "    params_ini_dimless = [0, 0,  0, 0]\n",
    "    params_id= (scipy.optimize.minimize(J_cost, x0=params_ini_dimless, method=\"TNC\", bounds=bnds, tol=1e-3)).x\n",
    "\n",
    "    params_id = [params_initial[0]*(1 + params_id[0]), params_initial[1]*(1 + params_id[1]), params_initial[2]*(1 + params_id[2]), params_initial[3]*(1 + params_id[3])]\n",
    "\n",
    "    return params_id"
   ]
  },
  {
   "cell_type": "code",
   "execution_count": null,
   "metadata": {},
   "outputs": [],
   "source": [
    "params_initial = [0.12414156917794349, 0.011853212744289299, 0.6282749906141952, 3.124581670582977]\n",
    "bnds = [(-0.9, 10), (-0.8, 10), (-0.2, 0.2), (-0.3, 4)]\n",
    "asym_slope = 0.1 * Vf0\n",
    "params_id_simth =  paramter_identifier(numpy.vstack((smith_PV_deflation_gamma_0, smith_PV_inflation_gamma_0)), params_initial, bnds, asym_slope)"
   ]
  },
  {
   "cell_type": "markdown",
   "metadata": {},
   "source": [
    "## Model response "
   ]
  },
  {
   "cell_type": "code",
   "execution_count": 7,
   "metadata": {},
   "outputs": [],
   "source": [
    "def graph_printer_smith(params):\n",
    "    mat_params = {\"model\":\"exponential\", \"parameters\":{\"beta1\":params[0], \"beta2\":params[1], \"beta3\":params[2], \"alpha\":params[3]}}\n",
    "\n",
    "    dmech.run_HollowBox_MicroPoroHyperelasticity(\n",
    "        dim=2,\n",
    "        mesh=mesh,\n",
    "        mat_params=mat_params,\n",
    "        load_params=load_params,\n",
    "        step_params={\"Deltat\":1., \"dt_ini\":0.1, \"dt_min\":0.005, \"dt_max\":0.1},\n",
    "        res_basename=res_basename,\n",
    "        write_qois_limited_precision=False,\n",
    "        verbose=1\n",
    "    )\n",
    "\n",
    "    qois_vals = numpy.loadtxt(qois_filename)\n",
    "    qois_name_list = open(qois_filename).readline().split()\n",
    "    pf_lst = qois_vals[:, qois_name_list.index(\"p_f\") - 1]*10.20\n",
    "    vf_lst = qois_vals[:, qois_name_list.index(\"vf\") - 1]\n",
    "\n",
    "    for i in range(1, len(vf_lst)):\n",
    "        slope = (vf_lst[i] - vf_lst[i - 1])/(pf_lst[i] - pf_lst[i - 1])\n",
    "        if slope < 0.1 * Vf0:\n",
    "            break\n",
    "\n",
    "    vf_asym = vf_lst[i]\n",
    "    vf_lst = [vf_/vf_asym *100 for vf_ in vf_lst]\n",
    "\n",
    "    print(\"pf_asym: {:.2f} cmH2O\".format(pf_lst[i]))\n",
    "\n",
    "    plt.plot()\n",
    "    plt.rc('xtick' , labelsize=14)\n",
    "    plt.rc('ytick' , labelsize=14)\n",
    "    plt.rc('legend', fontsize=12)\n",
    "    plt.xlabel(r'$p_f~(cm H_2O)$', fontsize=16)\n",
    "    plt.ylabel(r'$Volume~(\\% TLC)$', fontsize=16)\n",
    "\n",
    "\n",
    "    plt.plot(p_smith_PV_deflation_gamma_0, v_smith_PV_deflation_gamma_0, '#D94801', label='[Smith, 1986], deflation, $\\gamma = 0~dyn/cm$', linestyle='dashed')\n",
    "    plt.plot(p_smith_PV_inflation_gamma_0, v_smith_PV_inflation_gamma_0, '#D94801', label='[Smith, 1986], inflation, $\\gamma = 0~dyn/cm$')\n",
    "\n",
    "    plt.plot(pf_lst[0:80], vf_lst[0:80], '#084594', label='Model, $\\gamma = 0~dyn/cm$')\n",
    "\n",
    "    plt.xlim(0, 25)\n",
    "    plt.ylim(0, 110)\n",
    "    plt.legend(loc = 'lower right', fontsize=12, shadow=True)\n",
    "    plt.savefig('Smith_iden.pdf',bbox_inches='tight')\n",
    "    plt.show()"
   ]
  },
  {
   "cell_type": "markdown",
   "metadata": {},
   "source": [
    "### Plot"
   ]
  },
  {
   "cell_type": "code",
   "execution_count": null,
   "metadata": {},
   "outputs": [],
   "source": [
    "graph_printer_smith(params_id_simth)"
   ]
  }
 ],
 "metadata": {
  "kernelspec": {
   "display_name": "all",
   "language": "python",
   "name": "python3"
  },
  "language_info": {
   "codemirror_mode": {
    "name": "ipython",
    "version": 3
   },
   "file_extension": ".py",
   "mimetype": "text/x-python",
   "name": "python",
   "nbconvert_exporter": "python",
   "pygments_lexer": "ipython3",
   "version": "3.8.12"
  }
 },
 "nbformat": 4,
 "nbformat_minor": 2
}
