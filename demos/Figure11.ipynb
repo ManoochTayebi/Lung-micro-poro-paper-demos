{
 "cells": [
  {
   "cell_type": "markdown",
   "metadata": {},
   "source": [
    "# Figure 11"
   ]
  },
  {
   "cell_type": "markdown",
   "metadata": {},
   "source": [
    "## Imports"
   ]
  },
  {
   "cell_type": "code",
   "execution_count": 1,
   "metadata": {},
   "outputs": [],
   "source": [
    "import dolfin\n",
    "import numpy\n",
    "\n",
    "import dolfin_mech                    as dmech\n",
    "import matplotlib.pyplot              as plt\n",
    "import micro_poro_structure_generator as gen"
   ]
  },
  {
   "cell_type": "markdown",
   "metadata": {},
   "source": [
    "## Importing experimental data"
   ]
  },
  {
   "cell_type": "code",
   "execution_count": 2,
   "metadata": {},
   "outputs": [],
   "source": [
    "smith_PV_inflation_gamma_0 = numpy.load('smith_PV_inflation_gamma_0.npy')\n",
    "p_smith_PV_inflation_gamma_0 = smith_PV_inflation_gamma_0[:, 0]\n",
    "v_smith_PV_inflation_gamma_0 = smith_PV_inflation_gamma_0[:, 1]\n",
    "\n",
    "smith_PV_inflation_air_filled = numpy.load('smith_PV_inflation_air_filled.npy')\n",
    "p_smith_PV_inflation_air_filled = smith_PV_inflation_air_filled[:, 0]\n",
    "v_smith_PV_inflation_air_filled = smith_PV_inflation_air_filled[:, 1]\n",
    "\n",
    "\n",
    "smith_PV_deflation_gamma_0 = numpy.load('smith_PV_deflation_gamma_0.npy')\n",
    "p_smith_PV_deflation_gamma_0 = smith_PV_deflation_gamma_0[:, 0]\n",
    "v_smith_PV_deflation_gamma_0 = smith_PV_deflation_gamma_0[:, 1]\n",
    "\n",
    "smith_PV_deflation_air_filled = numpy.load('smith_PV_deflation_air_filled.npy')\n",
    "p_smith_PV_deflation_air_filled = smith_PV_deflation_air_filled[:, 0]\n",
    "v_smith_PV_deflation_air_filled = smith_PV_deflation_air_filled[:, 1]"
   ]
  },
  {
   "cell_type": "markdown",
   "metadata": {},
   "source": [
    "## Defining geometry"
   ]
  },
  {
   "cell_type": "code",
   "execution_count": null,
   "metadata": {},
   "outputs": [],
   "source": [
    "seeds_filename    = \"Fig11.dat\"\n",
    "mesh_filebasename = \"Fig11-mesh\"\n",
    "qois_filename     = \"Fig11-qois.dat\"\n",
    "res_basename      = \"Fig11\"\n",
    "\n",
    "domain_y = 0.1 * 0.8\n",
    "domain_x = domain_y * numpy.sqrt(3)/1.5/2\n",
    "thickness = 0.012 * 0.8\n",
    "\n",
    "gen.generate_seeds_semi_regular(\n",
    "    DoI = 0.,\n",
    "    row = 1,\n",
    "    domain_y = domain_y,\n",
    "    seeds_filename = seeds_filename)\n",
    "gen.generate_mesh_2D_rectangle_w_voronoi_inclusions(\n",
    "    mesh_filename = mesh_filebasename,\n",
    "    seeds_filename = seeds_filename,\n",
    "    h = thickness,\n",
    "    lcar = thickness/5,\n",
    "    domain_x = domain_x,\n",
    "    domain_y = domain_y,\n",
    "    shift_y = 0.,\n",
    "    remove_seeds = True)\n",
    "\n",
    "mesh = dolfin.Mesh()\n",
    "dolfin.XDMFFile(mesh_filebasename+\".xdmf\").read(mesh)\n",
    "dV = dolfin.Measure(\"dx\",domain=mesh)\n",
    "\n",
    "coord = mesh.coordinates()\n",
    "xmax = max(coord[:,0]); xmin = min(coord[:,0])\n",
    "ymax = max(coord[:,1]); ymin = min(coord[:,1])\n",
    "\n",
    "V   = (xmax - xmin)*(ymax - ymin)\n",
    "VS0 = dolfin.assemble(dolfin.Constant(1) * dV)\n",
    "Vf0 = V - VS0"
   ]
  },
  {
   "cell_type": "markdown",
   "metadata": {},
   "source": [
    "## Loading & Parameters"
   ]
  },
  {
   "cell_type": "code",
   "execution_count": null,
   "metadata": {},
   "outputs": [],
   "source": [
    "params = [0.08855929243285596, 0.011039510924095856, 0.6281487879627474, 3.409513378002055]\n",
    "mat_params = {\"model\":\"exponentialneoHookean\", \"parameters\":{\"beta1\":params[0], \"beta2\":params[1], \"beta3\":params[2], \"beta4\":100*params[0], \"alpha\":params[3]}}  \n",
    "\n",
    "load_params = {}\n",
    "load_params[\"pf\"] = 4\n",
    "load_params[\"sigma_bar_00\"] = 0.0\n",
    "load_params[\"sigma_bar_11\"] = 0.0\n",
    "load_params[\"sigma_bar_01\"] = 0.0\n",
    "load_params[\"sigma_bar_10\"] = 0.0"
   ]
  },
  {
   "cell_type": "markdown",
   "metadata": {},
   "source": [
    "## Model respone"
   ]
  },
  {
   "cell_type": "markdown",
   "metadata": {},
   "source": [
    "### $\\gamma = 0$"
   ]
  },
  {
   "cell_type": "code",
   "execution_count": null,
   "metadata": {},
   "outputs": [],
   "source": [
    "dmech.run_HollowBox_MicroPoroHyperelasticity(\n",
    "    dim=2,\n",
    "    mesh=mesh,\n",
    "    mat_params=mat_params,\n",
    "    load_params=load_params,\n",
    "    step_params={\"Deltat\":1., \"dt_ini\":0.1, \"dt_min\":0.005, \"dt_max\":0.1},\n",
    "    res_basename=res_basename,\n",
    "    write_qois_limited_precision=False,\n",
    "    verbose=1\n",
    ")\n",
    "\n",
    "qois_vals = numpy.loadtxt(qois_filename)\n",
    "qois_name_list = open(qois_filename).readline().split()\n",
    "pf_lst = qois_vals[:, qois_name_list.index(\"p_f\") - 1]*10.20\n",
    "vf_lst = qois_vals[:, qois_name_list.index(\"vf\") - 1]\n",
    "\n",
    "for i in range(1, len(vf_lst)):\n",
    "    slope = (vf_lst[i] - vf_lst[i - 1])/(pf_lst[i] - pf_lst[i - 1])\n",
    "    if slope < 0.1 * Vf0:\n",
    "        break\n",
    "\n",
    "vf_asym = vf_lst[i]\n",
    "vf_lst = [vf_/vf_asym *100 for vf_ in vf_lst]\n",
    "S_lst = qois_vals[:, qois_name_list.index(\"S_area\") - 1]\n",
    "S_hat_gamma_0_lst = [S/S_lst[0] for S in S_lst]\n",
    "\n",
    "vf_gamma_0_lst = vf_lst\n",
    "pf_gamma_0_lst = pf_lst"
   ]
  },
  {
   "cell_type": "markdown",
   "metadata": {},
   "source": [
    "### $\\gamma = \\gamma(S)$"
   ]
  },
  {
   "cell_type": "code",
   "execution_count": 6,
   "metadata": {},
   "outputs": [],
   "source": [
    "load_params = {}\n",
    "load_params[\"pf_lst\"]           = [0.1, 3]\n",
    "load_params[\"sigma_bar_00_lst\"] = [0.0, 0.0]\n",
    "load_params[\"sigma_bar_11_lst\"] = [0.0, 0.0]\n",
    "load_params[\"sigma_bar_01_lst\"] = [0.0, 0.0]\n",
    "load_params[\"sigma_bar_10_lst\"] = [0.0, 0.0]\n",
    "load_params[\"gamma_lst\"]        = [0.03, 0.03]\n",
    "load_params[\"tension_params\"]   = {\"surface_dependancy\":1, \"d1\":1.0130287663205635, \"d2\":1.6742366271475184, \"d3\":-10.288589574038403}\n",
    "\n",
    "step_params = {}\n",
    "step_params[\"n_steps\"] = 2\n",
    "step_params[\"Deltat\"]  = 1.\n",
    "step_params[\"dt_ini\"]  = 0.01\n",
    "step_params[\"dt_min\"]  = 0.001\n",
    "step_params[\"dt_max\"]  = 0.005\n",
    "\n",
    "phi = dmech.run_HollowBox_MicroPoroHyperelasticity(\n",
    "    dim=2,\n",
    "    mesh=mesh,\n",
    "    mat_params=mat_params,\n",
    "    load_params=load_params,\n",
    "    step_params=step_params,\n",
    "    res_basename=res_basename,\n",
    "    write_qois_limited_precision=False,\n",
    "    verbose=1\n",
    ")\n",
    "\n",
    "qois_vals = numpy.loadtxt(qois_filename)\n",
    "qois_name_list = open(qois_filename).readline().split()\n",
    "pf_lst = qois_vals[:, qois_name_list.index(\"p_f\") - 1]*10.20\n",
    "vf_lst = qois_vals[:, qois_name_list.index(\"vf\") - 1]\n",
    "\n",
    "vf_lst = [vf_/vf_asym *100 for vf_ in vf_lst]\n",
    "\n",
    "vf_inf_lst = vf_lst\n",
    "pf_inf_lst = pf_lst\n",
    "\n",
    "\n",
    "\n",
    "load_params[\"tension_params\"] = {\"surface_dependancy\":1, \"d1\":1.030747711797792, \"d2\":2.1708848554526874, \"d3\":-14.828598856766776}\n",
    "\n",
    "\n",
    "phi = dmech.run_HollowBox_MicroPoroHyperelasticity(\n",
    "    dim=2,\n",
    "    mesh=mesh,\n",
    "    mat_params=mat_params,\n",
    "    load_params=load_params,\n",
    "    step_params=step_params,\n",
    "    res_basename=res_basename,\n",
    "    write_qois_limited_precision=False,\n",
    "    verbose=1\n",
    ")\n",
    "\n",
    "qois_vals = numpy.loadtxt(qois_filename)\n",
    "qois_name_list = open(qois_filename).readline().split()\n",
    "pf_lst = qois_vals[:, qois_name_list.index(\"p_f\") - 1]*10.20\n",
    "vf_lst = qois_vals[:, qois_name_list.index(\"vf\") - 1]\n",
    "\n",
    "vf_lst = [vf_/vf_asym *100 for vf_ in vf_lst]\n",
    "\n",
    "vf_def_lst = vf_lst\n",
    "pf_def_lst = pf_lst"
   ]
  },
  {
   "cell_type": "code",
   "execution_count": null,
   "metadata": {},
   "outputs": [],
   "source": [
    "plt.rc('xtick', labelsize=14)\n",
    "plt.rc('ytick', labelsize=14)\n",
    "plt.rc('legend', fontsize=12)\n",
    "plt.xlabel(r'$p_f~(cm H_2O)$', fontsize=16)\n",
    "plt.ylabel(r'$Volume~(\\% TLC)$', fontsize=16)\n",
    "\n",
    "plt.plot(p_smith_PV_deflation_gamma_0, v_smith_PV_deflation_gamma_0, '#D94801', label='[Smith, 1986], deflation, $\\gamma = 0~dyn/cm$', linestyle='dotted')\n",
    "plt.plot(p_smith_PV_inflation_gamma_0, v_smith_PV_inflation_gamma_0, '#D94801', label='[Smith, 1986], inflation, $\\gamma = 0~dyn/cm$')\n",
    "\n",
    "\n",
    "plt.plot(pf_gamma_0_lst, vf_gamma_0_lst, '#084594', label='Model, $\\gamma = 0~dyn/cm$')\n",
    "plt.plot(pf_def_lst, vf_def_lst        , '#084594', label='Model, deflation, $\\gamma = \\gamma(S)$', linestyle='dashdot')\n",
    "plt.plot(pf_inf_lst, vf_inf_lst        , '#084594', label='Model, inflation, $\\gamma = \\gamma(S)$', linestyle='dashed')\n",
    "\n",
    "\n",
    "plt.plot(p_smith_PV_deflation_air_filled, v_smith_PV_deflation_air_filled, '#D94801', label='[Smith, 1986], air-filled, deflation', linestyle='dashdot')\n",
    "plt.plot(p_smith_PV_inflation_air_filled, v_smith_PV_inflation_air_filled, '#D94801', label='[Smith, 1986], air-filled, inflation', linestyle='dashed')\n",
    "\n",
    "plt.xlim(0, 25)\n",
    "plt.ylim(0, 115)\n",
    "plt.legend(loc = 'lower right', fontsize=12, bbox_to_anchor=(1.8, 0.), shadow=True)\n",
    "plt.savefig('surface_dependent_surface_tension.pdf',bbox_inches='tight')"
   ]
  }
 ],
 "metadata": {
  "kernelspec": {
   "display_name": "all",
   "language": "python",
   "name": "python3"
  },
  "language_info": {
   "codemirror_mode": {
    "name": "ipython",
    "version": 3
   },
   "file_extension": ".py",
   "mimetype": "text/x-python",
   "name": "python",
   "nbconvert_exporter": "python",
   "pygments_lexer": "ipython3",
   "version": "3.8.12"
  }
 },
 "nbformat": 4,
 "nbformat_minor": 2
}
