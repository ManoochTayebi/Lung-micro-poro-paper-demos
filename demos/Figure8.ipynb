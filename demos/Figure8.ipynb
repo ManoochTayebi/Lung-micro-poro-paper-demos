{
 "cells": [
  {
   "cell_type": "markdown",
   "metadata": {},
   "source": [
    "# Figure 8"
   ]
  },
  {
   "cell_type": "markdown",
   "metadata": {},
   "source": [
    "## Imports"
   ]
  },
  {
   "cell_type": "code",
   "execution_count": 1,
   "metadata": {},
   "outputs": [],
   "source": [
    "import dolfin\n",
    "import numpy\n",
    "\n",
    "import dolfin_mech                    as dmech\n",
    "import matplotlib.pyplot              as plt\n",
    "import micro_poro_structure_generator as gen"
   ]
  },
  {
   "cell_type": "markdown",
   "metadata": {},
   "source": [
    "## Importing experimental data"
   ]
  },
  {
   "cell_type": "code",
   "execution_count": 2,
   "metadata": {},
   "outputs": [],
   "source": [
    "smith_PV_inflation_gamma_0 = numpy.load('smith_PV_inflation_gamma_0.npy')\n",
    "p_smith_PV_inflation_gamma_0 = smith_PV_inflation_gamma_0[:, 0]\n",
    "v_smith_PV_inflation_gamma_0 = smith_PV_inflation_gamma_0[:, 1]\n",
    "\n",
    "smith_PV_inflation_gamma_7 = numpy.load('smith_PV_inflation_gamma_7.npy')\n",
    "p_smith_PV_inflation_gamma_7 = smith_PV_inflation_gamma_7[:, 0]\n",
    "v_smith_PV_inflation_gamma_7 = smith_PV_inflation_gamma_7[:, 1]\n",
    "\n",
    "\n",
    "smith_PV_deflation_gamma_0 = numpy.load('smith_PV_deflation_gamma_0.npy')\n",
    "p_smith_PV_deflation_gamma_0 = smith_PV_deflation_gamma_0[:, 0]\n",
    "v_smith_PV_deflation_gamma_0 = smith_PV_deflation_gamma_0[:, 1]\n",
    "\n",
    "smith_PV_deflation_gamma_7 = numpy.load('smith_PV_deflation_gamma_7.npy')\n",
    "p_smith_PV_deflation_gamma_7 = smith_PV_deflation_gamma_7[:, 0]\n",
    "v_smith_PV_deflation_gamma_7 = smith_PV_deflation_gamma_7[:, 1]"
   ]
  },
  {
   "cell_type": "markdown",
   "metadata": {},
   "source": [
    "## Loadings"
   ]
  },
  {
   "cell_type": "code",
   "execution_count": null,
   "metadata": {},
   "outputs": [],
   "source": [
    "qois_filename = \"Fig8-qois.dat\"\n",
    "res_basename = \"Fig8\"\n",
    "seeds_filename = \"Fig8.dat\"\n",
    "mesh_filebasename = \"Fig8-mesh\"\n",
    "\n",
    "\n",
    "params = [0.08855929243285596, 0.011039510924095856, 0.6281487879627474, 3.409513378002055]\n",
    "mat_params = {\"model\":\"exponentialneoHookean\", \"parameters\":{\"beta1\":params[0], \"beta2\":params[1], \"beta3\":params[2], \"beta4\":100*params[0], \"alpha\":params[3]}}  \n",
    "load_params_gamma_0 = {}\n",
    "load_params_gamma_0[\"pf\"] = 4\n",
    "load_params_gamma_0[\"sigma_bar_00\"] = 0.0\n",
    "load_params_gamma_0[\"sigma_bar_11\"] = 0.0\n",
    "load_params_gamma_0[\"sigma_bar_01\"] = 0.0\n",
    "load_params_gamma_0[\"sigma_bar_10\"] = 0.0\n",
    "\n",
    "\n",
    "gamma = 7 * 1e-3\n",
    "p_ini = 0.3\n",
    "load_params_gamma_7 = {}\n",
    "load_params_gamma_7[\"pf_lst\"] = [p_ini, 3]\n",
    "load_params_gamma_7[\"sigma_bar_00_lst\"] = [0.0, 0.0]\n",
    "load_params_gamma_7[\"sigma_bar_11_lst\"] = [0.0, 0.0]\n",
    "load_params_gamma_7[\"sigma_bar_01_lst\"] = [0.0, 0.0]\n",
    "load_params_gamma_7[\"sigma_bar_10_lst\"] = [0.0, 0.0]\n",
    "load_params_gamma_7[\"gamma_lst\"] = [gamma, gamma]\n",
    "\n",
    "step_params_gamma_7 = {}\n",
    "step_params_gamma_7[\"n_steps\"] = 2\n",
    "step_params_gamma_7[\"Deltat\"] = 1.\n",
    "step_params_gamma_7[\"dt_ini\"] = 0.01\n",
    "step_params_gamma_7[\"dt_min\"] = 0.0005\n",
    "step_params_gamma_7[\"dt_max\"] = 0.005\n"
   ]
  },
  {
   "cell_type": "markdown",
   "metadata": {},
   "source": [
    "## $D_{alv} = 54~\\mu m$"
   ]
  },
  {
   "cell_type": "markdown",
   "metadata": {},
   "source": [
    "### Defiding geometry"
   ]
  },
  {
   "cell_type": "code",
   "execution_count": null,
   "metadata": {},
   "outputs": [],
   "source": [
    "domain_y = 0.1 * 0.8\n",
    "domain_x = domain_y * numpy.sqrt(3)/1.5/2\n",
    "thickness = 0.012 * 0.8\n",
    "\n",
    "gen.generate_seeds_semi_regular(\n",
    "    DoI = 0.,\n",
    "    row = 1,\n",
    "    domain_y = domain_y,\n",
    "    seeds_filename = seeds_filename)\n",
    "gen.generate_mesh_2D_rectangle_w_voronoi_inclusions(\n",
    "    mesh_filename = mesh_filebasename,\n",
    "    seeds_filename = seeds_filename,\n",
    "    h = thickness,\n",
    "    lcar = thickness/5,\n",
    "    domain_x = domain_x,\n",
    "    domain_y = domain_y,\n",
    "    shift_y = 0.,\n",
    "    remove_seeds = True)\n",
    "\n",
    "mesh = dolfin.Mesh()\n",
    "dolfin.XDMFFile(mesh_filebasename+\".xdmf\").read(mesh)\n",
    "dV = dolfin.Measure(\"dx\",domain=mesh)\n",
    "\n",
    "coord = mesh.coordinates()\n",
    "xmax = max(coord[:,0]); xmin = min(coord[:,0])\n",
    "ymax = max(coord[:,1]); ymin = min(coord[:,1])\n",
    "\n",
    "V = (xmax - xmin)*(ymax - ymin)\n",
    "VS0 = dolfin.assemble(dolfin.Constant(1) * dV)\n",
    "Vf0 = V - VS0"
   ]
  },
  {
   "cell_type": "markdown",
   "metadata": {},
   "source": [
    "### Model response"
   ]
  },
  {
   "cell_type": "code",
   "execution_count": null,
   "metadata": {},
   "outputs": [],
   "source": [
    "dmech.run_HollowBox_MicroPoroHyperelasticity(\n",
    "    dim=2,\n",
    "    mesh=mesh,\n",
    "    mat_params=mat_params,\n",
    "    load_params=load_params_gamma_0,\n",
    "    step_params={\"Deltat\":1., \"dt_ini\":0.1, \"dt_min\":0.005, \"dt_max\":0.1},\n",
    "    res_basename=res_basename,\n",
    "    write_qois_limited_precision=False,\n",
    "    verbose=1\n",
    ")\n",
    "\n",
    "qois_vals = numpy.loadtxt(qois_filename)\n",
    "qois_name_list = open(qois_filename).readline().split()\n",
    "pf_lst = qois_vals[:, qois_name_list.index(\"p_f\") - 1]*10.20\n",
    "vf_lst = qois_vals[:, qois_name_list.index(\"vf\") - 1]\n",
    "\n",
    "for i in range(1, len(vf_lst)):\n",
    "    slope = (vf_lst[i] - vf_lst[i - 1])/(pf_lst[i] - pf_lst[i - 1])\n",
    "    if slope < 0.1 * Vf0:\n",
    "        break\n",
    "\n",
    "vf_asym = vf_lst[i]\n",
    "vf_lst = [vf_/vf_asym *100 for vf_ in vf_lst]\n",
    "\n",
    "vf_lst_D_54_gamma_0 = vf_lst\n",
    "pf_lst_D_54_gamma_0 = pf_lst\n",
    "\n",
    "\n",
    "\n",
    "dmech.run_HollowBox_MicroPoroHyperelasticity(\n",
    "    dim=2,\n",
    "    mesh=mesh,\n",
    "    mat_params=mat_params,\n",
    "    load_params=load_params_gamma_7,\n",
    "    step_params=step_params_gamma_7,\n",
    "    res_basename=res_basename,\n",
    "    write_qois_limited_precision=False,\n",
    "    verbose=1\n",
    ")\n",
    "\n",
    "qois_vals = numpy.loadtxt(qois_filename)\n",
    "qois_name_list = open(qois_filename).readline().split()\n",
    "\n",
    "\n",
    "pf_lst = qois_vals[:, qois_name_list.index(\"p_f\") - 1]*10.20\n",
    "vf_lst = qois_vals[:, qois_name_list.index(\"vf\") - 1]\n",
    "vf_lst = [vf_/vf_asym *100 for vf_ in vf_lst]\n",
    "index = numpy.argmin(numpy.abs(pf_lst - p_ini*10.20), axis=None)\n",
    "\n",
    "vf_lst_D_54_gamma_7 = vf_lst[index:]\n",
    "pf_lst_D_54_gamma_7 = pf_lst[index:]"
   ]
  },
  {
   "cell_type": "markdown",
   "metadata": {},
   "source": [
    "## $D_{alv} = 80~\\mu m$"
   ]
  },
  {
   "cell_type": "markdown",
   "metadata": {},
   "source": [
    "### Defining geometry"
   ]
  },
  {
   "cell_type": "code",
   "execution_count": null,
   "metadata": {},
   "outputs": [],
   "source": [
    "domain_y = 0.1 * 1.2\n",
    "domain_x = domain_y * numpy.sqrt(3)/1.5/2\n",
    "thickness = 0.012 * 1.2\n",
    "shift_y = -0.02\n",
    "gen.generate_seeds_semi_regular(\n",
    "    DoI = 0.,\n",
    "    row = 1,\n",
    "    domain_y = domain_y,\n",
    "    seeds_filename = seeds_filename)\n",
    "gen.generate_mesh_2D_rectangle_w_voronoi_inclusions(\n",
    "    mesh_filename = mesh_filebasename,\n",
    "    seeds_filename = seeds_filename,\n",
    "    h = thickness,\n",
    "    lcar = thickness/5,\n",
    "    domain_x = domain_x,\n",
    "    domain_y = domain_y,\n",
    "    shift_y = shift_y,\n",
    "    remove_seeds = True)\n",
    "\n",
    "mesh = dolfin.Mesh()\n",
    "dolfin.XDMFFile(mesh_filebasename+\".xdmf\").read(mesh)\n",
    "dV = dolfin.Measure(\"dx\",domain=mesh)\n",
    "\n",
    "coord = mesh.coordinates()\n",
    "xmax = max(coord[:,0]); xmin = min(coord[:,0])\n",
    "ymax = max(coord[:,1]); ymin = min(coord[:,1])\n",
    "\n",
    "V   = (xmax - xmin)*(ymax - ymin)\n",
    "VS0 = dolfin.assemble(dolfin.Constant(1) * dV)\n",
    "Vf0 = V - VS0"
   ]
  },
  {
   "cell_type": "markdown",
   "metadata": {},
   "source": [
    "### Model response"
   ]
  },
  {
   "cell_type": "code",
   "execution_count": 15,
   "metadata": {},
   "outputs": [],
   "source": [
    "dmech.run_HollowBox_MicroPoroHyperelasticity(\n",
    "    dim=2,\n",
    "    mesh=mesh,\n",
    "    mat_params=mat_params,\n",
    "    load_params=load_params_gamma_0,\n",
    "    step_params={\"Deltat\":1., \"dt_ini\":0.1, \"dt_min\":0.005, \"dt_max\":0.1},\n",
    "    res_basename=res_basename,\n",
    "    write_qois_limited_precision=False,\n",
    "    verbose=1\n",
    ")\n",
    "\n",
    "qois_vals = numpy.loadtxt(qois_filename)\n",
    "qois_name_list = open(qois_filename).readline().split()\n",
    "pf_lst = qois_vals[:, qois_name_list.index(\"p_f\") - 1]*10.20\n",
    "vf_lst = qois_vals[:, qois_name_list.index(\"vf\") - 1]\n",
    "\n",
    "for i in range(1, len(vf_lst)):\n",
    "    slope = (vf_lst[i] - vf_lst[i - 1])/(pf_lst[i] - pf_lst[i - 1])\n",
    "    if slope < 0.1 * Vf0:\n",
    "        break\n",
    "\n",
    "vf_asym = vf_lst[i]\n",
    "vf_lst = [vf_/vf_asym *100 for vf_ in vf_lst]\n",
    "\n",
    "vf_lst_D_80_gamma_0 = vf_lst\n",
    "pf_lst_D_80_gamma_0 = pf_lst\n",
    "\n",
    "\n",
    "\n",
    "dmech.run_HollowBox_MicroPoroHyperelasticity(\n",
    "    dim=2,\n",
    "    mesh=mesh,\n",
    "    mat_params=mat_params,\n",
    "    load_params=load_params_gamma_7,\n",
    "    step_params=step_params_gamma_7,\n",
    "    res_basename=res_basename,\n",
    "    write_qois_limited_precision=False,\n",
    "    verbose=1\n",
    ")\n",
    "\n",
    "qois_vals = numpy.loadtxt(qois_filename)\n",
    "qois_name_list = open(qois_filename).readline().split()\n",
    "\n",
    "\n",
    "pf_lst = qois_vals[:, qois_name_list.index(\"p_f\") - 1]*10.20\n",
    "vf_lst = qois_vals[:, qois_name_list.index(\"vf\") - 1]\n",
    "vf_lst = [vf_/vf_asym *100 for vf_ in vf_lst]\n",
    "\n",
    "\n",
    "index = numpy.argmin(numpy.abs(pf_lst - p_ini*10.20), axis=None)\n",
    "\n",
    "vf_lst_D_80_gamma_7 = vf_lst[index:]\n",
    "pf_lst_D_80_gamma_7 = pf_lst[index:]"
   ]
  },
  {
   "cell_type": "markdown",
   "metadata": {},
   "source": [
    "## Plot"
   ]
  },
  {
   "cell_type": "code",
   "execution_count": null,
   "metadata": {},
   "outputs": [],
   "source": [
    "plt.rc('xtick' , labelsize=14)\n",
    "plt.rc('ytick' , labelsize=14)\n",
    "plt.rc('legend', fontsize=12)\n",
    "plt.xlabel(r'$p_f~(cm H_2O)$'  , fontsize=16)\n",
    "plt.ylabel(r'$Volume~(\\% TLC)$', fontsize=16)\n",
    "\n",
    "plt.plot(p_smith_PV_inflation_gamma_0, v_smith_PV_inflation_gamma_0, '#D94801', label='[Smith, 1986], inflation, $\\gamma = 0~dyn/cm$')\n",
    "plt.plot(p_smith_PV_deflation_gamma_0, v_smith_PV_deflation_gamma_0, '#D94801', label='[Smith, 1986], deflation, $\\gamma = 0~dyn/cm$', linestyle='dotted')\n",
    "plt.plot(p_smith_PV_inflation_gamma_7, v_smith_PV_inflation_gamma_7, '#FD8D3C', label='[Smith, 1986], inflation, $\\gamma = 7~dyn/cm$')\n",
    "plt.plot(p_smith_PV_deflation_gamma_7, v_smith_PV_deflation_gamma_7, '#FD8D3C', label='[Smith, 1986], deflation, $\\gamma = 7~dyn/cm$', linestyle='dotted')\n",
    "\n",
    "plt.plot(pf_lst_D_54_gamma_0, vf_lst_D_54_gamma_0, '#084594', label='Model, $D_{alv} = 54~\\mu m$, $\\gamma = 0~dyn/cm$')\n",
    "plt.plot(pf_lst_D_54_gamma_7, vf_lst_D_54_gamma_7,'#4292C6' , label='Model, $D_{alv} = 54~\\mu m$, $\\gamma = 7~dyn/cm$')\n",
    "\n",
    "plt.plot(pf_lst_D_80_gamma_0, vf_lst_D_80_gamma_0, '#005A32', label='Model, $D_{alv} = 80~\\mu m$, $\\gamma = 0~dyn/cm$')\n",
    "plt.plot(pf_lst_D_80_gamma_7, vf_lst_D_80_gamma_7,'#41AB5D' , label='Model, $D_{alv} = 80~\\mu m$, $\\gamma = 7~dyn/cm$')\n",
    "\n",
    "plt.xlim(0, 25)\n",
    "plt.legend(loc = 'lower right', fontsize=12, bbox_to_anchor=(1.2, 0.), shadow=True)\n",
    "plt.savefig('RVE_size_surface_tension.pdf',bbox_inches='tight')"
   ]
  }
 ],
 "metadata": {
  "kernelspec": {
   "display_name": "all",
   "language": "python",
   "name": "python3"
  },
  "language_info": {
   "codemirror_mode": {
    "name": "ipython",
    "version": 3
   },
   "file_extension": ".py",
   "mimetype": "text/x-python",
   "name": "python",
   "nbconvert_exporter": "python",
   "pygments_lexer": "ipython3",
   "version": "3.8.12"
  },
  "orig_nbformat": 4
 },
 "nbformat": 4,
 "nbformat_minor": 2
}
