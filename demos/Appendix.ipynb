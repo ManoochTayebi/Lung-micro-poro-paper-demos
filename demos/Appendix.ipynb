{
 "cells": [
  {
   "cell_type": "markdown",
   "metadata": {},
   "source": [
    "# Appendix"
   ]
  },
  {
   "cell_type": "markdown",
   "metadata": {},
   "source": [
    "## Imports"
   ]
  },
  {
   "cell_type": "code",
   "execution_count": null,
   "metadata": {},
   "outputs": [],
   "source": [
    "import dolfin\n",
    "import numpy\n",
    "\n",
    "from scipy.interpolate import interp1d\n",
    "\n",
    "import dolfin_mech                    as dmech\n",
    "import matplotlib.pyplot              as plt\n",
    "import micro_poro_structure_generator as gen"
   ]
  },
  {
   "cell_type": "markdown",
   "metadata": {},
   "source": [
    "## Importing experimental data"
   ]
  },
  {
   "cell_type": "code",
   "execution_count": null,
   "metadata": {},
   "outputs": [],
   "source": [
    "smith_PV_inflation_gamma_0 = numpy.load('smith_PV_inflation_gamma_0.npy')\n",
    "smith_PV_deflation_gamma_0 = numpy.load('smith_PV_deflation_gamma_0.npy')"
   ]
  },
  {
   "cell_type": "markdown",
   "metadata": {},
   "source": [
    "## Defining geometry"
   ]
  },
  {
   "cell_type": "code",
   "execution_count": null,
   "metadata": {},
   "outputs": [],
   "source": [
    "seeds_filename = \"appen.dat\"\n",
    "mesh_filebasename = \"appen-mesh\"\n",
    "\n",
    "domain_y = 0.1 * 0.8\n",
    "domain_x = domain_y * numpy.sqrt(3)/1.5/2\n",
    "thickness = 0.012 * 0.8\n",
    "\n",
    "gen.generate_seeds_semi_regular(\n",
    "    DoI = 0.,\n",
    "    row = 1,\n",
    "    domain_y = domain_y,\n",
    "    seeds_filename = seeds_filename)\n",
    "gen.generate_mesh_2D_rectangle_w_voronoi_inclusions(\n",
    "    mesh_filename = mesh_filebasename,\n",
    "    seeds_filename = seeds_filename,\n",
    "    h = thickness,\n",
    "    lcar = thickness/5,\n",
    "    domain_x = domain_x,\n",
    "    domain_y = domain_y,\n",
    "    shift_y = 0.,\n",
    "    remove_seeds = True)\n",
    "\n",
    "mesh = dolfin.Mesh()\n",
    "dolfin.XDMFFile(mesh_filebasename+\".xdmf\").read(mesh)\n",
    "dV = dolfin.Measure(\"dx\",domain=mesh)\n",
    "\n",
    "coord = mesh.coordinates()\n",
    "xmax = max(coord[:,0]); xmin = min(coord[:,0])\n",
    "ymax = max(coord[:,1]); ymin = min(coord[:,1])\n",
    "\n",
    "V = (xmax - xmin)*(ymax - ymin)\n",
    "VS0 = dolfin.assemble(dolfin.Constant(1) * dV)\n",
    "Vf0 = V - VS0"
   ]
  },
  {
   "cell_type": "code",
   "execution_count": null,
   "metadata": {},
   "outputs": [],
   "source": [
    "mesh = dolfin.Mesh()\n",
    "dolfin.XDMFFile(mesh_filebasename+\".xdmf\").read(mesh)\n",
    "dV = dolfin.Measure(\"dx\",domain=mesh)\n",
    "\n",
    "coord = mesh.coordinates()\n",
    "xmax = max(coord[:,0]); xmin = min(coord[:,0])\n",
    "ymax = max(coord[:,1]); ymin = min(coord[:,1])\n",
    "\n",
    "V = (xmax - xmin)*(ymax - ymin)\n",
    "VS0 = dolfin.assemble(dolfin.Constant(1) * dV)\n",
    "Vf0 = V - VS0"
   ]
  },
  {
   "cell_type": "markdown",
   "metadata": {},
   "source": [
    "## Loading "
   ]
  },
  {
   "cell_type": "code",
   "execution_count": null,
   "metadata": {},
   "outputs": [],
   "source": [
    "qois_filename = \"appen-qois.dat\"\n",
    "res_basename = \"appen\"\n",
    "\n",
    "load_params = {}\n",
    "load_params[\"pf\"] = 4\n",
    "load_params[\"sigma_bar_00\"] = 0.0\n",
    "load_params[\"sigma_bar_11\"] = 0.0\n",
    "load_params[\"sigma_bar_01\"] = 0.0\n",
    "load_params[\"sigma_bar_10\"] = 0.0"
   ]
  },
  {
   "cell_type": "markdown",
   "metadata": {},
   "source": [
    "## Identifier function"
   ]
  },
  {
   "cell_type": "code",
   "execution_count": null,
   "metadata": {},
   "outputs": [],
   "source": [
    "params_dimless = [0, 0,  0, 0]\n",
    "params_initial = [0.08855929243285596, 0.011039510924095856, 0.6281487879627474, 3.409513378002055]\n",
    "exp_data = numpy.vstack((smith_PV_deflation_gamma_0, smith_PV_inflation_gamma_0))\n",
    "p_exp = exp_data[:, 0]\n",
    "v_exp = exp_data[:, 1]\n",
    "\n",
    "bnds = [(-0.9, 10), (-0.8, 10), (-0.2, 0.2), (-0.3, 4)]\n",
    "asym_slope = 0.1 * Vf0\n",
    "\n",
    "def J_cost(params_dimless):\n",
    "    par = [params_initial[0]*(1 + params_dimless[0]), params_initial[1]*(1 + params_dimless[1]), params_initial[2]*(1 + params_dimless[2]), params_initial[3]*(1 + params_dimless[3])]\n",
    "    print(par)\n",
    "\n",
    "    mat_params = {\"model\":\"exponentialneoHookean\", \"parameters\":{\"beta1\":par[0], \"beta2\":par[1], \"beta3\":par[2], \"beta4\":100*par[0], \"alpha\":par[3]}} \n",
    "\n",
    "\n",
    "    dmech.run_HollowBox_MicroPoroHyperelasticity(\n",
    "        dim=2,\n",
    "        mesh=mesh,\n",
    "        mat_params=mat_params,\n",
    "        load_params=load_params,\n",
    "        step_params={\"Deltat\":1., \"dt_ini\":0.1, \"dt_min\":0.005, \"dt_max\":0.1},\n",
    "        res_basename=res_basename,\n",
    "        write_qois_limited_precision=False,\n",
    "        verbose=1\n",
    "    )\n",
    "\n",
    "    qois_vals = numpy.loadtxt(qois_filename)\n",
    "    qois_name_list = open(qois_filename).readline().split()\n",
    "    pf_lst = qois_vals[:, qois_name_list.index(\"p_f\") - 1]*10.20\n",
    "    vf_lst = qois_vals[:, qois_name_list.index(\"vf\") - 1]\n",
    "\n",
    "    for i in range(1, len(vf_lst)):\n",
    "        slope = (vf_lst[i] - vf_lst[i - 1])/(pf_lst[i] - pf_lst[i - 1])\n",
    "        if slope < asym_slope:\n",
    "            break\n",
    "\n",
    "    vf_asym = vf_lst[i]\n",
    "    vf_lst = [vf_/vf_asym *100 for vf_ in vf_lst]\n",
    "\n",
    "    model_interpolator = interp1d(pf_lst, vf_lst, kind='cubic') \n",
    "\n",
    "    JC = 0\n",
    "    for i in range(len(exp_data)):\n",
    "        JC += (v_exp[i] - model_interpolator(p_exp[i]))**2\n",
    "\n",
    "    print(\"JC: \" +str(JC))\n",
    "    return JC"
   ]
  },
  {
   "cell_type": "markdown",
   "metadata": {},
   "source": [
    "## Eigenvalues and Eigenvectors "
   ]
  },
  {
   "cell_type": "code",
   "execution_count": null,
   "metadata": {},
   "outputs": [],
   "source": [
    "params_dimless = [0, 0, 0, 0]\n",
    "h = 1e-6\n",
    "cost_0 =  J_cost([params_dimless[0], params_dimless[1], params_dimless[2], params_dimless[3]])\n",
    "H_11 = (J_cost([params_dimless[0]+h, params_dimless[1], params_dimless[2], params_dimless[3]]) - 2 * cost_0 + J_cost([params_dimless[0]-h, params_dimless[1], params_dimless[2], params_dimless[3]]))/h**2\n",
    "H_22 = (J_cost([params_dimless[0], params_dimless[1]+h, params_dimless[2], params_dimless[3]]) - 2 * cost_0 + J_cost([params_dimless[0], params_dimless[1]-h, params_dimless[2], params_dimless[3]]))/h**2\n",
    "H_33 = (J_cost([params_dimless[0], params_dimless[1], params_dimless[2]+h, params_dimless[3]]) - 2 * cost_0 + J_cost([params_dimless[0], params_dimless[1], params_dimless[2]-h, params_dimless[3]]))/h**2\n",
    "H_44 = (J_cost([params_dimless[0], params_dimless[1], params_dimless[2], params_dimless[3]+h]) - 2 * cost_0 + J_cost([params_dimless[0], params_dimless[1], params_dimless[2], params_dimless[3]-h]))/h**2\n",
    "H_12 = (J_cost([params_dimless[0]+h/2, params_dimless[1]+h/2, params_dimless[2], params_dimless[3]]) - J_cost([params_dimless[0]-h/2, params_dimless[1]+h/2, params_dimless[2], params_dimless[3]]) - J_cost([params_dimless[0]+h/2, params_dimless[1]-h/2, params_dimless[2], params_dimless[3]]) + J_cost([params_dimless[0]-h/2, params_dimless[1]-h/2, params_dimless[2], params_dimless[3]]))/h**2\n",
    "H_13 = (J_cost([params_dimless[0]+h/2, params_dimless[1], params_dimless[2]+h/2, params_dimless[3]]) - J_cost([params_dimless[0]-h/2, params_dimless[1], params_dimless[2]+h/2, params_dimless[3]]) - J_cost([params_dimless[0]+h/2, params_dimless[1], params_dimless[2]-h/2, params_dimless[3]]) + J_cost([params_dimless[0]-h/2, params_dimless[1], params_dimless[2]-h/2, params_dimless[3]]))/h**2\n",
    "H_14 = (J_cost([params_dimless[0]+h/2, params_dimless[1], params_dimless[2], params_dimless[3]+h/2]) - J_cost([params_dimless[0]-h/2, params_dimless[1], params_dimless[2], params_dimless[3]+h/2]) - J_cost([params_dimless[0]+h/2, params_dimless[1], params_dimless[2], params_dimless[3]-h/2]) + J_cost([params_dimless[0]-h/2, params_dimless[1], params_dimless[2], params_dimless[3]-h/2]))/h**2\n",
    "H_23 = (J_cost([params_dimless[0], params_dimless[1]+h/2, params_dimless[2]+h/2, params_dimless[3]]) - J_cost([params_dimless[0], params_dimless[1]-h/2, params_dimless[2]+h/2, params_dimless[3]]) - J_cost([params_dimless[0], params_dimless[1]+h/2, params_dimless[2]-h/2, params_dimless[3]]) + J_cost([params_dimless[0], params_dimless[1]-h/2, params_dimless[2]-h/2, params_dimless[3]]))/h**2\n",
    "H_24 = (J_cost([params_dimless[0], params_dimless[1]+h/2, params_dimless[2], params_dimless[3]+h/2]) - J_cost([params_dimless[0], params_dimless[1]-h/2, params_dimless[2], params_dimless[3]+h/2]) - J_cost([params_dimless[0], params_dimless[1]+h/2, params_dimless[2], params_dimless[3]-h/2]) + J_cost([params_dimless[0], params_dimless[1]-h/2, params_dimless[2], params_dimless[3]-h/2]))/h**2\n",
    "H_34 = (J_cost([params_dimless[0], params_dimless[1], params_dimless[2]+h/2, params_dimless[3]+h/2]) - J_cost([params_dimless[0], params_dimless[1], params_dimless[2]-h/2, params_dimless[3]+h/2]) - J_cost([params_dimless[0], params_dimless[1], params_dimless[2]+h/2, params_dimless[3]-h/2]) + J_cost([params_dimless[0], params_dimless[1], params_dimless[2]-h/2, params_dimless[3]-h/2]))/h**2\n",
    "H_21 = H_12\n",
    "H_31 = H_13\n",
    "H_32 = H_23\n",
    "H_41 = H_14\n",
    "H_42 = H_24\n",
    "H_43 = H_34\n",
    "Hess = numpy.matrix([[float(H_11), float(H_12), float(H_13), float(H_14)],\n",
    "                  [float(H_21), float(H_22), float(H_23), float(H_24)],\n",
    "                  [float(H_31), float(H_32), float(H_33), float(H_34)],\n",
    "                  [float(H_41), float(H_42), float(H_43), float(H_44)]])\n",
    "# print(Hess)\n",
    "print(numpy.linalg.eig(Hess))"
   ]
  },
  {
   "cell_type": "code",
   "execution_count": null,
   "metadata": {},
   "outputs": [],
   "source": [
    "h2 = 0.1\n",
    "C1_C2_lim=numpy.linspace(float(params_dimless[0] - h2),float(params_dimless[0] + h2),11)\n",
    "C2_C1_lim=numpy.linspace(float(params_dimless[1] - h2),float(params_dimless[1] + h2),11)\n",
    " \n",
    "X, Y = numpy.meshgrid(C1_C2_lim,C2_C1_lim)\n",
    "Z_C1_C2= numpy.zeros((len(C1_C2_lim), len(C2_C1_lim)))\n",
    "for i in range (len(C1_C2_lim)):\n",
    "    for j in range (len(C2_C1_lim)):\n",
    "        Z_C1_C2[i, j] = J_cost([C1_C2_lim[i], C2_C1_lim[j], params_dimless[2], params_dimless[3]])\n",
    "\n",
    "fig = plt.figure()\n",
    "ax = fig.gca(projection='3d')\n",
    "surf = ax.plot_surface(X, Y, Z_C1_C2, cmap=\"plasma\", linewidth=0, antialiased=False, alpha=0.5)\n",
    "\n",
    "plt.rc('xtick', labelsize=12)\n",
    "plt.rc('ytick', labelsize=12)\n",
    "plt.rc('legend', fontsize=12)\n",
    "\n",
    "ax.set_xlabel(r'$\\beta_1$', fontsize=12)\n",
    "ax.set_ylabel(r'$\\beta_2$', fontsize=12)\n",
    "ax.set_zlabel('Cost function', fontsize=12)\n",
    "plt.savefig('beta1_beta2.pdf',bbox_inches='tight')"
   ]
  },
  {
   "cell_type": "code",
   "execution_count": null,
   "metadata": {},
   "outputs": [],
   "source": [
    "C1_C3_lim=numpy.linspace(float(params_dimless[0] - h2),float(params_dimless[0] + h2),11)\n",
    "C3_C1_lim=numpy.linspace(float(params_dimless[2] - h2),float(params_dimless[2] + h2),11)\n",
    " \n",
    "X, Y = numpy.meshgrid(C1_C3_lim,C3_C1_lim)\n",
    "Z_C1_C3= numpy.zeros((len(C1_C3_lim), len(C3_C1_lim)))\n",
    "for i in range (len(C1_C3_lim)):\n",
    "    for j in range (len(C3_C1_lim)):\n",
    "        Z_C1_C3[i, j] = J_cost([C1_C3_lim[i], params_dimless[1], C3_C1_lim[j], params_dimless[3]])\n",
    "\n",
    "fig = plt.figure()\n",
    "ax = fig.gca(projection='3d')\n",
    "surf = ax.plot_surface(X, Y, Z_C1_C3, cmap=\"plasma\", linewidth=0, antialiased=False, alpha=0.5)\n",
    "\n",
    "plt.rc('xtick', labelsize=12)\n",
    "plt.rc('ytick', labelsize=12)\n",
    "plt.rc('legend', fontsize=12)\n",
    "\n",
    "ax.set_xlabel(r'$\\beta_1$', fontsize=12)\n",
    "ax.set_ylabel(r'$\\alpha$', fontsize=12)\n",
    "ax.set_zlabel('Cost function', fontsize=12)\n",
    "plt.savefig('beta1_alpha.pdf',bbox_inches='tight')"
   ]
  },
  {
   "cell_type": "code",
   "execution_count": null,
   "metadata": {},
   "outputs": [],
   "source": [
    "C2_C3_lim=numpy.linspace(float(params_dimless[1] - h2),float(params_dimless[1] + h2),11)\n",
    "C3_C2_lim=numpy.linspace(float(params_dimless[2] - h2),float(params_dimless[2] + h2),11)\n",
    " \n",
    "X, Y = numpy.meshgrid(C2_C3_lim,C3_C2_lim)\n",
    "Z_C2_C3= numpy.zeros((len(C2_C3_lim), len(C3_C2_lim)))\n",
    "for i in range (len(C2_C3_lim)):\n",
    "    for j in range (len(C3_C2_lim)):\n",
    "        Z_C2_C3[i, j] = J_cost([params_dimless[0], C2_C3_lim[i], C3_C2_lim[j], params_dimless[3]])\n",
    "\n",
    "fig = plt.figure()\n",
    "ax = fig.gca(projection='3d')\n",
    "surf = ax.plot_surface(X, Y, Z_C2_C3, cmap=\"plasma\", linewidth=0, antialiased=False, alpha=0.5)\n",
    "\n",
    "plt.rc('xtick', labelsize=12)\n",
    "plt.rc('ytick', labelsize=12)\n",
    "plt.rc('legend', fontsize=12)\n",
    "\n",
    "ax.set_xlabel(r'$\\beta_2$', fontsize=12)\n",
    "ax.set_ylabel(r'$\\alpha$', fontsize=12)\n",
    "ax.set_zlabel('Cost function', fontsize=12)\n",
    "plt.savefig('beta2_alpha.pdf',bbox_inches='tight')"
   ]
  },
  {
   "cell_type": "code",
   "execution_count": null,
   "metadata": {},
   "outputs": [],
   "source": [
    "C1_C4_lim=numpy.linspace(float(params_dimless[0] - h2),float(params_dimless[0] + h2),11)\n",
    "C4_C1_lim=numpy.linspace(float(params_dimless[3] - h2),float(params_dimless[3] + h2),11)\n",
    " \n",
    "X, Y = numpy.meshgrid(C1_C4_lim,C4_C1_lim)\n",
    "Z_C1_C4= numpy.zeros((len(C1_C4_lim), len(C4_C1_lim)))\n",
    "for i in range (len(C1_C4_lim)):\n",
    "    for j in range (len(C4_C1_lim)):\n",
    "        Z_C1_C4[i, j] = J_cost([C1_C4_lim[i], params_dimless[1], params_dimless[2], C4_C1_lim[j]])\n",
    "\n",
    "fig = plt.figure()\n",
    "ax = fig.gca(projection='3d')\n",
    "surf = ax.plot_surface(X, Y, Z_C1_C4, cmap=\"plasma\", linewidth=0, antialiased=False, alpha=0.5)\n",
    "\n",
    "plt.rc('xtick', labelsize=12)\n",
    "plt.rc('ytick', labelsize=12)\n",
    "plt.rc('legend', fontsize=12)\n",
    "\n",
    "ax.set_xlabel(r'$\\beta_1$', fontsize=12)\n",
    "ax.set_ylabel(r'$\\beta_3$', fontsize=12)\n",
    "ax.set_zlabel('Cost function', fontsize=12)\n",
    "plt.savefig('beta1_beta3.pdf',bbox_inches='tight')"
   ]
  },
  {
   "cell_type": "code",
   "execution_count": null,
   "metadata": {},
   "outputs": [],
   "source": [
    "C2_C4_lim=numpy.linspace(float(params_dimless[1] - h2),float(params_dimless[1] + h2),11)\n",
    "C4_C2_lim=numpy.linspace(float(params_dimless[3] - h2),float(params_dimless[3] + h2),11)\n",
    " \n",
    "X, Y = numpy.meshgrid(C2_C4_lim,C4_C2_lim)\n",
    "Z_C2_C4= numpy.zeros((len(C2_C4_lim), len(C4_C2_lim)))\n",
    "for i in range (len(C2_C4_lim)):\n",
    "    for j in range (len(C4_C2_lim)):\n",
    "        Z_C2_C4[i, j] = J_cost([params_dimless[0], C2_C4_lim[i], params_dimless[2], C4_C2_lim[j]])\n",
    "\n",
    "fig = plt.figure()\n",
    "ax = fig.gca(projection='3d')\n",
    "surf = ax.plot_surface(X, Y, Z_C2_C4, cmap=\"plasma\", linewidth=0, antialiased=False, alpha=0.5)\n",
    "\n",
    "plt.rc('xtick', labelsize=12)\n",
    "plt.rc('ytick', labelsize=12)\n",
    "plt.rc('legend', fontsize=12)\n",
    "\n",
    "ax.set_xlabel(r'$\\beta_2$', fontsize=12)\n",
    "ax.set_ylabel(r'$\\beta_3$', fontsize=12)\n",
    "ax.set_zlabel('Cost function', fontsize=12)\n",
    "plt.savefig('beta2_beta3.pdf',bbox_inches='tight')"
   ]
  },
  {
   "cell_type": "code",
   "execution_count": null,
   "metadata": {},
   "outputs": [],
   "source": [
    "C3_C4_lim=numpy.linspace(float(params_dimless[2] - h2),float(params_dimless[2] + h2),11)\n",
    "C4_C3_lim=numpy.linspace(float(params_dimless[3] - h2),float(params_dimless[3] + h2),11)\n",
    " \n",
    "X, Y = numpy.meshgrid(C3_C4_lim,C4_C3_lim)\n",
    "Z_C3_C4= numpy.zeros((len(C3_C4_lim), len(C4_C3_lim)))\n",
    "for i in range (len(C3_C4_lim)):\n",
    "    for j in range (len(C4_C3_lim)):\n",
    "        Z_C3_C4[i, j] = J_cost([params_dimless[0], params_dimless[1], C3_C4_lim[i], C4_C3_lim[j]])\n",
    "\n",
    "fig = plt.figure()\n",
    "ax = fig.gca(projection='3d')\n",
    "surf = ax.plot_surface(X, Y, Z_C3_C4, cmap=\"plasma\", linewidth=0, antialiased=False, alpha=0.5)\n",
    "\n",
    "plt.rc('xtick', labelsize=12)\n",
    "plt.rc('ytick', labelsize=12)\n",
    "plt.rc('legend', fontsize=12)\n",
    "\n",
    "ax.set_xlabel(r'$\\alpha$', fontsize=12)\n",
    "ax.set_ylabel(r'$\\beta_3$', fontsize=12)\n",
    "ax.set_zlabel('Cost function', fontsize=12)\n",
    "plt.savefig('alpha_beta3.pdf', bbox_inches='tight')"
   ]
  }
 ],
 "metadata": {
  "kernelspec": {
   "display_name": "all",
   "language": "python",
   "name": "python3"
  },
  "language_info": {
   "codemirror_mode": {
    "name": "ipython",
    "version": 3
   },
   "file_extension": ".py",
   "mimetype": "text/x-python",
   "name": "python",
   "nbconvert_exporter": "python",
   "pygments_lexer": "ipython3",
   "version": "3.8.12"
  }
 },
 "nbformat": 4,
 "nbformat_minor": 2
}
