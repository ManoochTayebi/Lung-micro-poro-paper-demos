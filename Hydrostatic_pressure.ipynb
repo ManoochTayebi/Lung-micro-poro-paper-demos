{
 "cells": [
  {
   "cell_type": "code",
   "execution_count": 1,
   "metadata": {},
   "outputs": [],
   "source": [
    "# For better printing within jupyter cells\n",
    "import IPython\n",
    "IPython.core.interactiveshell.InteractiveShell.ast_node_interactivity = \"all\"\n",
    "\n",
    "# Basic python libraries\n",
    "import matplotlib.pyplot as mpl # doc: https://matplotlib.org/tutorials\n",
    "import numpy                    # doc: https://numpy.org/doc/stable\n",
    "import sympy                    # doc: https://docs.sympy.org"
   ]
  },
  {
   "cell_type": "code",
   "execution_count": 2,
   "metadata": {},
   "outputs": [],
   "source": [
    "%%capture\n",
    "# By these two lines, it will not be needed to restart kernel when applying change in a library\n",
    "%load_ext autoreload\n",
    "%autoreload 2\n",
    "\n",
    "# import main\n",
    "import dolfin  \n",
    "import numpy    as np\n",
    "import sympy    as sp\n",
    "import matplotlib.pyplot as plt\n",
    "import math\n",
    "import gmsh\n",
    "import meshio\n",
    "import sys\n",
    "from numpy import linspace\n",
    "from sympy import lambdify\n",
    "import seaborn as sns\n",
    "\n",
    "import myPythonLibrary as mypy\n",
    "import dolfin_mech     as dmech\n",
    "from numpy import exp,arange\n",
    "from pylab import meshgrid,cm,imshow,contour,clabel,colorbar,axis,title,show\n",
    "\n",
    "from scipy.optimize import fsolve\n",
    "\n",
    "from matplotlib import cm\n"
   ]
  },
  {
   "attachments": {},
   "cell_type": "markdown",
   "metadata": {},
   "source": [
    "## Parameters"
   ]
  },
  {
   "cell_type": "code",
   "execution_count": 3,
   "metadata": {},
   "outputs": [
    {
     "name": "stdout",
     "output_type": "stream",
     "text": [
      "lmbda:\n"
     ]
    },
    {
     "data": {
      "text/latex": [
       "$\\displaystyle \\lambda$"
      ],
      "text/plain": [
       "lambda"
      ]
     },
     "execution_count": 3,
     "metadata": {},
     "output_type": "execute_result"
    },
    {
     "name": "stdout",
     "output_type": "stream",
     "text": [
      "mu:\n"
     ]
    },
    {
     "data": {
      "text/latex": [
       "$\\displaystyle \\mu$"
      ],
      "text/plain": [
       "mu"
      ]
     },
     "execution_count": 3,
     "metadata": {},
     "output_type": "execute_result"
    }
   ],
   "source": [
    "lmbda = sympy.Symbol('lambda') # lambda is a reserved keyword in python, it cannot be used as a name for a variable.\n",
    "mu    = sympy.Symbol('mu')\n",
    "\n",
    "print (\"lmbda:\"); lmbda\n",
    "print (\"mu:\"   ); mu"
   ]
  },
  {
   "cell_type": "code",
   "execution_count": 4,
   "metadata": {},
   "outputs": [],
   "source": [
    "dim = 2\n",
    "fname = \"Geometries/Hexagon/hexagon_RVE1\"\n",
    "# fname = 'Geometries/Hallow_square/Hallow_square_inclusion_inside'\n",
    "\n",
    "mesh = dolfin.Mesh()\n",
    "dolfin.XDMFFile(fname+\"-mesh.xdmf\").read(mesh)\n",
    "\n",
    "dV = dolfin.Measure(\"dx\",domain=mesh)\n",
    "coord = mesh.coordinates()\n",
    "xmax = max(coord[:,0]); xmin = min(coord[:,0])\n",
    "ymax = max(coord[:,1]); ymin = min(coord[:,1])\n",
    "\n",
    "vol = (xmax - xmin)*(ymax - ymin)\n",
    "bbox = [xmin, xmax, ymin, ymax]\n"
   ]
  },
  {
   "cell_type": "code",
   "execution_count": 27,
   "metadata": {},
   "outputs": [
    {
     "name": "stdout",
     "output_type": "stream",
     "text": [
      "Solving linear variational problem.\n",
      "Solving linear variational problem.\n",
      "Solving linear variational problem.\n",
      "lmbda_:\n"
     ]
    },
    {
     "data": {
      "text/plain": [
       "0.032565142567563536"
      ]
     },
     "execution_count": 27,
     "metadata": {},
     "output_type": "execute_result"
    },
    {
     "name": "stdout",
     "output_type": "stream",
     "text": [
      "mu_:\n"
     ]
    },
    {
     "data": {
      "text/plain": [
       "0.15767990967151904"
      ]
     },
     "execution_count": 27,
     "metadata": {},
     "output_type": "execute_result"
    }
   ],
   "source": [
    "E_     = 1.  # (Pa)\n",
    "nu_    = 0.499 # ()\n",
    "\n",
    "mat_params = {\"model\":\"CGNH\", \"parameters\":{\"E\":E_, \"nu\":nu_}}\n",
    "homo = dmech.HomogenizationLinear(dim=dim,\n",
    "                mesh=mesh,\n",
    "                mat_params=mat_params[\"parameters\"],\n",
    "                vol=vol,\n",
    "                bbox=bbox)\n",
    "[mu_, lmbda_] = homo.get_lambda_and_mu()\n",
    "\n",
    "# lmbda_ = E_ * nu_ / (1 + nu_) / (1 - 2 * nu_)\n",
    "# mu_    = E_ / 2 / (1 + nu_)\n",
    "print (\"lmbda_:\"); lmbda_\n",
    "print (\"mu_:\"   ); mu_\n",
    "K_ = lmbda_ + 2*mu_/3\n",
    "G_ = mu_"
   ]
  },
  {
   "cell_type": "code",
   "execution_count": 7,
   "metadata": {},
   "outputs": [
    {
     "name": "stdout",
     "output_type": "stream",
     "text": [
      "subs_dict:\n"
     ]
    },
    {
     "data": {
      "text/plain": [
       "{lambda: 0.032565142567563536, mu: 0.15767990967151904}"
      ]
     },
     "execution_count": 7,
     "metadata": {},
     "output_type": "execute_result"
    },
    {
     "name": "stdout",
     "output_type": "stream",
     "text": [
      "lmbda:\n"
     ]
    },
    {
     "data": {
      "text/latex": [
       "$\\displaystyle 0.0325651425675635$"
      ],
      "text/plain": [
       "0.0325651425675635"
      ]
     },
     "execution_count": 7,
     "metadata": {},
     "output_type": "execute_result"
    },
    {
     "name": "stdout",
     "output_type": "stream",
     "text": [
      "mu:\n"
     ]
    },
    {
     "data": {
      "text/latex": [
       "$\\displaystyle 0.157679909671519$"
      ],
      "text/plain": [
       "0.157679909671519"
      ]
     },
     "execution_count": 7,
     "metadata": {},
     "output_type": "execute_result"
    }
   ],
   "source": [
    "subs_dict        = {}\n",
    "subs_dict[lmbda] = lmbda_\n",
    "subs_dict[mu]    = mu_\n",
    "print (\"subs_dict:\"); subs_dict\n",
    "\n",
    "print (\"lmbda:\"); lmbda.subs(subs_dict)\n",
    "print (\"mu:\"   ); mu.subs(subs_dict)"
   ]
  },
  {
   "attachments": {},
   "cell_type": "markdown",
   "metadata": {},
   "source": [
    "## Behavior models"
   ]
  },
  {
   "attachments": {},
   "cell_type": "markdown",
   "metadata": {},
   "source": [
    "### Kinematics variables"
   ]
  },
  {
   "cell_type": "code",
   "execution_count": 8,
   "metadata": {},
   "outputs": [
    {
     "name": "stdout",
     "output_type": "stream",
     "text": [
      "C_var:\n"
     ]
    },
    {
     "data": {
      "text/latex": [
       "$\\displaystyle \\left[\\begin{matrix}C_{0, 0} & C_{0, 1}\\\\C_{1, 0} & C_{1, 1}\\end{matrix}\\right]$"
      ],
      "text/plain": [
       "Matrix([\n",
       "[C[0, 0], C[0, 1]],\n",
       "[C[1, 0], C[1, 1]]])"
      ]
     },
     "execution_count": 8,
     "metadata": {},
     "output_type": "execute_result"
    },
    {
     "name": "stdout",
     "output_type": "stream",
     "text": [
      "C_inv_var:\n"
     ]
    },
    {
     "data": {
      "text/latex": [
       "$\\displaystyle \\left[\\begin{matrix}\\frac{C_{1, 1}}{C_{0, 0} C_{1, 1} - C_{0, 1} C_{1, 0}} & - \\frac{C_{0, 1}}{C_{0, 0} C_{1, 1} - C_{0, 1} C_{1, 0}}\\\\- \\frac{C_{1, 0}}{C_{0, 0} C_{1, 1} - C_{0, 1} C_{1, 0}} & \\frac{C_{0, 0}}{C_{0, 0} C_{1, 1} - C_{0, 1} C_{1, 0}}\\end{matrix}\\right]$"
      ],
      "text/plain": [
       "Matrix([\n",
       "[ C[1, 1]/(C[0, 0]*C[1, 1] - C[0, 1]*C[1, 0]), -C[0, 1]/(C[0, 0]*C[1, 1] - C[0, 1]*C[1, 0])],\n",
       "[-C[1, 0]/(C[0, 0]*C[1, 1] - C[0, 1]*C[1, 0]),  C[0, 0]/(C[0, 0]*C[1, 1] - C[0, 1]*C[1, 0])]])"
      ]
     },
     "execution_count": 8,
     "metadata": {},
     "output_type": "execute_result"
    },
    {
     "name": "stdout",
     "output_type": "stream",
     "text": [
      "I_C:\n"
     ]
    },
    {
     "data": {
      "text/latex": [
       "$\\displaystyle C_{0, 0} + C_{1, 1}$"
      ],
      "text/plain": [
       "C[0, 0] + C[1, 1]"
      ]
     },
     "execution_count": 8,
     "metadata": {},
     "output_type": "execute_result"
    },
    {
     "name": "stdout",
     "output_type": "stream",
     "text": [
      "III_C:\n"
     ]
    },
    {
     "data": {
      "text/latex": [
       "$\\displaystyle C_{0, 0} C_{1, 1} - C_{0, 1} C_{1, 0}$"
      ],
      "text/plain": [
       "C[0, 0]*C[1, 1] - C[0, 1]*C[1, 0]"
      ]
     },
     "execution_count": 8,
     "metadata": {},
     "output_type": "execute_result"
    },
    {
     "name": "stdout",
     "output_type": "stream",
     "text": [
      "J:\n"
     ]
    },
    {
     "data": {
      "text/latex": [
       "$\\displaystyle \\sqrt{C_{0, 0} C_{1, 1} - C_{0, 1} C_{1, 0}}$"
      ],
      "text/plain": [
       "sqrt(C[0, 0]*C[1, 1] - C[0, 1]*C[1, 0])"
      ]
     },
     "execution_count": 8,
     "metadata": {},
     "output_type": "execute_result"
    },
    {
     "name": "stdout",
     "output_type": "stream",
     "text": [
      "I_bar_C:\n"
     ]
    },
    {
     "data": {
      "text/latex": [
       "$\\displaystyle \\frac{C_{0, 0} + C_{1, 1}}{\\sqrt[3]{C_{0, 0} C_{1, 1} - C_{0, 1} C_{1, 0}}}$"
      ],
      "text/plain": [
       "(C[0, 0] + C[1, 1])/(C[0, 0]*C[1, 1] - C[0, 1]*C[1, 0])**(1/3)"
      ]
     },
     "execution_count": 8,
     "metadata": {},
     "output_type": "execute_result"
    }
   ],
   "source": [
    "# Cauchy-Green dilatation tensor\n",
    "C_var = sympy.MatrixSymbol('C', 2, 2).as_explicit()\n",
    "print (\"C_var:\"); C_var\n",
    "\n",
    "C_inv_var = sympy.Inverse(C_var)\n",
    "print (\"C_inv_var:\"); C_inv_var.doit()\n",
    "\n",
    "# Invariants\n",
    "I_C_var   = sympy.trace(C_var)\n",
    "III_C_var = sympy.det(C_var)\n",
    "J_var     = sympy.sqrt(III_C_var)\n",
    "print (  \"I_C:\"); I_C_var\n",
    "print (\"III_C:\"); III_C_var\n",
    "print (    \"J:\"); J_var\n",
    "\n",
    "# Reduced invariants\n",
    "I_bar_C_var = sympy.root(J_var, -sympy.Rational(3, 2)) * I_C_var\n",
    "print (\"I_bar_C:\"); I_bar_C_var\n"
   ]
  },
  {
   "attachments": {},
   "cell_type": "markdown",
   "metadata": {},
   "source": [
    "### Coupled model"
   ]
  },
  {
   "cell_type": "code",
   "execution_count": 9,
   "metadata": {
    "scrolled": false
   },
   "outputs": [
    {
     "name": "stdout",
     "output_type": "stream",
     "text": [
      "W_c:\n"
     ]
    },
    {
     "data": {
      "text/latex": [
       "$\\displaystyle - \\frac{\\lambda \\left(\\log{\\left(C_{0, 0} C_{1, 1} - C_{0, 1} C_{1, 0} \\right)} - C_{0, 0} C_{1, 1} + C_{0, 1} C_{1, 0} + 1\\right)}{4} - \\frac{\\mu \\left(\\log{\\left(C_{0, 0} C_{1, 1} - C_{0, 1} C_{1, 0} \\right)} - C_{0, 0} - C_{1, 1} + 2\\right)}{2}$"
      ],
      "text/plain": [
       "-lambda*(log(C[0, 0]*C[1, 1] - C[0, 1]*C[1, 0]) - C[0, 0]*C[1, 1] + C[0, 1]*C[1, 0] + 1)/4 - mu*(log(C[0, 0]*C[1, 1] - C[0, 1]*C[1, 0]) - C[0, 0] - C[1, 1] + 2)/2"
      ]
     },
     "execution_count": 9,
     "metadata": {},
     "output_type": "execute_result"
    }
   ],
   "source": [
    "p_f = sympy.symbols('p_f')\n",
    "\n",
    "# Neo-Hookean free energy potential\n",
    "W_c =   (lmbda/4) * (J_var**2 - 1 - 2 * sympy.ln(J_var)) \\\n",
    "      + (   mu/2) * (I_C_var  - 2 - 2 * sympy.ln(J_var))\n",
    "# print (\"W_c:\"); W_c\n",
    "print (\"W_c:\"); W_c.simplify()\n",
    "\n",
    "# Second Piola-Kirchhoff stress tensor\n",
    "Sigma_c = 2*sympy.diff(W_c, C_var) - p_f * J_var * C_var.inv()\n",
    "# print (\"Sigma_c:\"); Sigma_c\n",
    "# print (\"Sigma_c:\"); Sigma_c.doit()\n",
    "# print (\"Sigma_c:\"); Sigma_c.doit().as_explicit()\n",
    "\n",
    "p_c = - (sympy.trace(Sigma_c.T * C_var) + lmbda/2 * (J_var**2 - 1))/3/J_var\n",
    "# print (\"p_c:\"); p_c\n",
    "\n",
    "Sigma_d_c = Sigma_c + p_c * J_var * C_inv_var\n",
    "# print (\"Sigma_d_c:\"); Sigma_d_c"
   ]
  },
  {
   "attachments": {},
   "cell_type": "markdown",
   "metadata": {},
   "source": [
    "### Decoupled model"
   ]
  },
  {
   "cell_type": "code",
   "execution_count": 10,
   "metadata": {
    "scrolled": false
   },
   "outputs": [
    {
     "name": "stdout",
     "output_type": "stream",
     "text": [
      "W_d:\n"
     ]
    },
    {
     "data": {
      "text/latex": [
       "$\\displaystyle \\frac{6 \\mu \\left(- 3 \\left(C_{0, 0} C_{1, 1} - C_{0, 1} C_{1, 0}\\right)^{0.333333333333333} + C_{0, 0} + C_{1, 1} + 1\\right) - \\left(3 \\lambda + 2 \\mu\\right) \\left(C_{0, 0} C_{1, 1} - C_{0, 1} C_{1, 0}\\right)^{0.333333333333333} \\left(\\log{\\left(C_{0, 0} C_{1, 1} - C_{0, 1} C_{1, 0} \\right)} - C_{0, 0} C_{1, 1} + C_{0, 1} C_{1, 0} + 1\\right)}{12 \\left(C_{0, 0} C_{1, 1} - C_{0, 1} C_{1, 0}\\right)^{0.333333333333333}}$"
      ],
      "text/plain": [
       "(6*mu*(-3*(C[0, 0]*C[1, 1] - C[0, 1]*C[1, 0])**0.333333333333333 + C[0, 0] + C[1, 1] + 1) - (3*lambda + 2*mu)*(C[0, 0]*C[1, 1] - C[0, 1]*C[1, 0])**0.333333333333333*(log(C[0, 0]*C[1, 1] - C[0, 1]*C[1, 0]) - C[0, 0]*C[1, 1] + C[0, 1]*C[1, 0] + 1))/(12*(C[0, 0]*C[1, 1] - C[0, 1]*C[1, 0])**0.333333333333333)"
      ]
     },
     "execution_count": 10,
     "metadata": {},
     "output_type": "execute_result"
    }
   ],
   "source": [
    "K = lmbda + 2*mu/3\n",
    "G = mu\n",
    "\n",
    "# Neo-Hookean free energy potential\n",
    "W_d = (K/4) * (J_var**2 - 1 - 2 * sympy.ln(J_var)) \\\n",
    "    + (G/2) * (J_var**(-2/3)*(1+ I_C_var) - 3)\n",
    "print (\"W_d:\"); W_d.simplify()  \n",
    "\n",
    "# Second Piola-Kirchhoff stress tensor\n",
    "Sigma_d = 2*sympy.diff(W_d, C_var) - p_f * J_var * C_var.inv()\n",
    "# print (\"Sigma_d:\"); Sigma_d\n",
    "# print (\"Sigma_d:\"); Sigma_d.doit()\n",
    "# print (\"Sigma_d:\"); Sigma_d.doit().as_explicit()\n",
    "\n",
    "p_d = - (sympy.trace(Sigma_d.T * C_var) + J_var**(-2/3)*(1 - (sympy.Trace(C_var) + 1)/3)*G + K/2 * (J_var**2 - 1))/3/J_var\n",
    "# print (\"p_d:\"); p_d\n",
    "\n",
    "Sigma_d_d = Sigma_d + p_d * J_var * C_inv_var\n",
    "# print (\"Sigma_d_d:\"); Sigma_d_d"
   ]
  },
  {
   "attachments": {},
   "cell_type": "markdown",
   "metadata": {},
   "source": [
    "## Stress-strain responses"
   ]
  },
  {
   "attachments": {},
   "cell_type": "markdown",
   "metadata": {},
   "source": [
    "### Deviatoric deformation"
   ]
  },
  {
   "cell_type": "code",
   "execution_count": 11,
   "metadata": {},
   "outputs": [
    {
     "name": "stdout",
     "output_type": "stream",
     "text": [
      "F:\n"
     ]
    },
    {
     "data": {
      "text/latex": [
       "$\\displaystyle \\left[\\begin{matrix}\\beta & 0\\\\0 & \\frac{1}{\\beta}\\end{matrix}\\right]$"
      ],
      "text/plain": [
       "Matrix([\n",
       "[beta,      0],\n",
       "[   0, 1/beta]])"
      ]
     },
     "execution_count": 11,
     "metadata": {},
     "output_type": "execute_result"
    },
    {
     "name": "stdout",
     "output_type": "stream",
     "text": [
      "J:\n"
     ]
    },
    {
     "data": {
      "text/latex": [
       "$\\displaystyle 1$"
      ],
      "text/plain": [
       "1"
      ]
     },
     "execution_count": 11,
     "metadata": {},
     "output_type": "execute_result"
    },
    {
     "name": "stdout",
     "output_type": "stream",
     "text": [
      "C:\n"
     ]
    },
    {
     "data": {
      "text/latex": [
       "$\\displaystyle \\left[\\begin{matrix}\\beta^{2} & 0\\\\0 & \\frac{1}{\\beta^{2}}\\end{matrix}\\right]$"
      ],
      "text/plain": [
       "Matrix([\n",
       "[beta**2,          0],\n",
       "[      0, beta**(-2)]])"
      ]
     },
     "execution_count": 11,
     "metadata": {},
     "output_type": "execute_result"
    },
    {
     "name": "stdout",
     "output_type": "stream",
     "text": [
      "C_inv:\n"
     ]
    },
    {
     "data": {
      "text/latex": [
       "$\\displaystyle \\left[\\begin{matrix}\\frac{1}{\\beta^{2}} & 0\\\\0 & \\beta^{2}\\end{matrix}\\right]$"
      ],
      "text/plain": [
       "Matrix([\n",
       "[beta**(-2),       0],\n",
       "[         0, beta**2]])"
      ]
     },
     "execution_count": 11,
     "metadata": {},
     "output_type": "execute_result"
    },
    {
     "name": "stdout",
     "output_type": "stream",
     "text": [
      "E:\n"
     ]
    },
    {
     "data": {
      "text/latex": [
       "$\\displaystyle \\left[\\begin{matrix}\\frac{\\beta^{2}}{2} - \\frac{1}{2} & 0\\\\0 & - \\frac{1}{2} + \\frac{1}{2 \\beta^{2}}\\end{matrix}\\right]$"
      ],
      "text/plain": [
       "Matrix([\n",
       "[beta**2/2 - 1/2,                    0],\n",
       "[              0, -1/2 + 1/(2*beta**2)]])"
      ]
     },
     "execution_count": 11,
     "metadata": {},
     "output_type": "execute_result"
    }
   ],
   "source": [
    "# Deformation gradient\n",
    "# In principle we could define X and x and use tensor derivative, but that is a bit involved.\n",
    "beta = sympy.symbols('beta')\n",
    "F = sympy.Matrix(\n",
    "    [[beta, 0     ],\\\n",
    "     [0   , 1/beta]])\n",
    "print (\"F:\"); F\n",
    "\n",
    "# Determinant of deformation gradient (a.k.a. Jacobian)\n",
    "J = F.det()\n",
    "print (\"J:\"); J\n",
    "\n",
    "# Right Cauchy-Green dilatation tensor\n",
    "C = F.T * F\n",
    "print (\"C:\"); C\n",
    "\n",
    "C_inv = sympy.Inverse(C).doit()\n",
    "print (\"C_inv:\"); C_inv\n",
    "\n",
    "# Green-Lagrange strain tensor\n",
    "E = (C - sympy.eye(2))/2\n",
    "print (\"E:\"); E"
   ]
  },
  {
   "attachments": {},
   "cell_type": "markdown",
   "metadata": {},
   "source": [
    "#### Coupled model"
   ]
  },
  {
   "cell_type": "code",
   "execution_count": 12,
   "metadata": {},
   "outputs": [
    {
     "name": "stdout",
     "output_type": "stream",
     "text": [
      "Sigma:\n"
     ]
    },
    {
     "data": {
      "text/latex": [
       "$\\displaystyle \\left[\\begin{matrix}\\mu \\left(1 - \\frac{1}{\\beta^{2}}\\right) - \\frac{p_{f}}{\\beta^{2}} & 0\\\\0 & - \\beta^{2} p_{f} + \\mu \\left(1 - \\beta^{2}\\right)\\end{matrix}\\right]$"
      ],
      "text/plain": [
       "Matrix([\n",
       "[mu*(1 - 1/beta**2) - p_f/beta**2,                               0],\n",
       "[                               0, -beta**2*p_f + mu*(1 - beta**2)]])"
      ]
     },
     "execution_count": 12,
     "metadata": {},
     "output_type": "execute_result"
    },
    {
     "name": "stdout",
     "output_type": "stream",
     "text": [
      "p:\n"
     ]
    },
    {
     "data": {
      "text/latex": [
       "$\\displaystyle - \\frac{\\beta^{2} \\mu}{3} + \\frac{2 \\mu}{3} + \\frac{2 p_{f}}{3} - \\frac{\\mu}{3 \\beta^{2}}$"
      ],
      "text/plain": [
       "-beta**2*mu/3 + 2*mu/3 + 2*p_f/3 - mu/(3*beta**2)"
      ]
     },
     "execution_count": 12,
     "metadata": {},
     "output_type": "execute_result"
    },
    {
     "name": "stdout",
     "output_type": "stream",
     "text": [
      "Sigma_d:\n"
     ]
    },
    {
     "data": {
      "text/latex": [
       "$\\displaystyle \\left[\\begin{matrix}\\frac{- \\mu \\left(C_{0, 0} C_{1, 1} - C_{0, 1} C_{1, 0}\\right)^{\\frac{3}{2}} \\cdot \\left(0.333333333333333 \\left(C_{0, 0} C_{1, 1} - C_{0, 1} C_{1, 0}\\right)^{0.333333333333333} \\left(C_{0, 0} + C_{1, 1} + 1\\right) C_{1, 1} - \\left(C_{0, 0} C_{1, 1} - C_{0, 1} C_{1, 0}\\right)^{1.33333333333333}\\right) - p_{f} \\left(C_{0, 0} C_{1, 1} - C_{0, 1} C_{1, 0}\\right)^{2.66666666666667} C_{1, 1} + \\frac{\\left(3 \\lambda + 2 \\mu\\right) \\left(C_{0, 0} C_{1, 1} - C_{0, 1} C_{1, 0}\\right)^{2.16666666666667} \\left(C_{0, 0} C_{1, 1} - C_{0, 1} C_{1, 0} - 1\\right) C_{1, 1}}{6}}{\\left(C_{0, 0} C_{1, 1} - C_{0, 1} C_{1, 0}\\right)^{3.16666666666667}} & \\frac{0.333333333333333 \\mu \\left(C_{0, 0} C_{1, 1} - C_{0, 1} C_{1, 0}\\right)^{\\frac{3}{2}} \\left(C_{0, 0} + C_{1, 1} + 1\\right) C_{1, 0} + p_{f} \\left(C_{0, 0} C_{1, 1} - C_{0, 1} C_{1, 0}\\right)^{2.33333333333333} C_{0, 1} - \\frac{\\left(3 \\lambda + 2 \\mu\\right) \\left(C_{0, 0} C_{1, 1} - C_{0, 1} C_{1, 0}\\right)^{1.83333333333333} \\left(C_{0, 0} C_{1, 1} - C_{0, 1} C_{1, 0} - 1\\right) C_{1, 0}}{6}}{\\left(C_{0, 0} C_{1, 1} - C_{0, 1} C_{1, 0}\\right)^{2.83333333333333}}\\\\\\frac{0.333333333333333 \\mu \\left(C_{0, 0} C_{1, 1} - C_{0, 1} C_{1, 0}\\right)^{\\frac{3}{2}} \\left(C_{0, 0} + C_{1, 1} + 1\\right) C_{0, 1} + p_{f} \\left(C_{0, 0} C_{1, 1} - C_{0, 1} C_{1, 0}\\right)^{2.33333333333333} C_{1, 0} - \\frac{\\left(3 \\lambda + 2 \\mu\\right) \\left(C_{0, 0} C_{1, 1} - C_{0, 1} C_{1, 0}\\right)^{1.83333333333333} \\left(C_{0, 0} C_{1, 1} - C_{0, 1} C_{1, 0} - 1\\right) C_{0, 1}}{6}}{\\left(C_{0, 0} C_{1, 1} - C_{0, 1} C_{1, 0}\\right)^{2.83333333333333}} & \\frac{- \\mu \\left(C_{0, 0} C_{1, 1} - C_{0, 1} C_{1, 0}\\right)^{\\frac{3}{2}} \\cdot \\left(0.333333333333333 \\left(C_{0, 0} C_{1, 1} - C_{0, 1} C_{1, 0}\\right)^{0.333333333333333} \\left(C_{0, 0} + C_{1, 1} + 1\\right) C_{0, 0} - \\left(C_{0, 0} C_{1, 1} - C_{0, 1} C_{1, 0}\\right)^{1.33333333333333}\\right) - p_{f} \\left(C_{0, 0} C_{1, 1} - C_{0, 1} C_{1, 0}\\right)^{2.66666666666667} C_{0, 0} + \\frac{\\left(3 \\lambda + 2 \\mu\\right) \\left(C_{0, 0} C_{1, 1} - C_{0, 1} C_{1, 0}\\right)^{2.16666666666667} \\left(C_{0, 0} C_{1, 1} - C_{0, 1} C_{1, 0} - 1\\right) C_{0, 0}}{6}}{\\left(C_{0, 0} C_{1, 1} - C_{0, 1} C_{1, 0}\\right)^{3.16666666666667}}\\end{matrix}\\right]$"
      ],
      "text/plain": [
       "Matrix([\n",
       "[(-mu*(C[0, 0]*C[1, 1] - C[0, 1]*C[1, 0])**(3/2)*(0.333333333333333*(C[0, 0]*C[1, 1] - C[0, 1]*C[1, 0])**0.333333333333333*(C[0, 0] + C[1, 1] + 1)*C[1, 1] - (C[0, 0]*C[1, 1] - C[0, 1]*C[1, 0])**1.33333333333333) - p_f*(C[0, 0]*C[1, 1] - C[0, 1]*C[1, 0])**2.66666666666667*C[1, 1] + (3*lambda + 2*mu)*(C[0, 0]*C[1, 1] - C[0, 1]*C[1, 0])**2.16666666666667*(C[0, 0]*C[1, 1] - C[0, 1]*C[1, 0] - 1)*C[1, 1]/6)/(C[0, 0]*C[1, 1] - C[0, 1]*C[1, 0])**3.16666666666667,                                                                                                                   (0.333333333333333*mu*(C[0, 0]*C[1, 1] - C[0, 1]*C[1, 0])**(3/2)*(C[0, 0] + C[1, 1] + 1)*C[1, 0] + p_f*(C[0, 0]*C[1, 1] - C[0, 1]*C[1, 0])**2.33333333333333*C[0, 1] - (3*lambda + 2*mu)*(C[0, 0]*C[1, 1] - C[0, 1]*C[1, 0])**1.83333333333333*(C[0, 0]*C[1, 1] - C[0, 1]*C[1, 0] - 1)*C[1, 0]/6)/(C[0, 0]*C[1, 1] - C[0, 1]*C[1, 0])**2.83333333333333],\n",
       "[                                                                                                                  (0.333333333333333*mu*(C[0, 0]*C[1, 1] - C[0, 1]*C[1, 0])**(3/2)*(C[0, 0] + C[1, 1] + 1)*C[0, 1] + p_f*(C[0, 0]*C[1, 1] - C[0, 1]*C[1, 0])**2.33333333333333*C[1, 0] - (3*lambda + 2*mu)*(C[0, 0]*C[1, 1] - C[0, 1]*C[1, 0])**1.83333333333333*(C[0, 0]*C[1, 1] - C[0, 1]*C[1, 0] - 1)*C[0, 1]/6)/(C[0, 0]*C[1, 1] - C[0, 1]*C[1, 0])**2.83333333333333, (-mu*(C[0, 0]*C[1, 1] - C[0, 1]*C[1, 0])**(3/2)*(0.333333333333333*(C[0, 0]*C[1, 1] - C[0, 1]*C[1, 0])**0.333333333333333*(C[0, 0] + C[1, 1] + 1)*C[0, 0] - (C[0, 0]*C[1, 1] - C[0, 1]*C[1, 0])**1.33333333333333) - p_f*(C[0, 0]*C[1, 1] - C[0, 1]*C[1, 0])**2.66666666666667*C[0, 0] + (3*lambda + 2*mu)*(C[0, 0]*C[1, 1] - C[0, 1]*C[1, 0])**2.16666666666667*(C[0, 0]*C[1, 1] - C[0, 1]*C[1, 0] - 1)*C[0, 0]/6)/(C[0, 0]*C[1, 1] - C[0, 1]*C[1, 0])**3.16666666666667]])"
      ]
     },
     "execution_count": 12,
     "metadata": {},
     "output_type": "execute_result"
    }
   ],
   "source": [
    "# Second Piola-Kirchhoff stress tensor\n",
    "Sigma = Sigma_c.subs(list(zip(C_var, C))).doit().as_explicit() # list & zip should not be needed, cf. https://github.com/sympy/sympy/issues/10589\n",
    "print (\"Sigma:\"); Sigma\n",
    "\n",
    "# Hydrostatic pressure\n",
    "p_c_shear = p_c.subs(list(zip(C_var, C))).doit()\n",
    "print (\"p:\"); p_c_shear.simplify()\n",
    "\n",
    "# Deviatoric stress tensor\n",
    "Sigma_d_c = Sigma_d_c.subs(list(zip(C_var, C))).doit().as_explicit()\n",
    "print (\"Sigma_d:\"); Sigma_d.simplify()\n",
    "Sigma_c_VM = sympy.sqrt(1.5 * sympy.Trace(Sigma_d_c.T * Sigma_d_c))"
   ]
  },
  {
   "attachments": {},
   "cell_type": "markdown",
   "metadata": {},
   "source": [
    "#### Decoupled model"
   ]
  },
  {
   "cell_type": "code",
   "execution_count": 13,
   "metadata": {},
   "outputs": [
    {
     "name": "stdout",
     "output_type": "stream",
     "text": [
      "Sigma:\n"
     ]
    },
    {
     "data": {
      "text/latex": [
       "$\\displaystyle \\left[\\begin{matrix}\\mu \\left(1 - \\frac{0.333333333333333 \\left(\\beta^{2} + 1 + \\frac{1}{\\beta^{2}}\\right)}{\\beta^{2}}\\right) - \\frac{p_{f}}{\\beta^{2}} & 0\\\\0 & - \\beta^{2} p_{f} + \\mu \\left(- 0.333333333333333 \\beta^{2} \\left(\\beta^{2} + 1 + \\frac{1}{\\beta^{2}}\\right) + 1\\right)\\end{matrix}\\right]$"
      ],
      "text/plain": [
       "Matrix([\n",
       "[mu*(1 - 0.333333333333333*(beta**2 + 1 + beta**(-2))/beta**2) - p_f/beta**2,                                                                             0],\n",
       "[                                                                          0, -beta**2*p_f + mu*(-0.333333333333333*beta**2*(beta**2 + 1 + beta**(-2)) + 1)]])"
      ]
     },
     "execution_count": 13,
     "metadata": {},
     "output_type": "execute_result"
    },
    {
     "name": "stdout",
     "output_type": "stream",
     "text": [
      "p:\n"
     ]
    },
    {
     "data": {
      "text/latex": [
       "$\\displaystyle \\frac{2 p_{f}}{3}$"
      ],
      "text/plain": [
       "2*p_f/3"
      ]
     },
     "execution_count": 13,
     "metadata": {},
     "output_type": "execute_result"
    },
    {
     "name": "stdout",
     "output_type": "stream",
     "text": [
      "Sigma_d:\n"
     ]
    },
    {
     "data": {
      "text/latex": [
       "$\\displaystyle \\left[\\begin{matrix}\\frac{- \\mu \\left(C_{0, 0} C_{1, 1} - C_{0, 1} C_{1, 0}\\right)^{\\frac{3}{2}} \\cdot \\left(0.333333333333333 \\left(C_{0, 0} C_{1, 1} - C_{0, 1} C_{1, 0}\\right)^{0.333333333333333} \\left(C_{0, 0} + C_{1, 1} + 1\\right) C_{1, 1} - \\left(C_{0, 0} C_{1, 1} - C_{0, 1} C_{1, 0}\\right)^{1.33333333333333}\\right) - p_{f} \\left(C_{0, 0} C_{1, 1} - C_{0, 1} C_{1, 0}\\right)^{2.66666666666667} C_{1, 1} + \\frac{\\left(3 \\lambda + 2 \\mu\\right) \\left(C_{0, 0} C_{1, 1} - C_{0, 1} C_{1, 0}\\right)^{2.16666666666667} \\left(C_{0, 0} C_{1, 1} - C_{0, 1} C_{1, 0} - 1\\right) C_{1, 1}}{6}}{\\left(C_{0, 0} C_{1, 1} - C_{0, 1} C_{1, 0}\\right)^{3.16666666666667}} & \\frac{0.333333333333333 \\mu \\left(C_{0, 0} C_{1, 1} - C_{0, 1} C_{1, 0}\\right)^{\\frac{3}{2}} \\left(C_{0, 0} + C_{1, 1} + 1\\right) C_{1, 0} + p_{f} \\left(C_{0, 0} C_{1, 1} - C_{0, 1} C_{1, 0}\\right)^{2.33333333333333} C_{0, 1} - \\frac{\\left(3 \\lambda + 2 \\mu\\right) \\left(C_{0, 0} C_{1, 1} - C_{0, 1} C_{1, 0}\\right)^{1.83333333333333} \\left(C_{0, 0} C_{1, 1} - C_{0, 1} C_{1, 0} - 1\\right) C_{1, 0}}{6}}{\\left(C_{0, 0} C_{1, 1} - C_{0, 1} C_{1, 0}\\right)^{2.83333333333333}}\\\\\\frac{0.333333333333333 \\mu \\left(C_{0, 0} C_{1, 1} - C_{0, 1} C_{1, 0}\\right)^{\\frac{3}{2}} \\left(C_{0, 0} + C_{1, 1} + 1\\right) C_{0, 1} + p_{f} \\left(C_{0, 0} C_{1, 1} - C_{0, 1} C_{1, 0}\\right)^{2.33333333333333} C_{1, 0} - \\frac{\\left(3 \\lambda + 2 \\mu\\right) \\left(C_{0, 0} C_{1, 1} - C_{0, 1} C_{1, 0}\\right)^{1.83333333333333} \\left(C_{0, 0} C_{1, 1} - C_{0, 1} C_{1, 0} - 1\\right) C_{0, 1}}{6}}{\\left(C_{0, 0} C_{1, 1} - C_{0, 1} C_{1, 0}\\right)^{2.83333333333333}} & \\frac{- \\mu \\left(C_{0, 0} C_{1, 1} - C_{0, 1} C_{1, 0}\\right)^{\\frac{3}{2}} \\cdot \\left(0.333333333333333 \\left(C_{0, 0} C_{1, 1} - C_{0, 1} C_{1, 0}\\right)^{0.333333333333333} \\left(C_{0, 0} + C_{1, 1} + 1\\right) C_{0, 0} - \\left(C_{0, 0} C_{1, 1} - C_{0, 1} C_{1, 0}\\right)^{1.33333333333333}\\right) - p_{f} \\left(C_{0, 0} C_{1, 1} - C_{0, 1} C_{1, 0}\\right)^{2.66666666666667} C_{0, 0} + \\frac{\\left(3 \\lambda + 2 \\mu\\right) \\left(C_{0, 0} C_{1, 1} - C_{0, 1} C_{1, 0}\\right)^{2.16666666666667} \\left(C_{0, 0} C_{1, 1} - C_{0, 1} C_{1, 0} - 1\\right) C_{0, 0}}{6}}{\\left(C_{0, 0} C_{1, 1} - C_{0, 1} C_{1, 0}\\right)^{3.16666666666667}}\\end{matrix}\\right]$"
      ],
      "text/plain": [
       "Matrix([\n",
       "[(-mu*(C[0, 0]*C[1, 1] - C[0, 1]*C[1, 0])**(3/2)*(0.333333333333333*(C[0, 0]*C[1, 1] - C[0, 1]*C[1, 0])**0.333333333333333*(C[0, 0] + C[1, 1] + 1)*C[1, 1] - (C[0, 0]*C[1, 1] - C[0, 1]*C[1, 0])**1.33333333333333) - p_f*(C[0, 0]*C[1, 1] - C[0, 1]*C[1, 0])**2.66666666666667*C[1, 1] + (3*lambda + 2*mu)*(C[0, 0]*C[1, 1] - C[0, 1]*C[1, 0])**2.16666666666667*(C[0, 0]*C[1, 1] - C[0, 1]*C[1, 0] - 1)*C[1, 1]/6)/(C[0, 0]*C[1, 1] - C[0, 1]*C[1, 0])**3.16666666666667,                                                                                                                   (0.333333333333333*mu*(C[0, 0]*C[1, 1] - C[0, 1]*C[1, 0])**(3/2)*(C[0, 0] + C[1, 1] + 1)*C[1, 0] + p_f*(C[0, 0]*C[1, 1] - C[0, 1]*C[1, 0])**2.33333333333333*C[0, 1] - (3*lambda + 2*mu)*(C[0, 0]*C[1, 1] - C[0, 1]*C[1, 0])**1.83333333333333*(C[0, 0]*C[1, 1] - C[0, 1]*C[1, 0] - 1)*C[1, 0]/6)/(C[0, 0]*C[1, 1] - C[0, 1]*C[1, 0])**2.83333333333333],\n",
       "[                                                                                                                  (0.333333333333333*mu*(C[0, 0]*C[1, 1] - C[0, 1]*C[1, 0])**(3/2)*(C[0, 0] + C[1, 1] + 1)*C[0, 1] + p_f*(C[0, 0]*C[1, 1] - C[0, 1]*C[1, 0])**2.33333333333333*C[1, 0] - (3*lambda + 2*mu)*(C[0, 0]*C[1, 1] - C[0, 1]*C[1, 0])**1.83333333333333*(C[0, 0]*C[1, 1] - C[0, 1]*C[1, 0] - 1)*C[0, 1]/6)/(C[0, 0]*C[1, 1] - C[0, 1]*C[1, 0])**2.83333333333333, (-mu*(C[0, 0]*C[1, 1] - C[0, 1]*C[1, 0])**(3/2)*(0.333333333333333*(C[0, 0]*C[1, 1] - C[0, 1]*C[1, 0])**0.333333333333333*(C[0, 0] + C[1, 1] + 1)*C[0, 0] - (C[0, 0]*C[1, 1] - C[0, 1]*C[1, 0])**1.33333333333333) - p_f*(C[0, 0]*C[1, 1] - C[0, 1]*C[1, 0])**2.66666666666667*C[0, 0] + (3*lambda + 2*mu)*(C[0, 0]*C[1, 1] - C[0, 1]*C[1, 0])**2.16666666666667*(C[0, 0]*C[1, 1] - C[0, 1]*C[1, 0] - 1)*C[0, 0]/6)/(C[0, 0]*C[1, 1] - C[0, 1]*C[1, 0])**3.16666666666667]])"
      ]
     },
     "execution_count": 13,
     "metadata": {},
     "output_type": "execute_result"
    }
   ],
   "source": [
    "# Second Piola-Kirchhoff stress tensor\n",
    "Sigma = Sigma_d.subs(list(zip(C_var, C))).doit().as_explicit() # list & zip should not be needed, cf. https://github.com/sympy/sympy/issues/10589\n",
    "print (\"Sigma:\"); Sigma\n",
    "\n",
    "# Hydrostatic pressure\n",
    "p_d_shear = p_d.subs(list(zip(C_var, C))).doit()\n",
    "print (\"p:\"); p_d_shear.simplify()\n",
    "\n",
    "# Deviatoric stress tensor\n",
    "Sigma_d_d = Sigma_d_d.subs(list(zip(C_var, C))).doit().as_explicit()\n",
    "print (\"Sigma_d:\"); Sigma_d.simplify()\n",
    "Sigma_d_VM = sympy.sqrt(1.5 * sympy.Trace(Sigma_d_d.T * Sigma_d_d))"
   ]
  },
  {
   "attachments": {},
   "cell_type": "markdown",
   "metadata": {},
   "source": [
    "## Micromechanical Model"
   ]
  },
  {
   "cell_type": "code",
   "execution_count": 14,
   "metadata": {},
   "outputs": [],
   "source": [
    "def global_response(mesh, mat_params, eps_xx, eps_yy, pf, sigma_bar, foi_name):\n",
    "\n",
    "\n",
    "    dim = 2\n",
    "    bcs = \"pbc\"\n",
    "    step_params = {\"dt_ini\":1e-1, \"dt_min\":1e-3}\n",
    "\n",
    "\n",
    "    res_folder = sys.argv[0][:-3]\n",
    "    res_basename  = sys.argv[0][:-3]\n",
    "\n",
    "    res_basename = res_folder+\"/\"+res_basename\n",
    "    verbose=1\n",
    "\n",
    "    ################################################################### Mesh ###\n",
    "\n",
    "    \n",
    "\n",
    "    dV = dolfin.Measure(\"dx\",domain=mesh)\n",
    "    coord = mesh.coordinates()\n",
    "    xmax = max(coord[:,0]); xmin = min(coord[:,0])\n",
    "    ymax = max(coord[:,1]); ymin = min(coord[:,1])\n",
    "    if (dim==3): zmax = max(coord[:,2]); zmin = min(coord[:,2])\n",
    "    if (dim==2):    \n",
    "        vol = (xmax - xmin)*(ymax - ymin)\n",
    "        \n",
    "        bbox = [xmin, xmax, ymin, ymax]\n",
    "\n",
    "    if (dim==3):    \n",
    "        vol = (xmax - xmin)*(ymax - ymin)*(zmax - zmin)\n",
    "        bbox = [xmin, xmax, ymin, ymax, zmin, zmax]\n",
    "\n",
    "    mesh_corners = np.array([[xmin, ymin],\n",
    "                         [xmax, ymin],\n",
    "                         [xmax, ymax],\n",
    "                         [xmin, ymax]])\n",
    "\n",
    "    ################################################## Subdomains & Measures ###\n",
    "\n",
    "    xmin_sd = dolfin.CompiledSubDomain(\"near(x[0], x0) && on_boundary\", x0=xmin)\n",
    "    xmax_sd = dolfin.CompiledSubDomain(\"near(x[0], x0) && on_boundary\", x0=xmax)\n",
    "    ymin_sd = dolfin.CompiledSubDomain(\"near(x[1], x0) && on_boundary\", x0=ymin)\n",
    "    ymax_sd = dolfin.CompiledSubDomain(\"near(x[1], x0) && on_boundary\", x0=ymax)\n",
    "    if (dim==3): zmin_sd = dolfin.CompiledSubDomain(\"near(x[2], x0) && on_boundary\", x0=zmin)\n",
    "    if (dim==3): zmax_sd = dolfin.CompiledSubDomain(\"near(x[2], x0) && on_boundary\", x0=zmax)\n",
    "\n",
    "\n",
    "    xmin_id = 1\n",
    "    xmax_id = 2\n",
    "    ymin_id = 3\n",
    "    ymax_id = 4\n",
    "    if (dim==3): zmin_id = 5\n",
    "    if (dim==3): zmax_id = 6\n",
    "    # sint_id = 9\n",
    "\n",
    "    boundaries_mf = dolfin.MeshFunction(\"size_t\", mesh, mesh.topology().dim()-1) # MG20180418: size_t looks like unisgned int, but more robust wrt architecture and os\n",
    "    boundaries_mf.set_all(0)\n",
    "    xmin_sd.mark(boundaries_mf, xmin_id)\n",
    "    xmax_sd.mark(boundaries_mf, xmax_id)\n",
    "    ymin_sd.mark(boundaries_mf, ymin_id)\n",
    "    ymax_sd.mark(boundaries_mf, ymax_id)\n",
    "    if (dim==3): zmin_sd.mark(boundaries_mf, zmin_id)\n",
    "    if (dim==3): zmax_sd.mark(boundaries_mf, zmax_id)\n",
    "    # sint_sd.mark(boundaries_mf, sint_id)\n",
    "\n",
    "    if (verbose):\n",
    "        xdmf_file_boundaries = dolfin.XDMFFile(res_basename+\"-boundaries.xdmf\")\n",
    "        xdmf_file_boundaries.write(boundaries_mf)\n",
    "        xdmf_file_boundaries.close()\n",
    "\n",
    "    ################################################################ Problem ###\n",
    "\n",
    "    problem = dmech.MicroPoroHyperelasticityProblem(\n",
    "            mesh=mesh,\n",
    "            mesh_bbox=bbox,\n",
    "            boundaries_mf=boundaries_mf,\n",
    "            displacement_perturbation_degree=1,\n",
    "            quadrature_degree=3,\n",
    "            solid_behavior=mat_params,\n",
    "            bcs=bcs)\n",
    "\n",
    "    ################################################################ Loading ###\n",
    "\n",
    "    Deltat = step_params.get(\"Deltat\", 1.)\n",
    "    dt_ini = step_params.get(\"dt_ini\", 1.)\n",
    "    dt_min = step_params.get(\"dt_min\", 1.)\n",
    "    dt_max = step_params.get(\"dt_max\", 1.)\n",
    "    k_step = problem.add_step(\n",
    "        Deltat=Deltat,\n",
    "        dt_ini=dt_ini,\n",
    "        dt_min=dt_min,\n",
    "        dt_max=dt_max)\n",
    "\n",
    "    problem.add_surface_pressure_loading_operator(\n",
    "        measure=problem.dS(0),\n",
    "        P_ini=0., P_fin=pf,\n",
    "        k_step=k_step)\n",
    "\n",
    "    for k in range(dim):\n",
    "        for l in range (dim):\n",
    "            if (sigma_bar[k][l] is not None):\n",
    "                problem.add_macroscopic_stress_component_constraint_operator(\n",
    "                    i=k, j=l,\n",
    "                    sigma_bar_ij_ini=0.0, sigma_bar_ij_fin=sigma_bar[k][l],\n",
    "                    pf_ini=0.0, pf_fin=pf,\n",
    "                    k_step=k_step)\n",
    "\n",
    "    problem.add_macroscopic_stretch_component_penalty_operator(\n",
    "        i=0, j=0,\n",
    "        U_bar_ij_ini=0.0, U_bar_ij_fin=eps_xx,\n",
    "        pen_val=1e9,\n",
    "        k_step=k_step)\n",
    "    problem.add_macroscopic_stretch_component_penalty_operator(\n",
    "        i=1, j=1,\n",
    "        U_bar_ij_ini=0.0, U_bar_ij_fin=eps_yy,\n",
    "        pen_val=1e9,\n",
    "        k_step=k_step)\n",
    "\n",
    "\n",
    "    ################################################################# Solver ###\n",
    "\n",
    "    solver = dmech.NonlinearSolver(\n",
    "        problem=problem,\n",
    "        parameters={\n",
    "            \"sol_tol\":[1e-6]*len(problem.subsols),\n",
    "            \"n_iter_max\":32},\n",
    "        relax_type=\"constant\",\n",
    "        write_iter=0)\n",
    "\n",
    "    integrator = dmech.TimeIntegrator(\n",
    "        problem=problem,\n",
    "        solver=solver,\n",
    "        parameters={\n",
    "            \"n_iter_for_accel\":4,\n",
    "            \"n_iter_for_decel\":16,\n",
    "            \"accel_coeff\":2,\n",
    "            \"decel_coeff\":2},\n",
    "        print_out=res_basename*verbose,\n",
    "        print_sta=res_basename*verbose,\n",
    "        write_qois=res_basename+\"-qois\",\n",
    "        write_qois_limited_precision=1,\n",
    "        write_sol=res_basename*verbose)\n",
    "\n",
    "    success = integrator.integrate()\n",
    "    assert (success),\\\n",
    "        \"Integration failed. Aborting.\"\n",
    "\n",
    "    integrator.close()\n",
    "    \n",
    "\n",
    "    ############################################################################\n",
    "    \n",
    "    Vs0 = problem.mesh_V0\n",
    "    U_bar = problem.get_macroscopic_stretch_subsol().func.vector().get_local().reshape((2,2))\n",
    "    F_bar = U_bar + numpy.eye(2)\n",
    "    J_bar = numpy.linalg.det(F_bar)\n",
    "    C_bar = F_bar.T * F_bar\n",
    "    E_bar = 0.5*(C_bar - np.eye(2))\n",
    "    v = J_bar * vol\n",
    "    vs = dolfin.assemble(problem.kinematics.J * problem.dV)\n",
    "    vf = v - vs\n",
    "    \n",
    "    Phi_s = vs/vol\n",
    "\n",
    "    for operator in problem.operators: \n",
    "        if hasattr(operator, \"material\"):\n",
    "            material = operator.material\n",
    "            break\n",
    "    \n",
    "    sigma_tot_xx = float((dolfin.assemble(material.sigma[0,0] * problem.kinematics.J * dV) - vf * pf *dolfin.Identity(2)[0,0])/v)\n",
    "    sigma_tot_yy = float((dolfin.assemble(material.sigma[1,1] * problem.kinematics.J * dV) - vf * pf *dolfin.Identity(2)[1,1])/v)\n",
    "\n",
    "    \n",
    "    sigma = [[sigma_tot_xx, 0.],\n",
    "             [0., sigma_tot_yy]]\n",
    "    \n",
    "    Sigma = J_bar * np.linalg.inv(F_bar)* sigma * np.linalg.inv(F_bar.T)\n",
    "    # Sigma_x = float(Sigma[0, 0])\n",
    "    # # Sigma_x = dolfin.assemble(material.Sigma[0,0]*dV)/vol\n",
    "    # # Sigma_y = dolfin.assemble(material.Sigma[1,1]*dV)/vol    \n",
    "\n",
    "    p_hydro = - dolfin.assemble(((dolfin.tr(material.Sigma.T*problem.kinematics.C) + material.Sigma_zz)/3/problem.kinematics.J)*problem.dV)/vol\n",
    "\n",
    "    data_dist = None\n",
    "    for i in range(len(problem.fois)):\n",
    "        if problem.fois[i].name == foi_name:\n",
    "            data_dist = problem.fois[i].func.vector().get_local()\n",
    "\n",
    "    return p_hydro, data_dist\n"
   ]
  },
  {
   "cell_type": "code",
   "execution_count": 15,
   "metadata": {},
   "outputs": [],
   "source": [
    "sigma_bar = [[0., 0.],\n",
    "             [0., 0.]]"
   ]
  },
  {
   "attachments": {},
   "cell_type": "markdown",
   "metadata": {},
   "source": [
    "### Coupled"
   ]
  },
  {
   "cell_type": "code",
   "execution_count": 20,
   "metadata": {},
   "outputs": [],
   "source": [
    "p_lst_micro_c = []\n",
    "p_lst_macro_c = []\n",
    "beta_lst = []\n",
    "mat_params = {\"model\":\"CGNH\", \"parameters\":{\"E\":E_, \"nu\":nu_}}\n",
    "\n",
    "for i  in range(11):\n",
    "    beta_ = 1 + i/10\n",
    "    beta_lst.append(beta_)\n",
    "    p_lst_micro_c.append(global_response(mesh=mesh, mat_params=mat_params, eps_xx=beta_-1, eps_yy=1/beta_-1, pf=0., sigma_bar=sigma_bar, foi_name=None)[0])\n",
    "    p_lst_macro_c.append(p_c_shear.subs(subs_dict).subs(beta, beta_).subs(p_f, 0))"
   ]
  },
  {
   "cell_type": "code",
   "execution_count": 21,
   "metadata": {},
   "outputs": [],
   "source": [
    "p_lst_micro_d = []\n",
    "p_lst_macro_d = []\n",
    "\n",
    "mat_params = {\"model\":\"CGNH_bar\", \"parameters\":{\"E\":E_, \"nu\":nu_}}\n",
    "\n",
    "for i  in range(11):\n",
    "    beta_ = 1 + i/10\n",
    "    p_lst_micro_d.append(global_response(mesh=mesh, mat_params=mat_params, eps_xx=beta_-1, eps_yy=1/beta_-1, pf=0., sigma_bar=sigma_bar, foi_name=None)[0])\n",
    "    p_lst_macro_d.append(p_d_shear.subs(subs_dict).subs(beta, beta_).subs(p_f, 0))"
   ]
  },
  {
   "cell_type": "code",
   "execution_count": 22,
   "metadata": {},
   "outputs": [
    {
     "data": {
      "text/plain": [
       "<Figure size 432x288 with 0 Axes>"
      ]
     },
     "execution_count": 22,
     "metadata": {},
     "output_type": "execute_result"
    },
    {
     "data": {
      "text/plain": [
       "Text(0.5, 0, '$\\\\beta$')"
      ]
     },
     "execution_count": 22,
     "metadata": {},
     "output_type": "execute_result"
    },
    {
     "data": {
      "text/plain": [
       "Text(0, 0.5, '$p_{hydro} (kPa)$')"
      ]
     },
     "execution_count": 22,
     "metadata": {},
     "output_type": "execute_result"
    },
    {
     "data": {
      "text/plain": [
       "[<matplotlib.lines.Line2D at 0x7fc43ed201d0>]"
      ]
     },
     "execution_count": 22,
     "metadata": {},
     "output_type": "execute_result"
    },
    {
     "data": {
      "text/plain": [
       "[<matplotlib.lines.Line2D at 0x7fc43ed20510>]"
      ]
     },
     "execution_count": 22,
     "metadata": {},
     "output_type": "execute_result"
    },
    {
     "data": {
      "text/plain": [
       "[<matplotlib.lines.Line2D at 0x7fc43ed20190>]"
      ]
     },
     "execution_count": 22,
     "metadata": {},
     "output_type": "execute_result"
    },
    {
     "data": {
      "text/plain": [
       "[<matplotlib.lines.Line2D at 0x7fc43eb203d0>]"
      ]
     },
     "execution_count": 22,
     "metadata": {},
     "output_type": "execute_result"
    },
    {
     "data": {
      "text/plain": [
       "<matplotlib.legend.Legend at 0x7fc43eb20fd0>"
      ]
     },
     "execution_count": 22,
     "metadata": {},
     "output_type": "execute_result"
    },
    {
     "data": {
      "text/plain": [
       "(1.0, 2.0)"
      ]
     },
     "execution_count": 22,
     "metadata": {},
     "output_type": "execute_result"
    },
    {
     "data": {
      "image/png": "[encoded data removed]",
      "text/plain": [
       "<Figure size 432x288 with 1 Axes>"
      ]
     },
     "metadata": {
      "needs_background": "light"
     },
     "output_type": "display_data"
    }
   ],
   "source": [
    "plt.figure()\n",
    "plt.rc('xtick', labelsize=14)\n",
    "plt.rc('ytick', labelsize=14)\n",
    "plt.rc('legend', fontsize=12)\n",
    "plt.xlabel(r'$\\beta$', fontsize=16)\n",
    "plt.ylabel(r'$p_{hydro} (kPa)$', fontsize=16)\n",
    "\n",
    "plt.plot(beta_lst, p_lst_micro_c, '#084594')\n",
    "plt.plot(beta_lst, p_lst_micro_d, '#084594', linestyle='dashed')\n",
    "\n",
    "plt.plot(beta_lst, p_lst_macro_c, '#99000D')\n",
    "plt.plot(beta_lst, p_lst_macro_d, '#99000D', linestyle='dashed')\n",
    "\n",
    "\n",
    "plt.legend(['Microscopic model - coupled', 'Microscopic model - decoupled', 'Macroscopic model - coupled', 'Macroscopic model - decoupled'])\n",
    "plt.xlim(1, 2)\n",
    "# plt.ylim(-.05, 0.001)\n",
    "plt.savefig('p_hydro.pdf',bbox_inches='tight')\n",
    "plt.show()"
   ]
  },
  {
   "attachments": {},
   "cell_type": "markdown",
   "metadata": {},
   "source": [
    "# Frequency Distribution"
   ]
  },
  {
   "cell_type": "code",
   "execution_count": 39,
   "metadata": {},
   "outputs": [
    {
     "name": "stderr",
     "output_type": "stream",
     "text": [
      "HDF5-DIAG: Error detected in HDF5 (1.10.6) MPI-process 0:\n",
      "  #000: H5D.c line 151 in H5Dcreate2(): unable to create dataset\n",
      "    major: Dataset\n",
      "    minor: Unable to initialize object\n",
      "  #001: H5Dint.c line 337 in H5D__create_named(): unable to create and link to dataset\n",
      "    major: Dataset\n",
      "    minor: Unable to initialize object\n",
      "  #002: H5L.c line 1592 in H5L_link_object(): unable to create new link to object\n",
      "    major: Links\n",
      "    minor: Unable to initialize object\n",
      "  #003: H5L.c line 1833 in H5L__create_real(): can't insert link\n",
      "    major: Links\n",
      "    minor: Unable to insert object\n",
      "  #004: H5Gtraverse.c line 851 in H5G_traverse(): internal path traversal failed\n",
      "    major: Symbol table\n",
      "    minor: Object not found\n",
      "  #005: H5Gtraverse.c line 627 in H5G__traverse_real(): traversal operator failed\n",
      "    major: Symbol table\n",
      "    minor: Callback failed\n",
      "  #006: H5L.c line 1628 in H5L__link_cb(): name already exists\n",
      "    major: Links\n",
      "    minor: Object already exists\n",
      "HDF5-DIAG: Error detected in HDF5 (1.10.6) MPI-process 0:\n",
      "  #000: H5D.c line 378 in H5Dget_space(): not a dataset\n",
      "    major: Invalid arguments to routine\n",
      "    minor: Inappropriate type\n",
      "HDF5-DIAG: Error detected in HDF5 (1.10.6) MPI-process 0:\n",
      "  #000: H5Shyper.c line 7051 in H5Sselect_hyperslab(): not a dataspace\n",
      "    major: Invalid arguments to routine\n",
      "    minor: Inappropriate type\n",
      "HDF5-DIAG: Error detected in HDF5 (1.10.6) MPI-process 0:\n",
      "  #000: H5Dio.c line 314 in H5Dwrite(): dset_id is not a dataset ID\n",
      "    major: Invalid arguments to routine\n",
      "    minor: Inappropriate type\n",
      "HDF5-DIAG: Error detected in HDF5 (1.10.6) MPI-process 0:\n",
      "  #000: H5D.c line 337 in H5Dclose(): not a dataset\n",
      "    major: Invalid arguments to routine\n",
      "    minor: Inappropriate type\n",
      "HDF5-DIAG: Error detected in HDF5 (1.10.6) MPI-process 0:\n",
      "  #000: H5S.c line 490 in H5Sclose(): not a dataspace\n",
      "    major: Invalid arguments to routine\n",
      "    minor: Inappropriate type\n",
      "HDF5-DIAG: Error detected in HDF5 (1.10.6) MPI-process 0:\n",
      "  #000: H5D.c line 151 in H5Dcreate2(): unable to create dataset\n",
      "    major: Dataset\n",
      "    minor: Unable to initialize object\n",
      "  #001: H5Dint.c line 337 in H5D__create_named(): unable to create and link to dataset\n",
      "    major: Dataset\n",
      "    minor: Unable to initialize object\n",
      "  #002: H5L.c line 1592 in H5L_link_object(): unable to create new link to object\n",
      "    major: Links\n",
      "    minor: Unable to initialize object\n",
      "  #003: H5L.c line 1833 in H5L__create_real(): can't insert link\n",
      "    major: Links\n",
      "    minor: Unable to insert object\n",
      "  #004: H5Gtraverse.c line 851 in H5G_traverse(): internal path traversal failed\n",
      "    major: Symbol table\n",
      "    minor: Object not found\n",
      "  #005: H5Gtraverse.c line 627 in H5G__traverse_real(): traversal operator failed\n",
      "    major: Symbol table\n",
      "    minor: Callback failed\n",
      "  #006: H5L.c line 1628 in H5L__link_cb(): name already exists\n",
      "    major: Links\n",
      "    minor: Object already exists\n",
      "HDF5-DIAG: Error detected in HDF5 (1.10.6) MPI-process 0:\n",
      "  #000: H5D.c line 378 in H5Dget_space(): not a dataset\n",
      "    major: Invalid arguments to routine\n",
      "    minor: Inappropriate type\n",
      "HDF5-DIAG: Error detected in HDF5 (1.10.6) MPI-process 0:\n",
      "  #000: H5Shyper.c line 7051 in H5Sselect_hyperslab(): not a dataspace\n",
      "    major: Invalid arguments to routine\n",
      "    minor: Inappropriate type\n",
      "HDF5-DIAG: Error detected in HDF5 (1.10.6) MPI-process 0:\n",
      "  #000: H5Dio.c line 314 in H5Dwrite(): dset_id is not a dataset ID\n",
      "    major: Invalid arguments to routine\n",
      "    minor: Inappropriate type\n",
      "HDF5-DIAG: Error detected in HDF5 (1.10.6) MPI-process 0:\n",
      "  #000: H5D.c line 337 in H5Dclose(): not a dataset\n",
      "    major: Invalid arguments to routine\n",
      "    minor: Inappropriate type\n",
      "HDF5-DIAG: Error detected in HDF5 (1.10.6) MPI-process 0:\n",
      "  #000: H5S.c line 490 in H5Sclose(): not a dataspace\n",
      "    major: Invalid arguments to routine\n",
      "    minor: Inappropriate type\n",
      "HDF5-DIAG: Error detected in HDF5 (1.10.6) MPI-process 0:\n",
      "  #000: H5D.c line 151 in H5Dcreate2(): unable to create dataset\n",
      "    major: Dataset\n",
      "    minor: Unable to initialize object\n",
      "  #001: H5Dint.c line 337 in H5D__create_named(): unable to create and link to dataset\n",
      "    major: Dataset\n",
      "    minor: Unable to initialize object\n",
      "  #002: H5L.c line 1592 in H5L_link_object(): unable to create new link to object\n",
      "    major: Links\n",
      "    minor: Unable to initialize object\n",
      "  #003: H5L.c line 1833 in H5L__create_real(): can't insert link\n",
      "    major: Links\n",
      "    minor: Unable to insert object\n",
      "  #004: H5Gtraverse.c line 851 in H5G_traverse(): internal path traversal failed\n",
      "    major: Symbol table\n",
      "    minor: Object not found\n",
      "  #005: H5Gtraverse.c line 627 in H5G__traverse_real(): traversal operator failed\n",
      "    major: Symbol table\n",
      "    minor: Callback failed\n",
      "  #006: H5L.c line 1628 in H5L__link_cb(): name already exists\n",
      "    major: Links\n",
      "    minor: Object already exists\n",
      "HDF5-DIAG: Error detected in HDF5 (1.10.6) MPI-process 0:\n",
      "  #000: H5D.c line 378 in H5Dget_space(): not a dataset\n",
      "    major: Invalid arguments to routine\n",
      "    minor: Inappropriate type\n",
      "HDF5-DIAG: Error detected in HDF5 (1.10.6) MPI-process 0:\n",
      "  #000: H5Shyper.c line 7051 in H5Sselect_hyperslab(): not a dataspace\n",
      "    major: Invalid arguments to routine\n",
      "    minor: Inappropriate type\n",
      "HDF5-DIAG: Error detected in HDF5 (1.10.6) MPI-process 0:\n",
      "  #000: H5Dio.c line 314 in H5Dwrite(): dset_id is not a dataset ID\n",
      "    major: Invalid arguments to routine\n",
      "    minor: Inappropriate type\n",
      "HDF5-DIAG: Error detected in HDF5 (1.10.6) MPI-process 0:\n",
      "  #000: H5D.c line 337 in H5Dclose(): not a dataset\n",
      "    major: Invalid arguments to routine\n",
      "    minor: Inappropriate type\n",
      "HDF5-DIAG: Error detected in HDF5 (1.10.6) MPI-process 0:\n",
      "  #000: H5S.c line 490 in H5Sclose(): not a dataspace\n",
      "    major: Invalid arguments to routine\n",
      "    minor: Inappropriate type\n",
      "HDF5-DIAG: Error detected in HDF5 (1.10.6) MPI-process 0:\n",
      "  #000: H5D.c line 151 in H5Dcreate2(): unable to create dataset\n",
      "    major: Dataset\n",
      "    minor: Unable to initialize object\n",
      "  #001: H5Dint.c line 337 in H5D__create_named(): unable to create and link to dataset\n",
      "    major: Dataset\n",
      "    minor: Unable to initialize object\n",
      "  #002: H5L.c line 1592 in H5L_link_object(): unable to create new link to object\n",
      "    major: Links\n",
      "    minor: Unable to initialize object\n",
      "  #003: H5L.c line 1833 in H5L__create_real(): can't insert link\n",
      "    major: Links\n",
      "    minor: Unable to insert object\n",
      "  #004: H5Gtraverse.c line 851 in H5G_traverse(): internal path traversal failed\n",
      "    major: Symbol table\n",
      "    minor: Object not found\n",
      "  #005: H5Gtraverse.c line 627 in H5G__traverse_real(): traversal operator failed\n",
      "    major: Symbol table\n",
      "    minor: Callback failed\n",
      "  #006: H5L.c line 1628 in H5L__link_cb(): name already exists\n",
      "    major: Links\n",
      "    minor: Object already exists\n",
      "HDF5-DIAG: Error detected in HDF5 (1.10.6) MPI-process 0:\n",
      "  #000: H5D.c line 378 in H5Dget_space(): not a dataset\n",
      "    major: Invalid arguments to routine\n",
      "    minor: Inappropriate type\n",
      "HDF5-DIAG: Error detected in HDF5 (1.10.6) MPI-process 0:\n",
      "  #000: H5Shyper.c line 7051 in H5Sselect_hyperslab(): not a dataspace\n",
      "    major: Invalid arguments to routine\n",
      "    minor: Inappropriate type\n",
      "HDF5-DIAG: Error detected in HDF5 (1.10.6) MPI-process 0:\n",
      "  #000: H5Dio.c line 314 in H5Dwrite(): dset_id is not a dataset ID\n",
      "    major: Invalid arguments to routine\n",
      "    minor: Inappropriate type\n",
      "HDF5-DIAG: Error detected in HDF5 (1.10.6) MPI-process 0:\n",
      "  #000: H5D.c line 337 in H5Dclose(): not a dataset\n",
      "    major: Invalid arguments to routine\n",
      "    minor: Inappropriate type\n",
      "HDF5-DIAG: Error detected in HDF5 (1.10.6) MPI-process 0:\n",
      "  #000: H5S.c line 490 in H5Sclose(): not a dataspace\n",
      "    major: Invalid arguments to routine\n",
      "    minor: Inappropriate type\n",
      "HDF5-DIAG: Error detected in HDF5 (1.10.6) MPI-process 0:\n",
      "  #000: H5D.c line 151 in H5Dcreate2(): unable to create dataset\n",
      "    major: Dataset\n",
      "    minor: Unable to initialize object\n",
      "  #001: H5Dint.c line 337 in H5D__create_named(): unable to create and link to dataset\n",
      "    major: Dataset\n",
      "    minor: Unable to initialize object\n",
      "  #002: H5L.c line 1592 in H5L_link_object(): unable to create new link to object\n",
      "    major: Links\n",
      "    minor: Unable to initialize object\n",
      "  #003: H5L.c line 1833 in H5L__create_real(): can't insert link\n",
      "    major: Links\n",
      "    minor: Unable to insert object\n",
      "  #004: H5Gtraverse.c line 851 in H5G_traverse(): internal path traversal failed\n",
      "    major: Symbol table\n",
      "    minor: Object not found\n",
      "  #005: H5Gtraverse.c line 627 in H5G__traverse_real(): traversal operator failed\n",
      "    major: Symbol table\n",
      "    minor: Callback failed\n",
      "  #006: H5L.c line 1628 in H5L__link_cb(): name already exists\n",
      "    major: Links\n",
      "    minor: Object already exists\n",
      "HDF5-DIAG: Error detected in HDF5 (1.10.6) MPI-process 0:\n",
      "  #000: H5D.c line 378 in H5Dget_space(): not a dataset\n",
      "    major: Invalid arguments to routine\n",
      "    minor: Inappropriate type\n",
      "HDF5-DIAG: Error detected in HDF5 (1.10.6) MPI-process 0:\n",
      "  #000: H5Shyper.c line 7051 in H5Sselect_hyperslab(): not a dataspace\n",
      "    major: Invalid arguments to routine\n",
      "    minor: Inappropriate type\n",
      "HDF5-DIAG: Error detected in HDF5 (1.10.6) MPI-process 0:\n",
      "  #000: H5Dio.c line 314 in H5Dwrite(): dset_id is not a dataset ID\n",
      "    major: Invalid arguments to routine\n",
      "    minor: Inappropriate type\n",
      "HDF5-DIAG: Error detected in HDF5 (1.10.6) MPI-process 0:\n",
      "  #000: H5D.c line 337 in H5Dclose(): not a dataset\n",
      "    major: Invalid arguments to routine\n",
      "    minor: Inappropriate type\n",
      "HDF5-DIAG: Error detected in HDF5 (1.10.6) MPI-process 0:\n",
      "  #000: H5S.c line 490 in H5Sclose(): not a dataspace\n",
      "    major: Invalid arguments to routine\n",
      "    minor: Inappropriate type\n",
      "HDF5-DIAG: Error detected in HDF5 (1.10.6) MPI-process 0:\n",
      "  #000: H5D.c line 151 in H5Dcreate2(): unable to create dataset\n",
      "    major: Dataset\n",
      "    minor: Unable to initialize object\n",
      "  #001: H5Dint.c line 337 in H5D__create_named(): unable to create and link to dataset\n",
      "    major: Dataset\n",
      "    minor: Unable to initialize object\n",
      "  #002: H5L.c line 1592 in H5L_link_object(): unable to create new link to object\n",
      "    major: Links\n",
      "    minor: Unable to initialize object\n",
      "  #003: H5L.c line 1833 in H5L__create_real(): can't insert link\n",
      "    major: Links\n",
      "    minor: Unable to insert object\n",
      "  #004: H5Gtraverse.c line 851 in H5G_traverse(): internal path traversal failed\n",
      "    major: Symbol table\n",
      "    minor: Object not found\n",
      "  #005: H5Gtraverse.c line 627 in H5G__traverse_real(): traversal operator failed\n",
      "    major: Symbol table\n",
      "    minor: Callback failed\n",
      "  #006: H5L.c line 1628 in H5L__link_cb(): name already exists\n",
      "    major: Links\n",
      "    minor: Object already exists\n",
      "HDF5-DIAG: Error detected in HDF5 (1.10.6) MPI-process 0:\n",
      "  #000: H5D.c line 378 in H5Dget_space(): not a dataset\n",
      "    major: Invalid arguments to routine\n",
      "    minor: Inappropriate type\n",
      "HDF5-DIAG: Error detected in HDF5 (1.10.6) MPI-process 0:\n",
      "  #000: H5Shyper.c line 7051 in H5Sselect_hyperslab(): not a dataspace\n",
      "    major: Invalid arguments to routine\n",
      "    minor: Inappropriate type\n",
      "HDF5-DIAG: Error detected in HDF5 (1.10.6) MPI-process 0:\n",
      "  #000: H5Dio.c line 314 in H5Dwrite(): dset_id is not a dataset ID\n",
      "    major: Invalid arguments to routine\n",
      "    minor: Inappropriate type\n",
      "HDF5-DIAG: Error detected in HDF5 (1.10.6) MPI-process 0:\n",
      "  #000: H5D.c line 337 in H5Dclose(): not a dataset\n",
      "    major: Invalid arguments to routine\n",
      "    minor: Inappropriate type\n",
      "HDF5-DIAG: Error detected in HDF5 (1.10.6) MPI-process 0:\n",
      "  #000: H5S.c line 490 in H5Sclose(): not a dataspace\n",
      "    major: Invalid arguments to routine\n",
      "    minor: Inappropriate type\n",
      "HDF5-DIAG: Error detected in HDF5 (1.10.6) MPI-process 0:\n",
      "  #000: H5D.c line 151 in H5Dcreate2(): unable to create dataset\n",
      "    major: Dataset\n",
      "    minor: Unable to initialize object\n",
      "  #001: H5Dint.c line 337 in H5D__create_named(): unable to create and link to dataset\n",
      "    major: Dataset\n",
      "    minor: Unable to initialize object\n",
      "  #002: H5L.c line 1592 in H5L_link_object(): unable to create new link to object\n",
      "    major: Links\n",
      "    minor: Unable to initialize object\n",
      "  #003: H5L.c line 1833 in H5L__create_real(): can't insert link\n",
      "    major: Links\n",
      "    minor: Unable to insert object\n",
      "  #004: H5Gtraverse.c line 851 in H5G_traverse(): internal path traversal failed\n",
      "    major: Symbol table\n",
      "    minor: Object not found\n",
      "  #005: H5Gtraverse.c line 627 in H5G__traverse_real(): traversal operator failed\n",
      "    major: Symbol table\n",
      "    minor: Callback failed\n",
      "  #006: H5L.c line 1628 in H5L__link_cb(): name already exists\n",
      "    major: Links\n",
      "    minor: Object already exists\n",
      "HDF5-DIAG: Error detected in HDF5 (1.10.6) MPI-process 0:\n",
      "  #000: H5D.c line 378 in H5Dget_space(): not a dataset\n",
      "    major: Invalid arguments to routine\n",
      "    minor: Inappropriate type\n",
      "HDF5-DIAG: Error detected in HDF5 (1.10.6) MPI-process 0:\n",
      "  #000: H5Shyper.c line 7051 in H5Sselect_hyperslab(): not a dataspace\n",
      "    major: Invalid arguments to routine\n",
      "    minor: Inappropriate type\n",
      "HDF5-DIAG: Error detected in HDF5 (1.10.6) MPI-process 0:\n",
      "  #000: H5Dio.c line 314 in H5Dwrite(): dset_id is not a dataset ID\n",
      "    major: Invalid arguments to routine\n",
      "    minor: Inappropriate type\n",
      "HDF5-DIAG: Error detected in HDF5 (1.10.6) MPI-process 0:\n",
      "  #000: H5D.c line 337 in H5Dclose(): not a dataset\n",
      "    major: Invalid arguments to routine\n",
      "    minor: Inappropriate type\n",
      "HDF5-DIAG: Error detected in HDF5 (1.10.6) MPI-process 0:\n",
      "  #000: H5S.c line 490 in H5Sclose(): not a dataspace\n",
      "    major: Invalid arguments to routine\n",
      "    minor: Inappropriate type\n",
      "HDF5-DIAG: Error detected in HDF5 (1.10.6) MPI-process 0:\n",
      "  #000: H5D.c line 151 in H5Dcreate2(): unable to create dataset\n",
      "    major: Dataset\n",
      "    minor: Unable to initialize object\n",
      "  #001: H5Dint.c line 337 in H5D__create_named(): unable to create and link to dataset\n",
      "    major: Dataset\n",
      "    minor: Unable to initialize object\n",
      "  #002: H5L.c line 1592 in H5L_link_object(): unable to create new link to object\n",
      "    major: Links\n",
      "    minor: Unable to initialize object\n",
      "  #003: H5L.c line 1833 in H5L__create_real(): can't insert link\n",
      "    major: Links\n",
      "    minor: Unable to insert object\n",
      "  #004: H5Gtraverse.c line 851 in H5G_traverse(): internal path traversal failed\n",
      "    major: Symbol table\n",
      "    minor: Object not found\n",
      "  #005: H5Gtraverse.c line 627 in H5G__traverse_real(): traversal operator failed\n",
      "    major: Symbol table\n",
      "    minor: Callback failed\n",
      "  #006: H5L.c line 1628 in H5L__link_cb(): name already exists\n",
      "    major: Links\n",
      "    minor: Object already exists\n",
      "HDF5-DIAG: Error detected in HDF5 (1.10.6) MPI-process 0:\n",
      "  #000: H5D.c line 378 in H5Dget_space(): not a dataset\n",
      "    major: Invalid arguments to routine\n",
      "    minor: Inappropriate type\n",
      "HDF5-DIAG: Error detected in HDF5 (1.10.6) MPI-process 0:\n",
      "  #000: H5Shyper.c line 7051 in H5Sselect_hyperslab(): not a dataspace\n",
      "    major: Invalid arguments to routine\n",
      "    minor: Inappropriate type\n",
      "HDF5-DIAG: Error detected in HDF5 (1.10.6) MPI-process 0:\n",
      "  #000: H5Dio.c line 314 in H5Dwrite(): dset_id is not a dataset ID\n",
      "    major: Invalid arguments to routine\n",
      "    minor: Inappropriate type\n",
      "HDF5-DIAG: Error detected in HDF5 (1.10.6) MPI-process 0:\n",
      "  #000: H5D.c line 337 in H5Dclose(): not a dataset\n",
      "    major: Invalid arguments to routine\n",
      "    minor: Inappropriate type\n",
      "HDF5-DIAG: Error detected in HDF5 (1.10.6) MPI-process 0:\n",
      "  #000: H5S.c line 490 in H5Sclose(): not a dataspace\n",
      "    major: Invalid arguments to routine\n",
      "    minor: Inappropriate type\n",
      "HDF5-DIAG: Error detected in HDF5 (1.10.6) MPI-process 0:\n",
      "  #000: H5D.c line 151 in H5Dcreate2(): unable to create dataset\n",
      "    major: Dataset\n",
      "    minor: Unable to initialize object\n",
      "  #001: H5Dint.c line 337 in H5D__create_named(): unable to create and link to dataset\n",
      "    major: Dataset\n",
      "    minor: Unable to initialize object\n",
      "  #002: H5L.c line 1592 in H5L_link_object(): unable to create new link to object\n",
      "    major: Links\n",
      "    minor: Unable to initialize object\n",
      "  #003: H5L.c line 1833 in H5L__create_real(): can't insert link\n",
      "    major: Links\n",
      "    minor: Unable to insert object\n",
      "  #004: H5Gtraverse.c line 851 in H5G_traverse(): internal path traversal failed\n",
      "    major: Symbol table\n",
      "    minor: Object not found\n",
      "  #005: H5Gtraverse.c line 627 in H5G__traverse_real(): traversal operator failed\n",
      "    major: Symbol table\n",
      "    minor: Callback failed\n",
      "  #006: H5L.c line 1628 in H5L__link_cb(): name already exists\n",
      "    major: Links\n",
      "    minor: Object already exists\n",
      "HDF5-DIAG: Error detected in HDF5 (1.10.6) MPI-process 0:\n",
      "  #000: H5D.c line 378 in H5Dget_space(): not a dataset\n",
      "    major: Invalid arguments to routine\n",
      "    minor: Inappropriate type\n",
      "HDF5-DIAG: Error detected in HDF5 (1.10.6) MPI-process 0:\n",
      "  #000: H5Shyper.c line 7051 in H5Sselect_hyperslab(): not a dataspace\n",
      "    major: Invalid arguments to routine\n",
      "    minor: Inappropriate type\n",
      "HDF5-DIAG: Error detected in HDF5 (1.10.6) MPI-process 0:\n",
      "  #000: H5Dio.c line 314 in H5Dwrite(): dset_id is not a dataset ID\n",
      "    major: Invalid arguments to routine\n",
      "    minor: Inappropriate type\n",
      "HDF5-DIAG: Error detected in HDF5 (1.10.6) MPI-process 0:\n",
      "  #000: H5D.c line 337 in H5Dclose(): not a dataset\n",
      "    major: Invalid arguments to routine\n",
      "    minor: Inappropriate type\n",
      "HDF5-DIAG: Error detected in HDF5 (1.10.6) MPI-process 0:\n",
      "  #000: H5S.c line 490 in H5Sclose(): not a dataspace\n",
      "    major: Invalid arguments to routine\n",
      "    minor: Inappropriate type\n",
      "HDF5-DIAG: Error detected in HDF5 (1.10.6) MPI-process 0:\n",
      "  #000: H5D.c line 151 in H5Dcreate2(): unable to create dataset\n",
      "    major: Dataset\n",
      "    minor: Unable to initialize object\n",
      "  #001: H5Dint.c line 337 in H5D__create_named(): unable to create and link to dataset\n",
      "    major: Dataset\n",
      "    minor: Unable to initialize object\n",
      "  #002: H5L.c line 1592 in H5L_link_object(): unable to create new link to object\n",
      "    major: Links\n",
      "    minor: Unable to initialize object\n",
      "  #003: H5L.c line 1833 in H5L__create_real(): can't insert link\n",
      "    major: Links\n",
      "    minor: Unable to insert object\n",
      "  #004: H5Gtraverse.c line 851 in H5G_traverse(): internal path traversal failed\n",
      "    major: Symbol table\n",
      "    minor: Object not found\n",
      "  #005: H5Gtraverse.c line 627 in H5G__traverse_real(): traversal operator failed\n",
      "    major: Symbol table\n",
      "    minor: Callback failed\n",
      "  #006: H5L.c line 1628 in H5L__link_cb(): name already exists\n",
      "    major: Links\n",
      "    minor: Object already exists\n",
      "HDF5-DIAG: Error detected in HDF5 (1.10.6) MPI-process 0:\n",
      "  #000: H5D.c line 378 in H5Dget_space(): not a dataset\n",
      "    major: Invalid arguments to routine\n",
      "    minor: Inappropriate type\n",
      "HDF5-DIAG: Error detected in HDF5 (1.10.6) MPI-process 0:\n",
      "  #000: H5Shyper.c line 7051 in H5Sselect_hyperslab(): not a dataspace\n",
      "    major: Invalid arguments to routine\n",
      "    minor: Inappropriate type\n",
      "HDF5-DIAG: Error detected in HDF5 (1.10.6) MPI-process 0:\n",
      "  #000: H5Dio.c line 314 in H5Dwrite(): dset_id is not a dataset ID\n",
      "    major: Invalid arguments to routine\n",
      "    minor: Inappropriate type\n",
      "HDF5-DIAG: Error detected in HDF5 (1.10.6) MPI-process 0:\n",
      "  #000: H5D.c line 337 in H5Dclose(): not a dataset\n",
      "    major: Invalid arguments to routine\n",
      "    minor: Inappropriate type\n",
      "HDF5-DIAG: Error detected in HDF5 (1.10.6) MPI-process 0:\n",
      "  #000: H5S.c line 490 in H5Sclose(): not a dataspace\n",
      "    major: Invalid arguments to routine\n",
      "    minor: Inappropriate type\n",
      "HDF5-DIAG: Error detected in HDF5 (1.10.6) MPI-process 0:\n",
      "  #000: H5D.c line 151 in H5Dcreate2(): unable to create dataset\n",
      "    major: Dataset\n",
      "    minor: Unable to initialize object\n",
      "  #001: H5Dint.c line 337 in H5D__create_named(): unable to create and link to dataset\n",
      "    major: Dataset\n",
      "    minor: Unable to initialize object\n",
      "  #002: H5L.c line 1592 in H5L_link_object(): unable to create new link to object\n",
      "    major: Links\n",
      "    minor: Unable to initialize object\n",
      "  #003: H5L.c line 1833 in H5L__create_real(): can't insert link\n",
      "    major: Links\n",
      "    minor: Unable to insert object\n",
      "  #004: H5Gtraverse.c line 851 in H5G_traverse(): internal path traversal failed\n",
      "    major: Symbol table\n",
      "    minor: Object not found\n",
      "  #005: H5Gtraverse.c line 627 in H5G__traverse_real(): traversal operator failed\n",
      "    major: Symbol table\n",
      "    minor: Callback failed\n",
      "  #006: H5L.c line 1628 in H5L__link_cb(): name already exists\n",
      "    major: Links\n",
      "    minor: Object already exists\n",
      "HDF5-DIAG: Error detected in HDF5 (1.10.6) MPI-process 0:\n",
      "  #000: H5D.c line 378 in H5Dget_space(): not a dataset\n",
      "    major: Invalid arguments to routine\n",
      "    minor: Inappropriate type\n",
      "HDF5-DIAG: Error detected in HDF5 (1.10.6) MPI-process 0:\n",
      "  #000: H5Shyper.c line 7051 in H5Sselect_hyperslab(): not a dataspace\n",
      "    major: Invalid arguments to routine\n",
      "    minor: Inappropriate type\n",
      "HDF5-DIAG: Error detected in HDF5 (1.10.6) MPI-process 0:\n",
      "  #000: H5Dio.c line 314 in H5Dwrite(): dset_id is not a dataset ID\n",
      "    major: Invalid arguments to routine\n",
      "    minor: Inappropriate type\n",
      "HDF5-DIAG: Error detected in HDF5 (1.10.6) MPI-process 0:\n",
      "  #000: H5D.c line 337 in H5Dclose(): not a dataset\n",
      "    major: Invalid arguments to routine\n",
      "    minor: Inappropriate type\n",
      "HDF5-DIAG: Error detected in HDF5 (1.10.6) MPI-process 0:\n",
      "  #000: H5S.c line 490 in H5Sclose(): not a dataspace\n",
      "    major: Invalid arguments to routine\n",
      "    minor: Inappropriate type\n",
      "HDF5-DIAG: Error detected in HDF5 (1.10.6) MPI-process 0:\n",
      "  #000: H5D.c line 151 in H5Dcreate2(): unable to create dataset\n",
      "    major: Dataset\n",
      "    minor: Unable to initialize object\n",
      "  #001: H5Dint.c line 337 in H5D__create_named(): unable to create and link to dataset\n",
      "    major: Dataset\n",
      "    minor: Unable to initialize object\n",
      "  #002: H5L.c line 1592 in H5L_link_object(): unable to create new link to object\n",
      "    major: Links\n",
      "    minor: Unable to initialize object\n",
      "  #003: H5L.c line 1833 in H5L__create_real(): can't insert link\n",
      "    major: Links\n",
      "    minor: Unable to insert object\n",
      "  #004: H5Gtraverse.c line 851 in H5G_traverse(): internal path traversal failed\n",
      "    major: Symbol table\n",
      "    minor: Object not found\n",
      "  #005: H5Gtraverse.c line 627 in H5G__traverse_real(): traversal operator failed\n",
      "    major: Symbol table\n",
      "    minor: Callback failed\n",
      "  #006: H5L.c line 1628 in H5L__link_cb(): name already exists\n",
      "    major: Links\n",
      "    minor: Object already exists\n",
      "HDF5-DIAG: Error detected in HDF5 (1.10.6) MPI-process 0:\n",
      "  #000: H5D.c line 378 in H5Dget_space(): not a dataset\n",
      "    major: Invalid arguments to routine\n",
      "    minor: Inappropriate type\n",
      "HDF5-DIAG: Error detected in HDF5 (1.10.6) MPI-process 0:\n",
      "  #000: H5Shyper.c line 7051 in H5Sselect_hyperslab(): not a dataspace\n",
      "    major: Invalid arguments to routine\n",
      "    minor: Inappropriate type\n",
      "HDF5-DIAG: Error detected in HDF5 (1.10.6) MPI-process 0:\n",
      "  #000: H5Dio.c line 314 in H5Dwrite(): dset_id is not a dataset ID\n",
      "    major: Invalid arguments to routine\n",
      "    minor: Inappropriate type\n",
      "HDF5-DIAG: Error detected in HDF5 (1.10.6) MPI-process 0:\n",
      "  #000: H5D.c line 337 in H5Dclose(): not a dataset\n",
      "    major: Invalid arguments to routine\n",
      "    minor: Inappropriate type\n",
      "HDF5-DIAG: Error detected in HDF5 (1.10.6) MPI-process 0:\n",
      "  #000: H5S.c line 490 in H5Sclose(): not a dataspace\n",
      "    major: Invalid arguments to routine\n",
      "    minor: Inappropriate type\n",
      "HDF5-DIAG: Error detected in HDF5 (1.10.6) MPI-process 0:\n",
      "  #000: H5D.c line 151 in H5Dcreate2(): unable to create dataset\n",
      "    major: Dataset\n",
      "    minor: Unable to initialize object\n",
      "  #001: H5Dint.c line 337 in H5D__create_named(): unable to create and link to dataset\n",
      "    major: Dataset\n",
      "    minor: Unable to initialize object\n",
      "  #002: H5L.c line 1592 in H5L_link_object(): unable to create new link to object\n",
      "    major: Links\n",
      "    minor: Unable to initialize object\n",
      "  #003: H5L.c line 1833 in H5L__create_real(): can't insert link\n",
      "    major: Links\n",
      "    minor: Unable to insert object\n",
      "  #004: H5Gtraverse.c line 851 in H5G_traverse(): internal path traversal failed\n",
      "    major: Symbol table\n",
      "    minor: Object not found\n",
      "  #005: H5Gtraverse.c line 627 in H5G__traverse_real(): traversal operator failed\n",
      "    major: Symbol table\n",
      "    minor: Callback failed\n",
      "  #006: H5L.c line 1628 in H5L__link_cb(): name already exists\n",
      "    major: Links\n",
      "    minor: Object already exists\n",
      "HDF5-DIAG: Error detected in HDF5 (1.10.6) MPI-process 0:\n",
      "  #000: H5D.c line 378 in H5Dget_space(): not a dataset\n",
      "    major: Invalid arguments to routine\n",
      "    minor: Inappropriate type\n",
      "HDF5-DIAG: Error detected in HDF5 (1.10.6) MPI-process 0:\n",
      "  #000: H5Shyper.c line 7051 in H5Sselect_hyperslab(): not a dataspace\n",
      "    major: Invalid arguments to routine\n",
      "    minor: Inappropriate type\n",
      "HDF5-DIAG: Error detected in HDF5 (1.10.6) MPI-process 0:\n",
      "  #000: H5Dio.c line 314 in H5Dwrite(): dset_id is not a dataset ID\n",
      "    major: Invalid arguments to routine\n",
      "    minor: Inappropriate type\n",
      "HDF5-DIAG: Error detected in HDF5 (1.10.6) MPI-process 0:\n",
      "  #000: H5D.c line 337 in H5Dclose(): not a dataset\n",
      "    major: Invalid arguments to routine\n",
      "    minor: Inappropriate type\n",
      "HDF5-DIAG: Error detected in HDF5 (1.10.6) MPI-process 0:\n",
      "  #000: H5S.c line 490 in H5Sclose(): not a dataspace\n",
      "    major: Invalid arguments to routine\n",
      "    minor: Inappropriate type\n",
      "HDF5-DIAG: Error detected in HDF5 (1.10.6) MPI-process 0:\n",
      "  #000: H5D.c line 151 in H5Dcreate2(): unable to create dataset\n",
      "    major: Dataset\n",
      "    minor: Unable to initialize object\n",
      "  #001: H5Dint.c line 337 in H5D__create_named(): unable to create and link to dataset\n",
      "    major: Dataset\n",
      "    minor: Unable to initialize object\n",
      "  #002: H5L.c line 1592 in H5L_link_object(): unable to create new link to object\n",
      "    major: Links\n",
      "    minor: Unable to initialize object\n",
      "  #003: H5L.c line 1833 in H5L__create_real(): can't insert link\n",
      "    major: Links\n",
      "    minor: Unable to insert object\n",
      "  #004: H5Gtraverse.c line 851 in H5G_traverse(): internal path traversal failed\n",
      "    major: Symbol table\n",
      "    minor: Object not found\n",
      "  #005: H5Gtraverse.c line 627 in H5G__traverse_real(): traversal operator failed\n",
      "    major: Symbol table\n",
      "    minor: Callback failed\n",
      "  #006: H5L.c line 1628 in H5L__link_cb(): name already exists\n",
      "    major: Links\n",
      "    minor: Object already exists\n",
      "HDF5-DIAG: Error detected in HDF5 (1.10.6) MPI-process 0:\n",
      "  #000: H5D.c line 378 in H5Dget_space(): not a dataset\n",
      "    major: Invalid arguments to routine\n",
      "    minor: Inappropriate type\n",
      "HDF5-DIAG: Error detected in HDF5 (1.10.6) MPI-process 0:\n",
      "  #000: H5Shyper.c line 7051 in H5Sselect_hyperslab(): not a dataspace\n",
      "    major: Invalid arguments to routine\n",
      "    minor: Inappropriate type\n",
      "HDF5-DIAG: Error detected in HDF5 (1.10.6) MPI-process 0:\n",
      "  #000: H5Dio.c line 314 in H5Dwrite(): dset_id is not a dataset ID\n",
      "    major: Invalid arguments to routine\n",
      "    minor: Inappropriate type\n",
      "HDF5-DIAG: Error detected in HDF5 (1.10.6) MPI-process 0:\n",
      "  #000: H5D.c line 337 in H5Dclose(): not a dataset\n",
      "    major: Invalid arguments to routine\n",
      "    minor: Inappropriate type\n",
      "HDF5-DIAG: Error detected in HDF5 (1.10.6) MPI-process 0:\n",
      "  #000: H5S.c line 490 in H5Sclose(): not a dataspace\n",
      "    major: Invalid arguments to routine\n",
      "    minor: Inappropriate type\n",
      "HDF5-DIAG: Error detected in HDF5 (1.10.6) MPI-process 0:\n",
      "  #000: H5D.c line 151 in H5Dcreate2(): unable to create dataset\n",
      "    major: Dataset\n",
      "    minor: Unable to initialize object\n",
      "  #001: H5Dint.c line 337 in H5D__create_named(): unable to create and link to dataset\n",
      "    major: Dataset\n",
      "    minor: Unable to initialize object\n",
      "  #002: H5L.c line 1592 in H5L_link_object(): unable to create new link to object\n",
      "    major: Links\n",
      "    minor: Unable to initialize object\n",
      "  #003: H5L.c line 1833 in H5L__create_real(): can't insert link\n",
      "    major: Links\n",
      "    minor: Unable to insert object\n",
      "  #004: H5Gtraverse.c line 851 in H5G_traverse(): internal path traversal failed\n",
      "    major: Symbol table\n",
      "    minor: Object not found\n",
      "  #005: H5Gtraverse.c line 627 in H5G__traverse_real(): traversal operator failed\n",
      "    major: Symbol table\n",
      "    minor: Callback failed\n",
      "  #006: H5L.c line 1628 in H5L__link_cb(): name already exists\n",
      "    major: Links\n",
      "    minor: Object already exists\n",
      "HDF5-DIAG: Error detected in HDF5 (1.10.6) MPI-process 0:\n",
      "  #000: H5D.c line 378 in H5Dget_space(): not a dataset\n",
      "    major: Invalid arguments to routine\n",
      "    minor: Inappropriate type\n",
      "HDF5-DIAG: Error detected in HDF5 (1.10.6) MPI-process 0:\n",
      "  #000: H5Shyper.c line 7051 in H5Sselect_hyperslab(): not a dataspace\n",
      "    major: Invalid arguments to routine\n",
      "    minor: Inappropriate type\n",
      "HDF5-DIAG: Error detected in HDF5 (1.10.6) MPI-process 0:\n",
      "  #000: H5Dio.c line 314 in H5Dwrite(): dset_id is not a dataset ID\n",
      "    major: Invalid arguments to routine\n",
      "    minor: Inappropriate type\n",
      "HDF5-DIAG: Error detected in HDF5 (1.10.6) MPI-process 0:\n",
      "  #000: H5D.c line 337 in H5Dclose(): not a dataset\n",
      "    major: Invalid arguments to routine\n",
      "    minor: Inappropriate type\n",
      "HDF5-DIAG: Error detected in HDF5 (1.10.6) MPI-process 0:\n",
      "  #000: H5S.c line 490 in H5Sclose(): not a dataspace\n",
      "    major: Invalid arguments to routine\n",
      "    minor: Inappropriate type\n",
      "HDF5-DIAG: Error detected in HDF5 (1.10.6) MPI-process 0:\n",
      "  #000: H5D.c line 151 in H5Dcreate2(): unable to create dataset\n",
      "    major: Dataset\n",
      "    minor: Unable to initialize object\n",
      "  #001: H5Dint.c line 337 in H5D__create_named(): unable to create and link to dataset\n",
      "    major: Dataset\n",
      "    minor: Unable to initialize object\n",
      "  #002: H5L.c line 1592 in H5L_link_object(): unable to create new link to object\n",
      "    major: Links\n",
      "    minor: Unable to initialize object\n",
      "  #003: H5L.c line 1833 in H5L__create_real(): can't insert link\n",
      "    major: Links\n",
      "    minor: Unable to insert object\n",
      "  #004: H5Gtraverse.c line 851 in H5G_traverse(): internal path traversal failed\n",
      "    major: Symbol table\n",
      "    minor: Object not found\n",
      "  #005: H5Gtraverse.c line 627 in H5G__traverse_real(): traversal operator failed\n",
      "    major: Symbol table\n",
      "    minor: Callback failed\n",
      "  #006: H5L.c line 1628 in H5L__link_cb(): name already exists\n",
      "    major: Links\n",
      "    minor: Object already exists\n",
      "HDF5-DIAG: Error detected in HDF5 (1.10.6) MPI-process 0:\n",
      "  #000: H5D.c line 378 in H5Dget_space(): not a dataset\n",
      "    major: Invalid arguments to routine\n",
      "    minor: Inappropriate type\n",
      "HDF5-DIAG: Error detected in HDF5 (1.10.6) MPI-process 0:\n",
      "  #000: H5Shyper.c line 7051 in H5Sselect_hyperslab(): not a dataspace\n",
      "    major: Invalid arguments to routine\n",
      "    minor: Inappropriate type\n",
      "HDF5-DIAG: Error detected in HDF5 (1.10.6) MPI-process 0:\n",
      "  #000: H5Dio.c line 314 in H5Dwrite(): dset_id is not a dataset ID\n",
      "    major: Invalid arguments to routine\n",
      "    minor: Inappropriate type\n",
      "HDF5-DIAG: Error detected in HDF5 (1.10.6) MPI-process 0:\n",
      "  #000: H5D.c line 337 in H5Dclose(): not a dataset\n",
      "    major: Invalid arguments to routine\n",
      "    minor: Inappropriate type\n",
      "HDF5-DIAG: Error detected in HDF5 (1.10.6) MPI-process 0:\n",
      "  #000: H5S.c line 490 in H5Sclose(): not a dataspace\n",
      "    major: Invalid arguments to routine\n",
      "    minor: Inappropriate type\n",
      "HDF5-DIAG: Error detected in HDF5 (1.10.6) MPI-process 0:\n",
      "  #000: H5D.c line 151 in H5Dcreate2(): unable to create dataset\n",
      "    major: Dataset\n",
      "    minor: Unable to initialize object\n",
      "  #001: H5Dint.c line 337 in H5D__create_named(): unable to create and link to dataset\n",
      "    major: Dataset\n",
      "    minor: Unable to initialize object\n",
      "  #002: H5L.c line 1592 in H5L_link_object(): unable to create new link to object\n",
      "    major: Links\n",
      "    minor: Unable to initialize object\n",
      "  #003: H5L.c line 1833 in H5L__create_real(): can't insert link\n",
      "    major: Links\n",
      "    minor: Unable to insert object\n",
      "  #004: H5Gtraverse.c line 851 in H5G_traverse(): internal path traversal failed\n",
      "    major: Symbol table\n",
      "    minor: Object not found\n",
      "  #005: H5Gtraverse.c line 627 in H5G__traverse_real(): traversal operator failed\n",
      "    major: Symbol table\n",
      "    minor: Callback failed\n",
      "  #006: H5L.c line 1628 in H5L__link_cb(): name already exists\n",
      "    major: Links\n",
      "    minor: Object already exists\n",
      "HDF5-DIAG: Error detected in HDF5 (1.10.6) MPI-process 0:\n",
      "  #000: H5D.c line 378 in H5Dget_space(): not a dataset\n",
      "    major: Invalid arguments to routine\n",
      "    minor: Inappropriate type\n",
      "HDF5-DIAG: Error detected in HDF5 (1.10.6) MPI-process 0:\n",
      "  #000: H5Shyper.c line 7051 in H5Sselect_hyperslab(): not a dataspace\n",
      "    major: Invalid arguments to routine\n",
      "    minor: Inappropriate type\n",
      "HDF5-DIAG: Error detected in HDF5 (1.10.6) MPI-process 0:\n",
      "  #000: H5Dio.c line 314 in H5Dwrite(): dset_id is not a dataset ID\n",
      "    major: Invalid arguments to routine\n",
      "    minor: Inappropriate type\n",
      "HDF5-DIAG: Error detected in HDF5 (1.10.6) MPI-process 0:\n",
      "  #000: H5D.c line 337 in H5Dclose(): not a dataset\n",
      "    major: Invalid arguments to routine\n",
      "    minor: Inappropriate type\n",
      "HDF5-DIAG: Error detected in HDF5 (1.10.6) MPI-process 0:\n",
      "  #000: H5S.c line 490 in H5Sclose(): not a dataspace\n",
      "    major: Invalid arguments to routine\n",
      "    minor: Inappropriate type\n",
      "HDF5-DIAG: Error detected in HDF5 (1.10.6) MPI-process 0:\n",
      "  #000: H5D.c line 151 in H5Dcreate2(): unable to create dataset\n",
      "    major: Dataset\n",
      "    minor: Unable to initialize object\n",
      "  #001: H5Dint.c line 337 in H5D__create_named(): unable to create and link to dataset\n",
      "    major: Dataset\n",
      "    minor: Unable to initialize object\n",
      "  #002: H5L.c line 1592 in H5L_link_object(): unable to create new link to object\n",
      "    major: Links\n",
      "    minor: Unable to initialize object\n",
      "  #003: H5L.c line 1833 in H5L__create_real(): can't insert link\n",
      "    major: Links\n",
      "    minor: Unable to insert object\n",
      "  #004: H5Gtraverse.c line 851 in H5G_traverse(): internal path traversal failed\n",
      "    major: Symbol table\n",
      "    minor: Object not found\n",
      "  #005: H5Gtraverse.c line 627 in H5G__traverse_real(): traversal operator failed\n",
      "    major: Symbol table\n",
      "    minor: Callback failed\n",
      "  #006: H5L.c line 1628 in H5L__link_cb(): name already exists\n",
      "    major: Links\n",
      "    minor: Object already exists\n",
      "HDF5-DIAG: Error detected in HDF5 (1.10.6) MPI-process 0:\n",
      "  #000: H5D.c line 378 in H5Dget_space(): not a dataset\n",
      "    major: Invalid arguments to routine\n",
      "    minor: Inappropriate type\n",
      "HDF5-DIAG: Error detected in HDF5 (1.10.6) MPI-process 0:\n",
      "  #000: H5Shyper.c line 7051 in H5Sselect_hyperslab(): not a dataspace\n",
      "    major: Invalid arguments to routine\n",
      "    minor: Inappropriate type\n",
      "HDF5-DIAG: Error detected in HDF5 (1.10.6) MPI-process 0:\n",
      "  #000: H5Dio.c line 314 in H5Dwrite(): dset_id is not a dataset ID\n",
      "    major: Invalid arguments to routine\n",
      "    minor: Inappropriate type\n",
      "HDF5-DIAG: Error detected in HDF5 (1.10.6) MPI-process 0:\n",
      "  #000: H5D.c line 337 in H5Dclose(): not a dataset\n",
      "    major: Invalid arguments to routine\n",
      "    minor: Inappropriate type\n",
      "HDF5-DIAG: Error detected in HDF5 (1.10.6) MPI-process 0:\n",
      "  #000: H5S.c line 490 in H5Sclose(): not a dataspace\n",
      "    major: Invalid arguments to routine\n",
      "    minor: Inappropriate type\n",
      "HDF5-DIAG: Error detected in HDF5 (1.10.6) MPI-process 0:\n",
      "  #000: H5D.c line 151 in H5Dcreate2(): unable to create dataset\n",
      "    major: Dataset\n",
      "    minor: Unable to initialize object\n",
      "  #001: H5Dint.c line 337 in H5D__create_named(): unable to create and link to dataset\n",
      "    major: Dataset\n",
      "    minor: Unable to initialize object\n",
      "  #002: H5L.c line 1592 in H5L_link_object(): unable to create new link to object\n",
      "    major: Links\n",
      "    minor: Unable to initialize object\n",
      "  #003: H5L.c line 1833 in H5L__create_real(): can't insert link\n",
      "    major: Links\n",
      "    minor: Unable to insert object\n",
      "  #004: H5Gtraverse.c line 851 in H5G_traverse(): internal path traversal failed\n",
      "    major: Symbol table\n",
      "    minor: Object not found\n",
      "  #005: H5Gtraverse.c line 627 in H5G__traverse_real(): traversal operator failed\n",
      "    major: Symbol table\n",
      "    minor: Callback failed\n",
      "  #006: H5L.c line 1628 in H5L__link_cb(): name already exists\n",
      "    major: Links\n",
      "    minor: Object already exists\n",
      "HDF5-DIAG: Error detected in HDF5 (1.10.6) MPI-process 0:\n",
      "  #000: H5D.c line 378 in H5Dget_space(): not a dataset\n",
      "    major: Invalid arguments to routine\n",
      "    minor: Inappropriate type\n",
      "HDF5-DIAG: Error detected in HDF5 (1.10.6) MPI-process 0:\n",
      "  #000: H5Shyper.c line 7051 in H5Sselect_hyperslab(): not a dataspace\n",
      "    major: Invalid arguments to routine\n",
      "    minor: Inappropriate type\n",
      "HDF5-DIAG: Error detected in HDF5 (1.10.6) MPI-process 0:\n",
      "  #000: H5Dio.c line 314 in H5Dwrite(): dset_id is not a dataset ID\n",
      "    major: Invalid arguments to routine\n",
      "    minor: Inappropriate type\n",
      "HDF5-DIAG: Error detected in HDF5 (1.10.6) MPI-process 0:\n",
      "  #000: H5D.c line 337 in H5Dclose(): not a dataset\n",
      "    major: Invalid arguments to routine\n",
      "    minor: Inappropriate type\n",
      "HDF5-DIAG: Error detected in HDF5 (1.10.6) MPI-process 0:\n",
      "  #000: H5S.c line 490 in H5Sclose(): not a dataspace\n",
      "    major: Invalid arguments to routine\n",
      "    minor: Inappropriate type\n",
      "HDF5-DIAG: Error detected in HDF5 (1.10.6) MPI-process 0:\n",
      "  #000: H5D.c line 151 in H5Dcreate2(): unable to create dataset\n",
      "    major: Dataset\n",
      "    minor: Unable to initialize object\n",
      "  #001: H5Dint.c line 337 in H5D__create_named(): unable to create and link to dataset\n",
      "    major: Dataset\n",
      "    minor: Unable to initialize object\n",
      "  #002: H5L.c line 1592 in H5L_link_object(): unable to create new link to object\n",
      "    major: Links\n",
      "    minor: Unable to initialize object\n",
      "  #003: H5L.c line 1833 in H5L__create_real(): can't insert link\n",
      "    major: Links\n",
      "    minor: Unable to insert object\n",
      "  #004: H5Gtraverse.c line 851 in H5G_traverse(): internal path traversal failed\n",
      "    major: Symbol table\n",
      "    minor: Object not found\n",
      "  #005: H5Gtraverse.c line 627 in H5G__traverse_real(): traversal operator failed\n",
      "    major: Symbol table\n",
      "    minor: Callback failed\n",
      "  #006: H5L.c line 1628 in H5L__link_cb(): name already exists\n",
      "    major: Links\n",
      "    minor: Object already exists\n",
      "HDF5-DIAG: Error detected in HDF5 (1.10.6) MPI-process 0:\n",
      "  #000: H5D.c line 378 in H5Dget_space(): not a dataset\n",
      "    major: Invalid arguments to routine\n",
      "    minor: Inappropriate type\n",
      "HDF5-DIAG: Error detected in HDF5 (1.10.6) MPI-process 0:\n",
      "  #000: H5Shyper.c line 7051 in H5Sselect_hyperslab(): not a dataspace\n",
      "    major: Invalid arguments to routine\n",
      "    minor: Inappropriate type\n",
      "HDF5-DIAG: Error detected in HDF5 (1.10.6) MPI-process 0:\n",
      "  #000: H5Dio.c line 314 in H5Dwrite(): dset_id is not a dataset ID\n",
      "    major: Invalid arguments to routine\n",
      "    minor: Inappropriate type\n",
      "HDF5-DIAG: Error detected in HDF5 (1.10.6) MPI-process 0:\n",
      "  #000: H5D.c line 337 in H5Dclose(): not a dataset\n",
      "    major: Invalid arguments to routine\n",
      "    minor: Inappropriate type\n",
      "HDF5-DIAG: Error detected in HDF5 (1.10.6) MPI-process 0:\n",
      "  #000: H5S.c line 490 in H5Sclose(): not a dataspace\n",
      "    major: Invalid arguments to routine\n",
      "    minor: Inappropriate type\n",
      "HDF5-DIAG: Error detected in HDF5 (1.10.6) MPI-process 0:\n",
      "  #000: H5D.c line 151 in H5Dcreate2(): unable to create dataset\n",
      "    major: Dataset\n",
      "    minor: Unable to initialize object\n",
      "  #001: H5Dint.c line 337 in H5D__create_named(): unable to create and link to dataset\n",
      "    major: Dataset\n",
      "    minor: Unable to initialize object\n",
      "  #002: H5L.c line 1592 in H5L_link_object(): unable to create new link to object\n",
      "    major: Links\n",
      "    minor: Unable to initialize object\n",
      "  #003: H5L.c line 1833 in H5L__create_real(): can't insert link\n",
      "    major: Links\n",
      "    minor: Unable to insert object\n",
      "  #004: H5Gtraverse.c line 851 in H5G_traverse(): internal path traversal failed\n",
      "    major: Symbol table\n",
      "    minor: Object not found\n",
      "  #005: H5Gtraverse.c line 627 in H5G__traverse_real(): traversal operator failed\n",
      "    major: Symbol table\n",
      "    minor: Callback failed\n",
      "  #006: H5L.c line 1628 in H5L__link_cb(): name already exists\n",
      "    major: Links\n",
      "    minor: Object already exists\n",
      "HDF5-DIAG: Error detected in HDF5 (1.10.6) MPI-process 0:\n",
      "  #000: H5D.c line 378 in H5Dget_space(): not a dataset\n",
      "    major: Invalid arguments to routine\n",
      "    minor: Inappropriate type\n",
      "HDF5-DIAG: Error detected in HDF5 (1.10.6) MPI-process 0:\n",
      "  #000: H5Shyper.c line 7051 in H5Sselect_hyperslab(): not a dataspace\n",
      "    major: Invalid arguments to routine\n",
      "    minor: Inappropriate type\n",
      "HDF5-DIAG: Error detected in HDF5 (1.10.6) MPI-process 0:\n",
      "  #000: H5Dio.c line 314 in H5Dwrite(): dset_id is not a dataset ID\n",
      "    major: Invalid arguments to routine\n",
      "    minor: Inappropriate type\n",
      "HDF5-DIAG: Error detected in HDF5 (1.10.6) MPI-process 0:\n",
      "  #000: H5D.c line 337 in H5Dclose(): not a dataset\n",
      "    major: Invalid arguments to routine\n",
      "    minor: Inappropriate type\n",
      "HDF5-DIAG: Error detected in HDF5 (1.10.6) MPI-process 0:\n",
      "  #000: H5S.c line 490 in H5Sclose(): not a dataspace\n",
      "    major: Invalid arguments to routine\n",
      "    minor: Inappropriate type\n",
      "HDF5-DIAG: Error detected in HDF5 (1.10.6) MPI-process 0:\n",
      "  #000: H5D.c line 151 in H5Dcreate2(): unable to create dataset\n",
      "    major: Dataset\n",
      "    minor: Unable to initialize object\n",
      "  #001: H5Dint.c line 337 in H5D__create_named(): unable to create and link to dataset\n",
      "    major: Dataset\n",
      "    minor: Unable to initialize object\n",
      "  #002: H5L.c line 1592 in H5L_link_object(): unable to create new link to object\n",
      "    major: Links\n",
      "    minor: Unable to initialize object\n",
      "  #003: H5L.c line 1833 in H5L__create_real(): can't insert link\n",
      "    major: Links\n",
      "    minor: Unable to insert object\n",
      "  #004: H5Gtraverse.c line 851 in H5G_traverse(): internal path traversal failed\n",
      "    major: Symbol table\n",
      "    minor: Object not found\n",
      "  #005: H5Gtraverse.c line 627 in H5G__traverse_real(): traversal operator failed\n",
      "    major: Symbol table\n",
      "    minor: Callback failed\n",
      "  #006: H5L.c line 1628 in H5L__link_cb(): name already exists\n",
      "    major: Links\n",
      "    minor: Object already exists\n",
      "HDF5-DIAG: Error detected in HDF5 (1.10.6) MPI-process 0:\n",
      "  #000: H5D.c line 378 in H5Dget_space(): not a dataset\n",
      "    major: Invalid arguments to routine\n",
      "    minor: Inappropriate type\n",
      "HDF5-DIAG: Error detected in HDF5 (1.10.6) MPI-process 0:\n",
      "  #000: H5Shyper.c line 7051 in H5Sselect_hyperslab(): not a dataspace\n",
      "    major: Invalid arguments to routine\n",
      "    minor: Inappropriate type\n",
      "HDF5-DIAG: Error detected in HDF5 (1.10.6) MPI-process 0:\n",
      "  #000: H5Dio.c line 314 in H5Dwrite(): dset_id is not a dataset ID\n",
      "    major: Invalid arguments to routine\n",
      "    minor: Inappropriate type\n",
      "HDF5-DIAG: Error detected in HDF5 (1.10.6) MPI-process 0:\n",
      "  #000: H5D.c line 337 in H5Dclose(): not a dataset\n",
      "    major: Invalid arguments to routine\n",
      "    minor: Inappropriate type\n",
      "HDF5-DIAG: Error detected in HDF5 (1.10.6) MPI-process 0:\n",
      "  #000: H5S.c line 490 in H5Sclose(): not a dataspace\n",
      "    major: Invalid arguments to routine\n",
      "    minor: Inappropriate type\n",
      "HDF5-DIAG: Error detected in HDF5 (1.10.6) MPI-process 0:\n",
      "  #000: H5D.c line 151 in H5Dcreate2(): unable to create dataset\n",
      "    major: Dataset\n",
      "    minor: Unable to initialize object\n",
      "  #001: H5Dint.c line 337 in H5D__create_named(): unable to create and link to dataset\n",
      "    major: Dataset\n",
      "    minor: Unable to initialize object\n",
      "  #002: H5L.c line 1592 in H5L_link_object(): unable to create new link to object\n",
      "    major: Links\n",
      "    minor: Unable to initialize object\n",
      "  #003: H5L.c line 1833 in H5L__create_real(): can't insert link\n",
      "    major: Links\n",
      "    minor: Unable to insert object\n",
      "  #004: H5Gtraverse.c line 851 in H5G_traverse(): internal path traversal failed\n",
      "    major: Symbol table\n",
      "    minor: Object not found\n",
      "  #005: H5Gtraverse.c line 627 in H5G__traverse_real(): traversal operator failed\n",
      "    major: Symbol table\n",
      "    minor: Callback failed\n",
      "  #006: H5L.c line 1628 in H5L__link_cb(): name already exists\n",
      "    major: Links\n",
      "    minor: Object already exists\n",
      "HDF5-DIAG: Error detected in HDF5 (1.10.6) MPI-process 0:\n",
      "  #000: H5D.c line 378 in H5Dget_space(): not a dataset\n",
      "    major: Invalid arguments to routine\n",
      "    minor: Inappropriate type\n",
      "HDF5-DIAG: Error detected in HDF5 (1.10.6) MPI-process 0:\n",
      "  #000: H5Shyper.c line 7051 in H5Sselect_hyperslab(): not a dataspace\n",
      "    major: Invalid arguments to routine\n",
      "    minor: Inappropriate type\n",
      "HDF5-DIAG: Error detected in HDF5 (1.10.6) MPI-process 0:\n",
      "  #000: H5Dio.c line 314 in H5Dwrite(): dset_id is not a dataset ID\n",
      "    major: Invalid arguments to routine\n",
      "    minor: Inappropriate type\n",
      "HDF5-DIAG: Error detected in HDF5 (1.10.6) MPI-process 0:\n",
      "  #000: H5D.c line 337 in H5Dclose(): not a dataset\n",
      "    major: Invalid arguments to routine\n",
      "    minor: Inappropriate type\n",
      "HDF5-DIAG: Error detected in HDF5 (1.10.6) MPI-process 0:\n",
      "  #000: H5S.c line 490 in H5Sclose(): not a dataspace\n",
      "    major: Invalid arguments to routine\n",
      "    minor: Inappropriate type\n",
      "HDF5-DIAG: Error detected in HDF5 (1.10.6) MPI-process 0:\n",
      "  #000: H5D.c line 151 in H5Dcreate2(): unable to create dataset\n",
      "    major: Dataset\n",
      "    minor: Unable to initialize object\n",
      "  #001: H5Dint.c line 337 in H5D__create_named(): unable to create and link to dataset\n",
      "    major: Dataset\n",
      "    minor: Unable to initialize object\n",
      "  #002: H5L.c line 1592 in H5L_link_object(): unable to create new link to object\n",
      "    major: Links\n",
      "    minor: Unable to initialize object\n",
      "  #003: H5L.c line 1833 in H5L__create_real(): can't insert link\n",
      "    major: Links\n",
      "    minor: Unable to insert object\n",
      "  #004: H5Gtraverse.c line 851 in H5G_traverse(): internal path traversal failed\n",
      "    major: Symbol table\n",
      "    minor: Object not found\n",
      "  #005: H5Gtraverse.c line 627 in H5G__traverse_real(): traversal operator failed\n",
      "    major: Symbol table\n",
      "    minor: Callback failed\n",
      "  #006: H5L.c line 1628 in H5L__link_cb(): name already exists\n",
      "    major: Links\n",
      "    minor: Object already exists\n",
      "HDF5-DIAG: Error detected in HDF5 (1.10.6) MPI-process 0:\n",
      "  #000: H5D.c line 378 in H5Dget_space(): not a dataset\n",
      "    major: Invalid arguments to routine\n",
      "    minor: Inappropriate type\n",
      "HDF5-DIAG: Error detected in HDF5 (1.10.6) MPI-process 0:\n",
      "  #000: H5Shyper.c line 7051 in H5Sselect_hyperslab(): not a dataspace\n",
      "    major: Invalid arguments to routine\n",
      "    minor: Inappropriate type\n",
      "HDF5-DIAG: Error detected in HDF5 (1.10.6) MPI-process 0:\n",
      "  #000: H5Dio.c line 314 in H5Dwrite(): dset_id is not a dataset ID\n",
      "    major: Invalid arguments to routine\n",
      "    minor: Inappropriate type\n",
      "HDF5-DIAG: Error detected in HDF5 (1.10.6) MPI-process 0:\n",
      "  #000: H5D.c line 337 in H5Dclose(): not a dataset\n",
      "    major: Invalid arguments to routine\n",
      "    minor: Inappropriate type\n",
      "HDF5-DIAG: Error detected in HDF5 (1.10.6) MPI-process 0:\n",
      "  #000: H5S.c line 490 in H5Sclose(): not a dataspace\n",
      "    major: Invalid arguments to routine\n",
      "    minor: Inappropriate type\n",
      "HDF5-DIAG: Error detected in HDF5 (1.10.6) MPI-process 0:\n",
      "  #000: H5D.c line 151 in H5Dcreate2(): unable to create dataset\n",
      "    major: Dataset\n",
      "    minor: Unable to initialize object\n",
      "  #001: H5Dint.c line 337 in H5D__create_named(): unable to create and link to dataset\n",
      "    major: Dataset\n",
      "    minor: Unable to initialize object\n",
      "  #002: H5L.c line 1592 in H5L_link_object(): unable to create new link to object\n",
      "    major: Links\n",
      "    minor: Unable to initialize object\n",
      "  #003: H5L.c line 1833 in H5L__create_real(): can't insert link\n",
      "    major: Links\n",
      "    minor: Unable to insert object\n",
      "  #004: H5Gtraverse.c line 851 in H5G_traverse(): internal path traversal failed\n",
      "    major: Symbol table\n",
      "    minor: Object not found\n",
      "  #005: H5Gtraverse.c line 627 in H5G__traverse_real(): traversal operator failed\n",
      "    major: Symbol table\n",
      "    minor: Callback failed\n",
      "  #006: H5L.c line 1628 in H5L__link_cb(): name already exists\n",
      "    major: Links\n",
      "    minor: Object already exists\n",
      "HDF5-DIAG: Error detected in HDF5 (1.10.6) MPI-process 0:\n",
      "  #000: H5D.c line 378 in H5Dget_space(): not a dataset\n",
      "    major: Invalid arguments to routine\n",
      "    minor: Inappropriate type\n",
      "HDF5-DIAG: Error detected in HDF5 (1.10.6) MPI-process 0:\n",
      "  #000: H5Shyper.c line 7051 in H5Sselect_hyperslab(): not a dataspace\n",
      "    major: Invalid arguments to routine\n",
      "    minor: Inappropriate type\n",
      "HDF5-DIAG: Error detected in HDF5 (1.10.6) MPI-process 0:\n",
      "  #000: H5Dio.c line 314 in H5Dwrite(): dset_id is not a dataset ID\n",
      "    major: Invalid arguments to routine\n",
      "    minor: Inappropriate type\n",
      "HDF5-DIAG: Error detected in HDF5 (1.10.6) MPI-process 0:\n",
      "  #000: H5D.c line 337 in H5Dclose(): not a dataset\n",
      "    major: Invalid arguments to routine\n",
      "    minor: Inappropriate type\n",
      "HDF5-DIAG: Error detected in HDF5 (1.10.6) MPI-process 0:\n",
      "  #000: H5S.c line 490 in H5Sclose(): not a dataspace\n",
      "    major: Invalid arguments to routine\n",
      "    minor: Inappropriate type\n",
      "HDF5-DIAG: Error detected in HDF5 (1.10.6) MPI-process 0:\n",
      "  #000: H5D.c line 151 in H5Dcreate2(): unable to create dataset\n",
      "    major: Dataset\n",
      "    minor: Unable to initialize object\n",
      "  #001: H5Dint.c line 337 in H5D__create_named(): unable to create and link to dataset\n",
      "    major: Dataset\n",
      "    minor: Unable to initialize object\n",
      "  #002: H5L.c line 1592 in H5L_link_object(): unable to create new link to object\n",
      "    major: Links\n",
      "    minor: Unable to initialize object\n",
      "  #003: H5L.c line 1833 in H5L__create_real(): can't insert link\n",
      "    major: Links\n",
      "    minor: Unable to insert object\n",
      "  #004: H5Gtraverse.c line 851 in H5G_traverse(): internal path traversal failed\n",
      "    major: Symbol table\n",
      "    minor: Object not found\n",
      "  #005: H5Gtraverse.c line 627 in H5G__traverse_real(): traversal operator failed\n",
      "    major: Symbol table\n",
      "    minor: Callback failed\n",
      "  #006: H5L.c line 1628 in H5L__link_cb(): name already exists\n",
      "    major: Links\n",
      "    minor: Object already exists\n",
      "HDF5-DIAG: Error detected in HDF5 (1.10.6) MPI-process 0:\n",
      "  #000: H5D.c line 378 in H5Dget_space(): not a dataset\n",
      "    major: Invalid arguments to routine\n",
      "    minor: Inappropriate type\n",
      "HDF5-DIAG: Error detected in HDF5 (1.10.6) MPI-process 0:\n",
      "  #000: H5Shyper.c line 7051 in H5Sselect_hyperslab(): not a dataspace\n",
      "    major: Invalid arguments to routine\n",
      "    minor: Inappropriate type\n",
      "HDF5-DIAG: Error detected in HDF5 (1.10.6) MPI-process 0:\n",
      "  #000: H5Dio.c line 314 in H5Dwrite(): dset_id is not a dataset ID\n",
      "    major: Invalid arguments to routine\n",
      "    minor: Inappropriate type\n",
      "HDF5-DIAG: Error detected in HDF5 (1.10.6) MPI-process 0:\n",
      "  #000: H5D.c line 337 in H5Dclose(): not a dataset\n",
      "    major: Invalid arguments to routine\n",
      "    minor: Inappropriate type\n",
      "HDF5-DIAG: Error detected in HDF5 (1.10.6) MPI-process 0:\n",
      "  #000: H5S.c line 490 in H5Sclose(): not a dataspace\n",
      "    major: Invalid arguments to routine\n",
      "    minor: Inappropriate type\n",
      "HDF5-DIAG: Error detected in HDF5 (1.10.6) MPI-process 0:\n",
      "  #000: H5D.c line 151 in H5Dcreate2(): unable to create dataset\n",
      "    major: Dataset\n",
      "    minor: Unable to initialize object\n",
      "  #001: H5Dint.c line 337 in H5D__create_named(): unable to create and link to dataset\n",
      "    major: Dataset\n",
      "    minor: Unable to initialize object\n",
      "  #002: H5L.c line 1592 in H5L_link_object(): unable to create new link to object\n",
      "    major: Links\n",
      "    minor: Unable to initialize object\n",
      "  #003: H5L.c line 1833 in H5L__create_real(): can't insert link\n",
      "    major: Links\n",
      "    minor: Unable to insert object\n",
      "  #004: H5Gtraverse.c line 851 in H5G_traverse(): internal path traversal failed\n",
      "    major: Symbol table\n",
      "    minor: Object not found\n",
      "  #005: H5Gtraverse.c line 627 in H5G__traverse_real(): traversal operator failed\n",
      "    major: Symbol table\n",
      "    minor: Callback failed\n",
      "  #006: H5L.c line 1628 in H5L__link_cb(): name already exists\n",
      "    major: Links\n",
      "    minor: Object already exists\n",
      "HDF5-DIAG: Error detected in HDF5 (1.10.6) MPI-process 0:\n",
      "  #000: H5D.c line 378 in H5Dget_space(): not a dataset\n",
      "    major: Invalid arguments to routine\n",
      "    minor: Inappropriate type\n",
      "HDF5-DIAG: Error detected in HDF5 (1.10.6) MPI-process 0:\n",
      "  #000: H5Shyper.c line 7051 in H5Sselect_hyperslab(): not a dataspace\n",
      "    major: Invalid arguments to routine\n",
      "    minor: Inappropriate type\n",
      "HDF5-DIAG: Error detected in HDF5 (1.10.6) MPI-process 0:\n",
      "  #000: H5Dio.c line 314 in H5Dwrite(): dset_id is not a dataset ID\n",
      "    major: Invalid arguments to routine\n",
      "    minor: Inappropriate type\n",
      "HDF5-DIAG: Error detected in HDF5 (1.10.6) MPI-process 0:\n",
      "  #000: H5D.c line 337 in H5Dclose(): not a dataset\n",
      "    major: Invalid arguments to routine\n",
      "    minor: Inappropriate type\n",
      "HDF5-DIAG: Error detected in HDF5 (1.10.6) MPI-process 0:\n",
      "  #000: H5S.c line 490 in H5Sclose(): not a dataspace\n",
      "    major: Invalid arguments to routine\n",
      "    minor: Inappropriate type\n",
      "HDF5-DIAG: Error detected in HDF5 (1.10.6) MPI-process 0:\n",
      "  #000: H5D.c line 151 in H5Dcreate2(): unable to create dataset\n",
      "    major: Dataset\n",
      "    minor: Unable to initialize object\n",
      "  #001: H5Dint.c line 337 in H5D__create_named(): unable to create and link to dataset\n",
      "    major: Dataset\n",
      "    minor: Unable to initialize object\n",
      "  #002: H5L.c line 1592 in H5L_link_object(): unable to create new link to object\n",
      "    major: Links\n",
      "    minor: Unable to initialize object\n",
      "  #003: H5L.c line 1833 in H5L__create_real(): can't insert link\n",
      "    major: Links\n",
      "    minor: Unable to insert object\n",
      "  #004: H5Gtraverse.c line 851 in H5G_traverse(): internal path traversal failed\n",
      "    major: Symbol table\n",
      "    minor: Object not found\n",
      "  #005: H5Gtraverse.c line 627 in H5G__traverse_real(): traversal operator failed\n",
      "    major: Symbol table\n",
      "    minor: Callback failed\n",
      "  #006: H5L.c line 1628 in H5L__link_cb(): name already exists\n",
      "    major: Links\n",
      "    minor: Object already exists\n",
      "HDF5-DIAG: Error detected in HDF5 (1.10.6) MPI-process 0:\n",
      "  #000: H5D.c line 378 in H5Dget_space(): not a dataset\n",
      "    major: Invalid arguments to routine\n",
      "    minor: Inappropriate type\n",
      "HDF5-DIAG: Error detected in HDF5 (1.10.6) MPI-process 0:\n",
      "  #000: H5Shyper.c line 7051 in H5Sselect_hyperslab(): not a dataspace\n",
      "    major: Invalid arguments to routine\n",
      "    minor: Inappropriate type\n",
      "HDF5-DIAG: Error detected in HDF5 (1.10.6) MPI-process 0:\n",
      "  #000: H5Dio.c line 314 in H5Dwrite(): dset_id is not a dataset ID\n",
      "    major: Invalid arguments to routine\n",
      "    minor: Inappropriate type\n",
      "HDF5-DIAG: Error detected in HDF5 (1.10.6) MPI-process 0:\n",
      "  #000: H5D.c line 337 in H5Dclose(): not a dataset\n",
      "    major: Invalid arguments to routine\n",
      "    minor: Inappropriate type\n",
      "HDF5-DIAG: Error detected in HDF5 (1.10.6) MPI-process 0:\n",
      "  #000: H5S.c line 490 in H5Sclose(): not a dataspace\n",
      "    major: Invalid arguments to routine\n",
      "    minor: Inappropriate type\n"
     ]
    }
   ],
   "source": [
    "mode = 'p_hydro'\n",
    "# mode = 'Sigma_VM'\n",
    "# pressure = True\n",
    "# pressure = False\n",
    "pf_ = 0.\n",
    "beta_ = 1.5\n",
    "\n",
    "data_dist_micro =  global_response(mesh=mesh, mat_params=mat_params, eps_xx=beta_-1, eps_yy=1/beta_-1, pf=pf_, sigma_bar=sigma_bar, foi_name=mode)[1]\n",
    "\n",
    "if mode == 'p_hydro':\n",
    "    data_macro = p_c_shear.subs(beta, beta_).subs(subs_dict).subs(p_f, pf_)\n",
    "else:\n",
    "    data_macro = Sigma_c_VM.subs(beta, beta_).subs(subs_dict).subs(p_f, pf_).simplify()"
   ]
  },
  {
   "cell_type": "code",
   "execution_count": 40,
   "metadata": {},
   "outputs": [
    {
     "data": {
      "text/plain": [
       "<Figure size 432x288 with 0 Axes>"
      ]
     },
     "execution_count": 40,
     "metadata": {},
     "output_type": "execute_result"
    },
    {
     "data": {
      "text/plain": [
       "Text(0.5, 0, 'Hydrostatic pressure (kPa)')"
      ]
     },
     "execution_count": 40,
     "metadata": {},
     "output_type": "execute_result"
    },
    {
     "data": {
      "text/plain": [
       "Text(0, 0.5, 'Frequency distribution')"
      ]
     },
     "execution_count": 40,
     "metadata": {},
     "output_type": "execute_result"
    },
    {
     "data": {
      "text/plain": [
       "<AxesSubplot:xlabel='Hydrostatic pressure (kPa)', ylabel='Frequency distribution'>"
      ]
     },
     "execution_count": 40,
     "metadata": {},
     "output_type": "execute_result"
    },
    {
     "data": {
      "text/plain": [
       "<matplotlib.lines.Line2D at 0x7fc440625710>"
      ]
     },
     "execution_count": 40,
     "metadata": {},
     "output_type": "execute_result"
    },
    {
     "data": {
      "text/plain": [
       "<matplotlib.legend.Legend at 0x7fc440625190>"
      ]
     },
     "execution_count": 40,
     "metadata": {},
     "output_type": "execute_result"
    },
    {
     "data": {
      "image/png": "[encoded data removed]",
      "text/plain": [
       "<Figure size 432x288 with 1 Axes>"
      ]
     },
     "metadata": {
      "needs_background": "light"
     },
     "output_type": "display_data"
    }
   ],
   "source": [
    "plt.figure()\n",
    "plt.rc('xtick', labelsize=14)\n",
    "plt.rc('ytick', labelsize=14)\n",
    "plt.rc('legend', fontsize=12)        \n",
    "plt.xlabel('Hydrostatic pressure (kPa)', fontsize=16)\n",
    "# plt.xlabel('Von Mises stress (kPa)', fontsize=16)\n",
    "plt.ylabel('Frequency distribution', fontsize=16)\n",
    "\n",
    "sns.histplot(data_dist_micro, bins=60, kde=True, color = '#084594',\n",
    "        stat=\"density\", kde_kws=dict(cut=3),\n",
    "        alpha=0.4, edgecolor=(1, 1, 1, .4))\n",
    "plt.axvline(x = data_macro, color = '#99000D', label = 'axvline - full height')\n",
    "plt.legend(['Microscopic model', 'Macroscopic model'])\n",
    "\n",
    "# sns.histplot(data=data, bins=100, log_scale=True, element=\"step\", fill=False, stat=\"density\")\n",
    "# plt.xlim(1, 2)\n",
    "# plt.ylim(-.05, 0.001)\n",
    "plt.savefig('p_hydro_density_P00.pdf',bbox_inches='tight')\n",
    "# plt.savefig('Sigma_VM_density_P02.pdf',bbox_inches='tight')\n",
    "plt.show()\n"
   ]
  }
 ],
 "metadata": {
  "kernelspec": {
   "display_name": "Python 3.8.12 ('MEC552-2022')",
   "language": "python",
   "name": "python3"
  },
  "language_info": {
   "codemirror_mode": {
    "name": "ipython",
    "version": 3
   },
   "file_extension": ".py",
   "mimetype": "text/x-python",
   "name": "python",
   "nbconvert_exporter": "python",
   "pygments_lexer": "ipython3",
   "version": "3.7.11"
  },
  "latex_envs": {
   "LaTeX_envs_menu_present": false,
   "autoclose": false,
   "autocomplete": false,
   "bibliofile": "biblio.bib",
   "cite_by": "apalike",
   "current_citInitial": 1,
   "eqLabelWithNumbers": true,
   "eqNumInitial": 1,
   "hotkeys": {
    "equation": "Ctrl-E",
    "itemize": "Ctrl-I"
   },
   "labels_anchors": false,
   "latex_user_defs": true,
   "report_style_numbering": false,
   "user_envs_cfg": false
  },
  "toc": {
   "base_numbering": 1,
   "nav_menu": {},
   "number_sections": true,
   "sideBar": true,
   "skip_h1_title": true,
   "title_cell": "Table of Contents",
   "title_sidebar": "Contents",
   "toc_cell": false,
   "toc_position": {
    "height": "calc(100% - 180px)",
    "left": "10px",
    "top": "150px",
    "width": "282.3px"
   },
   "toc_section_display": true,
   "toc_window_display": true
  },
  "varInspector": {
   "cols": {
    "lenName": 16,
    "lenType": 16,
    "lenVar": 40
   },
   "kernels_config": {
    "python": {
     "delete_cmd_postfix": "",
     "delete_cmd_prefix": "del ",
     "library": "var_list.py",
     "varRefreshCmd": "print(var_dic_list())"
    },
    "r": {
     "delete_cmd_postfix": ") ",
     "delete_cmd_prefix": "rm(",
     "library": "var_list.r",
     "varRefreshCmd": "cat(var_dic_list()) "
    }
   },
   "position": {
    "height": "694.85px",
    "left": "1390px",
    "right": "20px",
    "top": "120px",
    "width": "350px"
   },
   "types_to_exclude": [
    "module",
    "function",
    "builtin_function_or_method",
    "instance",
    "_Feature"
   ],
   "window_display": false
  },
  "vscode": {
   "interpreter": {
    "hash": "d5544391dcf8d354480eed96f74faad9ec85893e1ba6109cc27b561319f9baf1"
   }
  }
 },
 "nbformat": 4,
 "nbformat_minor": 4
}
