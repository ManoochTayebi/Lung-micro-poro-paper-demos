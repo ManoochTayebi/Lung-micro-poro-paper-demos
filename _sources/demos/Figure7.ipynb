{
 "cells": [
  {
   "cell_type": "markdown",
   "metadata": {},
   "source": [
    "# Figure 7"
   ]
  },
  {
   "cell_type": "markdown",
   "metadata": {},
   "source": [
    "## Imports"
   ]
  },
  {
   "cell_type": "code",
   "execution_count": null,
   "metadata": {},
   "outputs": [],
   "source": [
    "import dolfin\n",
    "import numpy\n",
    "import scipy.optimize\n",
    "\n",
    "from scipy.interpolate import interp1d\n",
    "\n",
    "import dolfin_mech                    as dmech\n",
    "import matplotlib.pyplot              as plt\n",
    "import micro_poro_structure_generator as gen"
   ]
  },
  {
   "cell_type": "markdown",
   "metadata": {},
   "source": [
    "## Importing experimental data"
   ]
  },
  {
   "cell_type": "code",
   "execution_count": null,
   "metadata": {},
   "outputs": [],
   "source": [
    "smith_PV_inflation_gamma_0   = numpy.load('smith_PV_inflation_gamma_0.npy')\n",
    "p_smith_PV_inflation_gamma_0 = smith_PV_inflation_gamma_0[:, 0]\n",
    "v_smith_PV_inflation_gamma_0 = smith_PV_inflation_gamma_0[:, 1]\n",
    "\n",
    "smith_PV_deflation_gamma_0   = numpy.load('smith_PV_deflation_gamma_0.npy')\n",
    "p_smith_PV_deflation_gamma_0 = smith_PV_deflation_gamma_0[:, 0]\n",
    "v_smith_PV_deflation_gamma_0 = smith_PV_deflation_gamma_0[:, 1]\n"
   ]
  },
  {
   "cell_type": "markdown",
   "metadata": {},
   "source": [
    "## Defining geometry"
   ]
  },
  {
   "cell_type": "code",
   "execution_count": null,
   "metadata": {},
   "outputs": [],
   "source": [
    "seeds_filename    = \"Fig7-seeds.dat\"\n",
    "mesh_filebasename = \"Fig7-mesh\"\n",
    "qois_filename     = \"Fig7-qois.dat\"\n",
    "res_basename      = \"Fig7\"\n",
    "\n",
    "domain_y  = 0.1 * 0.8\n",
    "domain_x  = domain_y * numpy.sqrt(3)/1.5/2\n",
    "thickness = 0.012 * 0.8\n",
    "\n",
    "gen.generate_seeds_semi_regular(\n",
    "    DoI = 0.,\n",
    "    row = 1,\n",
    "    domain_y = domain_y,\n",
    "    seeds_filename = seeds_filename)\n",
    "gen.generate_mesh_2D_rectangle_w_voronoi_inclusions(\n",
    "    mesh_filename = mesh_filebasename,\n",
    "    seeds_filename = seeds_filename,\n",
    "    h = thickness,\n",
    "    lcar = thickness/5,\n",
    "    domain_x = domain_x,\n",
    "    domain_y = domain_y,\n",
    "    shift_y = 0.,\n",
    "    remove_seeds = True)\n",
    "\n",
    "mesh = dolfin.Mesh()\n",
    "dolfin.XDMFFile(mesh_filebasename+\".xdmf\").read(mesh)\n",
    "dV = dolfin.Measure(\"dx\",domain=mesh)\n",
    "\n",
    "coord = mesh.coordinates()\n",
    "xmax = max(coord[:,0]); xmin = min(coord[:,0])\n",
    "ymax = max(coord[:,1]); ymin = min(coord[:,1])\n",
    "\n",
    "V   = (xmax - xmin)*(ymax - ymin)\n",
    "VS0 = dolfin.assemble(dolfin.Constant(1) * dV)\n",
    "Vf0 = V - VS0"
   ]
  },
  {
   "cell_type": "markdown",
   "metadata": {},
   "source": [
    "## Loading "
   ]
  },
  {
   "cell_type": "code",
   "execution_count": null,
   "metadata": {},
   "outputs": [],
   "source": [
    "load_params = {}\n",
    "load_params[\"pf\"] = 4\n",
    "load_params[\"sigma_bar_00\"] = 0.0\n",
    "load_params[\"sigma_bar_11\"] = 0.0\n",
    "load_params[\"sigma_bar_01\"] = 0.0\n",
    "load_params[\"sigma_bar_10\"] = 0.0"
   ]
  },
  {
   "cell_type": "markdown",
   "metadata": {},
   "source": [
    "## Model response "
   ]
  },
  {
   "cell_type": "code",
   "execution_count": null,
   "metadata": {},
   "outputs": [],
   "source": [
    "def pressure_computer(params):\n",
    "    mat_params = {\"model\":\"exponentialneoHookean\", \"parameters\":{\"beta1\":params[0], \"beta2\":params[1], \"beta3\":params[2], \"beta4\":100*params[0], \"alpha\":params[3]}}    \n",
    "    dmech.run_HollowBox_MicroPoroHyperelasticity(\n",
    "        dim=2,\n",
    "        mesh=mesh,\n",
    "        mat_params=mat_params,\n",
    "        load_params=load_params,\n",
    "        step_params={\"Deltat\":1., \"dt_ini\":0.01, \"dt_min\":0.005, \"dt_max\":0.01},\n",
    "        res_basename=res_basename,\n",
    "        write_qois_limited_precision=False,\n",
    "        verbose=1\n",
    "    )\n",
    "\n",
    "    qois_vals = numpy.loadtxt(qois_filename)\n",
    "    qois_name_list = open(qois_filename).readline().split()\n",
    "    pf_lst = qois_vals[:, qois_name_list.index(\"p_f\") - 1]*10.20\n",
    "    vf_lst = qois_vals[:, qois_name_list.index(\"vf\") - 1]\n",
    "\n",
    "    for i in range(1, len(vf_lst)):\n",
    "        slope = (vf_lst[i] - vf_lst[i - 1])/(pf_lst[i] - pf_lst[i - 1])\n",
    "        if slope < 0.1 * Vf0:\n",
    "            break\n",
    "\n",
    "    vf_asym = vf_lst[i]\n",
    "    vf_lst = [vf_/vf_asym *100 for vf_ in vf_lst]\n",
    "\n",
    "    return pf_lst, vf_lst\n",
    "\n"
   ]
  },
  {
   "cell_type": "markdown",
   "metadata": {},
   "source": [
    "### Plot"
   ]
  },
  {
   "cell_type": "code",
   "execution_count": null,
   "metadata": {},
   "outputs": [],
   "source": [
    "params = [0.08855929243285596, 0.011039510924095856, 0.3, 3.409513409247871]\n",
    "pf_lst_1, vf_lst_1 = pressure_computer(params)\n",
    "params = [0.08855929243285596, 0.011039510924095856, 0.6281487879627474, 3.409513409247871]\n",
    "pf_lst_2, vf_lst_2 = pressure_computer(params)\n",
    "params = [0.08855929243285596, 0.011039510924095856, 0.8, 3.409513409247871]\n",
    "pf_lst_3, vf_lst_3 = pressure_computer(params)\n",
    "params = [0.08855929243285596, 0.011039510924095856, 1, 3.409513409247871]\n",
    "pf_lst_4, vf_lst_4 = pressure_computer(params)\n"
   ]
  },
  {
   "cell_type": "code",
   "execution_count": null,
   "metadata": {},
   "outputs": [],
   "source": [
    "plt.plot()\n",
    "plt.rc('xtick' , labelsize=14)\n",
    "plt.rc('ytick' , labelsize=14)\n",
    "plt.rc('legend', fontsize=12)\n",
    "plt.xlabel(r'$p_f~(cm H_2O)$', fontsize=16)\n",
    "plt.ylabel(r'$Volume~(\\% TLC)$', fontsize=16)\n",
    "\n",
    "colors = [\"#DEEBF7\", \"#9ECAE1\", \"#4292C6\", \"#084594\"]  # light to dark blue\n",
    "labels = [\n",
    "    r'Model, $\\beta_3 = 300~Pa$',\n",
    "    r'Model, $\\beta_3 = 626~Pa$',\n",
    "    r'Model, $\\beta_3 = 800~Pa$',\n",
    "    r'Model, $\\beta_3 = 1000~Pa$'\n",
    "]\n",
    "plt.plot(pf_lst_1[0:80], vf_lst_1[0:80], color=colors[0], label=labels[0])\n",
    "plt.plot(pf_lst_2[0:80], vf_lst_2[0:80], color=colors[1], label=labels[1])\n",
    "plt.plot(pf_lst_3[0:80], vf_lst_3[0:80], color=colors[2], label=labels[2])\n",
    "plt.plot(pf_lst_4[0:80], vf_lst_4[0:80], color=colors[3], label=labels[3])\n",
    "\n",
    "plt.xlim(0, 25)\n",
    "plt.ylim(0, 112)\n",
    "plt.legend(loc = 'lower right', fontsize=12, shadow=True)\n",
    "plt.savefig('PV_beta3_variation.pdf',bbox_inches='tight')\n",
    "plt.savefig(\"PV_beta3_variation.tif\", format=\"tiff\", dpi=300, bbox_inches=\"tight\")\n",
    "plt.show()"
   ]
  }
 ],
 "metadata": {
  "kernelspec": {
   "display_name": "all",
   "language": "python",
   "name": "python3"
  },
  "language_info": {
   "codemirror_mode": {
    "name": "ipython",
    "version": 3
   },
   "file_extension": ".py",
   "mimetype": "text/x-python",
   "name": "python",
   "nbconvert_exporter": "python",
   "pygments_lexer": "ipython3",
   "version": "3.8.12"
  }
 },
 "nbformat": 4,
 "nbformat_minor": 2
}
